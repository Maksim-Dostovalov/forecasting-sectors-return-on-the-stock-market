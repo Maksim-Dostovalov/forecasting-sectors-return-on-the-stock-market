{
 "cells": [
  {
   "cell_type": "code",
   "execution_count": 9,
   "metadata": {},
   "outputs": [],
   "source": [
    "import numpy as np\n",
    "import pandas as pd"
   ]
  },
  {
   "cell_type": "code",
   "execution_count": 12,
   "metadata": {},
   "outputs": [
    {
     "data": {
      "text/html": [
       "<div>\n",
       "<style scoped>\n",
       "    .dataframe tbody tr th:only-of-type {\n",
       "        vertical-align: middle;\n",
       "    }\n",
       "\n",
       "    .dataframe tbody tr th {\n",
       "        vertical-align: top;\n",
       "    }\n",
       "\n",
       "    .dataframe thead th {\n",
       "        text-align: right;\n",
       "    }\n",
       "</style>\n",
       "<table border=\"1\" class=\"dataframe\">\n",
       "  <thead>\n",
       "    <tr style=\"text-align: right;\">\n",
       "      <th></th>\n",
       "      <th>YNDX</th>\n",
       "      <th>YRSB</th>\n",
       "      <th>YRSBP</th>\n",
       "      <th>ZILL</th>\n",
       "      <th>ZVEZ</th>\n",
       "    </tr>\n",
       "    <tr>\n",
       "      <th>TRADEDATE</th>\n",
       "      <th></th>\n",
       "      <th></th>\n",
       "      <th></th>\n",
       "      <th></th>\n",
       "      <th></th>\n",
       "    </tr>\n",
       "  </thead>\n",
       "  <tbody>\n",
       "    <tr>\n",
       "      <th>2024-02-14</th>\n",
       "      <td>3439.4</td>\n",
       "      <td>1330.0</td>\n",
       "      <td>306.5</td>\n",
       "      <td>3265.0</td>\n",
       "      <td>14.07</td>\n",
       "    </tr>\n",
       "    <tr>\n",
       "      <th>2024-02-15</th>\n",
       "      <td>3444.2</td>\n",
       "      <td>1322.0</td>\n",
       "      <td>305.0</td>\n",
       "      <td>3270.0</td>\n",
       "      <td>14.03</td>\n",
       "    </tr>\n",
       "    <tr>\n",
       "      <th>2024-02-16</th>\n",
       "      <td>3417.0</td>\n",
       "      <td>1310.0</td>\n",
       "      <td>302.0</td>\n",
       "      <td>3190.0</td>\n",
       "      <td>13.84</td>\n",
       "    </tr>\n",
       "    <tr>\n",
       "      <th>2024-02-19</th>\n",
       "      <td>3310.4</td>\n",
       "      <td>1302.0</td>\n",
       "      <td>304.5</td>\n",
       "      <td>3220.0</td>\n",
       "      <td>13.75</td>\n",
       "    </tr>\n",
       "    <tr>\n",
       "      <th>2024-02-20</th>\n",
       "      <td>3314.6</td>\n",
       "      <td>1258.0</td>\n",
       "      <td>298.0</td>\n",
       "      <td>3170.0</td>\n",
       "      <td>13.50</td>\n",
       "    </tr>\n",
       "  </tbody>\n",
       "</table>\n",
       "</div>"
      ],
      "text/plain": [
       "              YNDX    YRSB  YRSBP    ZILL   ZVEZ\n",
       "TRADEDATE                                       \n",
       "2024-02-14  3439.4  1330.0  306.5  3265.0  14.07\n",
       "2024-02-15  3444.2  1322.0  305.0  3270.0  14.03\n",
       "2024-02-16  3417.0  1310.0  302.0  3190.0  13.84\n",
       "2024-02-19  3310.4  1302.0  304.5  3220.0  13.75\n",
       "2024-02-20  3314.6  1258.0  298.0  3170.0  13.50"
      ]
     },
     "execution_count": 12,
     "metadata": {},
     "output_type": "execute_result"
    }
   ],
   "source": [
    "data = pd.read_csv('./data/data_stocks_moex.csv', index_col=0)\n",
    "data.index = pd.to_datetime(data.index)\n",
    "\n",
    "data.iloc[-5:, -5:]"
   ]
  },
  {
   "cell_type": "code",
   "execution_count": 13,
   "metadata": {},
   "outputs": [
    {
     "name": "stdout",
     "output_type": "stream",
     "text": [
      "\n",
      "\n",
      "Всего акций: 247\n",
      "Всего торгуемых дней: 2753\n",
      "\n",
      "\n"
     ]
    }
   ],
   "source": [
    "print(f'''\n",
    "\n",
    "Всего акций: {data.shape[1]}\n",
    "Всего торгуемых дней: {data.shape[0]}\n",
    "\n",
    "''')"
   ]
  }
 ],
 "metadata": {
  "kernelspec": {
   "display_name": "Python 3",
   "language": "python",
   "name": "python3"
  },
  "language_info": {
   "codemirror_mode": {
    "name": "ipython",
    "version": 3
   },
   "file_extension": ".py",
   "mimetype": "text/x-python",
   "name": "python",
   "nbconvert_exporter": "python",
   "pygments_lexer": "ipython3",
   "version": "3.11.4"
  }
 },
 "nbformat": 4,
 "nbformat_minor": 2
}
