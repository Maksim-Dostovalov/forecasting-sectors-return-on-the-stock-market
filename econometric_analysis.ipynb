{
 "cells": [
  {
   "cell_type": "markdown",
   "metadata": {},
   "source": [
    "Классический эконометрический анализ"
   ]
  },
  {
   "cell_type": "code",
   "execution_count": 86,
   "metadata": {},
   "outputs": [],
   "source": [
    "import pandas as pd\n",
    "data = pd.read_csv('data/data_indexes_moex.csv')"
   ]
  },
  {
   "cell_type": "code",
   "execution_count": 98,
   "metadata": {},
   "outputs": [
    {
     "name": "stdout",
     "output_type": "stream",
     "text": [
      "\n",
      "Всего индексов: 11\n",
      "Всего торгуемых дней: 4784\n",
      "\n"
     ]
    }
   ],
   "source": [
    "print(f'''\n",
    "Всего индексов: {data.shape[1]}\n",
    "Всего торгуемых дней: {data.shape[0]}\n",
    "''')"
   ]
  },
  {
   "cell_type": "code",
   "execution_count": 87,
   "metadata": {},
   "outputs": [
    {
     "name": "stdout",
     "output_type": "stream",
     "text": [
      "<class 'pandas.core.frame.DataFrame'>\n",
      "RangeIndex: 4784 entries, 0 to 4783\n",
      "Data columns (total 11 columns):\n",
      " #   Column     Non-Null Count  Dtype  \n",
      "---  ------     --------------  -----  \n",
      " 0   TRADEDATE  4784 non-null   object \n",
      " 1   MOEXRE     976 non-null    float64\n",
      " 2   MOEXMM     4782 non-null   float64\n",
      " 3   MOEXIT     782 non-null    float64\n",
      " 4   MOEXFN     4783 non-null   float64\n",
      " 5   MOEXEU     4783 non-null   float64\n",
      " 6   MOEXCN     4775 non-null   float64\n",
      " 7   MOEXCH     4283 non-null   float64\n",
      " 8   MOEXOG     4783 non-null   float64\n",
      " 9   MOEXTL     4783 non-null   float64\n",
      " 10  MOEXTN     4039 non-null   float64\n",
      "dtypes: float64(10), object(1)\n",
      "memory usage: 411.2+ KB\n",
      "None\n"
     ]
    }
   ],
   "source": [
    "print(data.info())"
   ]
  },
  {
   "cell_type": "code",
   "execution_count": 88,
   "metadata": {},
   "outputs": [
    {
     "name": "stdout",
     "output_type": "stream",
     "text": [
      "    TRADEDATE  MOEXRE   MOEXMM  MOEXIT   MOEXFN   MOEXEU   MOEXCN  MOEXCH  \\\n",
      "0  2004-12-30     NaN  1000.00     NaN  1000.00  1000.00      NaN     NaN   \n",
      "1  2004-12-31     NaN      NaN     NaN      NaN      NaN  1000.00     NaN   \n",
      "2  2005-01-11     NaN   968.46     NaN  1004.90  1001.62  1000.24     NaN   \n",
      "3  2005-01-12     NaN   955.53     NaN   995.09   992.42   997.34     NaN   \n",
      "4  2005-01-13     NaN   950.12     NaN   993.07   991.00  1001.56     NaN   \n",
      "\n",
      "    MOEXOG   MOEXTL  MOEXTN  \n",
      "0  1000.00  1000.00     NaN  \n",
      "1      NaN      NaN     NaN  \n",
      "2  1007.46  1009.93     NaN  \n",
      "3  1009.62   998.73     NaN  \n",
      "4  1008.79   996.53     NaN  \n"
     ]
    }
   ],
   "source": [
    "print(data.head())"
   ]
  },
  {
   "cell_type": "code",
   "execution_count": 89,
   "metadata": {},
   "outputs": [
    {
     "data": {
      "text/html": [
       "<div>\n",
       "<style scoped>\n",
       "    .dataframe tbody tr th:only-of-type {\n",
       "        vertical-align: middle;\n",
       "    }\n",
       "\n",
       "    .dataframe tbody tr th {\n",
       "        vertical-align: top;\n",
       "    }\n",
       "\n",
       "    .dataframe thead th {\n",
       "        text-align: right;\n",
       "    }\n",
       "</style>\n",
       "<table border=\"1\" class=\"dataframe\">\n",
       "  <thead>\n",
       "    <tr style=\"text-align: right;\">\n",
       "      <th></th>\n",
       "      <th>TRADEDATE</th>\n",
       "      <th>MOEXRE</th>\n",
       "      <th>MOEXMM</th>\n",
       "      <th>MOEXIT</th>\n",
       "      <th>MOEXFN</th>\n",
       "      <th>MOEXEU</th>\n",
       "      <th>MOEXCN</th>\n",
       "      <th>MOEXCH</th>\n",
       "      <th>MOEXOG</th>\n",
       "      <th>MOEXTL</th>\n",
       "      <th>MOEXTN</th>\n",
       "    </tr>\n",
       "  </thead>\n",
       "  <tbody>\n",
       "    <tr>\n",
       "      <th>4779</th>\n",
       "      <td>2024-02-16</td>\n",
       "      <td>10429.18</td>\n",
       "      <td>8023.27</td>\n",
       "      <td>3259.58</td>\n",
       "      <td>10504.67</td>\n",
       "      <td>2052.78</td>\n",
       "      <td>8905.72</td>\n",
       "      <td>36774.14</td>\n",
       "      <td>9158.72</td>\n",
       "      <td>2063.44</td>\n",
       "      <td>1902.90</td>\n",
       "    </tr>\n",
       "    <tr>\n",
       "      <th>4780</th>\n",
       "      <td>2024-02-19</td>\n",
       "      <td>10367.98</td>\n",
       "      <td>8014.71</td>\n",
       "      <td>3257.48</td>\n",
       "      <td>10579.73</td>\n",
       "      <td>2048.73</td>\n",
       "      <td>8906.83</td>\n",
       "      <td>36743.67</td>\n",
       "      <td>9140.84</td>\n",
       "      <td>2085.24</td>\n",
       "      <td>1917.80</td>\n",
       "    </tr>\n",
       "    <tr>\n",
       "      <th>4781</th>\n",
       "      <td>2024-02-20</td>\n",
       "      <td>10227.99</td>\n",
       "      <td>7924.11</td>\n",
       "      <td>3218.33</td>\n",
       "      <td>10538.58</td>\n",
       "      <td>2026.17</td>\n",
       "      <td>8814.23</td>\n",
       "      <td>36244.37</td>\n",
       "      <td>9031.36</td>\n",
       "      <td>2088.63</td>\n",
       "      <td>1872.32</td>\n",
       "    </tr>\n",
       "    <tr>\n",
       "      <th>4782</th>\n",
       "      <td>2024-02-21</td>\n",
       "      <td>9964.89</td>\n",
       "      <td>7713.32</td>\n",
       "      <td>3115.25</td>\n",
       "      <td>10055.25</td>\n",
       "      <td>1964.26</td>\n",
       "      <td>8507.50</td>\n",
       "      <td>35551.59</td>\n",
       "      <td>8845.97</td>\n",
       "      <td>2039.66</td>\n",
       "      <td>1786.75</td>\n",
       "    </tr>\n",
       "    <tr>\n",
       "      <th>4783</th>\n",
       "      <td>2024-02-22</td>\n",
       "      <td>10019.81</td>\n",
       "      <td>7768.37</td>\n",
       "      <td>3135.56</td>\n",
       "      <td>10116.50</td>\n",
       "      <td>1974.29</td>\n",
       "      <td>8511.46</td>\n",
       "      <td>35818.29</td>\n",
       "      <td>8811.10</td>\n",
       "      <td>2044.82</td>\n",
       "      <td>1803.62</td>\n",
       "    </tr>\n",
       "  </tbody>\n",
       "</table>\n",
       "</div>"
      ],
      "text/plain": [
       "       TRADEDATE    MOEXRE   MOEXMM   MOEXIT    MOEXFN   MOEXEU   MOEXCN  \\\n",
       "4779  2024-02-16  10429.18  8023.27  3259.58  10504.67  2052.78  8905.72   \n",
       "4780  2024-02-19  10367.98  8014.71  3257.48  10579.73  2048.73  8906.83   \n",
       "4781  2024-02-20  10227.99  7924.11  3218.33  10538.58  2026.17  8814.23   \n",
       "4782  2024-02-21   9964.89  7713.32  3115.25  10055.25  1964.26  8507.50   \n",
       "4783  2024-02-22  10019.81  7768.37  3135.56  10116.50  1974.29  8511.46   \n",
       "\n",
       "        MOEXCH   MOEXOG   MOEXTL   MOEXTN  \n",
       "4779  36774.14  9158.72  2063.44  1902.90  \n",
       "4780  36743.67  9140.84  2085.24  1917.80  \n",
       "4781  36244.37  9031.36  2088.63  1872.32  \n",
       "4782  35551.59  8845.97  2039.66  1786.75  \n",
       "4783  35818.29  8811.10  2044.82  1803.62  "
      ]
     },
     "execution_count": 89,
     "metadata": {},
     "output_type": "execute_result"
    }
   ],
   "source": [
    "data.tail(5)"
   ]
  },
  {
   "cell_type": "code",
   "execution_count": 24,
   "metadata": {},
   "outputs": [
    {
     "name": "stdout",
     "output_type": "stream",
     "text": [
      "             MOEXRE        MOEXMM       MOEXIT        MOEXFN       MOEXEU  \\\n",
      "count    976.000000   4782.000000   782.000000   4783.000000  4783.000000   \n",
      "mean    8578.289006   4759.312440  3206.058235   6040.769302  1894.864587   \n",
      "std     2191.805560   2565.967203  1402.994215   2380.352266   742.205608   \n",
      "min     4882.370000    777.700000  1282.870000    952.210000   695.870000   \n",
      "25%     6706.302500   2735.170000  1935.647500   4728.025000  1321.535000   \n",
      "50%     8256.185000   4220.835000  2806.345000   5936.220000  1849.490000   \n",
      "75%    10008.770000   6157.322500  4879.590000   7127.785000  2234.055000   \n",
      "max    15070.430000  12192.640000  5784.080000  14638.830000  4099.060000   \n",
      "\n",
      "            MOEXCN       MOEXCH        MOEXOG       MOEXTL       MOEXTN  \n",
      "count  4775.000000   4283.00000   4783.000000  4783.000000  4039.000000  \n",
      "mean   5199.807621  13384.93498   4475.043199  1884.119080  1362.517532  \n",
      "std    1967.622159   9884.78365   2273.044181   406.857363   427.310823  \n",
      "min     984.870000   1306.59000    883.800000   575.410000   557.690000  \n",
      "25%    3443.610000   6445.29500   2641.075000  1674.355000  1090.510000  \n",
      "50%    5642.640000  11653.50000   3518.240000  1890.900000  1350.290000  \n",
      "75%    6375.375000  15682.27000   6277.325000  2197.615000  1580.370000  \n",
      "max    9596.560000  44955.57000  10024.820000  2712.950000  2635.340000  \n"
     ]
    }
   ],
   "source": [
    "print(data.describe())"
   ]
  },
  {
   "cell_type": "code",
   "execution_count": 95,
   "metadata": {},
   "outputs": [],
   "source": [
    "titles = ['MOEXRE','MOEXMM','MOEXIT','MOEXFN','MOEXEU','MOEXCN','MOEXCH','MOEXOG','MOEXTL','MOEXTN']\n",
    "initial_values = [5000,1000,5000,1000,1000,1000,3600,1000,1000,2500]\n",
    "max_fall_from_initial_value = []\n",
    "max_raise_from_initial_value = []\n",
    "\n",
    "for title, initial_value in zip(titles, initial_values):\n",
    "    max_fall_from_initial_value.append((data[title].min() - initial_value) / initial_value * 100)\n",
    "    max_raise_from_initial_value.append((data[title].max() - initial_value) / initial_value * 100)"
   ]
  },
  {
   "cell_type": "markdown",
   "metadata": {},
   "source": [
    "# Создадим небольшую табличку, где будут хранится описательные статистики #"
   ]
  },
  {
   "cell_type": "code",
   "execution_count": 96,
   "metadata": {},
   "outputs": [
    {
     "name": "stdout",
     "output_type": "stream",
     "text": [
      "Топ разниц между начальным и минимальным значением индекса в %-х изменениях:\n",
      "1. MOEXTN: -77.69%\n",
      "2. MOEXIT: -74.34%\n",
      "3. MOEXCH: -63.71%\n",
      "4. MOEXTL: -42.46%\n",
      "5. MOEXEU: -30.41%\n",
      "6. MOEXMM: -22.23%\n",
      "7. MOEXOG: -11.62%\n",
      "8. MOEXFN: -4.78%\n",
      "9. MOEXRE: -2.35%\n",
      "10. MOEXCN: -1.51%\n",
      "\n",
      "Топ разниц между максимальным и начальным значением индекса в %-х изменениях:\n",
      "1. MOEXFN: 1363.88%\n",
      "2. MOEXCH: 1148.77%\n",
      "3. MOEXMM: 1119.26%\n",
      "4. MOEXOG: 902.48%\n",
      "5. MOEXCN: 859.66%\n",
      "6. MOEXEU: 309.91%\n",
      "7. MOEXRE: 201.41%\n",
      "8. MOEXTL: 171.3%\n",
      "9. MOEXIT: 15.68%\n",
      "10. MOEXTN: 5.41%\n"
     ]
    },
    {
     "data": {
      "text/html": [
       "<div>\n",
       "<style scoped>\n",
       "    .dataframe tbody tr th:only-of-type {\n",
       "        vertical-align: middle;\n",
       "    }\n",
       "\n",
       "    .dataframe tbody tr th {\n",
       "        vertical-align: top;\n",
       "    }\n",
       "\n",
       "    .dataframe thead th {\n",
       "        text-align: right;\n",
       "    }\n",
       "</style>\n",
       "<table border=\"1\" class=\"dataframe\">\n",
       "  <thead>\n",
       "    <tr style=\"text-align: right;\">\n",
       "      <th></th>\n",
       "      <th>MOEXRE</th>\n",
       "      <th>MOEXMM</th>\n",
       "      <th>MOEXIT</th>\n",
       "      <th>MOEXFN</th>\n",
       "      <th>MOEXEU</th>\n",
       "      <th>MOEXCN</th>\n",
       "      <th>MOEXCH</th>\n",
       "      <th>MOEXOG</th>\n",
       "      <th>MOEXTL</th>\n",
       "      <th>MOEXTN</th>\n",
       "    </tr>\n",
       "  </thead>\n",
       "  <tbody>\n",
       "    <tr>\n",
       "      <th>initial_values</th>\n",
       "      <td>5000.0000</td>\n",
       "      <td>1000.000</td>\n",
       "      <td>5000.0000</td>\n",
       "      <td>1000.000</td>\n",
       "      <td>1000.000</td>\n",
       "      <td>1000.000</td>\n",
       "      <td>3600.000000</td>\n",
       "      <td>1000.000</td>\n",
       "      <td>1000.000</td>\n",
       "      <td>2500.0000</td>\n",
       "    </tr>\n",
       "    <tr>\n",
       "      <th>max_fall_from_initial_value</th>\n",
       "      <td>-2.3526</td>\n",
       "      <td>-22.230</td>\n",
       "      <td>-74.3426</td>\n",
       "      <td>-4.779</td>\n",
       "      <td>-30.413</td>\n",
       "      <td>-1.513</td>\n",
       "      <td>-63.705833</td>\n",
       "      <td>-11.620</td>\n",
       "      <td>-42.459</td>\n",
       "      <td>-77.6924</td>\n",
       "    </tr>\n",
       "    <tr>\n",
       "      <th>max_raise_from_initial_value</th>\n",
       "      <td>201.4086</td>\n",
       "      <td>1119.264</td>\n",
       "      <td>15.6816</td>\n",
       "      <td>1363.883</td>\n",
       "      <td>309.906</td>\n",
       "      <td>859.656</td>\n",
       "      <td>1148.765833</td>\n",
       "      <td>902.482</td>\n",
       "      <td>171.295</td>\n",
       "      <td>5.4136</td>\n",
       "    </tr>\n",
       "  </tbody>\n",
       "</table>\n",
       "</div>"
      ],
      "text/plain": [
       "                                 MOEXRE    MOEXMM     MOEXIT    MOEXFN  \\\n",
       "initial_values                5000.0000  1000.000  5000.0000  1000.000   \n",
       "max_fall_from_initial_value     -2.3526   -22.230   -74.3426    -4.779   \n",
       "max_raise_from_initial_value   201.4086  1119.264    15.6816  1363.883   \n",
       "\n",
       "                                MOEXEU    MOEXCN       MOEXCH    MOEXOG  \\\n",
       "initial_values                1000.000  1000.000  3600.000000  1000.000   \n",
       "max_fall_from_initial_value    -30.413    -1.513   -63.705833   -11.620   \n",
       "max_raise_from_initial_value   309.906   859.656  1148.765833   902.482   \n",
       "\n",
       "                                MOEXTL     MOEXTN  \n",
       "initial_values                1000.000  2500.0000  \n",
       "max_fall_from_initial_value    -42.459   -77.6924  \n",
       "max_raise_from_initial_value   171.295     5.4136  "
      ]
     },
     "execution_count": 96,
     "metadata": {},
     "output_type": "execute_result"
    }
   ],
   "source": [
    "stat = pd.DataFrame()\n",
    "\n",
    "for title in titles:\n",
    "    stat[title] = []\n",
    "\n",
    "stat.loc[len(stat)] = initial_values\n",
    "stat = stat.rename(index={0: 'initial_values'})\n",
    "stat.loc[len(stat)] = max_fall_from_initial_value\n",
    "stat = stat.rename(index={1: 'max_fall_from_initial_value'})\n",
    "stat.loc[len(stat)] = max_raise_from_initial_value\n",
    "stat = stat.rename(index={2: 'max_raise_from_initial_value'})\n",
    "\n",
    "\n",
    "top_falls = stat.loc['max_fall_from_initial_value'].nsmallest(10)\n",
    "top_falls_columns = top_falls.index.tolist()\n",
    "\n",
    "top_raises = stat.loc['max_raise_from_initial_value'].nlargest(10)\n",
    "top_raises_columns = top_raises.index.tolist()\n",
    "\n",
    "print('Топ разниц между начальным и минимальным значением индекса в %-х изменениях:')\n",
    "\n",
    "for column, i in zip(top_falls_columns, range(1, 11)):\n",
    "    print(f\"{i}. {column}: {round(stat.loc['max_fall_from_initial_value'][column], 2)}%\")\n",
    "\n",
    "print()\n",
    "print('Топ разниц между максимальным и начальным значением индекса в %-х изменениях:')\n",
    "\n",
    "for column, i in zip(top_raises_columns, range(1, 11)):\n",
    "    print(f\"{i}. {column}: {round(stat.loc['max_raise_from_initial_value'][column], 2)}%\")\n",
    "\n",
    "\n",
    "stat"
   ]
  },
  {
   "cell_type": "markdown",
   "metadata": {},
   "source": [
    "Далее перейдем от абсолютных значений индексов к приростам в %, для более детального анализа и описательных статистик."
   ]
  },
  {
   "cell_type": "code",
   "execution_count": null,
   "metadata": {},
   "outputs": [],
   "source": []
  }
 ],
 "metadata": {
  "kernelspec": {
   "display_name": "Python 3",
   "language": "python",
   "name": "python3"
  },
  "language_info": {
   "codemirror_mode": {
    "name": "ipython",
    "version": 3
   },
   "file_extension": ".py",
   "mimetype": "text/x-python",
   "name": "python",
   "nbconvert_exporter": "python",
   "pygments_lexer": "ipython3",
   "version": "3.11.1"
  }
 },
 "nbformat": 4,
 "nbformat_minor": 2
}
