{
 "cells": [
  {
   "cell_type": "markdown",
   "metadata": {},
   "source": [
    "Классический эконометрический анализ\n",
    "\n",
    "ну и хуйня"
   ]
  }
 ],
 "metadata": {
  "language_info": {
   "name": "python"
  }
 },
 "nbformat": 4,
 "nbformat_minor": 2
}
