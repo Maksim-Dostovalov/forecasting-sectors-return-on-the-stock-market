{
 "cells": [
  {
   "cell_type": "code",
   "execution_count": 354,
   "metadata": {},
   "outputs": [],
   "source": [
    "import pandas as pd\n",
    "import numpy as np"
   ]
  },
  {
   "cell_type": "code",
   "execution_count": 355,
   "metadata": {},
   "outputs": [],
   "source": [
    "names_path = [\n",
    "    'MOEXCH_metrics.csv', \n",
    "    'MOEXCN_metrics.csv', \n",
    "    'MOEXEU_metrics.csv',\n",
    "    'MOEXFN_metrics.csv',\n",
    "    'MOEXIT_metrics.csv',\n",
    "    'MOEXMM_metrics.csv',\n",
    "    'MOEXOG_metrics.csv',\n",
    "    'MOEXRE_metrics.csv',\n",
    "    'MOEXTL_metrics.csv',\n",
    "    'MOEXTN_metrics.csv'\n",
    "]"
   ]
  },
  {
   "cell_type": "code",
   "execution_count": 356,
   "metadata": {},
   "outputs": [],
   "source": [
    "names = []\n",
    "for i in names_path:\n",
    "    names.append(i[:6])"
   ]
  },
  {
   "cell_type": "code",
   "execution_count": 357,
   "metadata": {},
   "outputs": [],
   "source": [
    "results = []\n",
    "for name in names_path:\n",
    "    result = pd.read_csv(name, index_col=0).to_numpy()\n",
    "    results.append(result)\n",
    "\n",
    "results = np.array(results)"
   ]
  },
  {
   "cell_type": "code",
   "execution_count": 358,
   "metadata": {},
   "outputs": [],
   "source": [
    "models = pd.read_csv(names_path[0], index_col=0).columns.to_list()\n",
    "metrics = pd.read_csv(names_path[0], index_col=0).index.to_list()"
   ]
  },
  {
   "cell_type": "code",
   "execution_count": 359,
   "metadata": {},
   "outputs": [
    {
     "data": {
      "text/plain": [
       "['mae', 'mase', 'zbmae', 'smape', 'mda', 'dmda']"
      ]
     },
     "execution_count": 359,
     "metadata": {},
     "output_type": "execute_result"
    }
   ],
   "source": [
    "metrics"
   ]
  },
  {
   "cell_type": "code",
   "execution_count": 360,
   "metadata": {},
   "outputs": [
    {
     "data": {
      "text/plain": [
       "1.0287434985180466"
      ]
     },
     "execution_count": 360,
     "metadata": {},
     "output_type": "execute_result"
    }
   ],
   "source": [
    "results[names.index('MOEXCH'), metrics.index('zbmae'), models.index('mpl')]"
   ]
  },
  {
   "cell_type": "code",
   "execution_count": 361,
   "metadata": {},
   "outputs": [],
   "source": [
    "result_model = pd.DataFrame(\n",
    "    index=models\n",
    ")\n",
    "\n",
    "for metric in ['mae', 'smape', 'mda', 'dmda']:\n",
    "\n",
    "    result = pd.Series(\n",
    "        np.zeros(len(models)),\n",
    "        index=models,\n",
    "        name=metric\n",
    "    )\n",
    "\n",
    "    for name in names:\n",
    "\n",
    "        asc = True\n",
    "        if metric in ('mae', 'smape'):\n",
    "            asc = False\n",
    "\n",
    "        ranks = pd.Series(\n",
    "            results[names.index(name), metrics.index(metric), :],\n",
    "            index=models,\n",
    "            name=name\n",
    "        )\n",
    "\n",
    "        ranks = ranks.rank(ascending=asc)\n",
    "\n",
    "        result += ranks\n",
    "    \n",
    "    result_model[metric] = result"
   ]
  },
  {
   "cell_type": "code",
   "execution_count": 362,
   "metadata": {},
   "outputs": [],
   "source": [
    "result_model.to_excel('result_model.xlsx')"
   ]
  },
  {
   "cell_type": "code",
   "execution_count": 363,
   "metadata": {},
   "outputs": [
    {
     "data": {
      "text/plain": [
       "ridge       237.5\n",
       "lr          226.5\n",
       "xgb         219.0\n",
       "rf          209.5\n",
       "mpl         204.0\n",
       "knn         202.0\n",
       "gb          195.0\n",
       "catboost    192.0\n",
       "adaboost    114.5\n",
       "dtype: float64"
      ]
     },
     "execution_count": 363,
     "metadata": {},
     "output_type": "execute_result"
    }
   ],
   "source": [
    "result_model.sum(axis=1).sort_values(ascending=False)"
   ]
  },
  {
   "cell_type": "code",
   "execution_count": 364,
   "metadata": {},
   "outputs": [
    {
     "data": {
      "text/html": [
       "<div>\n",
       "<style scoped>\n",
       "    .dataframe tbody tr th:only-of-type {\n",
       "        vertical-align: middle;\n",
       "    }\n",
       "\n",
       "    .dataframe tbody tr th {\n",
       "        vertical-align: top;\n",
       "    }\n",
       "\n",
       "    .dataframe thead th {\n",
       "        text-align: right;\n",
       "    }\n",
       "</style>\n",
       "<table border=\"1\" class=\"dataframe\">\n",
       "  <thead>\n",
       "    <tr style=\"text-align: right;\">\n",
       "      <th></th>\n",
       "      <th>mae</th>\n",
       "      <th>smape</th>\n",
       "      <th>mda</th>\n",
       "      <th>dmda</th>\n",
       "    </tr>\n",
       "  </thead>\n",
       "  <tbody>\n",
       "    <tr>\n",
       "      <th>lr</th>\n",
       "      <td>78.0</td>\n",
       "      <td>32.0</td>\n",
       "      <td>64.0</td>\n",
       "      <td>52.5</td>\n",
       "    </tr>\n",
       "    <tr>\n",
       "      <th>knn</th>\n",
       "      <td>49.0</td>\n",
       "      <td>78.0</td>\n",
       "      <td>10.0</td>\n",
       "      <td>65.0</td>\n",
       "    </tr>\n",
       "    <tr>\n",
       "      <th>ridge</th>\n",
       "      <td>87.0</td>\n",
       "      <td>15.0</td>\n",
       "      <td>76.0</td>\n",
       "      <td>59.5</td>\n",
       "    </tr>\n",
       "    <tr>\n",
       "      <th>rf</th>\n",
       "      <td>70.0</td>\n",
       "      <td>24.0</td>\n",
       "      <td>57.0</td>\n",
       "      <td>58.5</td>\n",
       "    </tr>\n",
       "    <tr>\n",
       "      <th>gb</th>\n",
       "      <td>51.0</td>\n",
       "      <td>45.0</td>\n",
       "      <td>47.5</td>\n",
       "      <td>51.5</td>\n",
       "    </tr>\n",
       "    <tr>\n",
       "      <th>adaboost</th>\n",
       "      <td>18.0</td>\n",
       "      <td>48.0</td>\n",
       "      <td>26.5</td>\n",
       "      <td>22.0</td>\n",
       "    </tr>\n",
       "    <tr>\n",
       "      <th>xgb</th>\n",
       "      <td>24.0</td>\n",
       "      <td>79.0</td>\n",
       "      <td>55.0</td>\n",
       "      <td>61.0</td>\n",
       "    </tr>\n",
       "    <tr>\n",
       "      <th>catboost</th>\n",
       "      <td>27.0</td>\n",
       "      <td>72.0</td>\n",
       "      <td>57.0</td>\n",
       "      <td>36.0</td>\n",
       "    </tr>\n",
       "    <tr>\n",
       "      <th>mpl</th>\n",
       "      <td>46.0</td>\n",
       "      <td>57.0</td>\n",
       "      <td>57.0</td>\n",
       "      <td>44.0</td>\n",
       "    </tr>\n",
       "  </tbody>\n",
       "</table>\n",
       "</div>"
      ],
      "text/plain": [
       "           mae  smape   mda  dmda\n",
       "lr        78.0   32.0  64.0  52.5\n",
       "knn       49.0   78.0  10.0  65.0\n",
       "ridge     87.0   15.0  76.0  59.5\n",
       "rf        70.0   24.0  57.0  58.5\n",
       "gb        51.0   45.0  47.5  51.5\n",
       "adaboost  18.0   48.0  26.5  22.0\n",
       "xgb       24.0   79.0  55.0  61.0\n",
       "catboost  27.0   72.0  57.0  36.0\n",
       "mpl       46.0   57.0  57.0  44.0"
      ]
     },
     "execution_count": 364,
     "metadata": {},
     "output_type": "execute_result"
    }
   ],
   "source": [
    "result_model"
   ]
  },
  {
   "cell_type": "code",
   "execution_count": 365,
   "metadata": {},
   "outputs": [],
   "source": [
    "\n",
    "min_zbmaes_for_metrics = pd.DataFrame(index=names)\n",
    "\n",
    "for metric in metrics:\n",
    "\n",
    "    min_zbmaes = []\n",
    "    for name in names:\n",
    "\n",
    "        min_zbmae = pd.Series(\n",
    "                        results[names.index(name), metrics.index(metric), :],\n",
    "                        index=models,\n",
    "                        name=name\n",
    "                    )\n",
    "        if metric in ('mda', 'dmda'):\n",
    "            min_zbmae = min_zbmae.max()\n",
    "        \n",
    "        else:\n",
    "            min_zbmae = min_zbmae.min()\n",
    "\n",
    "\n",
    "        min_zbmaes.append(min_zbmae)\n",
    "    \n",
    "    min_zbmaes = pd.Series(min_zbmaes, index=names)\n",
    "\n",
    "    min_zbmaes_for_metrics[metric] = min_zbmaes"
   ]
  },
  {
   "cell_type": "code",
   "execution_count": 366,
   "metadata": {},
   "outputs": [],
   "source": [
    "min_zbmaes_for_metrics.to_excel('min_zbmaes_for_metrics.xlsx')"
   ]
  }
 ],
 "metadata": {
  "kernelspec": {
   "display_name": "venv",
   "language": "python",
   "name": "python3"
  },
  "language_info": {
   "codemirror_mode": {
    "name": "ipython",
    "version": 3
   },
   "file_extension": ".py",
   "mimetype": "text/x-python",
   "name": "python",
   "nbconvert_exporter": "python",
   "pygments_lexer": "ipython3",
   "version": "3.9.2rc1"
  }
 },
 "nbformat": 4,
 "nbformat_minor": 2
}
