{
 "cells": [
  {
   "cell_type": "code",
   "execution_count": 25,
   "metadata": {},
   "outputs": [],
   "source": [
    "import numpy as np\n",
    "import pandas as pd\n",
    "import matplotlib.pyplot as plt\n",
    "from scipy import stats\n",
    "import seaborn as sns\n",
    "from tqdm import tqdm\n",
    "from sklearn.metrics import make_scorer, mean_absolute_error\n",
    "\n",
    "import warnings\n",
    "warnings.filterwarnings('ignore')"
   ]
  },
  {
   "cell_type": "code",
   "execution_count": 10,
   "metadata": {},
   "outputs": [],
   "source": [
    "data = pd.read_csv('./data/data_indexes_moex_log_returns.csv', index_col=0)"
   ]
  },
  {
   "cell_type": "code",
   "execution_count": 11,
   "metadata": {},
   "outputs": [],
   "source": [
    "from typing import List, Union, Tuple\n",
    "\n",
    "def MASE(y_true: pd.Series, y_pred: pd.Series) -> float:\n",
    "    '''\n",
    "    Вычисляет Mean Absolute Scaled Error (MASE) между фактическими и прогнозируемыми значениями.\n",
    "\n",
    "    Параметры:\n",
    "            y_true (pd.Series): Серия с фактическими значениями.\n",
    "            y_pred (pd.Series): Серия с прогнозируемыми значениями.\n",
    "\n",
    "    Возвращаемое значение:\n",
    "            float: Значение MASE.\n",
    "    '''\n",
    "    # Создание наивного прогноза с использованием сдвига временного ряда\n",
    "    naive_forecast = y_true.shift(1)\n",
    "    naive_forecast.iloc[0] = y_true.iloc[0]\n",
    "\n",
    "    # Вычисление средней абсолютной ошибки для модели и наивного прогноза\n",
    "    average_errors = np.abs(y_true - y_pred)\n",
    "    naive_average_errors = np.abs(y_true - naive_forecast)\n",
    "\n",
    "    result = np.mean(average_errors) / np.mean(naive_average_errors)\n",
    "    return result\n",
    "\n",
    "\n",
    "def ZBMAE(y_true: pd.Series, y_pred: pd.Series) -> float:\n",
    "    '''\n",
    "    Вычисляет Zero-Benchmarked Mean Absolute Error (ZBMAE) между фактическими и прогнозируемыми значениями.\n",
    "\n",
    "    ZBMAE сравнивает среднюю абсолютную ошибку прогноза с средней абсолютной ошибкой наивного прогноза, который предполагает, что все прогнозируемые значения равны нулю. Это может быть полезно для временных рядов, где ожидается, что значения будут вокруг нуля.\n",
    "\n",
    "    Параметры:\n",
    "        y_true (pd.Series): Серия с фактическими значениями.\n",
    "        y_pred (pd.Series): Серия с прогнозируемыми значениями.\n",
    "\n",
    "    Возвращаемое значение:\n",
    "        float: Значение ZBMAE.\n",
    "    '''\n",
    "    zero_forecast = 0\n",
    "\n",
    "    average_errors = np.abs(y_true - y_pred)\n",
    "    naive_average_errors = np.abs(y_true - zero_forecast)\n",
    "\n",
    "    result = np.mean(average_errors) / np.mean(naive_average_errors.mean())\n",
    "    return result\n",
    "\n",
    "def SMAPE(y_true: pd.Series, y_pred: pd.Series) -> float:\n",
    "    '''\n",
    "    Вычисляет Symmetric Mean Absolute Percentage Error (SMAPE) между фактическими и прогнозируемыми значениями.\n",
    "\n",
    "    Параметры:\n",
    "            y_true (pd.Series): Серия с фактическими значениями.\n",
    "            y_pred (pd.Series): Серия с прогнозируемыми значениями.\n",
    "\n",
    "    Возвращаемое значение:\n",
    "            float: Значение SMAPE.\n",
    "    '''\n",
    "    # Избегание деления на ноль добавлением небольшого числа в знаменатель\n",
    "    denominator = (np.abs(y_true) + np.abs(y_pred) + np.finfo(float).eps) / 2\n",
    "    result = (100 / len(y_true)) * np.sum(np.abs(y_pred - y_true) / denominator)\n",
    "    return result\n",
    "\n",
    "def MDA(y_true: pd.Series, y_pred: pd.Series) -> float:\n",
    "\n",
    "    '''\n",
    "    Вычисляет Mean Directional Accuracy (MDA) между фактическими и прогнозируемыми значениями.\n",
    "\n",
    "    MDA измеряет процент времени, когда прогноз и фактическое значение имеют одинаковое направление изменений (например, оба увеличиваются или оба уменьшаются).\n",
    "\n",
    "    Параметры:\n",
    "            y_true (pd.Series): Серия с фактическими значениями.\n",
    "            y_pred (pd.Series): Серия с прогнозируемыми значениями.\n",
    "\n",
    "    Возвращаемое значение:\n",
    "            float: Значение MDA в процентах.\n",
    "    '''\n",
    "\n",
    "    y_true = np.array(y_true)\n",
    "    y_pred = np.array(y_pred)\n",
    "    \n",
    "    actual_diff = np.diff(y_true)\n",
    "    actual_signs = np.sign(actual_diff)\n",
    "    predicted_diff = np.diff(y_pred)\n",
    "    predicted_signs = np.sign(predicted_diff)\n",
    "    \n",
    "    num_correct = np.sum(actual_signs == predicted_signs)\n",
    "    \n",
    "    mda = num_correct / (len(y_true) - 1)\n",
    "    return 100*mda\n",
    "\n",
    "\n",
    "def DMDA(y_true: pd.Series, y_pred: pd.Series) -> float:\n",
    "    '''\n",
    "    Вычисляет Direct Mean Directional Accuracy (DMDA) между фактическими и прогнозируемыми значениями.\n",
    "    \n",
    "\n",
    "    Параметры:\n",
    "            y_true (pd.Series): Серия с фактическими значениями.\n",
    "            y_pred (pd.Series): Серия с прогнозируемыми значениями.\n",
    "\n",
    "    Возвращаемое значение:\n",
    "            float: Значение MDA в процентах.\n",
    "    '''\n",
    "    y_true_sign = np.sign(y_true)\n",
    "    y_pred_sign = np.sign(y_pred)\n",
    "\n",
    "    result = (100 / len(y_true)) * np.sum(y_pred_sign == y_true_sign)\n",
    "    return result\n",
    "\n",
    "class TimeSeriesProcessor:\n",
    "    '''\n",
    "    Класс для работы с временными рядами, включая добавление лагов, интеграцию внешних переменных,\n",
    "    создание разбиений для валидации, вычисление метрик и визуализацию результатов.\n",
    "\n",
    "    Методы:\n",
    "        add_lags(self, lags: List[int], drop_na: bool = True):\n",
    "            Добавление лагов к переменным временного ряда.\n",
    "        add_other_variables(self, other_variables: pd.DataFrame):\n",
    "            Добавление дополнительных переменных к данным.\n",
    "        get_folds(self, horizon: int = 25):\n",
    "            Создание разбиений данных для тестирования.\n",
    "        get_model_result(self, y_pred_list: List[pd.Series]):\n",
    "            Вычисление и вывод метрик для модели.\n",
    "        get_visualisation(self):\n",
    "            Визуализация фактических и прогнозируемых значений.\n",
    "    '''\n",
    "    def __init__(\n",
    "            self, \n",
    "            data: Union[pd.Series, pd.DataFrame], \n",
    "            target_name: str = None,\n",
    "            interpolate: bool = True,\n",
    "            dropna: bool = True\n",
    "            ) -> None:\n",
    "        '''\n",
    "        Инициализирует объект класса с данными временного ряда.\n",
    "\n",
    "        Параметры:\n",
    "            data (Union[pd.Series, pd.DataFrame]): Временной ряд в формате pd.Series или pd.DataFrame.\n",
    "            target_name (str, опционально): Имя целевой переменной в случае pd.DataFrame.\n",
    "            interpolate (bool): Необходимо ли интерполировать данные.\n",
    "            dropna (bool): Необходимо ли удалить пропущенные значения.\n",
    "        '''\n",
    "        if not isinstance(data.index, pd.DatetimeIndex):\n",
    "            print('Новый тип индексов: pd.DatetimeIndex')\n",
    "            data.index = pd.to_datetime(data.index)\n",
    "        \n",
    "        if interpolate:\n",
    "            data = data.interpolate(method='time')\n",
    "        \n",
    "        if dropna:\n",
    "            data = data.dropna()\n",
    "\n",
    "        data = data.sort_index()\n",
    "\n",
    "        if isinstance(data, pd.Series):\n",
    "            if target_name is not None:\n",
    "                print(\"Предупреждение: target_name не нужно указывать для data: pd.Series\")\n",
    "            self.y = data\n",
    "            self.X = pd.DataFrame(index=self.y.index)\n",
    "        else:\n",
    "            if target_name is None:\n",
    "                raise ValueError(\"target_name обязательный параметр для data: pd.DataFrame\")\n",
    "            self.y = data[target_name]\n",
    "            self.X = data.drop([target_name], axis=1)\n",
    "\n",
    "        self.get_folds_was_called = False\n",
    "        self.y_pred = None\n",
    "\n",
    "        self.y_val = None\n",
    "        self.X_val = None\n",
    "\n",
    "    def add_lags(self, lags: List[int], drop_na: bool = True) -> None:\n",
    "        '''\n",
    "        Добавляет лаги (отставания) к временному ряду как новые признаки.\n",
    "\n",
    "        Параметры:\n",
    "            lags (List[int]): Список целых чисел, каждое из которых указывает на количество шагов отставания.\n",
    "            drop_na (bool): Если True, то строки с пропущенными значениями после добавления лагов будут удалены.\n",
    "        '''\n",
    "        for lag in lags:\n",
    "            self.X[f'lag_{lag}'] = self.y.shift(lag)\n",
    "\n",
    "        if drop_na:\n",
    "            self.X.dropna(inplace=True)\n",
    "            self.y = self.y.loc[self.X.index]\n",
    "\n",
    "        if self.get_folds_was_called:\n",
    "            self.get_folds(horizon=self.horizon)\n",
    "\n",
    "    def add_other_variables(self, other_variables: pd.DataFrame = None, date_variables: bool = False) -> None:\n",
    "        '''\n",
    "        Добавляет дополнительные внешние переменные к данным временного ряда.\n",
    "\n",
    "        Параметры:\n",
    "            other_variables (pd.DataFrame): DataFrame, содержащий внешние переменные для добавления.\n",
    "            date_variables (bool): Будут ли добавлены переменные, связанные с датой.\n",
    "        '''\n",
    "\n",
    "        if other_variables is not None:\n",
    "            if other_variables.isna().any().any():\n",
    "                print('Предупреждение: в other_variables есть пропуски. Алгоритм не предусматривает их наличие')\n",
    "\n",
    "            self.X = pd.concat([self.X, other_variables], axis=1, join='inner')\n",
    "\n",
    "\n",
    "        if date_variables:\n",
    "            self.X['days_since_start'] = (self.X.index - self.X.index[0]).days\n",
    "            self.X['day'] = self.X.index.day\n",
    "            self.X['dayofweek'] = self.X.index.dayofweek\n",
    "            self.X['month'] = self.X.index.month\n",
    "            self.X['year'] = self.X.index.year\n",
    "\n",
    "\n",
    "        if self.get_folds_was_called:\n",
    "            self.get_folds(horizon=self.horizon)\n",
    "\n",
    "    def get_folds(\n",
    "            self, \n",
    "            horizon: int = 25, \n",
    "            num_recent_folds: int = None, \n",
    "            validation_part: float = None\n",
    "            ) -> None:\n",
    "        '''\n",
    "        Создает разбиения данных для кросс-валидации на основе указанного горизонта прогнозирования.\n",
    "\n",
    "        Параметры:\n",
    "            horizon (int): Горизонт прогнозирования, используемый для создания тестовых разбиений.\n",
    "            num_recent_folds (int, optional): Количество последних разбиений для включения в результат.\n",
    "                Если не указано, используются все разбиения.\n",
    "            validation_part (float): Процентное отношение объема исходных данных, отводимое для валидационного набора. Этот параметр особенно полезен в случаях, когда оптимизация гиперпараметров модели требует значительного времени. Рекомендуется однократно настроить гиперпараметры на валидационном наборе и применять их для последующих разбиений (фолдов), избегая повторного обучения на каждом фолде.\n",
    "                В случае отсутствия значения параметра, валидационная часть данных не формируется.\n",
    "        '''\n",
    "\n",
    "        if validation_part is not None:\n",
    "            if not 0 <= validation_part <= 1:\n",
    "                raise ValueError(\"validation_part может быть только числом в отрезке от 0 до 1 включительно\")\n",
    "            \n",
    "            last_val_obs = int(self.y.shape[0] * validation_part)\n",
    "\n",
    "            self.y_val, self.y = self.y.iloc[:last_val_obs], self.y.iloc[last_val_obs:]\n",
    "            self.X_val, self.X = self.X.iloc[:last_val_obs, :], self.X.iloc[last_val_obs:, :]\n",
    "\n",
    "        self.horizon = horizon\n",
    "        self.folds = []\n",
    "        for i in range(0, len(self.X) - horizon, horizon):\n",
    "            X_test = self.X.iloc[i:i + horizon]\n",
    "            y_test = self.y.iloc[i:i + horizon]\n",
    "\n",
    "            X_train = self.X.drop(X_test.index)\n",
    "            y_train = self.y.drop(y_test.index)\n",
    "            \n",
    "            self.folds.append((X_train, y_train, X_test, y_test))\n",
    "        \n",
    "        if num_recent_folds is not None:\n",
    "            self.folds = self.folds[-num_recent_folds:]\n",
    "        \n",
    "        self.get_folds_was_called = True\n",
    "\n",
    "    def get_model_result(self, y_pred_list: List[pd.Series]) -> None:\n",
    "        '''\n",
    "        Вычисляет и выводит метрики качества модели на основе совокупности предсказаний.\n",
    "\n",
    "        Параметры:\n",
    "            y_pred_list (List[pd.Series]): Список pd.Series с прогнозами модели для каждого разбиения.\n",
    "        '''\n",
    "        self.y_pred = pd.concat(y_pred_list)\n",
    "        self.y_true = self.y.loc[self.y_pred.index]\n",
    "\n",
    "        self.mase = MASE(self.y_true, self.y_pred)\n",
    "        self.smape = SMAPE(self.y_true, self.y_pred)\n",
    "        self.mda = MDA(self.y_true, self.y_pred)\n",
    "        self.dmda = DMDA(self.y_true, self.y_pred)\n",
    "        self.zbmae = ZBMAE(self.y_true, self.y_pred)\n",
    "        self.mae = mean_absolute_error(self.y_true, self.y_pred)\n",
    "\n",
    "        print(f'MAE: {self.mae:.2f}')\n",
    "        print(f'MASE: {self.mase:.2f}')\n",
    "        print(f'ZBMAE: {self.zbmae:.2f}')\n",
    "        print(f'SMAPE: {self.smape:.2f}%')\n",
    "        print(f'MDA: {self.mda:.2f}%')\n",
    "        print(f'DMDA: {self.dmda:.2f}%')\n",
    "\n",
    "    def get_visualisation(self, start_date=None, end_date=None) -> None:\n",
    "        '''\n",
    "        Отображает визуализацию сравнения фактических значений временного ряда с прогнозными.\n",
    "        \n",
    "        Параметры:\n",
    "            start_date (str, optional): Начальная дата среза для визуализации в формате 'YYYY-MM-DD'.\n",
    "                                        Если None, визуализация начинается с первой доступной даты.\n",
    "            end_date (str, optional): Конечная дата среза для визуализации в формате 'YYYY-MM-DD'.\n",
    "                                      Если None, визуализация идет до последней доступной даты.\n",
    "        '''\n",
    "        if self.y_pred is None:\n",
    "            raise ValueError('Метод get_visualisation должен вызываться после вызова метода get_model_result')\n",
    "        \n",
    "        y_true_sliced = self.y_true.copy()\n",
    "        y_pred_sliced = self.y_pred.copy()\n",
    "        \n",
    "        if start_date:\n",
    "            y_true_sliced = y_true_sliced[start_date:]\n",
    "            y_pred_sliced = y_pred_sliced[start_date:]\n",
    "        if end_date:\n",
    "            y_true_sliced = y_true_sliced[:end_date]\n",
    "            y_pred_sliced = y_pred_sliced[:end_date]\n",
    "        \n",
    "        plt.figure(figsize=(10, 6))\n",
    "        sns.lineplot(data=y_true_sliced, label=\"Actual\")\n",
    "        sns.lineplot(data=y_pred_sliced, label=\"Predicted\")\n",
    "        plt.axhline(y=0, color='gray', linestyle='--')\n",
    "        plt.title(\"Actual vs Predicted\")\n",
    "        plt.legend()\n",
    "        plt.show()"
   ]
  },
  {
   "cell_type": "markdown",
   "metadata": {},
   "source": [
    "# Пример использования"
   ]
  },
  {
   "cell_type": "markdown",
   "metadata": {},
   "source": [
    "Запихиваем ряд с доходностями в экземпляр класса"
   ]
  },
  {
   "cell_type": "code",
   "execution_count": 12,
   "metadata": {},
   "outputs": [
    {
     "name": "stdout",
     "output_type": "stream",
     "text": [
      "Новый тип индексов: pd.DatetimeIndex\n"
     ]
    }
   ],
   "source": [
    "ts = TimeSeriesProcessor(data=data.MOEXMM)"
   ]
  },
  {
   "cell_type": "markdown",
   "metadata": {},
   "source": [
    "Добавляем лаговые переменные (какие хотим). Они автоматически появятся в ts.X"
   ]
  },
  {
   "cell_type": "code",
   "execution_count": 13,
   "metadata": {},
   "outputs": [],
   "source": [
    "ts.add_lags(lags=[21, 22, 23, 24, 25, 26, 27, 30, 40, 50])\n",
    "ts.add_other_variables(date_variables=True)"
   ]
  },
  {
   "cell_type": "markdown",
   "metadata": {},
   "source": [
    "Дробим на фолды (как говорил Александр Владимирович). num_recent_folds нужен для ускорения работы. Если алгоритм будет работать очень долго, можно будет просто взять только несколько последних фолдов и получить среднее предсказание по ним"
   ]
  },
  {
   "cell_type": "code",
   "execution_count": 14,
   "metadata": {},
   "outputs": [],
   "source": [
    "ts.get_folds(horizon=20, validation_part=0.3, num_recent_folds=20)"
   ]
  },
  {
   "cell_type": "markdown",
   "metadata": {},
   "source": [
    "так мы можем добавть любые переменные в модель в виде pd.Dataframe. Они автоматически появятся в ts.X"
   ]
  },
  {
   "cell_type": "code",
   "execution_count": 15,
   "metadata": {},
   "outputs": [],
   "source": [
    "# ts.add_other_variables(other_variables=any_data)"
   ]
  },
  {
   "cell_type": "markdown",
   "metadata": {},
   "source": [
    "# Catboost алгоритм"
   ]
  },
  {
   "cell_type": "code",
   "execution_count": 17,
   "metadata": {},
   "outputs": [
    {
     "name": "stderr",
     "output_type": "stream",
     "text": [
      "[I 2024-03-18 03:16:43,200] A new study created in memory with name: no-name-562fd3c7-dfe6-4213-8fce-ddf2441a6121\n",
      "[I 2024-03-18 03:17:00,945] Trial 0 finished with value: 155.94128646238022 and parameters: {'learning_rate': 0.151777501251086, 'depth': 7, 'l2_leaf_reg': 0.00019994709040871883, 'iterations': 548, 'min_child_samples': 75, 'border_count': 111, 'random_strength': 0.00011860100954181154, 'bagging_temperature': 0.03562840545762622, 'od_wait': 62}. Best is trial 0 with value: 155.94128646238022.\n",
      "[I 2024-03-18 03:17:05,783] Trial 1 finished with value: 156.31805919096482 and parameters: {'learning_rate': 0.10901283132100471, 'depth': 5, 'l2_leaf_reg': 0.007725005840388091, 'iterations': 410, 'min_child_samples': 69, 'border_count': 83, 'random_strength': 2.043274945666846e-07, 'bagging_temperature': 0.03457570685515738, 'od_wait': 66}. Best is trial 0 with value: 155.94128646238022.\n",
      "[I 2024-03-18 03:17:07,817] Trial 2 finished with value: 153.92895378369886 and parameters: {'learning_rate': 0.21969742674247122, 'depth': 6, 'l2_leaf_reg': 0.10925550979299056, 'iterations': 237, 'min_child_samples': 32, 'border_count': 64, 'random_strength': 0.0031638333044985444, 'bagging_temperature': 2.716906281632713, 'od_wait': 12}. Best is trial 2 with value: 153.92895378369886.\n",
      "[I 2024-03-18 03:17:11,203] Trial 3 finished with value: 157.92128022237748 and parameters: {'learning_rate': 0.06705248432808873, 'depth': 4, 'l2_leaf_reg': 0.0007028185077102921, 'iterations': 748, 'min_child_samples': 42, 'border_count': 91, 'random_strength': 1.008726357087148e-06, 'bagging_temperature': 0.2333112984173952, 'od_wait': 33}. Best is trial 2 with value: 153.92895378369886.\n",
      "[I 2024-03-18 03:17:12,327] Trial 4 finished with value: 163.08079845394977 and parameters: {'learning_rate': 0.0303064216430931, 'depth': 2, 'l2_leaf_reg': 3.474382891155133e-07, 'iterations': 533, 'min_child_samples': 20, 'border_count': 19, 'random_strength': 1.7583722072433138e-07, 'bagging_temperature': 0.04066725156918101, 'od_wait': 18}. Best is trial 2 with value: 153.92895378369886.\n",
      "[I 2024-03-18 03:17:14,857] Trial 5 finished with value: 156.8721596932424 and parameters: {'learning_rate': 0.07209569431680883, 'depth': 6, 'l2_leaf_reg': 1.913846364195382e-08, 'iterations': 299, 'min_child_samples': 24, 'border_count': 60, 'random_strength': 2.241261784643541e-05, 'bagging_temperature': 1.719432824970019, 'od_wait': 53}. Best is trial 2 with value: 153.92895378369886.\n",
      "[I 2024-03-18 03:17:22,130] Trial 6 finished with value: 159.10592142988477 and parameters: {'learning_rate': 0.04669265700013946, 'depth': 6, 'l2_leaf_reg': 0.0027527074367015587, 'iterations': 749, 'min_child_samples': 49, 'border_count': 94, 'random_strength': 1.98655056421324e-08, 'bagging_temperature': 0.6144967081608806, 'od_wait': 66}. Best is trial 2 with value: 153.92895378369886.\n",
      "[I 2024-03-18 03:17:30,417] Trial 7 finished with value: 151.44615058185346 and parameters: {'learning_rate': 0.28346373984749795, 'depth': 6, 'l2_leaf_reg': 3.608491857336419e-05, 'iterations': 522, 'min_child_samples': 1, 'border_count': 215, 'random_strength': 2.3600550359458677e-08, 'bagging_temperature': 7.225993064299431, 'od_wait': 26}. Best is trial 7 with value: 151.44615058185346.\n",
      "[I 2024-03-18 03:17:42,934] Trial 8 finished with value: 157.35346045025048 and parameters: {'learning_rate': 0.08724894345369914, 'depth': 8, 'l2_leaf_reg': 0.011084366490325384, 'iterations': 301, 'min_child_samples': 19, 'border_count': 191, 'random_strength': 6.516716863235025e-07, 'bagging_temperature': 15.09597795074871, 'od_wait': 31}. Best is trial 7 with value: 151.44615058185346.\n",
      "[I 2024-03-18 03:17:48,758] Trial 9 finished with value: 151.86120074879116 and parameters: {'learning_rate': 0.28325722275163334, 'depth': 6, 'l2_leaf_reg': 0.006911853100742605, 'iterations': 594, 'min_child_samples': 95, 'border_count': 104, 'random_strength': 6.194709922157123e-08, 'bagging_temperature': 0.366967026927922, 'od_wait': 25}. Best is trial 7 with value: 151.44615058185346.\n",
      "[I 2024-03-18 03:17:49,182] Trial 10 finished with value: 159.0129491742348 and parameters: {'learning_rate': 0.29446015499671985, 'depth': 3, 'l2_leaf_reg': 9.492560481049361, 'iterations': 53, 'min_child_samples': 2, 'border_count': 255, 'random_strength': 1.9946194967310165, 'bagging_temperature': 52.09785745632337, 'od_wait': 45}. Best is trial 7 with value: 151.44615058185346.\n",
      "[I 2024-03-18 03:17:52,244] Trial 11 finished with value: 152.82685357338036 and parameters: {'learning_rate': 0.2295416343744151, 'depth': 8, 'l2_leaf_reg': 1.2128268724814065e-05, 'iterations': 68, 'min_child_samples': 6, 'border_count': 186, 'random_strength': 1.6827162195437856e-09, 'bagging_temperature': 5.938082958949209, 'od_wait': 44}. Best is trial 7 with value: 151.44615058185346.\n",
      "[I 2024-03-18 03:17:55,069] Trial 12 finished with value: 155.4022104257545 and parameters: {'learning_rate': 0.2066458701946597, 'depth': 3, 'l2_leaf_reg': 4.750286172949568e-06, 'iterations': 645, 'min_child_samples': 67, 'border_count': 177, 'random_strength': 1.2127890868733902e-09, 'bagging_temperature': 86.6397949866117, 'od_wait': 21}. Best is trial 7 with value: 151.44615058185346.\n",
      "[I 2024-03-18 03:17:58,475] Trial 13 finished with value: 154.9843959764136 and parameters: {'learning_rate': 0.254007125931163, 'depth': 4, 'l2_leaf_reg': 1.474946789165129e-08, 'iterations': 413, 'min_child_samples': 88, 'border_count': 231, 'random_strength': 1.617057715702584e-05, 'bagging_temperature': 11.433155137550006, 'od_wait': 11}. Best is trial 7 with value: 151.44615058185346.\n",
      "[I 2024-03-18 03:18:02,089] Trial 14 finished with value: 153.10645078341332 and parameters: {'learning_rate': 0.18963422421175408, 'depth': 7, 'l2_leaf_reg': 3.416633845428715e-05, 'iterations': 175, 'min_child_samples': 56, 'border_count': 148, 'random_strength': 8.594753608283638e-09, 'bagging_temperature': 23.736859881462102, 'od_wait': 37}. Best is trial 7 with value: 151.44615058185346.\n",
      "[I 2024-03-18 03:18:09,248] Trial 15 finished with value: 156.26363911218715 and parameters: {'learning_rate': 0.16712098427640143, 'depth': 5, 'l2_leaf_reg': 6.750981518656868e-07, 'iterations': 659, 'min_child_samples': 34, 'border_count': 219, 'random_strength': 0.000469208930535505, 'bagging_temperature': 4.525458584214407, 'od_wait': 54}. Best is trial 7 with value: 151.44615058185346.\n",
      "[I 2024-03-18 03:18:12,199] Trial 16 finished with value: 153.04833393895797 and parameters: {'learning_rate': 0.25966095638236636, 'depth': 4, 'l2_leaf_reg': 0.00011859969278899285, 'iterations': 493, 'min_child_samples': 9, 'border_count': 146, 'random_strength': 3.623359277879993e-06, 'bagging_temperature': 1.4665581622763195, 'od_wait': 26}. Best is trial 7 with value: 151.44615058185346.\n",
      "[I 2024-03-18 03:18:16,711] Trial 17 finished with value: 151.1200606539449 and parameters: {'learning_rate': 0.296255202448062, 'depth': 7, 'l2_leaf_reg': 0.222918350976445, 'iterations': 799, 'min_child_samples': 57, 'border_count': 8, 'random_strength': 1.59468885053664e-08, 'bagging_temperature': 41.35224806401398, 'od_wait': 51}. Best is trial 17 with value: 151.1200606539449.\n",
      "[I 2024-03-18 03:18:24,844] Trial 18 finished with value: 152.6197551505777 and parameters: {'learning_rate': 0.13548915546140283, 'depth': 8, 'l2_leaf_reg': 1.1027825947553556, 'iterations': 792, 'min_child_samples': 83, 'border_count': 21, 'random_strength': 1.396917949339073e-09, 'bagging_temperature': 39.313484813357945, 'od_wait': 55}. Best is trial 17 with value: 151.1200606539449.\n",
      "[I 2024-03-18 03:18:28,414] Trial 19 finished with value: 151.39364974542664 and parameters: {'learning_rate': 0.18349885123893234, 'depth': 7, 'l2_leaf_reg': 0.16384503300758907, 'iterations': 678, 'min_child_samples': 99, 'border_count': 5, 'random_strength': 2.021303391292519e-06, 'bagging_temperature': 89.56457114991191, 'od_wait': 47}. Best is trial 17 with value: 151.1200606539449.\n"
     ]
    }
   ],
   "source": [
    "from catboost import CatBoostRegressor\n",
    "from sklearn.metrics import make_scorer\n",
    "from sklearn.model_selection import cross_val_score\n",
    "import optuna\n",
    "\n",
    "\n",
    "X_val, y_val = ts.X_val, ts.y_val\n",
    "\n",
    "scorer = make_scorer(SMAPE)\n",
    "\n",
    "def objective(trial):\n",
    "    param = {\n",
    "        'learning_rate': trial.suggest_float('learning_rate', 0.01, 0.3),\n",
    "        'depth': trial.suggest_int('depth', 2, 8),\n",
    "        'l2_leaf_reg': trial.suggest_loguniform('l2_leaf_reg', 1e-8, 20.0),\n",
    "        'iterations': trial.suggest_int('iterations', 50, 800),\n",
    "        'min_child_samples': trial.suggest_int('min_child_samples', 1, 100),\n",
    "        'border_count': trial.suggest_int('border_count', 1, 255),\n",
    "        'loss_function': 'MAE',\n",
    "        'random_strength': trial.suggest_loguniform('random_strength', 1e-9, 10),\n",
    "        'bagging_temperature': trial.suggest_loguniform('bagging_temperature', 0.01, 100.00),\n",
    "        'od_type': 'Iter',\n",
    "        'od_wait': trial.suggest_int('od_wait', 10, 70)\n",
    "    }\n",
    "    \n",
    "    regressor = CatBoostRegressor(**param)\n",
    "    return np.mean(\n",
    "        cross_val_score(\n",
    "            regressor, X_val, y_val, \n",
    "            n_jobs=-1, scoring=scorer, \n",
    "            cv=5))\n",
    "sampler = optuna.samplers.MOTPESampler()\n",
    "study = optuna.create_study(direction='minimize', sampler=sampler)\n",
    "study.optimize(objective, n_trials=20)"
   ]
  },
  {
   "cell_type": "code",
   "execution_count": 18,
   "metadata": {},
   "outputs": [
    {
     "data": {
      "text/plain": [
       "{'learning_rate': 0.296255202448062,\n",
       " 'depth': 7,\n",
       " 'l2_leaf_reg': 0.222918350976445,\n",
       " 'iterations': 799,\n",
       " 'min_child_samples': 57,\n",
       " 'border_count': 8,\n",
       " 'random_strength': 1.59468885053664e-08,\n",
       " 'bagging_temperature': 41.35224806401398,\n",
       " 'od_wait': 51}"
      ]
     },
     "execution_count": 18,
     "metadata": {},
     "output_type": "execute_result"
    }
   ],
   "source": [
    "study.best_params"
   ]
  },
  {
   "cell_type": "code",
   "execution_count": 19,
   "metadata": {},
   "outputs": [
    {
     "data": {
      "application/vnd.plotly.v1+json": {
       "config": {
        "plotlyServerURL": "https://plot.ly"
       },
       "data": [
        {
         "mode": "markers",
         "name": "Objective Value",
         "type": "scatter",
         "x": [
          0,
          1,
          2,
          3,
          4,
          5,
          6,
          7,
          8,
          9,
          10,
          11,
          12,
          13,
          14,
          15,
          16,
          17,
          18,
          19
         ],
         "y": [
          155.94128646238022,
          156.31805919096482,
          153.92895378369886,
          157.92128022237748,
          163.08079845394977,
          156.8721596932424,
          159.10592142988477,
          151.44615058185346,
          157.35346045025048,
          151.86120074879116,
          159.0129491742348,
          152.82685357338036,
          155.4022104257545,
          154.9843959764136,
          153.10645078341332,
          156.26363911218715,
          153.04833393895797,
          151.1200606539449,
          152.6197551505777,
          151.39364974542664
         ]
        },
        {
         "mode": "lines",
         "name": "Best Value",
         "type": "scatter",
         "x": [
          0,
          1,
          2,
          3,
          4,
          5,
          6,
          7,
          8,
          9,
          10,
          11,
          12,
          13,
          14,
          15,
          16,
          17,
          18,
          19
         ],
         "y": [
          155.94128646238022,
          155.94128646238022,
          153.92895378369886,
          153.92895378369886,
          153.92895378369886,
          153.92895378369886,
          153.92895378369886,
          151.44615058185346,
          151.44615058185346,
          151.44615058185346,
          151.44615058185346,
          151.44615058185346,
          151.44615058185346,
          151.44615058185346,
          151.44615058185346,
          151.44615058185346,
          151.44615058185346,
          151.1200606539449,
          151.1200606539449,
          151.1200606539449
         ]
        },
        {
         "marker": {
          "color": "#cccccc"
         },
         "mode": "markers",
         "name": "Infeasible Trial",
         "showlegend": false,
         "type": "scatter",
         "x": [],
         "y": []
        }
       ],
       "layout": {
        "template": {
         "data": {
          "bar": [
           {
            "error_x": {
             "color": "#2a3f5f"
            },
            "error_y": {
             "color": "#2a3f5f"
            },
            "marker": {
             "line": {
              "color": "#E5ECF6",
              "width": 0.5
             },
             "pattern": {
              "fillmode": "overlay",
              "size": 10,
              "solidity": 0.2
             }
            },
            "type": "bar"
           }
          ],
          "barpolar": [
           {
            "marker": {
             "line": {
              "color": "#E5ECF6",
              "width": 0.5
             },
             "pattern": {
              "fillmode": "overlay",
              "size": 10,
              "solidity": 0.2
             }
            },
            "type": "barpolar"
           }
          ],
          "carpet": [
           {
            "aaxis": {
             "endlinecolor": "#2a3f5f",
             "gridcolor": "white",
             "linecolor": "white",
             "minorgridcolor": "white",
             "startlinecolor": "#2a3f5f"
            },
            "baxis": {
             "endlinecolor": "#2a3f5f",
             "gridcolor": "white",
             "linecolor": "white",
             "minorgridcolor": "white",
             "startlinecolor": "#2a3f5f"
            },
            "type": "carpet"
           }
          ],
          "choropleth": [
           {
            "colorbar": {
             "outlinewidth": 0,
             "ticks": ""
            },
            "type": "choropleth"
           }
          ],
          "contour": [
           {
            "colorbar": {
             "outlinewidth": 0,
             "ticks": ""
            },
            "colorscale": [
             [
              0,
              "#0d0887"
             ],
             [
              0.1111111111111111,
              "#46039f"
             ],
             [
              0.2222222222222222,
              "#7201a8"
             ],
             [
              0.3333333333333333,
              "#9c179e"
             ],
             [
              0.4444444444444444,
              "#bd3786"
             ],
             [
              0.5555555555555556,
              "#d8576b"
             ],
             [
              0.6666666666666666,
              "#ed7953"
             ],
             [
              0.7777777777777778,
              "#fb9f3a"
             ],
             [
              0.8888888888888888,
              "#fdca26"
             ],
             [
              1,
              "#f0f921"
             ]
            ],
            "type": "contour"
           }
          ],
          "contourcarpet": [
           {
            "colorbar": {
             "outlinewidth": 0,
             "ticks": ""
            },
            "type": "contourcarpet"
           }
          ],
          "heatmap": [
           {
            "colorbar": {
             "outlinewidth": 0,
             "ticks": ""
            },
            "colorscale": [
             [
              0,
              "#0d0887"
             ],
             [
              0.1111111111111111,
              "#46039f"
             ],
             [
              0.2222222222222222,
              "#7201a8"
             ],
             [
              0.3333333333333333,
              "#9c179e"
             ],
             [
              0.4444444444444444,
              "#bd3786"
             ],
             [
              0.5555555555555556,
              "#d8576b"
             ],
             [
              0.6666666666666666,
              "#ed7953"
             ],
             [
              0.7777777777777778,
              "#fb9f3a"
             ],
             [
              0.8888888888888888,
              "#fdca26"
             ],
             [
              1,
              "#f0f921"
             ]
            ],
            "type": "heatmap"
           }
          ],
          "heatmapgl": [
           {
            "colorbar": {
             "outlinewidth": 0,
             "ticks": ""
            },
            "colorscale": [
             [
              0,
              "#0d0887"
             ],
             [
              0.1111111111111111,
              "#46039f"
             ],
             [
              0.2222222222222222,
              "#7201a8"
             ],
             [
              0.3333333333333333,
              "#9c179e"
             ],
             [
              0.4444444444444444,
              "#bd3786"
             ],
             [
              0.5555555555555556,
              "#d8576b"
             ],
             [
              0.6666666666666666,
              "#ed7953"
             ],
             [
              0.7777777777777778,
              "#fb9f3a"
             ],
             [
              0.8888888888888888,
              "#fdca26"
             ],
             [
              1,
              "#f0f921"
             ]
            ],
            "type": "heatmapgl"
           }
          ],
          "histogram": [
           {
            "marker": {
             "pattern": {
              "fillmode": "overlay",
              "size": 10,
              "solidity": 0.2
             }
            },
            "type": "histogram"
           }
          ],
          "histogram2d": [
           {
            "colorbar": {
             "outlinewidth": 0,
             "ticks": ""
            },
            "colorscale": [
             [
              0,
              "#0d0887"
             ],
             [
              0.1111111111111111,
              "#46039f"
             ],
             [
              0.2222222222222222,
              "#7201a8"
             ],
             [
              0.3333333333333333,
              "#9c179e"
             ],
             [
              0.4444444444444444,
              "#bd3786"
             ],
             [
              0.5555555555555556,
              "#d8576b"
             ],
             [
              0.6666666666666666,
              "#ed7953"
             ],
             [
              0.7777777777777778,
              "#fb9f3a"
             ],
             [
              0.8888888888888888,
              "#fdca26"
             ],
             [
              1,
              "#f0f921"
             ]
            ],
            "type": "histogram2d"
           }
          ],
          "histogram2dcontour": [
           {
            "colorbar": {
             "outlinewidth": 0,
             "ticks": ""
            },
            "colorscale": [
             [
              0,
              "#0d0887"
             ],
             [
              0.1111111111111111,
              "#46039f"
             ],
             [
              0.2222222222222222,
              "#7201a8"
             ],
             [
              0.3333333333333333,
              "#9c179e"
             ],
             [
              0.4444444444444444,
              "#bd3786"
             ],
             [
              0.5555555555555556,
              "#d8576b"
             ],
             [
              0.6666666666666666,
              "#ed7953"
             ],
             [
              0.7777777777777778,
              "#fb9f3a"
             ],
             [
              0.8888888888888888,
              "#fdca26"
             ],
             [
              1,
              "#f0f921"
             ]
            ],
            "type": "histogram2dcontour"
           }
          ],
          "mesh3d": [
           {
            "colorbar": {
             "outlinewidth": 0,
             "ticks": ""
            },
            "type": "mesh3d"
           }
          ],
          "parcoords": [
           {
            "line": {
             "colorbar": {
              "outlinewidth": 0,
              "ticks": ""
             }
            },
            "type": "parcoords"
           }
          ],
          "pie": [
           {
            "automargin": true,
            "type": "pie"
           }
          ],
          "scatter": [
           {
            "fillpattern": {
             "fillmode": "overlay",
             "size": 10,
             "solidity": 0.2
            },
            "type": "scatter"
           }
          ],
          "scatter3d": [
           {
            "line": {
             "colorbar": {
              "outlinewidth": 0,
              "ticks": ""
             }
            },
            "marker": {
             "colorbar": {
              "outlinewidth": 0,
              "ticks": ""
             }
            },
            "type": "scatter3d"
           }
          ],
          "scattercarpet": [
           {
            "marker": {
             "colorbar": {
              "outlinewidth": 0,
              "ticks": ""
             }
            },
            "type": "scattercarpet"
           }
          ],
          "scattergeo": [
           {
            "marker": {
             "colorbar": {
              "outlinewidth": 0,
              "ticks": ""
             }
            },
            "type": "scattergeo"
           }
          ],
          "scattergl": [
           {
            "marker": {
             "colorbar": {
              "outlinewidth": 0,
              "ticks": ""
             }
            },
            "type": "scattergl"
           }
          ],
          "scattermapbox": [
           {
            "marker": {
             "colorbar": {
              "outlinewidth": 0,
              "ticks": ""
             }
            },
            "type": "scattermapbox"
           }
          ],
          "scatterpolar": [
           {
            "marker": {
             "colorbar": {
              "outlinewidth": 0,
              "ticks": ""
             }
            },
            "type": "scatterpolar"
           }
          ],
          "scatterpolargl": [
           {
            "marker": {
             "colorbar": {
              "outlinewidth": 0,
              "ticks": ""
             }
            },
            "type": "scatterpolargl"
           }
          ],
          "scatterternary": [
           {
            "marker": {
             "colorbar": {
              "outlinewidth": 0,
              "ticks": ""
             }
            },
            "type": "scatterternary"
           }
          ],
          "surface": [
           {
            "colorbar": {
             "outlinewidth": 0,
             "ticks": ""
            },
            "colorscale": [
             [
              0,
              "#0d0887"
             ],
             [
              0.1111111111111111,
              "#46039f"
             ],
             [
              0.2222222222222222,
              "#7201a8"
             ],
             [
              0.3333333333333333,
              "#9c179e"
             ],
             [
              0.4444444444444444,
              "#bd3786"
             ],
             [
              0.5555555555555556,
              "#d8576b"
             ],
             [
              0.6666666666666666,
              "#ed7953"
             ],
             [
              0.7777777777777778,
              "#fb9f3a"
             ],
             [
              0.8888888888888888,
              "#fdca26"
             ],
             [
              1,
              "#f0f921"
             ]
            ],
            "type": "surface"
           }
          ],
          "table": [
           {
            "cells": {
             "fill": {
              "color": "#EBF0F8"
             },
             "line": {
              "color": "white"
             }
            },
            "header": {
             "fill": {
              "color": "#C8D4E3"
             },
             "line": {
              "color": "white"
             }
            },
            "type": "table"
           }
          ]
         },
         "layout": {
          "annotationdefaults": {
           "arrowcolor": "#2a3f5f",
           "arrowhead": 0,
           "arrowwidth": 1
          },
          "autotypenumbers": "strict",
          "coloraxis": {
           "colorbar": {
            "outlinewidth": 0,
            "ticks": ""
           }
          },
          "colorscale": {
           "diverging": [
            [
             0,
             "#8e0152"
            ],
            [
             0.1,
             "#c51b7d"
            ],
            [
             0.2,
             "#de77ae"
            ],
            [
             0.3,
             "#f1b6da"
            ],
            [
             0.4,
             "#fde0ef"
            ],
            [
             0.5,
             "#f7f7f7"
            ],
            [
             0.6,
             "#e6f5d0"
            ],
            [
             0.7,
             "#b8e186"
            ],
            [
             0.8,
             "#7fbc41"
            ],
            [
             0.9,
             "#4d9221"
            ],
            [
             1,
             "#276419"
            ]
           ],
           "sequential": [
            [
             0,
             "#0d0887"
            ],
            [
             0.1111111111111111,
             "#46039f"
            ],
            [
             0.2222222222222222,
             "#7201a8"
            ],
            [
             0.3333333333333333,
             "#9c179e"
            ],
            [
             0.4444444444444444,
             "#bd3786"
            ],
            [
             0.5555555555555556,
             "#d8576b"
            ],
            [
             0.6666666666666666,
             "#ed7953"
            ],
            [
             0.7777777777777778,
             "#fb9f3a"
            ],
            [
             0.8888888888888888,
             "#fdca26"
            ],
            [
             1,
             "#f0f921"
            ]
           ],
           "sequentialminus": [
            [
             0,
             "#0d0887"
            ],
            [
             0.1111111111111111,
             "#46039f"
            ],
            [
             0.2222222222222222,
             "#7201a8"
            ],
            [
             0.3333333333333333,
             "#9c179e"
            ],
            [
             0.4444444444444444,
             "#bd3786"
            ],
            [
             0.5555555555555556,
             "#d8576b"
            ],
            [
             0.6666666666666666,
             "#ed7953"
            ],
            [
             0.7777777777777778,
             "#fb9f3a"
            ],
            [
             0.8888888888888888,
             "#fdca26"
            ],
            [
             1,
             "#f0f921"
            ]
           ]
          },
          "colorway": [
           "#636efa",
           "#EF553B",
           "#00cc96",
           "#ab63fa",
           "#FFA15A",
           "#19d3f3",
           "#FF6692",
           "#B6E880",
           "#FF97FF",
           "#FECB52"
          ],
          "font": {
           "color": "#2a3f5f"
          },
          "geo": {
           "bgcolor": "white",
           "lakecolor": "white",
           "landcolor": "#E5ECF6",
           "showlakes": true,
           "showland": true,
           "subunitcolor": "white"
          },
          "hoverlabel": {
           "align": "left"
          },
          "hovermode": "closest",
          "mapbox": {
           "style": "light"
          },
          "paper_bgcolor": "white",
          "plot_bgcolor": "#E5ECF6",
          "polar": {
           "angularaxis": {
            "gridcolor": "white",
            "linecolor": "white",
            "ticks": ""
           },
           "bgcolor": "#E5ECF6",
           "radialaxis": {
            "gridcolor": "white",
            "linecolor": "white",
            "ticks": ""
           }
          },
          "scene": {
           "xaxis": {
            "backgroundcolor": "#E5ECF6",
            "gridcolor": "white",
            "gridwidth": 2,
            "linecolor": "white",
            "showbackground": true,
            "ticks": "",
            "zerolinecolor": "white"
           },
           "yaxis": {
            "backgroundcolor": "#E5ECF6",
            "gridcolor": "white",
            "gridwidth": 2,
            "linecolor": "white",
            "showbackground": true,
            "ticks": "",
            "zerolinecolor": "white"
           },
           "zaxis": {
            "backgroundcolor": "#E5ECF6",
            "gridcolor": "white",
            "gridwidth": 2,
            "linecolor": "white",
            "showbackground": true,
            "ticks": "",
            "zerolinecolor": "white"
           }
          },
          "shapedefaults": {
           "line": {
            "color": "#2a3f5f"
           }
          },
          "ternary": {
           "aaxis": {
            "gridcolor": "white",
            "linecolor": "white",
            "ticks": ""
           },
           "baxis": {
            "gridcolor": "white",
            "linecolor": "white",
            "ticks": ""
           },
           "bgcolor": "#E5ECF6",
           "caxis": {
            "gridcolor": "white",
            "linecolor": "white",
            "ticks": ""
           }
          },
          "title": {
           "x": 0.05
          },
          "xaxis": {
           "automargin": true,
           "gridcolor": "white",
           "linecolor": "white",
           "ticks": "",
           "title": {
            "standoff": 15
           },
           "zerolinecolor": "white",
           "zerolinewidth": 2
          },
          "yaxis": {
           "automargin": true,
           "gridcolor": "white",
           "linecolor": "white",
           "ticks": "",
           "title": {
            "standoff": 15
           },
           "zerolinecolor": "white",
           "zerolinewidth": 2
          }
         }
        },
        "title": {
         "text": "Optimization History Plot"
        },
        "xaxis": {
         "title": {
          "text": "Trial"
         }
        },
        "yaxis": {
         "title": {
          "text": "Objective Value"
         }
        }
       }
      }
     },
     "metadata": {},
     "output_type": "display_data"
    }
   ],
   "source": [
    "optuna.visualization.plot_optimization_history(study)"
   ]
  },
  {
   "cell_type": "code",
   "execution_count": 20,
   "metadata": {},
   "outputs": [
    {
     "data": {
      "application/vnd.plotly.v1+json": {
       "config": {
        "plotlyServerURL": "https://plot.ly"
       },
       "data": [
        {
         "marker": {
          "color": [
           0,
           1,
           2,
           3,
           4,
           5,
           6,
           7,
           8,
           9,
           10,
           11,
           12,
           13,
           14,
           15,
           16,
           17,
           18,
           19
          ],
          "colorbar": {
           "title": {
            "text": "Trial"
           },
           "x": 1,
           "xpad": 40
          },
          "colorscale": [
           [
            0,
            "rgb(247,251,255)"
           ],
           [
            0.125,
            "rgb(222,235,247)"
           ],
           [
            0.25,
            "rgb(198,219,239)"
           ],
           [
            0.375,
            "rgb(158,202,225)"
           ],
           [
            0.5,
            "rgb(107,174,214)"
           ],
           [
            0.625,
            "rgb(66,146,198)"
           ],
           [
            0.75,
            "rgb(33,113,181)"
           ],
           [
            0.875,
            "rgb(8,81,156)"
           ],
           [
            1,
            "rgb(8,48,107)"
           ]
          ],
          "line": {
           "color": "Grey",
           "width": 0.5
          },
          "showscale": true
         },
         "mode": "markers",
         "name": "Feasible Trial",
         "showlegend": false,
         "type": "scatter",
         "x": [
          0.03562840545762622,
          0.03457570685515738,
          2.716906281632713,
          0.2333112984173952,
          0.04066725156918101,
          1.719432824970019,
          0.6144967081608806,
          7.225993064299431,
          15.09597795074871,
          0.366967026927922,
          52.09785745632337,
          5.938082958949209,
          86.6397949866117,
          11.433155137550006,
          23.736859881462102,
          4.525458584214407,
          1.4665581622763195,
          41.35224806401398,
          39.313484813357945,
          89.56457114991191
         ],
         "xaxis": "x",
         "y": [
          155.94128646238022,
          156.31805919096482,
          153.92895378369886,
          157.92128022237748,
          163.08079845394977,
          156.8721596932424,
          159.10592142988477,
          151.44615058185346,
          157.35346045025048,
          151.86120074879116,
          159.0129491742348,
          152.82685357338036,
          155.4022104257545,
          154.9843959764136,
          153.10645078341332,
          156.26363911218715,
          153.04833393895797,
          151.1200606539449,
          152.6197551505777,
          151.39364974542664
         ],
         "yaxis": "y"
        },
        {
         "marker": {
          "color": [
           0,
           1,
           2,
           3,
           4,
           5,
           6,
           7,
           8,
           9,
           10,
           11,
           12,
           13,
           14,
           15,
           16,
           17,
           18,
           19
          ],
          "colorbar": {
           "title": {
            "text": "Trial"
           },
           "x": 1,
           "xpad": 40
          },
          "colorscale": [
           [
            0,
            "rgb(247,251,255)"
           ],
           [
            0.125,
            "rgb(222,235,247)"
           ],
           [
            0.25,
            "rgb(198,219,239)"
           ],
           [
            0.375,
            "rgb(158,202,225)"
           ],
           [
            0.5,
            "rgb(107,174,214)"
           ],
           [
            0.625,
            "rgb(66,146,198)"
           ],
           [
            0.75,
            "rgb(33,113,181)"
           ],
           [
            0.875,
            "rgb(8,81,156)"
           ],
           [
            1,
            "rgb(8,48,107)"
           ]
          ],
          "line": {
           "color": "Grey",
           "width": 0.5
          },
          "showscale": false
         },
         "mode": "markers",
         "name": "Feasible Trial",
         "showlegend": false,
         "type": "scatter",
         "x": [
          111,
          83,
          64,
          91,
          19,
          60,
          94,
          215,
          191,
          104,
          255,
          186,
          177,
          231,
          148,
          219,
          146,
          8,
          21,
          5
         ],
         "xaxis": "x2",
         "y": [
          155.94128646238022,
          156.31805919096482,
          153.92895378369886,
          157.92128022237748,
          163.08079845394977,
          156.8721596932424,
          159.10592142988477,
          151.44615058185346,
          157.35346045025048,
          151.86120074879116,
          159.0129491742348,
          152.82685357338036,
          155.4022104257545,
          154.9843959764136,
          153.10645078341332,
          156.26363911218715,
          153.04833393895797,
          151.1200606539449,
          152.6197551505777,
          151.39364974542664
         ],
         "yaxis": "y2"
        },
        {
         "marker": {
          "color": [
           0,
           1,
           2,
           3,
           4,
           5,
           6,
           7,
           8,
           9,
           10,
           11,
           12,
           13,
           14,
           15,
           16,
           17,
           18,
           19
          ],
          "colorbar": {
           "title": {
            "text": "Trial"
           },
           "x": 1,
           "xpad": 40
          },
          "colorscale": [
           [
            0,
            "rgb(247,251,255)"
           ],
           [
            0.125,
            "rgb(222,235,247)"
           ],
           [
            0.25,
            "rgb(198,219,239)"
           ],
           [
            0.375,
            "rgb(158,202,225)"
           ],
           [
            0.5,
            "rgb(107,174,214)"
           ],
           [
            0.625,
            "rgb(66,146,198)"
           ],
           [
            0.75,
            "rgb(33,113,181)"
           ],
           [
            0.875,
            "rgb(8,81,156)"
           ],
           [
            1,
            "rgb(8,48,107)"
           ]
          ],
          "line": {
           "color": "Grey",
           "width": 0.5
          },
          "showscale": false
         },
         "mode": "markers",
         "name": "Feasible Trial",
         "showlegend": false,
         "type": "scatter",
         "x": [
          7,
          5,
          6,
          4,
          2,
          6,
          6,
          6,
          8,
          6,
          3,
          8,
          3,
          4,
          7,
          5,
          4,
          7,
          8,
          7
         ],
         "xaxis": "x3",
         "y": [
          155.94128646238022,
          156.31805919096482,
          153.92895378369886,
          157.92128022237748,
          163.08079845394977,
          156.8721596932424,
          159.10592142988477,
          151.44615058185346,
          157.35346045025048,
          151.86120074879116,
          159.0129491742348,
          152.82685357338036,
          155.4022104257545,
          154.9843959764136,
          153.10645078341332,
          156.26363911218715,
          153.04833393895797,
          151.1200606539449,
          152.6197551505777,
          151.39364974542664
         ],
         "yaxis": "y3"
        },
        {
         "marker": {
          "color": [
           0,
           1,
           2,
           3,
           4,
           5,
           6,
           7,
           8,
           9,
           10,
           11,
           12,
           13,
           14,
           15,
           16,
           17,
           18,
           19
          ],
          "colorbar": {
           "title": {
            "text": "Trial"
           },
           "x": 1,
           "xpad": 40
          },
          "colorscale": [
           [
            0,
            "rgb(247,251,255)"
           ],
           [
            0.125,
            "rgb(222,235,247)"
           ],
           [
            0.25,
            "rgb(198,219,239)"
           ],
           [
            0.375,
            "rgb(158,202,225)"
           ],
           [
            0.5,
            "rgb(107,174,214)"
           ],
           [
            0.625,
            "rgb(66,146,198)"
           ],
           [
            0.75,
            "rgb(33,113,181)"
           ],
           [
            0.875,
            "rgb(8,81,156)"
           ],
           [
            1,
            "rgb(8,48,107)"
           ]
          ],
          "line": {
           "color": "Grey",
           "width": 0.5
          },
          "showscale": false
         },
         "mode": "markers",
         "name": "Feasible Trial",
         "showlegend": false,
         "type": "scatter",
         "x": [
          548,
          410,
          237,
          748,
          533,
          299,
          749,
          522,
          301,
          594,
          53,
          68,
          645,
          413,
          175,
          659,
          493,
          799,
          792,
          678
         ],
         "xaxis": "x4",
         "y": [
          155.94128646238022,
          156.31805919096482,
          153.92895378369886,
          157.92128022237748,
          163.08079845394977,
          156.8721596932424,
          159.10592142988477,
          151.44615058185346,
          157.35346045025048,
          151.86120074879116,
          159.0129491742348,
          152.82685357338036,
          155.4022104257545,
          154.9843959764136,
          153.10645078341332,
          156.26363911218715,
          153.04833393895797,
          151.1200606539449,
          152.6197551505777,
          151.39364974542664
         ],
         "yaxis": "y4"
        },
        {
         "marker": {
          "color": [
           0,
           1,
           2,
           3,
           4,
           5,
           6,
           7,
           8,
           9,
           10,
           11,
           12,
           13,
           14,
           15,
           16,
           17,
           18,
           19
          ],
          "colorbar": {
           "title": {
            "text": "Trial"
           },
           "x": 1,
           "xpad": 40
          },
          "colorscale": [
           [
            0,
            "rgb(247,251,255)"
           ],
           [
            0.125,
            "rgb(222,235,247)"
           ],
           [
            0.25,
            "rgb(198,219,239)"
           ],
           [
            0.375,
            "rgb(158,202,225)"
           ],
           [
            0.5,
            "rgb(107,174,214)"
           ],
           [
            0.625,
            "rgb(66,146,198)"
           ],
           [
            0.75,
            "rgb(33,113,181)"
           ],
           [
            0.875,
            "rgb(8,81,156)"
           ],
           [
            1,
            "rgb(8,48,107)"
           ]
          ],
          "line": {
           "color": "Grey",
           "width": 0.5
          },
          "showscale": false
         },
         "mode": "markers",
         "name": "Feasible Trial",
         "showlegend": false,
         "type": "scatter",
         "x": [
          0.00019994709040871883,
          0.007725005840388091,
          0.10925550979299056,
          0.0007028185077102921,
          3.474382891155133e-7,
          1.913846364195382e-8,
          0.0027527074367015587,
          0.00003608491857336419,
          0.011084366490325384,
          0.006911853100742605,
          9.492560481049361,
          0.000012128268724814065,
          0.000004750286172949568,
          1.474946789165129e-8,
          0.00003416633845428715,
          6.750981518656868e-7,
          0.00011859969278899285,
          0.222918350976445,
          1.1027825947553556,
          0.16384503300758907
         ],
         "xaxis": "x5",
         "y": [
          155.94128646238022,
          156.31805919096482,
          153.92895378369886,
          157.92128022237748,
          163.08079845394977,
          156.8721596932424,
          159.10592142988477,
          151.44615058185346,
          157.35346045025048,
          151.86120074879116,
          159.0129491742348,
          152.82685357338036,
          155.4022104257545,
          154.9843959764136,
          153.10645078341332,
          156.26363911218715,
          153.04833393895797,
          151.1200606539449,
          152.6197551505777,
          151.39364974542664
         ],
         "yaxis": "y5"
        },
        {
         "marker": {
          "color": [
           0,
           1,
           2,
           3,
           4,
           5,
           6,
           7,
           8,
           9,
           10,
           11,
           12,
           13,
           14,
           15,
           16,
           17,
           18,
           19
          ],
          "colorbar": {
           "title": {
            "text": "Trial"
           },
           "x": 1,
           "xpad": 40
          },
          "colorscale": [
           [
            0,
            "rgb(247,251,255)"
           ],
           [
            0.125,
            "rgb(222,235,247)"
           ],
           [
            0.25,
            "rgb(198,219,239)"
           ],
           [
            0.375,
            "rgb(158,202,225)"
           ],
           [
            0.5,
            "rgb(107,174,214)"
           ],
           [
            0.625,
            "rgb(66,146,198)"
           ],
           [
            0.75,
            "rgb(33,113,181)"
           ],
           [
            0.875,
            "rgb(8,81,156)"
           ],
           [
            1,
            "rgb(8,48,107)"
           ]
          ],
          "line": {
           "color": "Grey",
           "width": 0.5
          },
          "showscale": false
         },
         "mode": "markers",
         "name": "Feasible Trial",
         "showlegend": false,
         "type": "scatter",
         "x": [
          0.151777501251086,
          0.10901283132100471,
          0.21969742674247122,
          0.06705248432808873,
          0.0303064216430931,
          0.07209569431680883,
          0.04669265700013946,
          0.28346373984749795,
          0.08724894345369914,
          0.28325722275163334,
          0.29446015499671985,
          0.2295416343744151,
          0.2066458701946597,
          0.254007125931163,
          0.18963422421175408,
          0.16712098427640143,
          0.25966095638236636,
          0.296255202448062,
          0.13548915546140283,
          0.18349885123893234
         ],
         "xaxis": "x6",
         "y": [
          155.94128646238022,
          156.31805919096482,
          153.92895378369886,
          157.92128022237748,
          163.08079845394977,
          156.8721596932424,
          159.10592142988477,
          151.44615058185346,
          157.35346045025048,
          151.86120074879116,
          159.0129491742348,
          152.82685357338036,
          155.4022104257545,
          154.9843959764136,
          153.10645078341332,
          156.26363911218715,
          153.04833393895797,
          151.1200606539449,
          152.6197551505777,
          151.39364974542664
         ],
         "yaxis": "y6"
        },
        {
         "marker": {
          "color": [
           0,
           1,
           2,
           3,
           4,
           5,
           6,
           7,
           8,
           9,
           10,
           11,
           12,
           13,
           14,
           15,
           16,
           17,
           18,
           19
          ],
          "colorbar": {
           "title": {
            "text": "Trial"
           },
           "x": 1,
           "xpad": 40
          },
          "colorscale": [
           [
            0,
            "rgb(247,251,255)"
           ],
           [
            0.125,
            "rgb(222,235,247)"
           ],
           [
            0.25,
            "rgb(198,219,239)"
           ],
           [
            0.375,
            "rgb(158,202,225)"
           ],
           [
            0.5,
            "rgb(107,174,214)"
           ],
           [
            0.625,
            "rgb(66,146,198)"
           ],
           [
            0.75,
            "rgb(33,113,181)"
           ],
           [
            0.875,
            "rgb(8,81,156)"
           ],
           [
            1,
            "rgb(8,48,107)"
           ]
          ],
          "line": {
           "color": "Grey",
           "width": 0.5
          },
          "showscale": false
         },
         "mode": "markers",
         "name": "Feasible Trial",
         "showlegend": false,
         "type": "scatter",
         "x": [
          75,
          69,
          32,
          42,
          20,
          24,
          49,
          1,
          19,
          95,
          2,
          6,
          67,
          88,
          56,
          34,
          9,
          57,
          83,
          99
         ],
         "xaxis": "x7",
         "y": [
          155.94128646238022,
          156.31805919096482,
          153.92895378369886,
          157.92128022237748,
          163.08079845394977,
          156.8721596932424,
          159.10592142988477,
          151.44615058185346,
          157.35346045025048,
          151.86120074879116,
          159.0129491742348,
          152.82685357338036,
          155.4022104257545,
          154.9843959764136,
          153.10645078341332,
          156.26363911218715,
          153.04833393895797,
          151.1200606539449,
          152.6197551505777,
          151.39364974542664
         ],
         "yaxis": "y7"
        },
        {
         "marker": {
          "color": [
           0,
           1,
           2,
           3,
           4,
           5,
           6,
           7,
           8,
           9,
           10,
           11,
           12,
           13,
           14,
           15,
           16,
           17,
           18,
           19
          ],
          "colorbar": {
           "title": {
            "text": "Trial"
           },
           "x": 1,
           "xpad": 40
          },
          "colorscale": [
           [
            0,
            "rgb(247,251,255)"
           ],
           [
            0.125,
            "rgb(222,235,247)"
           ],
           [
            0.25,
            "rgb(198,219,239)"
           ],
           [
            0.375,
            "rgb(158,202,225)"
           ],
           [
            0.5,
            "rgb(107,174,214)"
           ],
           [
            0.625,
            "rgb(66,146,198)"
           ],
           [
            0.75,
            "rgb(33,113,181)"
           ],
           [
            0.875,
            "rgb(8,81,156)"
           ],
           [
            1,
            "rgb(8,48,107)"
           ]
          ],
          "line": {
           "color": "Grey",
           "width": 0.5
          },
          "showscale": false
         },
         "mode": "markers",
         "name": "Feasible Trial",
         "showlegend": false,
         "type": "scatter",
         "x": [
          62,
          66,
          12,
          33,
          18,
          53,
          66,
          26,
          31,
          25,
          45,
          44,
          21,
          11,
          37,
          54,
          26,
          51,
          55,
          47
         ],
         "xaxis": "x8",
         "y": [
          155.94128646238022,
          156.31805919096482,
          153.92895378369886,
          157.92128022237748,
          163.08079845394977,
          156.8721596932424,
          159.10592142988477,
          151.44615058185346,
          157.35346045025048,
          151.86120074879116,
          159.0129491742348,
          152.82685357338036,
          155.4022104257545,
          154.9843959764136,
          153.10645078341332,
          156.26363911218715,
          153.04833393895797,
          151.1200606539449,
          152.6197551505777,
          151.39364974542664
         ],
         "yaxis": "y8"
        },
        {
         "marker": {
          "color": [
           0,
           1,
           2,
           3,
           4,
           5,
           6,
           7,
           8,
           9,
           10,
           11,
           12,
           13,
           14,
           15,
           16,
           17,
           18,
           19
          ],
          "colorbar": {
           "title": {
            "text": "Trial"
           },
           "x": 1,
           "xpad": 40
          },
          "colorscale": [
           [
            0,
            "rgb(247,251,255)"
           ],
           [
            0.125,
            "rgb(222,235,247)"
           ],
           [
            0.25,
            "rgb(198,219,239)"
           ],
           [
            0.375,
            "rgb(158,202,225)"
           ],
           [
            0.5,
            "rgb(107,174,214)"
           ],
           [
            0.625,
            "rgb(66,146,198)"
           ],
           [
            0.75,
            "rgb(33,113,181)"
           ],
           [
            0.875,
            "rgb(8,81,156)"
           ],
           [
            1,
            "rgb(8,48,107)"
           ]
          ],
          "line": {
           "color": "Grey",
           "width": 0.5
          },
          "showscale": false
         },
         "mode": "markers",
         "name": "Feasible Trial",
         "showlegend": false,
         "type": "scatter",
         "x": [
          0.00011860100954181154,
          2.043274945666846e-7,
          0.0031638333044985444,
          0.000001008726357087148,
          1.7583722072433138e-7,
          0.00002241261784643541,
          1.98655056421324e-8,
          2.3600550359458677e-8,
          6.516716863235025e-7,
          6.194709922157123e-8,
          1.9946194967310165,
          1.6827162195437856e-9,
          1.2127890868733902e-9,
          0.00001617057715702584,
          8.594753608283638e-9,
          0.000469208930535505,
          0.000003623359277879993,
          1.59468885053664e-8,
          1.396917949339073e-9,
          0.000002021303391292519
         ],
         "xaxis": "x9",
         "y": [
          155.94128646238022,
          156.31805919096482,
          153.92895378369886,
          157.92128022237748,
          163.08079845394977,
          156.8721596932424,
          159.10592142988477,
          151.44615058185346,
          157.35346045025048,
          151.86120074879116,
          159.0129491742348,
          152.82685357338036,
          155.4022104257545,
          154.9843959764136,
          153.10645078341332,
          156.26363911218715,
          153.04833393895797,
          151.1200606539449,
          152.6197551505777,
          151.39364974542664
         ],
         "yaxis": "y9"
        }
       ],
       "layout": {
        "template": {
         "data": {
          "bar": [
           {
            "error_x": {
             "color": "#2a3f5f"
            },
            "error_y": {
             "color": "#2a3f5f"
            },
            "marker": {
             "line": {
              "color": "#E5ECF6",
              "width": 0.5
             },
             "pattern": {
              "fillmode": "overlay",
              "size": 10,
              "solidity": 0.2
             }
            },
            "type": "bar"
           }
          ],
          "barpolar": [
           {
            "marker": {
             "line": {
              "color": "#E5ECF6",
              "width": 0.5
             },
             "pattern": {
              "fillmode": "overlay",
              "size": 10,
              "solidity": 0.2
             }
            },
            "type": "barpolar"
           }
          ],
          "carpet": [
           {
            "aaxis": {
             "endlinecolor": "#2a3f5f",
             "gridcolor": "white",
             "linecolor": "white",
             "minorgridcolor": "white",
             "startlinecolor": "#2a3f5f"
            },
            "baxis": {
             "endlinecolor": "#2a3f5f",
             "gridcolor": "white",
             "linecolor": "white",
             "minorgridcolor": "white",
             "startlinecolor": "#2a3f5f"
            },
            "type": "carpet"
           }
          ],
          "choropleth": [
           {
            "colorbar": {
             "outlinewidth": 0,
             "ticks": ""
            },
            "type": "choropleth"
           }
          ],
          "contour": [
           {
            "colorbar": {
             "outlinewidth": 0,
             "ticks": ""
            },
            "colorscale": [
             [
              0,
              "#0d0887"
             ],
             [
              0.1111111111111111,
              "#46039f"
             ],
             [
              0.2222222222222222,
              "#7201a8"
             ],
             [
              0.3333333333333333,
              "#9c179e"
             ],
             [
              0.4444444444444444,
              "#bd3786"
             ],
             [
              0.5555555555555556,
              "#d8576b"
             ],
             [
              0.6666666666666666,
              "#ed7953"
             ],
             [
              0.7777777777777778,
              "#fb9f3a"
             ],
             [
              0.8888888888888888,
              "#fdca26"
             ],
             [
              1,
              "#f0f921"
             ]
            ],
            "type": "contour"
           }
          ],
          "contourcarpet": [
           {
            "colorbar": {
             "outlinewidth": 0,
             "ticks": ""
            },
            "type": "contourcarpet"
           }
          ],
          "heatmap": [
           {
            "colorbar": {
             "outlinewidth": 0,
             "ticks": ""
            },
            "colorscale": [
             [
              0,
              "#0d0887"
             ],
             [
              0.1111111111111111,
              "#46039f"
             ],
             [
              0.2222222222222222,
              "#7201a8"
             ],
             [
              0.3333333333333333,
              "#9c179e"
             ],
             [
              0.4444444444444444,
              "#bd3786"
             ],
             [
              0.5555555555555556,
              "#d8576b"
             ],
             [
              0.6666666666666666,
              "#ed7953"
             ],
             [
              0.7777777777777778,
              "#fb9f3a"
             ],
             [
              0.8888888888888888,
              "#fdca26"
             ],
             [
              1,
              "#f0f921"
             ]
            ],
            "type": "heatmap"
           }
          ],
          "heatmapgl": [
           {
            "colorbar": {
             "outlinewidth": 0,
             "ticks": ""
            },
            "colorscale": [
             [
              0,
              "#0d0887"
             ],
             [
              0.1111111111111111,
              "#46039f"
             ],
             [
              0.2222222222222222,
              "#7201a8"
             ],
             [
              0.3333333333333333,
              "#9c179e"
             ],
             [
              0.4444444444444444,
              "#bd3786"
             ],
             [
              0.5555555555555556,
              "#d8576b"
             ],
             [
              0.6666666666666666,
              "#ed7953"
             ],
             [
              0.7777777777777778,
              "#fb9f3a"
             ],
             [
              0.8888888888888888,
              "#fdca26"
             ],
             [
              1,
              "#f0f921"
             ]
            ],
            "type": "heatmapgl"
           }
          ],
          "histogram": [
           {
            "marker": {
             "pattern": {
              "fillmode": "overlay",
              "size": 10,
              "solidity": 0.2
             }
            },
            "type": "histogram"
           }
          ],
          "histogram2d": [
           {
            "colorbar": {
             "outlinewidth": 0,
             "ticks": ""
            },
            "colorscale": [
             [
              0,
              "#0d0887"
             ],
             [
              0.1111111111111111,
              "#46039f"
             ],
             [
              0.2222222222222222,
              "#7201a8"
             ],
             [
              0.3333333333333333,
              "#9c179e"
             ],
             [
              0.4444444444444444,
              "#bd3786"
             ],
             [
              0.5555555555555556,
              "#d8576b"
             ],
             [
              0.6666666666666666,
              "#ed7953"
             ],
             [
              0.7777777777777778,
              "#fb9f3a"
             ],
             [
              0.8888888888888888,
              "#fdca26"
             ],
             [
              1,
              "#f0f921"
             ]
            ],
            "type": "histogram2d"
           }
          ],
          "histogram2dcontour": [
           {
            "colorbar": {
             "outlinewidth": 0,
             "ticks": ""
            },
            "colorscale": [
             [
              0,
              "#0d0887"
             ],
             [
              0.1111111111111111,
              "#46039f"
             ],
             [
              0.2222222222222222,
              "#7201a8"
             ],
             [
              0.3333333333333333,
              "#9c179e"
             ],
             [
              0.4444444444444444,
              "#bd3786"
             ],
             [
              0.5555555555555556,
              "#d8576b"
             ],
             [
              0.6666666666666666,
              "#ed7953"
             ],
             [
              0.7777777777777778,
              "#fb9f3a"
             ],
             [
              0.8888888888888888,
              "#fdca26"
             ],
             [
              1,
              "#f0f921"
             ]
            ],
            "type": "histogram2dcontour"
           }
          ],
          "mesh3d": [
           {
            "colorbar": {
             "outlinewidth": 0,
             "ticks": ""
            },
            "type": "mesh3d"
           }
          ],
          "parcoords": [
           {
            "line": {
             "colorbar": {
              "outlinewidth": 0,
              "ticks": ""
             }
            },
            "type": "parcoords"
           }
          ],
          "pie": [
           {
            "automargin": true,
            "type": "pie"
           }
          ],
          "scatter": [
           {
            "fillpattern": {
             "fillmode": "overlay",
             "size": 10,
             "solidity": 0.2
            },
            "type": "scatter"
           }
          ],
          "scatter3d": [
           {
            "line": {
             "colorbar": {
              "outlinewidth": 0,
              "ticks": ""
             }
            },
            "marker": {
             "colorbar": {
              "outlinewidth": 0,
              "ticks": ""
             }
            },
            "type": "scatter3d"
           }
          ],
          "scattercarpet": [
           {
            "marker": {
             "colorbar": {
              "outlinewidth": 0,
              "ticks": ""
             }
            },
            "type": "scattercarpet"
           }
          ],
          "scattergeo": [
           {
            "marker": {
             "colorbar": {
              "outlinewidth": 0,
              "ticks": ""
             }
            },
            "type": "scattergeo"
           }
          ],
          "scattergl": [
           {
            "marker": {
             "colorbar": {
              "outlinewidth": 0,
              "ticks": ""
             }
            },
            "type": "scattergl"
           }
          ],
          "scattermapbox": [
           {
            "marker": {
             "colorbar": {
              "outlinewidth": 0,
              "ticks": ""
             }
            },
            "type": "scattermapbox"
           }
          ],
          "scatterpolar": [
           {
            "marker": {
             "colorbar": {
              "outlinewidth": 0,
              "ticks": ""
             }
            },
            "type": "scatterpolar"
           }
          ],
          "scatterpolargl": [
           {
            "marker": {
             "colorbar": {
              "outlinewidth": 0,
              "ticks": ""
             }
            },
            "type": "scatterpolargl"
           }
          ],
          "scatterternary": [
           {
            "marker": {
             "colorbar": {
              "outlinewidth": 0,
              "ticks": ""
             }
            },
            "type": "scatterternary"
           }
          ],
          "surface": [
           {
            "colorbar": {
             "outlinewidth": 0,
             "ticks": ""
            },
            "colorscale": [
             [
              0,
              "#0d0887"
             ],
             [
              0.1111111111111111,
              "#46039f"
             ],
             [
              0.2222222222222222,
              "#7201a8"
             ],
             [
              0.3333333333333333,
              "#9c179e"
             ],
             [
              0.4444444444444444,
              "#bd3786"
             ],
             [
              0.5555555555555556,
              "#d8576b"
             ],
             [
              0.6666666666666666,
              "#ed7953"
             ],
             [
              0.7777777777777778,
              "#fb9f3a"
             ],
             [
              0.8888888888888888,
              "#fdca26"
             ],
             [
              1,
              "#f0f921"
             ]
            ],
            "type": "surface"
           }
          ],
          "table": [
           {
            "cells": {
             "fill": {
              "color": "#EBF0F8"
             },
             "line": {
              "color": "white"
             }
            },
            "header": {
             "fill": {
              "color": "#C8D4E3"
             },
             "line": {
              "color": "white"
             }
            },
            "type": "table"
           }
          ]
         },
         "layout": {
          "annotationdefaults": {
           "arrowcolor": "#2a3f5f",
           "arrowhead": 0,
           "arrowwidth": 1
          },
          "autotypenumbers": "strict",
          "coloraxis": {
           "colorbar": {
            "outlinewidth": 0,
            "ticks": ""
           }
          },
          "colorscale": {
           "diverging": [
            [
             0,
             "#8e0152"
            ],
            [
             0.1,
             "#c51b7d"
            ],
            [
             0.2,
             "#de77ae"
            ],
            [
             0.3,
             "#f1b6da"
            ],
            [
             0.4,
             "#fde0ef"
            ],
            [
             0.5,
             "#f7f7f7"
            ],
            [
             0.6,
             "#e6f5d0"
            ],
            [
             0.7,
             "#b8e186"
            ],
            [
             0.8,
             "#7fbc41"
            ],
            [
             0.9,
             "#4d9221"
            ],
            [
             1,
             "#276419"
            ]
           ],
           "sequential": [
            [
             0,
             "#0d0887"
            ],
            [
             0.1111111111111111,
             "#46039f"
            ],
            [
             0.2222222222222222,
             "#7201a8"
            ],
            [
             0.3333333333333333,
             "#9c179e"
            ],
            [
             0.4444444444444444,
             "#bd3786"
            ],
            [
             0.5555555555555556,
             "#d8576b"
            ],
            [
             0.6666666666666666,
             "#ed7953"
            ],
            [
             0.7777777777777778,
             "#fb9f3a"
            ],
            [
             0.8888888888888888,
             "#fdca26"
            ],
            [
             1,
             "#f0f921"
            ]
           ],
           "sequentialminus": [
            [
             0,
             "#0d0887"
            ],
            [
             0.1111111111111111,
             "#46039f"
            ],
            [
             0.2222222222222222,
             "#7201a8"
            ],
            [
             0.3333333333333333,
             "#9c179e"
            ],
            [
             0.4444444444444444,
             "#bd3786"
            ],
            [
             0.5555555555555556,
             "#d8576b"
            ],
            [
             0.6666666666666666,
             "#ed7953"
            ],
            [
             0.7777777777777778,
             "#fb9f3a"
            ],
            [
             0.8888888888888888,
             "#fdca26"
            ],
            [
             1,
             "#f0f921"
            ]
           ]
          },
          "colorway": [
           "#636efa",
           "#EF553B",
           "#00cc96",
           "#ab63fa",
           "#FFA15A",
           "#19d3f3",
           "#FF6692",
           "#B6E880",
           "#FF97FF",
           "#FECB52"
          ],
          "font": {
           "color": "#2a3f5f"
          },
          "geo": {
           "bgcolor": "white",
           "lakecolor": "white",
           "landcolor": "#E5ECF6",
           "showlakes": true,
           "showland": true,
           "subunitcolor": "white"
          },
          "hoverlabel": {
           "align": "left"
          },
          "hovermode": "closest",
          "mapbox": {
           "style": "light"
          },
          "paper_bgcolor": "white",
          "plot_bgcolor": "#E5ECF6",
          "polar": {
           "angularaxis": {
            "gridcolor": "white",
            "linecolor": "white",
            "ticks": ""
           },
           "bgcolor": "#E5ECF6",
           "radialaxis": {
            "gridcolor": "white",
            "linecolor": "white",
            "ticks": ""
           }
          },
          "scene": {
           "xaxis": {
            "backgroundcolor": "#E5ECF6",
            "gridcolor": "white",
            "gridwidth": 2,
            "linecolor": "white",
            "showbackground": true,
            "ticks": "",
            "zerolinecolor": "white"
           },
           "yaxis": {
            "backgroundcolor": "#E5ECF6",
            "gridcolor": "white",
            "gridwidth": 2,
            "linecolor": "white",
            "showbackground": true,
            "ticks": "",
            "zerolinecolor": "white"
           },
           "zaxis": {
            "backgroundcolor": "#E5ECF6",
            "gridcolor": "white",
            "gridwidth": 2,
            "linecolor": "white",
            "showbackground": true,
            "ticks": "",
            "zerolinecolor": "white"
           }
          },
          "shapedefaults": {
           "line": {
            "color": "#2a3f5f"
           }
          },
          "ternary": {
           "aaxis": {
            "gridcolor": "white",
            "linecolor": "white",
            "ticks": ""
           },
           "baxis": {
            "gridcolor": "white",
            "linecolor": "white",
            "ticks": ""
           },
           "bgcolor": "#E5ECF6",
           "caxis": {
            "gridcolor": "white",
            "linecolor": "white",
            "ticks": ""
           }
          },
          "title": {
           "x": 0.05
          },
          "xaxis": {
           "automargin": true,
           "gridcolor": "white",
           "linecolor": "white",
           "ticks": "",
           "title": {
            "standoff": 15
           },
           "zerolinecolor": "white",
           "zerolinewidth": 2
          },
          "yaxis": {
           "automargin": true,
           "gridcolor": "white",
           "linecolor": "white",
           "ticks": "",
           "title": {
            "standoff": 15
           },
           "zerolinecolor": "white",
           "zerolinewidth": 2
          }
         }
        },
        "title": {
         "text": "Slice Plot"
        },
        "width": 2700,
        "xaxis": {
         "anchor": "y",
         "domain": [
          0,
          0.09135802469135802
         ],
         "title": {
          "text": "bagging_temperature"
         },
         "type": "log"
        },
        "xaxis2": {
         "anchor": "y2",
         "domain": [
          0.11358024691358025,
          0.20493827160493827
         ],
         "title": {
          "text": "border_count"
         }
        },
        "xaxis3": {
         "anchor": "y3",
         "domain": [
          0.2271604938271605,
          0.31851851851851853
         ],
         "title": {
          "text": "depth"
         }
        },
        "xaxis4": {
         "anchor": "y4",
         "domain": [
          0.34074074074074073,
          0.43209876543209874
         ],
         "title": {
          "text": "iterations"
         }
        },
        "xaxis5": {
         "anchor": "y5",
         "domain": [
          0.454320987654321,
          0.5456790123456791
         ],
         "title": {
          "text": "l2_leaf_reg"
         },
         "type": "log"
        },
        "xaxis6": {
         "anchor": "y6",
         "domain": [
          0.5679012345679012,
          0.6592592592592592
         ],
         "title": {
          "text": "learning_rate"
         }
        },
        "xaxis7": {
         "anchor": "y7",
         "domain": [
          0.6814814814814815,
          0.7728395061728395
         ],
         "title": {
          "text": "min_child_samples"
         }
        },
        "xaxis8": {
         "anchor": "y8",
         "domain": [
          0.7950617283950617,
          0.8864197530864197
         ],
         "title": {
          "text": "od_wait"
         }
        },
        "xaxis9": {
         "anchor": "y9",
         "domain": [
          0.908641975308642,
          1
         ],
         "title": {
          "text": "random_strength"
         },
         "type": "log"
        },
        "yaxis": {
         "anchor": "x",
         "domain": [
          0,
          1
         ],
         "title": {
          "text": "Objective Value"
         }
        },
        "yaxis2": {
         "anchor": "x2",
         "domain": [
          0,
          1
         ],
         "matches": "y",
         "showticklabels": false
        },
        "yaxis3": {
         "anchor": "x3",
         "domain": [
          0,
          1
         ],
         "matches": "y",
         "showticklabels": false
        },
        "yaxis4": {
         "anchor": "x4",
         "domain": [
          0,
          1
         ],
         "matches": "y",
         "showticklabels": false
        },
        "yaxis5": {
         "anchor": "x5",
         "domain": [
          0,
          1
         ],
         "matches": "y",
         "showticklabels": false
        },
        "yaxis6": {
         "anchor": "x6",
         "domain": [
          0,
          1
         ],
         "matches": "y",
         "showticklabels": false
        },
        "yaxis7": {
         "anchor": "x7",
         "domain": [
          0,
          1
         ],
         "matches": "y",
         "showticklabels": false
        },
        "yaxis8": {
         "anchor": "x8",
         "domain": [
          0,
          1
         ],
         "matches": "y",
         "showticklabels": false
        },
        "yaxis9": {
         "anchor": "x9",
         "domain": [
          0,
          1
         ],
         "matches": "y",
         "showticklabels": false
        }
       }
      }
     },
     "metadata": {},
     "output_type": "display_data"
    }
   ],
   "source": [
    "optuna.visualization.plot_slice(study)"
   ]
  },
  {
   "cell_type": "code",
   "execution_count": 21,
   "metadata": {},
   "outputs": [
    {
     "data": {
      "application/vnd.plotly.v1+json": {
       "config": {
        "plotlyServerURL": "https://plot.ly"
       },
       "data": [
        {
         "cliponaxis": false,
         "hovertemplate": [
          "random_strength (FloatDistribution): 0.009258571633640389<extra></extra>",
          "l2_leaf_reg (FloatDistribution): 0.013183728331661867<extra></extra>",
          "bagging_temperature (FloatDistribution): 0.015640234471585825<extra></extra>",
          "border_count (IntDistribution): 0.018248914324602083<extra></extra>",
          "min_child_samples (IntDistribution): 0.03253860223702895<extra></extra>",
          "iterations (IntDistribution): 0.05622680403563051<extra></extra>",
          "od_wait (IntDistribution): 0.10538335115145273<extra></extra>",
          "depth (IntDistribution): 0.23998262902871412<extra></extra>",
          "learning_rate (FloatDistribution): 0.5095371647856836<extra></extra>"
         ],
         "name": "Objective Value",
         "orientation": "h",
         "text": [
          "<0.01",
          "0.01",
          "0.02",
          "0.02",
          "0.03",
          "0.06",
          "0.11",
          "0.24",
          "0.51"
         ],
         "textposition": "outside",
         "type": "bar",
         "x": [
          0.009258571633640389,
          0.013183728331661867,
          0.015640234471585825,
          0.018248914324602083,
          0.03253860223702895,
          0.05622680403563051,
          0.10538335115145273,
          0.23998262902871412,
          0.5095371647856836
         ],
         "y": [
          "random_strength",
          "l2_leaf_reg",
          "bagging_temperature",
          "border_count",
          "min_child_samples",
          "iterations",
          "od_wait",
          "depth",
          "learning_rate"
         ]
        }
       ],
       "layout": {
        "template": {
         "data": {
          "bar": [
           {
            "error_x": {
             "color": "#2a3f5f"
            },
            "error_y": {
             "color": "#2a3f5f"
            },
            "marker": {
             "line": {
              "color": "#E5ECF6",
              "width": 0.5
             },
             "pattern": {
              "fillmode": "overlay",
              "size": 10,
              "solidity": 0.2
             }
            },
            "type": "bar"
           }
          ],
          "barpolar": [
           {
            "marker": {
             "line": {
              "color": "#E5ECF6",
              "width": 0.5
             },
             "pattern": {
              "fillmode": "overlay",
              "size": 10,
              "solidity": 0.2
             }
            },
            "type": "barpolar"
           }
          ],
          "carpet": [
           {
            "aaxis": {
             "endlinecolor": "#2a3f5f",
             "gridcolor": "white",
             "linecolor": "white",
             "minorgridcolor": "white",
             "startlinecolor": "#2a3f5f"
            },
            "baxis": {
             "endlinecolor": "#2a3f5f",
             "gridcolor": "white",
             "linecolor": "white",
             "minorgridcolor": "white",
             "startlinecolor": "#2a3f5f"
            },
            "type": "carpet"
           }
          ],
          "choropleth": [
           {
            "colorbar": {
             "outlinewidth": 0,
             "ticks": ""
            },
            "type": "choropleth"
           }
          ],
          "contour": [
           {
            "colorbar": {
             "outlinewidth": 0,
             "ticks": ""
            },
            "colorscale": [
             [
              0,
              "#0d0887"
             ],
             [
              0.1111111111111111,
              "#46039f"
             ],
             [
              0.2222222222222222,
              "#7201a8"
             ],
             [
              0.3333333333333333,
              "#9c179e"
             ],
             [
              0.4444444444444444,
              "#bd3786"
             ],
             [
              0.5555555555555556,
              "#d8576b"
             ],
             [
              0.6666666666666666,
              "#ed7953"
             ],
             [
              0.7777777777777778,
              "#fb9f3a"
             ],
             [
              0.8888888888888888,
              "#fdca26"
             ],
             [
              1,
              "#f0f921"
             ]
            ],
            "type": "contour"
           }
          ],
          "contourcarpet": [
           {
            "colorbar": {
             "outlinewidth": 0,
             "ticks": ""
            },
            "type": "contourcarpet"
           }
          ],
          "heatmap": [
           {
            "colorbar": {
             "outlinewidth": 0,
             "ticks": ""
            },
            "colorscale": [
             [
              0,
              "#0d0887"
             ],
             [
              0.1111111111111111,
              "#46039f"
             ],
             [
              0.2222222222222222,
              "#7201a8"
             ],
             [
              0.3333333333333333,
              "#9c179e"
             ],
             [
              0.4444444444444444,
              "#bd3786"
             ],
             [
              0.5555555555555556,
              "#d8576b"
             ],
             [
              0.6666666666666666,
              "#ed7953"
             ],
             [
              0.7777777777777778,
              "#fb9f3a"
             ],
             [
              0.8888888888888888,
              "#fdca26"
             ],
             [
              1,
              "#f0f921"
             ]
            ],
            "type": "heatmap"
           }
          ],
          "heatmapgl": [
           {
            "colorbar": {
             "outlinewidth": 0,
             "ticks": ""
            },
            "colorscale": [
             [
              0,
              "#0d0887"
             ],
             [
              0.1111111111111111,
              "#46039f"
             ],
             [
              0.2222222222222222,
              "#7201a8"
             ],
             [
              0.3333333333333333,
              "#9c179e"
             ],
             [
              0.4444444444444444,
              "#bd3786"
             ],
             [
              0.5555555555555556,
              "#d8576b"
             ],
             [
              0.6666666666666666,
              "#ed7953"
             ],
             [
              0.7777777777777778,
              "#fb9f3a"
             ],
             [
              0.8888888888888888,
              "#fdca26"
             ],
             [
              1,
              "#f0f921"
             ]
            ],
            "type": "heatmapgl"
           }
          ],
          "histogram": [
           {
            "marker": {
             "pattern": {
              "fillmode": "overlay",
              "size": 10,
              "solidity": 0.2
             }
            },
            "type": "histogram"
           }
          ],
          "histogram2d": [
           {
            "colorbar": {
             "outlinewidth": 0,
             "ticks": ""
            },
            "colorscale": [
             [
              0,
              "#0d0887"
             ],
             [
              0.1111111111111111,
              "#46039f"
             ],
             [
              0.2222222222222222,
              "#7201a8"
             ],
             [
              0.3333333333333333,
              "#9c179e"
             ],
             [
              0.4444444444444444,
              "#bd3786"
             ],
             [
              0.5555555555555556,
              "#d8576b"
             ],
             [
              0.6666666666666666,
              "#ed7953"
             ],
             [
              0.7777777777777778,
              "#fb9f3a"
             ],
             [
              0.8888888888888888,
              "#fdca26"
             ],
             [
              1,
              "#f0f921"
             ]
            ],
            "type": "histogram2d"
           }
          ],
          "histogram2dcontour": [
           {
            "colorbar": {
             "outlinewidth": 0,
             "ticks": ""
            },
            "colorscale": [
             [
              0,
              "#0d0887"
             ],
             [
              0.1111111111111111,
              "#46039f"
             ],
             [
              0.2222222222222222,
              "#7201a8"
             ],
             [
              0.3333333333333333,
              "#9c179e"
             ],
             [
              0.4444444444444444,
              "#bd3786"
             ],
             [
              0.5555555555555556,
              "#d8576b"
             ],
             [
              0.6666666666666666,
              "#ed7953"
             ],
             [
              0.7777777777777778,
              "#fb9f3a"
             ],
             [
              0.8888888888888888,
              "#fdca26"
             ],
             [
              1,
              "#f0f921"
             ]
            ],
            "type": "histogram2dcontour"
           }
          ],
          "mesh3d": [
           {
            "colorbar": {
             "outlinewidth": 0,
             "ticks": ""
            },
            "type": "mesh3d"
           }
          ],
          "parcoords": [
           {
            "line": {
             "colorbar": {
              "outlinewidth": 0,
              "ticks": ""
             }
            },
            "type": "parcoords"
           }
          ],
          "pie": [
           {
            "automargin": true,
            "type": "pie"
           }
          ],
          "scatter": [
           {
            "fillpattern": {
             "fillmode": "overlay",
             "size": 10,
             "solidity": 0.2
            },
            "type": "scatter"
           }
          ],
          "scatter3d": [
           {
            "line": {
             "colorbar": {
              "outlinewidth": 0,
              "ticks": ""
             }
            },
            "marker": {
             "colorbar": {
              "outlinewidth": 0,
              "ticks": ""
             }
            },
            "type": "scatter3d"
           }
          ],
          "scattercarpet": [
           {
            "marker": {
             "colorbar": {
              "outlinewidth": 0,
              "ticks": ""
             }
            },
            "type": "scattercarpet"
           }
          ],
          "scattergeo": [
           {
            "marker": {
             "colorbar": {
              "outlinewidth": 0,
              "ticks": ""
             }
            },
            "type": "scattergeo"
           }
          ],
          "scattergl": [
           {
            "marker": {
             "colorbar": {
              "outlinewidth": 0,
              "ticks": ""
             }
            },
            "type": "scattergl"
           }
          ],
          "scattermapbox": [
           {
            "marker": {
             "colorbar": {
              "outlinewidth": 0,
              "ticks": ""
             }
            },
            "type": "scattermapbox"
           }
          ],
          "scatterpolar": [
           {
            "marker": {
             "colorbar": {
              "outlinewidth": 0,
              "ticks": ""
             }
            },
            "type": "scatterpolar"
           }
          ],
          "scatterpolargl": [
           {
            "marker": {
             "colorbar": {
              "outlinewidth": 0,
              "ticks": ""
             }
            },
            "type": "scatterpolargl"
           }
          ],
          "scatterternary": [
           {
            "marker": {
             "colorbar": {
              "outlinewidth": 0,
              "ticks": ""
             }
            },
            "type": "scatterternary"
           }
          ],
          "surface": [
           {
            "colorbar": {
             "outlinewidth": 0,
             "ticks": ""
            },
            "colorscale": [
             [
              0,
              "#0d0887"
             ],
             [
              0.1111111111111111,
              "#46039f"
             ],
             [
              0.2222222222222222,
              "#7201a8"
             ],
             [
              0.3333333333333333,
              "#9c179e"
             ],
             [
              0.4444444444444444,
              "#bd3786"
             ],
             [
              0.5555555555555556,
              "#d8576b"
             ],
             [
              0.6666666666666666,
              "#ed7953"
             ],
             [
              0.7777777777777778,
              "#fb9f3a"
             ],
             [
              0.8888888888888888,
              "#fdca26"
             ],
             [
              1,
              "#f0f921"
             ]
            ],
            "type": "surface"
           }
          ],
          "table": [
           {
            "cells": {
             "fill": {
              "color": "#EBF0F8"
             },
             "line": {
              "color": "white"
             }
            },
            "header": {
             "fill": {
              "color": "#C8D4E3"
             },
             "line": {
              "color": "white"
             }
            },
            "type": "table"
           }
          ]
         },
         "layout": {
          "annotationdefaults": {
           "arrowcolor": "#2a3f5f",
           "arrowhead": 0,
           "arrowwidth": 1
          },
          "autotypenumbers": "strict",
          "coloraxis": {
           "colorbar": {
            "outlinewidth": 0,
            "ticks": ""
           }
          },
          "colorscale": {
           "diverging": [
            [
             0,
             "#8e0152"
            ],
            [
             0.1,
             "#c51b7d"
            ],
            [
             0.2,
             "#de77ae"
            ],
            [
             0.3,
             "#f1b6da"
            ],
            [
             0.4,
             "#fde0ef"
            ],
            [
             0.5,
             "#f7f7f7"
            ],
            [
             0.6,
             "#e6f5d0"
            ],
            [
             0.7,
             "#b8e186"
            ],
            [
             0.8,
             "#7fbc41"
            ],
            [
             0.9,
             "#4d9221"
            ],
            [
             1,
             "#276419"
            ]
           ],
           "sequential": [
            [
             0,
             "#0d0887"
            ],
            [
             0.1111111111111111,
             "#46039f"
            ],
            [
             0.2222222222222222,
             "#7201a8"
            ],
            [
             0.3333333333333333,
             "#9c179e"
            ],
            [
             0.4444444444444444,
             "#bd3786"
            ],
            [
             0.5555555555555556,
             "#d8576b"
            ],
            [
             0.6666666666666666,
             "#ed7953"
            ],
            [
             0.7777777777777778,
             "#fb9f3a"
            ],
            [
             0.8888888888888888,
             "#fdca26"
            ],
            [
             1,
             "#f0f921"
            ]
           ],
           "sequentialminus": [
            [
             0,
             "#0d0887"
            ],
            [
             0.1111111111111111,
             "#46039f"
            ],
            [
             0.2222222222222222,
             "#7201a8"
            ],
            [
             0.3333333333333333,
             "#9c179e"
            ],
            [
             0.4444444444444444,
             "#bd3786"
            ],
            [
             0.5555555555555556,
             "#d8576b"
            ],
            [
             0.6666666666666666,
             "#ed7953"
            ],
            [
             0.7777777777777778,
             "#fb9f3a"
            ],
            [
             0.8888888888888888,
             "#fdca26"
            ],
            [
             1,
             "#f0f921"
            ]
           ]
          },
          "colorway": [
           "#636efa",
           "#EF553B",
           "#00cc96",
           "#ab63fa",
           "#FFA15A",
           "#19d3f3",
           "#FF6692",
           "#B6E880",
           "#FF97FF",
           "#FECB52"
          ],
          "font": {
           "color": "#2a3f5f"
          },
          "geo": {
           "bgcolor": "white",
           "lakecolor": "white",
           "landcolor": "#E5ECF6",
           "showlakes": true,
           "showland": true,
           "subunitcolor": "white"
          },
          "hoverlabel": {
           "align": "left"
          },
          "hovermode": "closest",
          "mapbox": {
           "style": "light"
          },
          "paper_bgcolor": "white",
          "plot_bgcolor": "#E5ECF6",
          "polar": {
           "angularaxis": {
            "gridcolor": "white",
            "linecolor": "white",
            "ticks": ""
           },
           "bgcolor": "#E5ECF6",
           "radialaxis": {
            "gridcolor": "white",
            "linecolor": "white",
            "ticks": ""
           }
          },
          "scene": {
           "xaxis": {
            "backgroundcolor": "#E5ECF6",
            "gridcolor": "white",
            "gridwidth": 2,
            "linecolor": "white",
            "showbackground": true,
            "ticks": "",
            "zerolinecolor": "white"
           },
           "yaxis": {
            "backgroundcolor": "#E5ECF6",
            "gridcolor": "white",
            "gridwidth": 2,
            "linecolor": "white",
            "showbackground": true,
            "ticks": "",
            "zerolinecolor": "white"
           },
           "zaxis": {
            "backgroundcolor": "#E5ECF6",
            "gridcolor": "white",
            "gridwidth": 2,
            "linecolor": "white",
            "showbackground": true,
            "ticks": "",
            "zerolinecolor": "white"
           }
          },
          "shapedefaults": {
           "line": {
            "color": "#2a3f5f"
           }
          },
          "ternary": {
           "aaxis": {
            "gridcolor": "white",
            "linecolor": "white",
            "ticks": ""
           },
           "baxis": {
            "gridcolor": "white",
            "linecolor": "white",
            "ticks": ""
           },
           "bgcolor": "#E5ECF6",
           "caxis": {
            "gridcolor": "white",
            "linecolor": "white",
            "ticks": ""
           }
          },
          "title": {
           "x": 0.05
          },
          "xaxis": {
           "automargin": true,
           "gridcolor": "white",
           "linecolor": "white",
           "ticks": "",
           "title": {
            "standoff": 15
           },
           "zerolinecolor": "white",
           "zerolinewidth": 2
          },
          "yaxis": {
           "automargin": true,
           "gridcolor": "white",
           "linecolor": "white",
           "ticks": "",
           "title": {
            "standoff": 15
           },
           "zerolinecolor": "white",
           "zerolinewidth": 2
          }
         }
        },
        "title": {
         "text": "Hyperparameter Importances"
        },
        "xaxis": {
         "title": {
          "text": "Hyperparameter Importance"
         }
        },
        "yaxis": {
         "title": {
          "text": "Hyperparameter"
         }
        }
       }
      }
     },
     "metadata": {},
     "output_type": "display_data"
    }
   ],
   "source": [
    "optuna.visualization.plot_param_importances(study)"
   ]
  },
  {
   "cell_type": "code",
   "execution_count": 23,
   "metadata": {},
   "outputs": [
    {
     "name": "stderr",
     "output_type": "stream",
     "text": [
      "100%|██████████| 20/20 [00:51<00:00,  2.57s/it]\n"
     ]
    }
   ],
   "source": [
    "regressor = CatBoostRegressor(**study.best_params)\n",
    "y_pred_list = []\n",
    "for X_train, y_train, X_test, y_test in tqdm(ts.folds):\n",
    "\n",
    "    regressor.fit(X_train, y_train, verbose=0)\n",
    "\n",
    "    y_pred = pd.Series(\n",
    "        regressor.predict(X_test),\n",
    "        index=X_test.index\n",
    "    )\n",
    "\n",
    "    y_pred_list.append(y_pred) "
   ]
  },
  {
   "cell_type": "code",
   "execution_count": 26,
   "metadata": {},
   "outputs": [
    {
     "name": "stdout",
     "output_type": "stream",
     "text": [
      "MAE: 0.01\n",
      "MASE: 0.93\n",
      "ZBMAE: 1.27\n",
      "SMAPE: 146.00%\n",
      "MDA: 54.14%\n",
      "DMDA: 54.00%\n"
     ]
    }
   ],
   "source": [
    "ts.get_model_result(y_pred_list) "
   ]
  },
  {
   "cell_type": "code",
   "execution_count": 27,
   "metadata": {},
   "outputs": [
    {
     "data": {
      "image/png": "[encoded data removed]",
      "text/plain": [
       "<Figure size 1000x600 with 1 Axes>"
      ]
     },
     "metadata": {},
     "output_type": "display_data"
    }
   ],
   "source": [
    "ts.get_visualisation(start_date='2023-09-01')"
   ]
  },
  {
   "cell_type": "code",
   "execution_count": 28,
   "metadata": {},
   "outputs": [
    {
     "name": "stderr",
     "output_type": "stream",
     "text": [
      "100%|██████████| 20/20 [02:00<00:00,  6.05s/it]\n"
     ]
    }
   ],
   "source": [
    "regressor = CatBoostRegressor()\n",
    "y_pred_list = []\n",
    "for X_train, y_train, X_test, y_test in tqdm(ts.folds):\n",
    "\n",
    "    regressor.fit(X_train, y_train, verbose=0)\n",
    "\n",
    "    y_pred = pd.Series(\n",
    "        regressor.predict(X_test),\n",
    "        index=X_test.index\n",
    "    )\n",
    "\n",
    "    y_pred_list.append(y_pred) "
   ]
  },
  {
   "cell_type": "code",
   "execution_count": 29,
   "metadata": {},
   "outputs": [
    {
     "name": "stdout",
     "output_type": "stream",
     "text": [
      "MAE: 0.01\n",
      "MASE: 0.78\n",
      "ZBMAE: 1.06\n",
      "SMAPE: 150.15%\n",
      "MDA: 54.39%\n",
      "DMDA: 52.50%\n"
     ]
    }
   ],
   "source": [
    "ts.get_model_result(y_pred_list) "
   ]
  },
  {
   "cell_type": "code",
   "execution_count": 30,
   "metadata": {},
   "outputs": [
    {
     "data": {
      "image/png": "[encoded data removed]",
      "text/plain": [
       "<Figure size 1000x600 with 1 Axes>"
      ]
     },
     "metadata": {},
     "output_type": "display_data"
    }
   ],
   "source": [
    "ts.get_visualisation(start_date='2023-09-01')"
   ]
  }
 ],
 "metadata": {
  "kernelspec": {
   "display_name": "Python 3",
   "language": "python",
   "name": "python3"
  },
  "language_info": {
   "codemirror_mode": {
    "name": "ipython",
    "version": 3
   },
   "file_extension": ".py",
   "mimetype": "text/x-python",
   "name": "python",
   "nbconvert_exporter": "python",
   "pygments_lexer": "ipython3",
   "version": "3.10.9"
  }
 },
 "nbformat": 4,
 "nbformat_minor": 2
}
