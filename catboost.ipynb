{
 "cells": [
  {
   "cell_type": "code",
   "execution_count": 143,
   "metadata": {},
   "outputs": [],
   "source": [
    "import numpy as np\n",
    "import pandas as pd\n",
    "import matplotlib.pyplot as plt\n",
    "from scipy import stats\n",
    "import seaborn as sns\n",
    "from tqdm import tqdm\n",
    "\n",
    "import warnings\n",
    "warnings.filterwarnings('ignore')"
   ]
  },
  {
   "cell_type": "code",
   "execution_count": 144,
   "metadata": {},
   "outputs": [],
   "source": [
    "data = pd.read_csv('./data/data_indexes_moex_log_returns.csv', index_col=0)"
   ]
  },
  {
   "cell_type": "code",
   "execution_count": 145,
   "metadata": {},
   "outputs": [],
   "source": [
    "from typing import List, Union\n",
    "\n",
    "\n",
    "def MASE(y_true: pd.Series, y_pred: pd.Series) -> float:\n",
    "    '''\n",
    "    Вычисляет Mean Absolute Scaled Error (MASE) между фактическими и прогнозируемыми значениями.\n",
    "\n",
    "    Параметры:\n",
    "            y_true (pd.Series): Серия с фактическими значениями.\n",
    "            y_pred (pd.Series): Серия с прогнозируемыми значениями.\n",
    "\n",
    "    Возвращаемое значение:\n",
    "            float: Значение MASE.\n",
    "    '''\n",
    "    # Создание наивного прогноза с использованием сдвига временного ряда\n",
    "    naive_forecast = y_true.shift(1)\n",
    "    naive_forecast.iloc[0] = y_true.iloc[0]\n",
    "\n",
    "    # Вычисление средней абсолютной ошибки для модели и наивного прогноза\n",
    "    average_errors = (y_true - y_pred).abs()\n",
    "    naive_average_errors = (y_true - naive_forecast).abs()\n",
    "\n",
    "    result = average_errors.mean() / naive_average_errors.mean()\n",
    "    return result\n",
    "\n",
    "\n",
    "def SMAPE(y_true: pd.Series, y_pred: pd.Series) -> float:\n",
    "    '''\n",
    "    Вычисляет Symmetric Mean Absolute Percentage Error (SMAPE) между фактическими и прогнозируемыми значениями.\n",
    "\n",
    "    Параметры:\n",
    "            y_true (pd.Series): Серия с фактическими значениями.\n",
    "            y_pred (pd.Series): Серия с прогнозируемыми значениями.\n",
    "\n",
    "    Возвращаемое значение:\n",
    "            float: Значение SMAPE.\n",
    "    '''\n",
    "    # Избегание деления на ноль добавлением небольшого числа в знаменатель\n",
    "    denominator = (np.abs(y_true) + np.abs(y_pred) + np.finfo(float).eps) / 2\n",
    "    result = (100 / len(y_true)) * np.sum(np.abs(y_pred - y_true) / denominator)\n",
    "    return result\n",
    "\n",
    "\n",
    "class TimeSeriesProcessor:\n",
    "    '''\n",
    "    Класс для работы с временными рядами, включая добавление лагов, интеграцию внешних переменных,\n",
    "    создание разбиений для валидации, вычисление метрик и визуализацию результатов.\n",
    "\n",
    "    Методы:\n",
    "        add_lags(self, lags: List[int], drop_na: bool = True):\n",
    "            Добавление лагов к переменным временного ряда.\n",
    "        add_other_variables(self, other_variables: pd.DataFrame):\n",
    "            Добавление дополнительных переменных к данным.\n",
    "        get_folds(self, horizon: int = 25):\n",
    "            Создание разбиений данных для тестирования.\n",
    "        get_model_result(self, y_pred_list: List[pd.Series]):\n",
    "            Вычисление и вывод метрик для модели.\n",
    "        get_visualisation(self):\n",
    "            Визуализация фактических и прогнозируемых значений.\n",
    "    '''\n",
    "    def __init__(\n",
    "            self, \n",
    "            data: Union[pd.Series, pd.DataFrame], \n",
    "            target_name: str = None,\n",
    "            interpolate: bool = True,\n",
    "            dropna: bool = True\n",
    "            ) -> None:\n",
    "        '''\n",
    "        Инициализирует объект класса с данными временного ряда.\n",
    "\n",
    "        Параметры:\n",
    "            data (Union[pd.Series, pd.DataFrame]): Временной ряд в формате pd.Series или pd.DataFrame.\n",
    "            target_name (str, опционально): Имя целевой переменной в случае pd.DataFrame.\n",
    "            interpolate (bool): Необходимо ли интерполировать данные.\n",
    "            dropna (bool): Необходимо ли удалить пропущенные значения.\n",
    "        '''\n",
    "        if not isinstance(data.index, pd.DatetimeIndex):\n",
    "            print('Новый тип индексов: pd.DatetimeIndex')\n",
    "            data.index = pd.to_datetime(data.index)\n",
    "        \n",
    "        if interpolate:\n",
    "            data = data.interpolate(method='time')\n",
    "        \n",
    "        if dropna:\n",
    "            data = data.dropna()\n",
    "\n",
    "        if isinstance(data, pd.Series):\n",
    "            if target_name is not None:\n",
    "                print(\"Предупреждение: target_name не нужно указывать для data: pd.Series\")\n",
    "            self.y = data\n",
    "            self.X = pd.DataFrame(index=self.y.index)\n",
    "        else:\n",
    "            if target_name is None:\n",
    "                raise ValueError(\"target_name обязательный параметр для data: pd.DataFrame\")\n",
    "            self.y = data[target_name]\n",
    "            self.X = data.drop([target_name], axis=1)\n",
    "\n",
    "        self.get_folds_was_called = False\n",
    "        self.y_pred = None\n",
    "\n",
    "        self.y_val = None\n",
    "        self.X_val = None\n",
    "\n",
    "    def add_lags(self, lags: List[int], drop_na: bool = True) -> None:\n",
    "        '''\n",
    "        Добавляет лаги (отставания) к временному ряду как новые признаки.\n",
    "\n",
    "        Параметры:\n",
    "            lags (List[int]): Список целых чисел, каждое из которых указывает на количество шагов отставания.\n",
    "            drop_na (bool): Если True, то строки с пропущенными значениями после добавления лагов будут удалены.\n",
    "        '''\n",
    "        for lag in lags:\n",
    "            self.X[f'lag_{lag}'] = self.y.shift(lag)\n",
    "\n",
    "        if drop_na:\n",
    "            self.X.dropna(inplace=True)\n",
    "            self.y = self.y.loc[self.X.index]\n",
    "\n",
    "        if self.get_folds_was_called:\n",
    "            self.get_folds(horizon=self.horizon)\n",
    "\n",
    "    def add_other_variables(self, other_variables: pd.DataFrame) -> None:\n",
    "        '''\n",
    "        Добавляет дополнительные внешние переменные к данным временного ряда.\n",
    "\n",
    "        Параметры:\n",
    "            other_variables (pd.DataFrame): DataFrame, содержащий внешние переменные для добавления.\n",
    "        '''\n",
    "        if other_variables.isna().any().any():\n",
    "            print('Предупреждение: в other_variables есть пропуски. Алгоритм не предусматривает их наличие')\n",
    "\n",
    "        self.X = pd.concat([self.X, other_variables], axis=1, join='inner')\n",
    "\n",
    "        if self.get_folds_was_called:\n",
    "            self.get_folds(horizon=self.horizon)\n",
    "\n",
    "    def get_folds(\n",
    "            self, \n",
    "            horizon: int = 25, \n",
    "            num_recent_folds: int = None, \n",
    "            validation_part: float = None\n",
    "            ) -> None:\n",
    "        '''\n",
    "        Создает разбиения данных для кросс-валидации на основе указанного горизонта прогнозирования.\n",
    "\n",
    "        Параметры:\n",
    "            horizon (int): Горизонт прогнозирования, используемый для создания тестовых разбиений.\n",
    "            num_recent_folds (int, optional): Количество последних разбиений для включения в результат.\n",
    "                Если не указано, используются все разбиения.\n",
    "            validation_part (float): Процентное отношение объема исходных данных, отводимое для валидационного набора. Этот параметр особенно полезен в случаях, когда оптимизация гиперпараметров модели требует значительного времени. Рекомендуется однократно настроить гиперпараметры на валидационном наборе и применять их для последующих разбиений (фолдов), избегая повторного обучения на каждом фолде.\n",
    "                В случае отсутствия значения параметра, валидационная часть данных не формируется.\n",
    "        '''\n",
    "\n",
    "        if validation_part is not None:\n",
    "            if not 0 <= validation_part <= 1:\n",
    "                raise ValueError(\"validation_part может быть только числом в отрезке от 0 до 1 включительно\")\n",
    "            \n",
    "            last_val_obs = int(self.y.shape[0] * validation_part)\n",
    "\n",
    "            self.y_val, self.y = self.y.iloc[:last_val_obs], self.y.iloc[last_val_obs:]\n",
    "            self.X_val, self.X = self.X.iloc[:last_val_obs, :], self.X.iloc[last_val_obs:, :]\n",
    "\n",
    "        self.horizon = horizon\n",
    "        self.folds = []\n",
    "        for i in range(0, len(self.X) - horizon, horizon):\n",
    "            X_test = self.X.iloc[i:i + horizon]\n",
    "            y_test = self.y.iloc[i:i + horizon]\n",
    "\n",
    "            X_train = self.X.drop(X_test.index)\n",
    "            y_train = self.y.drop(y_test.index)\n",
    "            \n",
    "            self.folds.append((X_train, y_train, X_test, y_test))\n",
    "        \n",
    "        if num_recent_folds is not None:\n",
    "            self.folds = self.folds[-num_recent_folds:]\n",
    "        \n",
    "        self.get_folds_was_called = True\n",
    "\n",
    "    def get_model_result(self, y_pred_list: List[pd.Series]) -> None:\n",
    "        '''\n",
    "        Вычисляет и выводит метрики качества модели на основе совокупности предсказаний.\n",
    "\n",
    "        Параметры:\n",
    "            y_pred_list (List[pd.Series]): Список pd.Series с прогнозами модели для каждого разбиения.\n",
    "        '''\n",
    "        self.y_pred = pd.concat(y_pred_list)\n",
    "        self.y_true = self.y.loc[self.y_pred.index]\n",
    "\n",
    "        self.mase = MASE(self.y_true, self.y_pred)\n",
    "        self.smape = SMAPE(self.y_true, self.y_pred)\n",
    "\n",
    "        print(f'MASE: {self.mase:.2f} (во сколько раз абсолютная ошибка прогноза меньше абсолютной ошибки наивного прогноза)')\n",
    "        print(f'SMAPE: {self.smape:.2f}% (на сколько % в среднем модель ошибается)')\n",
    "\n",
    "    def get_visualisation(self, start_date=None, end_date=None) -> None:\n",
    "        '''\n",
    "        Отображает визуализацию сравнения фактических значений временного ряда с прогнозными.\n",
    "        \n",
    "        Параметры:\n",
    "            start_date (str, optional): Начальная дата среза для визуализации в формате 'YYYY-MM-DD'.\n",
    "                                        Если None, визуализация начинается с первой доступной даты.\n",
    "            end_date (str, optional): Конечная дата среза для визуализации в формате 'YYYY-MM-DD'.\n",
    "                                      Если None, визуализация идет до последней доступной даты.\n",
    "        '''\n",
    "        if self.y_pred is None:\n",
    "            raise ValueError('Метод get_visualisation должен вызываться после вызова метода get_model_result')\n",
    "        \n",
    "        y_true_sliced = self.y_true.copy()\n",
    "        y_pred_sliced = self.y_pred.copy()\n",
    "        \n",
    "        if start_date:\n",
    "            y_true_sliced = y_true_sliced[start_date:]\n",
    "            y_pred_sliced = y_pred_sliced[start_date:]\n",
    "        if end_date:\n",
    "            y_true_sliced = y_true_sliced[:end_date]\n",
    "            y_pred_sliced = y_pred_sliced[:end_date]\n",
    "        \n",
    "        plt.figure(figsize=(10, 6))\n",
    "        sns.lineplot(data=y_true_sliced, label=\"Actual\")\n",
    "        sns.lineplot(data=y_pred_sliced, label=\"Predicted\")\n",
    "        plt.axhline(y=0, color='gray', linestyle='--')\n",
    "        plt.title(\"Actual vs Predicted\")\n",
    "        plt.legend()\n",
    "        plt.show()"
   ]
  },
  {
   "cell_type": "markdown",
   "metadata": {},
   "source": [
    "# Пример использования"
   ]
  },
  {
   "cell_type": "markdown",
   "metadata": {},
   "source": [
    "Запихиваем ряд с доходностями в экземпляр класса"
   ]
  },
  {
   "cell_type": "code",
   "execution_count": 146,
   "metadata": {},
   "outputs": [
    {
     "name": "stdout",
     "output_type": "stream",
     "text": [
      "Новый тип индексов: pd.DatetimeIndex\n"
     ]
    }
   ],
   "source": [
    "ts = TimeSeriesProcessor(data=data.MOEXMM)"
   ]
  },
  {
   "cell_type": "markdown",
   "metadata": {},
   "source": [
    "Добавляем лаговые переменные (какие хотим). Они автоматически появятся в ts.X"
   ]
  },
  {
   "cell_type": "code",
   "execution_count": 147,
   "metadata": {},
   "outputs": [],
   "source": [
    "ts.add_lags(lags=[1, 2, 3, 4, 5, 10, 30])"
   ]
  },
  {
   "cell_type": "markdown",
   "metadata": {},
   "source": [
    "Дробим на фолды (как говорил Александр Владимирович). num_recent_folds нужен для ускорения работы. Если алгоритм будет работать очень долго, можно будет просто взять только несколько последних фолдов и получить среднее предсказание по ним"
   ]
  },
  {
   "cell_type": "code",
   "execution_count": 148,
   "metadata": {},
   "outputs": [],
   "source": [
    "ts.get_folds(horizon=20, num_recent_folds=10, validation_part=0.2) "
   ]
  },
  {
   "cell_type": "markdown",
   "metadata": {},
   "source": [
    "так мы можем добавть любые переменные в модель в виде pd.Dataframe. Они автоматически появятся в ts.X"
   ]
  },
  {
   "cell_type": "code",
   "execution_count": 149,
   "metadata": {},
   "outputs": [],
   "source": [
    "# ts.add_other_variables(other_variables=any_data)"
   ]
  },
  {
   "cell_type": "markdown",
   "metadata": {},
   "source": [
    "Обучаем модель на каждом трейне и предсказываем тест на каждом фолде. Для этого циклом проходимся по ts.folds. Он является списком кортежей, уже включающих в себя X_train, y_train, X_test, y_test. Каждый элемент списка - фолд"
   ]
  },
  {
   "cell_type": "code",
   "execution_count": 150,
   "metadata": {},
   "outputs": [
    {
     "name": "stderr",
     "output_type": "stream",
     "text": [
      "100%|██████████| 10/10 [00:00<00:00, 71.68it/s]\n"
     ]
    }
   ],
   "source": [
    "from sklearn.linear_model import LinearRegression\n",
    "\n",
    "model = LinearRegression()\n",
    "\n",
    "y_pred_list = []\n",
    "\n",
    "for X_train, y_train, X_test, y_test in tqdm(ts.folds):  # tqdm чтобы визуализировать загрузку\n",
    "\n",
    "    model.fit(X_train, y_train)\n",
    "\n",
    "    y_pred = pd.Series(\n",
    "        model.predict(X_test),\n",
    "        index=X_test.index\n",
    "    ) # Класс принимает только pandas форматы, а model.predict возвращает np.array. Поэтому преобразую в pd.Series\n",
    "\n",
    "    y_pred_list.append(y_pred) "
   ]
  },
  {
   "cell_type": "markdown",
   "metadata": {},
   "source": [
    "Выводим совокупный результат на всех тестах всех фолдов"
   ]
  },
  {
   "cell_type": "code",
   "execution_count": 151,
   "metadata": {},
   "outputs": [
    {
     "name": "stdout",
     "output_type": "stream",
     "text": [
      "MASE: 0.73 (во сколько раз абсолютная ошибка прогноза меньше абсолютной ошибки наивного прогноза)\n",
      "SMAPE: 164.82% (на сколько % в среднем модель ошибается)\n"
     ]
    }
   ],
   "source": [
    "ts.get_model_result(y_pred_list) "
   ]
  },
  {
   "cell_type": "markdown",
   "metadata": {},
   "source": [
    "Можем визуализировать работу модели"
   ]
  },
  {
   "cell_type": "code",
   "execution_count": 152,
   "metadata": {},
   "outputs": [
    {
     "data": {
      "image/png": "[encoded data removed]",
      "text/plain": [
       "<Figure size 1000x600 with 1 Axes>"
      ]
     },
     "metadata": {},
     "output_type": "display_data"
    }
   ],
   "source": [
    "ts.get_visualisation()"
   ]
  },
  {
   "cell_type": "markdown",
   "metadata": {},
   "source": [
    "Также в ходе работы можно посмотреть на состояние предикторов в любой момент времени"
   ]
  },
  {
   "cell_type": "code",
   "execution_count": 153,
   "metadata": {},
   "outputs": [
    {
     "data": {
      "text/html": [
       "<div>\n",
       "<style scoped>\n",
       "    .dataframe tbody tr th:only-of-type {\n",
       "        vertical-align: middle;\n",
       "    }\n",
       "\n",
       "    .dataframe tbody tr th {\n",
       "        vertical-align: top;\n",
       "    }\n",
       "\n",
       "    .dataframe thead th {\n",
       "        text-align: right;\n",
       "    }\n",
       "</style>\n",
       "<table border=\"1\" class=\"dataframe\">\n",
       "  <thead>\n",
       "    <tr style=\"text-align: right;\">\n",
       "      <th></th>\n",
       "      <th>lag_1</th>\n",
       "      <th>lag_2</th>\n",
       "      <th>lag_3</th>\n",
       "      <th>lag_4</th>\n",
       "      <th>lag_5</th>\n",
       "      <th>lag_10</th>\n",
       "      <th>lag_30</th>\n",
       "    </tr>\n",
       "    <tr>\n",
       "      <th>TRADEDATE</th>\n",
       "      <th></th>\n",
       "      <th></th>\n",
       "      <th></th>\n",
       "      <th></th>\n",
       "      <th></th>\n",
       "      <th></th>\n",
       "      <th></th>\n",
       "    </tr>\n",
       "  </thead>\n",
       "  <tbody>\n",
       "    <tr>\n",
       "      <th>2008-12-15</th>\n",
       "      <td>-0.069613</td>\n",
       "      <td>0.007149</td>\n",
       "      <td>0.010883</td>\n",
       "      <td>0.045259</td>\n",
       "      <td>0.105143</td>\n",
       "      <td>-0.088874</td>\n",
       "      <td>0.028665</td>\n",
       "    </tr>\n",
       "    <tr>\n",
       "      <th>2008-12-16</th>\n",
       "      <td>0.014331</td>\n",
       "      <td>-0.069613</td>\n",
       "      <td>0.007149</td>\n",
       "      <td>0.010883</td>\n",
       "      <td>0.045259</td>\n",
       "      <td>0.032821</td>\n",
       "      <td>0.102760</td>\n",
       "    </tr>\n",
       "    <tr>\n",
       "      <th>2008-12-17</th>\n",
       "      <td>0.027901</td>\n",
       "      <td>0.014331</td>\n",
       "      <td>-0.069613</td>\n",
       "      <td>0.007149</td>\n",
       "      <td>0.010883</td>\n",
       "      <td>0.032111</td>\n",
       "      <td>-0.004149</td>\n",
       "    </tr>\n",
       "    <tr>\n",
       "      <th>2008-12-18</th>\n",
       "      <td>0.036397</td>\n",
       "      <td>0.027901</td>\n",
       "      <td>0.014331</td>\n",
       "      <td>-0.069613</td>\n",
       "      <td>0.007149</td>\n",
       "      <td>0.031171</td>\n",
       "      <td>-0.111401</td>\n",
       "    </tr>\n",
       "    <tr>\n",
       "      <th>2008-12-19</th>\n",
       "      <td>-0.068178</td>\n",
       "      <td>0.036397</td>\n",
       "      <td>0.027901</td>\n",
       "      <td>0.014331</td>\n",
       "      <td>-0.069613</td>\n",
       "      <td>0.013328</td>\n",
       "      <td>0.019795</td>\n",
       "    </tr>\n",
       "  </tbody>\n",
       "</table>\n",
       "</div>"
      ],
      "text/plain": [
       "               lag_1     lag_2     lag_3     lag_4     lag_5    lag_10  \\\n",
       "TRADEDATE                                                                \n",
       "2008-12-15 -0.069613  0.007149  0.010883  0.045259  0.105143 -0.088874   \n",
       "2008-12-16  0.014331 -0.069613  0.007149  0.010883  0.045259  0.032821   \n",
       "2008-12-17  0.027901  0.014331 -0.069613  0.007149  0.010883  0.032111   \n",
       "2008-12-18  0.036397  0.027901  0.014331 -0.069613  0.007149  0.031171   \n",
       "2008-12-19 -0.068178  0.036397  0.027901  0.014331 -0.069613  0.013328   \n",
       "\n",
       "              lag_30  \n",
       "TRADEDATE             \n",
       "2008-12-15  0.028665  \n",
       "2008-12-16  0.102760  \n",
       "2008-12-17 -0.004149  \n",
       "2008-12-18 -0.111401  \n",
       "2008-12-19  0.019795  "
      ]
     },
     "execution_count": 153,
     "metadata": {},
     "output_type": "execute_result"
    }
   ],
   "source": [
    "ts.X.head()"
   ]
  },
  {
   "cell_type": "markdown",
   "metadata": {},
   "source": [
    "Те лаги и признаки, которые мы добавляем, автоматически попадают в ts.X"
   ]
  },
  {
   "cell_type": "markdown",
   "metadata": {},
   "source": [
    "На таргет тоже могу посмотреть"
   ]
  },
  {
   "cell_type": "code",
   "execution_count": 154,
   "metadata": {},
   "outputs": [
    {
     "data": {
      "text/plain": [
       "TRADEDATE\n",
       "2008-12-15    0.014331\n",
       "2008-12-16    0.027901\n",
       "2008-12-17    0.036397\n",
       "2008-12-18   -0.068178\n",
       "2008-12-19    0.024247\n",
       "Name: MOEXMM, dtype: float64"
      ]
     },
     "execution_count": 154,
     "metadata": {},
     "output_type": "execute_result"
    }
   ],
   "source": [
    "ts.y.head() # На таргет тоже могу посмотреть"
   ]
  },
  {
   "cell_type": "code",
   "execution_count": 155,
   "metadata": {},
   "outputs": [
    {
     "data": {
      "text/html": [
       "<div>\n",
       "<style scoped>\n",
       "    .dataframe tbody tr th:only-of-type {\n",
       "        vertical-align: middle;\n",
       "    }\n",
       "\n",
       "    .dataframe tbody tr th {\n",
       "        vertical-align: top;\n",
       "    }\n",
       "\n",
       "    .dataframe thead th {\n",
       "        text-align: right;\n",
       "    }\n",
       "</style>\n",
       "<table border=\"1\" class=\"dataframe\">\n",
       "  <thead>\n",
       "    <tr style=\"text-align: right;\">\n",
       "      <th></th>\n",
       "      <th>lag_1</th>\n",
       "      <th>lag_2</th>\n",
       "      <th>lag_3</th>\n",
       "      <th>lag_4</th>\n",
       "      <th>lag_5</th>\n",
       "      <th>lag_10</th>\n",
       "      <th>lag_30</th>\n",
       "    </tr>\n",
       "    <tr>\n",
       "      <th>TRADEDATE</th>\n",
       "      <th></th>\n",
       "      <th></th>\n",
       "      <th></th>\n",
       "      <th></th>\n",
       "      <th></th>\n",
       "      <th></th>\n",
       "      <th></th>\n",
       "    </tr>\n",
       "  </thead>\n",
       "  <tbody>\n",
       "    <tr>\n",
       "      <th>2005-02-24</th>\n",
       "      <td>0.005027</td>\n",
       "      <td>0.011620</td>\n",
       "      <td>-0.001743</td>\n",
       "      <td>0.007954</td>\n",
       "      <td>0.005600</td>\n",
       "      <td>-0.011543</td>\n",
       "      <td>-0.013441</td>\n",
       "    </tr>\n",
       "    <tr>\n",
       "      <th>2005-02-25</th>\n",
       "      <td>0.039721</td>\n",
       "      <td>0.005027</td>\n",
       "      <td>0.011620</td>\n",
       "      <td>-0.001743</td>\n",
       "      <td>0.007954</td>\n",
       "      <td>0.005217</td>\n",
       "      <td>-0.005678</td>\n",
       "    </tr>\n",
       "    <tr>\n",
       "      <th>2005-02-28</th>\n",
       "      <td>0.004220</td>\n",
       "      <td>0.039721</td>\n",
       "      <td>0.005027</td>\n",
       "      <td>0.011620</td>\n",
       "      <td>-0.001743</td>\n",
       "      <td>-0.001106</td>\n",
       "      <td>0.027919</td>\n",
       "    </tr>\n",
       "    <tr>\n",
       "      <th>2005-03-01</th>\n",
       "      <td>0.044779</td>\n",
       "      <td>0.004220</td>\n",
       "      <td>0.039721</td>\n",
       "      <td>0.005027</td>\n",
       "      <td>0.011620</td>\n",
       "      <td>-0.009049</td>\n",
       "      <td>-0.000594</td>\n",
       "    </tr>\n",
       "    <tr>\n",
       "      <th>2005-03-02</th>\n",
       "      <td>-0.027531</td>\n",
       "      <td>0.044779</td>\n",
       "      <td>0.004220</td>\n",
       "      <td>0.039721</td>\n",
       "      <td>0.005027</td>\n",
       "      <td>0.017094</td>\n",
       "      <td>-0.017105</td>\n",
       "    </tr>\n",
       "  </tbody>\n",
       "</table>\n",
       "</div>"
      ],
      "text/plain": [
       "               lag_1     lag_2     lag_3     lag_4     lag_5    lag_10  \\\n",
       "TRADEDATE                                                                \n",
       "2005-02-24  0.005027  0.011620 -0.001743  0.007954  0.005600 -0.011543   \n",
       "2005-02-25  0.039721  0.005027  0.011620 -0.001743  0.007954  0.005217   \n",
       "2005-02-28  0.004220  0.039721  0.005027  0.011620 -0.001743 -0.001106   \n",
       "2005-03-01  0.044779  0.004220  0.039721  0.005027  0.011620 -0.009049   \n",
       "2005-03-02 -0.027531  0.044779  0.004220  0.039721  0.005027  0.017094   \n",
       "\n",
       "              lag_30  \n",
       "TRADEDATE             \n",
       "2005-02-24 -0.013441  \n",
       "2005-02-25 -0.005678  \n",
       "2005-02-28  0.027919  \n",
       "2005-03-01 -0.000594  \n",
       "2005-03-02 -0.017105  "
      ]
     },
     "execution_count": 155,
     "metadata": {},
     "output_type": "execute_result"
    }
   ],
   "source": [
    "ts.X_val.head()"
   ]
  },
  {
   "cell_type": "code",
   "execution_count": 156,
   "metadata": {},
   "outputs": [
    {
     "data": {
      "text/plain": [
       "TRADEDATE\n",
       "2005-02-24    0.039721\n",
       "2005-02-25    0.004220\n",
       "2005-02-28    0.044779\n",
       "2005-03-01   -0.027531\n",
       "2005-03-02   -0.014182\n",
       "Name: MOEXMM, dtype: float64"
      ]
     },
     "execution_count": 156,
     "metadata": {},
     "output_type": "execute_result"
    }
   ],
   "source": [
    "ts.y_val.head()"
   ]
  },
  {
   "cell_type": "markdown",
   "metadata": {},
   "source": [
    "# Catboost алгоритм"
   ]
  },
  {
   "cell_type": "code",
   "execution_count": 157,
   "metadata": {},
   "outputs": [
    {
     "name": "stderr",
     "output_type": "stream",
     "text": [
      "[I 2024-03-15 20:34:56,647] A new study created in memory with name: no-name-fad7593e-a92e-4820-81ba-fbcbf0d598e7\n"
     ]
    },
    {
     "name": "stderr",
     "output_type": "stream",
     "text": [
      "[I 2024-03-15 20:35:09,128] Trial 0 finished with value: 0.7995924193239761 and parameters: {'learning_rate': 0.20091341485145886, 'depth': 7, 'l2_leaf_reg': 1.8055323452266916e-07, 'iterations': 513, 'min_child_samples': 7, 'border_count': 212, 'random_strength': 0.012271518478218193, 'bagging_temperature': 47.73652600413515, 'od_wait': 12}. Best is trial 0 with value: 0.7995924193239761.\n",
      "[I 2024-03-15 20:35:11,598] Trial 1 finished with value: 0.7975252896762226 and parameters: {'learning_rate': 0.2916132941400787, 'depth': 4, 'l2_leaf_reg': 2.1077016702184097, 'iterations': 315, 'min_child_samples': 21, 'border_count': 254, 'random_strength': 0.0004325900846761854, 'bagging_temperature': 9.427394334734448, 'od_wait': 30}. Best is trial 1 with value: 0.7975252896762226.\n",
      "[I 2024-03-15 20:35:39,685] Trial 2 finished with value: 0.817290486059953 and parameters: {'learning_rate': 0.2688567902607182, 'depth': 8, 'l2_leaf_reg': 0.48233348269580184, 'iterations': 788, 'min_child_samples': 63, 'border_count': 173, 'random_strength': 8.599810547343667e-07, 'bagging_temperature': 0.0383426317536864, 'od_wait': 26}. Best is trial 1 with value: 0.7975252896762226.\n",
      "[I 2024-03-15 20:35:42,036] Trial 3 finished with value: 0.769087827856926 and parameters: {'learning_rate': 0.12831290681995827, 'depth': 3, 'l2_leaf_reg': 2.4059441741286668e-05, 'iterations': 747, 'min_child_samples': 17, 'border_count': 99, 'random_strength': 8.45898372740792, 'bagging_temperature': 14.031858642058548, 'od_wait': 55}. Best is trial 3 with value: 0.769087827856926.\n",
      "[I 2024-03-15 20:35:55,863] Trial 4 finished with value: 0.8114645215419936 and parameters: {'learning_rate': 0.21773194252780115, 'depth': 7, 'l2_leaf_reg': 1.9633721602843578e-06, 'iterations': 643, 'min_child_samples': 37, 'border_count': 203, 'random_strength': 0.00184269571821091, 'bagging_temperature': 0.280298460425943, 'od_wait': 11}. Best is trial 3 with value: 0.769087827856926.\n",
      "[I 2024-03-15 20:35:57,921] Trial 5 finished with value: 0.78417446788418 and parameters: {'learning_rate': 0.1859609679709734, 'depth': 3, 'l2_leaf_reg': 0.7551789898038063, 'iterations': 754, 'min_child_samples': 53, 'border_count': 92, 'random_strength': 3.1118717778641024e-05, 'bagging_temperature': 0.058472134081569455, 'od_wait': 48}. Best is trial 3 with value: 0.769087827856926.\n",
      "[I 2024-03-15 20:36:06,166] Trial 6 finished with value: 0.7396874470396845 and parameters: {'learning_rate': 0.022147908531351592, 'depth': 8, 'l2_leaf_reg': 0.38915637475335313, 'iterations': 198, 'min_child_samples': 68, 'border_count': 212, 'random_strength': 1.3827059922813528e-08, 'bagging_temperature': 0.20217646143526474, 'od_wait': 64}. Best is trial 6 with value: 0.7396874470396845.\n",
      "[I 2024-03-15 20:36:07,286] Trial 7 finished with value: 0.7701001911527907 and parameters: {'learning_rate': 0.1094684255234175, 'depth': 6, 'l2_leaf_reg': 2.5993356595445673e-06, 'iterations': 235, 'min_child_samples': 5, 'border_count': 21, 'random_strength': 7.425727820602769e-05, 'bagging_temperature': 7.409184770592037, 'od_wait': 49}. Best is trial 6 with value: 0.7396874470396845.\n",
      "[I 2024-03-15 20:36:09,188] Trial 8 finished with value: 0.7988366125469335 and parameters: {'learning_rate': 0.2859246519811343, 'depth': 2, 'l2_leaf_reg': 0.008180660957898754, 'iterations': 652, 'min_child_samples': 4, 'border_count': 242, 'random_strength': 0.1212369940853339, 'bagging_temperature': 87.5319131070848, 'od_wait': 10}. Best is trial 6 with value: 0.7396874470396845.\n",
      "[I 2024-03-15 20:36:14,581] Trial 9 finished with value: 0.7603421903992024 and parameters: {'learning_rate': 0.04195337444567554, 'depth': 6, 'l2_leaf_reg': 0.0001003993853430576, 'iterations': 472, 'min_child_samples': 63, 'border_count': 178, 'random_strength': 1.9088098314861695e-07, 'bagging_temperature': 0.06849635241957776, 'od_wait': 11}. Best is trial 6 with value: 0.7396874470396845.\n",
      "[I 2024-03-15 20:36:16,306] Trial 10 finished with value: 0.7252980026553608 and parameters: {'learning_rate': 0.010912012188151382, 'depth': 8, 'l2_leaf_reg': 0.00653129649248186, 'iterations': 51, 'min_child_samples': 91, 'border_count': 140, 'random_strength': 2.6047568615486956e-09, 'bagging_temperature': 0.8312892020391298, 'od_wait': 69}. Best is trial 10 with value: 0.7252980026553608.\n",
      "[I 2024-03-15 20:36:17,844] Trial 11 finished with value: 0.7264305643452245 and parameters: {'learning_rate': 0.01648259692114709, 'depth': 8, 'l2_leaf_reg': 0.011418290254407572, 'iterations': 51, 'min_child_samples': 97, 'border_count': 135, 'random_strength': 2.0742619095367336e-09, 'bagging_temperature': 0.8050089821867334, 'od_wait': 70}. Best is trial 10 with value: 0.7252980026553608.\n",
      "[I 2024-03-15 20:36:19,401] Trial 12 finished with value: 0.727882589459258 and parameters: {'learning_rate': 0.017129275546733946, 'depth': 8, 'l2_leaf_reg': 0.004397994165202216, 'iterations': 55, 'min_child_samples': 100, 'border_count': 128, 'random_strength': 2.0327277354842346e-09, 'bagging_temperature': 1.0863577840263272, 'od_wait': 68}. Best is trial 10 with value: 0.7252980026553608.\n",
      "[I 2024-03-15 20:36:19,917] Trial 13 finished with value: 0.7364940644148672 and parameters: {'learning_rate': 0.06635655757228336, 'depth': 6, 'l2_leaf_reg': 0.003331906578138253, 'iterations': 54, 'min_child_samples': 96, 'border_count': 38, 'random_strength': 1.2440603081819268e-09, 'bagging_temperature': 1.4390486505740927, 'od_wait': 61}. Best is trial 10 with value: 0.7252980026553608.\n",
      "[I 2024-03-15 20:36:22,794] Trial 14 finished with value: 0.7598328719244904 and parameters: {'learning_rate': 0.06768133954055007, 'depth': 7, 'l2_leaf_reg': 0.036365722282248464, 'iterations': 164, 'min_child_samples': 83, 'border_count': 141, 'random_strength': 3.947049381601304e-08, 'bagging_temperature': 0.01096197194557763, 'od_wait': 70}. Best is trial 10 with value: 0.7252980026553608.\n",
      "[I 2024-03-15 20:36:24,599] Trial 15 finished with value: 0.731650553390376 and parameters: {'learning_rate': 0.013230405807779688, 'depth': 5, 'l2_leaf_reg': 0.0005126418524152187, 'iterations': 339, 'min_child_samples': 83, 'border_count': 69, 'random_strength': 1.3447224204408491e-06, 'bagging_temperature': 1.7048386168843035, 'od_wait': 57}. Best is trial 10 with value: 0.7252980026553608.\n",
      "[I 2024-03-15 20:36:28,062] Trial 16 finished with value: 0.7583793028275012 and parameters: {'learning_rate': 0.08046119970732205, 'depth': 8, 'l2_leaf_reg': 1.0532972038949642e-08, 'iterations': 123, 'min_child_samples': 83, 'border_count': 139, 'random_strength': 1.1880657718749692e-09, 'bagging_temperature': 0.5404555750081944, 'od_wait': 41}. Best is trial 10 with value: 0.7252980026553608.\n",
      "[I 2024-03-15 20:36:30,843] Trial 17 finished with value: 0.7500477577676851 and parameters: {'learning_rate': 0.04389886562293567, 'depth': 5, 'l2_leaf_reg': 0.04687842185953541, 'iterations': 395, 'min_child_samples': 92, 'border_count': 110, 'random_strength': 6.714229058939604e-08, 'bagging_temperature': 0.43831789532781046, 'od_wait': 51}. Best is trial 10 with value: 0.7252980026553608.\n",
      "[I 2024-03-15 20:36:36,819] Trial 18 finished with value: 0.780674886332698 and parameters: {'learning_rate': 0.1011475794382652, 'depth': 7, 'l2_leaf_reg': 13.25523146655991, 'iterations': 267, 'min_child_samples': 75, 'border_count': 163, 'random_strength': 6.2177152644998884e-06, 'bagging_temperature': 2.883086844235514, 'od_wait': 62}. Best is trial 10 with value: 0.7252980026553608.\n",
      "[I 2024-03-15 20:36:37,821] Trial 19 finished with value: 0.7699458687532152 and parameters: {'learning_rate': 0.14451018322659795, 'depth': 6, 'l2_leaf_reg': 0.0003795702397561575, 'iterations': 114, 'min_child_samples': 42, 'border_count': 64, 'random_strength': 1.601129110811435e-08, 'bagging_temperature': 3.1100331077036305, 'od_wait': 33}. Best is trial 10 with value: 0.7252980026553608.\n"
     ]
    }
   ],
   "source": [
    "from catboost import CatBoostRegressor\n",
    "from sklearn.metrics import make_scorer\n",
    "from sklearn.model_selection import cross_val_score\n",
    "import optuna\n",
    "\n",
    "\n",
    "X_val, y_val = ts.X_val, ts.y_val\n",
    "\n",
    "scorer = make_scorer(MASE)\n",
    "\n",
    "def objective(trial):\n",
    "    param = {\n",
    "        'learning_rate': trial.suggest_float('learning_rate', 0.01, 0.3),\n",
    "        'depth': trial.suggest_int('depth', 2, 8),\n",
    "        'l2_leaf_reg': trial.suggest_loguniform('l2_leaf_reg', 1e-8, 20.0),\n",
    "        'iterations': trial.suggest_int('iterations', 50, 800),\n",
    "        'min_child_samples': trial.suggest_int('min_child_samples', 1, 100),\n",
    "        'border_count': trial.suggest_int('border_count', 1, 255),\n",
    "        'loss_function': 'MAE',\n",
    "        'random_strength': trial.suggest_loguniform('random_strength', 1e-9, 10),\n",
    "        'bagging_temperature': trial.suggest_loguniform('bagging_temperature', 0.01, 100.00),\n",
    "        'od_type': 'Iter',\n",
    "        'od_wait': trial.suggest_int('od_wait', 10, 70)\n",
    "    }\n",
    "    \n",
    "    regressor = CatBoostRegressor(**param)\n",
    "    return np.mean(\n",
    "        cross_val_score(\n",
    "            regressor, X_val, y_val, \n",
    "            n_jobs=-1, scoring=scorer, \n",
    "            cv=5))\n",
    "\n",
    "study = optuna.create_study(direction='minimize')\n",
    "study.optimize(objective, n_trials=20)"
   ]
  },
  {
   "cell_type": "code",
   "execution_count": 158,
   "metadata": {},
   "outputs": [
    {
     "data": {
      "text/plain": [
       "{'learning_rate': 0.010912012188151382,\n",
       " 'depth': 8,\n",
       " 'l2_leaf_reg': 0.00653129649248186,\n",
       " 'iterations': 51,\n",
       " 'min_child_samples': 91,\n",
       " 'border_count': 140,\n",
       " 'random_strength': 2.6047568615486956e-09,\n",
       " 'bagging_temperature': 0.8312892020391298,\n",
       " 'od_wait': 69}"
      ]
     },
     "execution_count": 158,
     "metadata": {},
     "output_type": "execute_result"
    }
   ],
   "source": [
    "study.best_params"
   ]
  },
  {
   "cell_type": "code",
   "execution_count": 159,
   "metadata": {},
   "outputs": [
    {
     "data": {
      "application/vnd.plotly.v1+json": {
       "config": {
        "plotlyServerURL": "https://plot.ly"
       },
       "data": [
        {
         "mode": "markers",
         "name": "Objective Value",
         "type": "scatter",
         "x": [
          0,
          1,
          2,
          3,
          4,
          5,
          6,
          7,
          8,
          9,
          10,
          11,
          12,
          13,
          14,
          15,
          16,
          17,
          18,
          19
         ],
         "y": [
          0.7995924193239761,
          0.7975252896762226,
          0.817290486059953,
          0.769087827856926,
          0.8114645215419936,
          0.78417446788418,
          0.7396874470396845,
          0.7701001911527907,
          0.7988366125469335,
          0.7603421903992024,
          0.7252980026553608,
          0.7264305643452245,
          0.727882589459258,
          0.7364940644148672,
          0.7598328719244904,
          0.731650553390376,
          0.7583793028275012,
          0.7500477577676851,
          0.780674886332698,
          0.7699458687532152
         ]
        },
        {
         "mode": "lines",
         "name": "Best Value",
         "type": "scatter",
         "x": [
          0,
          1,
          2,
          3,
          4,
          5,
          6,
          7,
          8,
          9,
          10,
          11,
          12,
          13,
          14,
          15,
          16,
          17,
          18,
          19
         ],
         "y": [
          0.7995924193239761,
          0.7975252896762226,
          0.7975252896762226,
          0.769087827856926,
          0.769087827856926,
          0.769087827856926,
          0.7396874470396845,
          0.7396874470396845,
          0.7396874470396845,
          0.7396874470396845,
          0.7252980026553608,
          0.7252980026553608,
          0.7252980026553608,
          0.7252980026553608,
          0.7252980026553608,
          0.7252980026553608,
          0.7252980026553608,
          0.7252980026553608,
          0.7252980026553608,
          0.7252980026553608
         ]
        },
        {
         "marker": {
          "color": "#cccccc"
         },
         "mode": "markers",
         "name": "Infeasible Trial",
         "showlegend": false,
         "type": "scatter",
         "x": [],
         "y": []
        }
       ],
       "layout": {
        "template": {
         "data": {
          "bar": [
           {
            "error_x": {
             "color": "#2a3f5f"
            },
            "error_y": {
             "color": "#2a3f5f"
            },
            "marker": {
             "line": {
              "color": "#E5ECF6",
              "width": 0.5
             },
             "pattern": {
              "fillmode": "overlay",
              "size": 10,
              "solidity": 0.2
             }
            },
            "type": "bar"
           }
          ],
          "barpolar": [
           {
            "marker": {
             "line": {
              "color": "#E5ECF6",
              "width": 0.5
             },
             "pattern": {
              "fillmode": "overlay",
              "size": 10,
              "solidity": 0.2
             }
            },
            "type": "barpolar"
           }
          ],
          "carpet": [
           {
            "aaxis": {
             "endlinecolor": "#2a3f5f",
             "gridcolor": "white",
             "linecolor": "white",
             "minorgridcolor": "white",
             "startlinecolor": "#2a3f5f"
            },
            "baxis": {
             "endlinecolor": "#2a3f5f",
             "gridcolor": "white",
             "linecolor": "white",
             "minorgridcolor": "white",
             "startlinecolor": "#2a3f5f"
            },
            "type": "carpet"
           }
          ],
          "choropleth": [
           {
            "colorbar": {
             "outlinewidth": 0,
             "ticks": ""
            },
            "type": "choropleth"
           }
          ],
          "contour": [
           {
            "colorbar": {
             "outlinewidth": 0,
             "ticks": ""
            },
            "colorscale": [
             [
              0,
              "#0d0887"
             ],
             [
              0.1111111111111111,
              "#46039f"
             ],
             [
              0.2222222222222222,
              "#7201a8"
             ],
             [
              0.3333333333333333,
              "#9c179e"
             ],
             [
              0.4444444444444444,
              "#bd3786"
             ],
             [
              0.5555555555555556,
              "#d8576b"
             ],
             [
              0.6666666666666666,
              "#ed7953"
             ],
             [
              0.7777777777777778,
              "#fb9f3a"
             ],
             [
              0.8888888888888888,
              "#fdca26"
             ],
             [
              1,
              "#f0f921"
             ]
            ],
            "type": "contour"
           }
          ],
          "contourcarpet": [
           {
            "colorbar": {
             "outlinewidth": 0,
             "ticks": ""
            },
            "type": "contourcarpet"
           }
          ],
          "heatmap": [
           {
            "colorbar": {
             "outlinewidth": 0,
             "ticks": ""
            },
            "colorscale": [
             [
              0,
              "#0d0887"
             ],
             [
              0.1111111111111111,
              "#46039f"
             ],
             [
              0.2222222222222222,
              "#7201a8"
             ],
             [
              0.3333333333333333,
              "#9c179e"
             ],
             [
              0.4444444444444444,
              "#bd3786"
             ],
             [
              0.5555555555555556,
              "#d8576b"
             ],
             [
              0.6666666666666666,
              "#ed7953"
             ],
             [
              0.7777777777777778,
              "#fb9f3a"
             ],
             [
              0.8888888888888888,
              "#fdca26"
             ],
             [
              1,
              "#f0f921"
             ]
            ],
            "type": "heatmap"
           }
          ],
          "heatmapgl": [
           {
            "colorbar": {
             "outlinewidth": 0,
             "ticks": ""
            },
            "colorscale": [
             [
              0,
              "#0d0887"
             ],
             [
              0.1111111111111111,
              "#46039f"
             ],
             [
              0.2222222222222222,
              "#7201a8"
             ],
             [
              0.3333333333333333,
              "#9c179e"
             ],
             [
              0.4444444444444444,
              "#bd3786"
             ],
             [
              0.5555555555555556,
              "#d8576b"
             ],
             [
              0.6666666666666666,
              "#ed7953"
             ],
             [
              0.7777777777777778,
              "#fb9f3a"
             ],
             [
              0.8888888888888888,
              "#fdca26"
             ],
             [
              1,
              "#f0f921"
             ]
            ],
            "type": "heatmapgl"
           }
          ],
          "histogram": [
           {
            "marker": {
             "pattern": {
              "fillmode": "overlay",
              "size": 10,
              "solidity": 0.2
             }
            },
            "type": "histogram"
           }
          ],
          "histogram2d": [
           {
            "colorbar": {
             "outlinewidth": 0,
             "ticks": ""
            },
            "colorscale": [
             [
              0,
              "#0d0887"
             ],
             [
              0.1111111111111111,
              "#46039f"
             ],
             [
              0.2222222222222222,
              "#7201a8"
             ],
             [
              0.3333333333333333,
              "#9c179e"
             ],
             [
              0.4444444444444444,
              "#bd3786"
             ],
             [
              0.5555555555555556,
              "#d8576b"
             ],
             [
              0.6666666666666666,
              "#ed7953"
             ],
             [
              0.7777777777777778,
              "#fb9f3a"
             ],
             [
              0.8888888888888888,
              "#fdca26"
             ],
             [
              1,
              "#f0f921"
             ]
            ],
            "type": "histogram2d"
           }
          ],
          "histogram2dcontour": [
           {
            "colorbar": {
             "outlinewidth": 0,
             "ticks": ""
            },
            "colorscale": [
             [
              0,
              "#0d0887"
             ],
             [
              0.1111111111111111,
              "#46039f"
             ],
             [
              0.2222222222222222,
              "#7201a8"
             ],
             [
              0.3333333333333333,
              "#9c179e"
             ],
             [
              0.4444444444444444,
              "#bd3786"
             ],
             [
              0.5555555555555556,
              "#d8576b"
             ],
             [
              0.6666666666666666,
              "#ed7953"
             ],
             [
              0.7777777777777778,
              "#fb9f3a"
             ],
             [
              0.8888888888888888,
              "#fdca26"
             ],
             [
              1,
              "#f0f921"
             ]
            ],
            "type": "histogram2dcontour"
           }
          ],
          "mesh3d": [
           {
            "colorbar": {
             "outlinewidth": 0,
             "ticks": ""
            },
            "type": "mesh3d"
           }
          ],
          "parcoords": [
           {
            "line": {
             "colorbar": {
              "outlinewidth": 0,
              "ticks": ""
             }
            },
            "type": "parcoords"
           }
          ],
          "pie": [
           {
            "automargin": true,
            "type": "pie"
           }
          ],
          "scatter": [
           {
            "fillpattern": {
             "fillmode": "overlay",
             "size": 10,
             "solidity": 0.2
            },
            "type": "scatter"
           }
          ],
          "scatter3d": [
           {
            "line": {
             "colorbar": {
              "outlinewidth": 0,
              "ticks": ""
             }
            },
            "marker": {
             "colorbar": {
              "outlinewidth": 0,
              "ticks": ""
             }
            },
            "type": "scatter3d"
           }
          ],
          "scattercarpet": [
           {
            "marker": {
             "colorbar": {
              "outlinewidth": 0,
              "ticks": ""
             }
            },
            "type": "scattercarpet"
           }
          ],
          "scattergeo": [
           {
            "marker": {
             "colorbar": {
              "outlinewidth": 0,
              "ticks": ""
             }
            },
            "type": "scattergeo"
           }
          ],
          "scattergl": [
           {
            "marker": {
             "colorbar": {
              "outlinewidth": 0,
              "ticks": ""
             }
            },
            "type": "scattergl"
           }
          ],
          "scattermapbox": [
           {
            "marker": {
             "colorbar": {
              "outlinewidth": 0,
              "ticks": ""
             }
            },
            "type": "scattermapbox"
           }
          ],
          "scatterpolar": [
           {
            "marker": {
             "colorbar": {
              "outlinewidth": 0,
              "ticks": ""
             }
            },
            "type": "scatterpolar"
           }
          ],
          "scatterpolargl": [
           {
            "marker": {
             "colorbar": {
              "outlinewidth": 0,
              "ticks": ""
             }
            },
            "type": "scatterpolargl"
           }
          ],
          "scatterternary": [
           {
            "marker": {
             "colorbar": {
              "outlinewidth": 0,
              "ticks": ""
             }
            },
            "type": "scatterternary"
           }
          ],
          "surface": [
           {
            "colorbar": {
             "outlinewidth": 0,
             "ticks": ""
            },
            "colorscale": [
             [
              0,
              "#0d0887"
             ],
             [
              0.1111111111111111,
              "#46039f"
             ],
             [
              0.2222222222222222,
              "#7201a8"
             ],
             [
              0.3333333333333333,
              "#9c179e"
             ],
             [
              0.4444444444444444,
              "#bd3786"
             ],
             [
              0.5555555555555556,
              "#d8576b"
             ],
             [
              0.6666666666666666,
              "#ed7953"
             ],
             [
              0.7777777777777778,
              "#fb9f3a"
             ],
             [
              0.8888888888888888,
              "#fdca26"
             ],
             [
              1,
              "#f0f921"
             ]
            ],
            "type": "surface"
           }
          ],
          "table": [
           {
            "cells": {
             "fill": {
              "color": "#EBF0F8"
             },
             "line": {
              "color": "white"
             }
            },
            "header": {
             "fill": {
              "color": "#C8D4E3"
             },
             "line": {
              "color": "white"
             }
            },
            "type": "table"
           }
          ]
         },
         "layout": {
          "annotationdefaults": {
           "arrowcolor": "#2a3f5f",
           "arrowhead": 0,
           "arrowwidth": 1
          },
          "autotypenumbers": "strict",
          "coloraxis": {
           "colorbar": {
            "outlinewidth": 0,
            "ticks": ""
           }
          },
          "colorscale": {
           "diverging": [
            [
             0,
             "#8e0152"
            ],
            [
             0.1,
             "#c51b7d"
            ],
            [
             0.2,
             "#de77ae"
            ],
            [
             0.3,
             "#f1b6da"
            ],
            [
             0.4,
             "#fde0ef"
            ],
            [
             0.5,
             "#f7f7f7"
            ],
            [
             0.6,
             "#e6f5d0"
            ],
            [
             0.7,
             "#b8e186"
            ],
            [
             0.8,
             "#7fbc41"
            ],
            [
             0.9,
             "#4d9221"
            ],
            [
             1,
             "#276419"
            ]
           ],
           "sequential": [
            [
             0,
             "#0d0887"
            ],
            [
             0.1111111111111111,
             "#46039f"
            ],
            [
             0.2222222222222222,
             "#7201a8"
            ],
            [
             0.3333333333333333,
             "#9c179e"
            ],
            [
             0.4444444444444444,
             "#bd3786"
            ],
            [
             0.5555555555555556,
             "#d8576b"
            ],
            [
             0.6666666666666666,
             "#ed7953"
            ],
            [
             0.7777777777777778,
             "#fb9f3a"
            ],
            [
             0.8888888888888888,
             "#fdca26"
            ],
            [
             1,
             "#f0f921"
            ]
           ],
           "sequentialminus": [
            [
             0,
             "#0d0887"
            ],
            [
             0.1111111111111111,
             "#46039f"
            ],
            [
             0.2222222222222222,
             "#7201a8"
            ],
            [
             0.3333333333333333,
             "#9c179e"
            ],
            [
             0.4444444444444444,
             "#bd3786"
            ],
            [
             0.5555555555555556,
             "#d8576b"
            ],
            [
             0.6666666666666666,
             "#ed7953"
            ],
            [
             0.7777777777777778,
             "#fb9f3a"
            ],
            [
             0.8888888888888888,
             "#fdca26"
            ],
            [
             1,
             "#f0f921"
            ]
           ]
          },
          "colorway": [
           "#636efa",
           "#EF553B",
           "#00cc96",
           "#ab63fa",
           "#FFA15A",
           "#19d3f3",
           "#FF6692",
           "#B6E880",
           "#FF97FF",
           "#FECB52"
          ],
          "font": {
           "color": "#2a3f5f"
          },
          "geo": {
           "bgcolor": "white",
           "lakecolor": "white",
           "landcolor": "#E5ECF6",
           "showlakes": true,
           "showland": true,
           "subunitcolor": "white"
          },
          "hoverlabel": {
           "align": "left"
          },
          "hovermode": "closest",
          "mapbox": {
           "style": "light"
          },
          "paper_bgcolor": "white",
          "plot_bgcolor": "#E5ECF6",
          "polar": {
           "angularaxis": {
            "gridcolor": "white",
            "linecolor": "white",
            "ticks": ""
           },
           "bgcolor": "#E5ECF6",
           "radialaxis": {
            "gridcolor": "white",
            "linecolor": "white",
            "ticks": ""
           }
          },
          "scene": {
           "xaxis": {
            "backgroundcolor": "#E5ECF6",
            "gridcolor": "white",
            "gridwidth": 2,
            "linecolor": "white",
            "showbackground": true,
            "ticks": "",
            "zerolinecolor": "white"
           },
           "yaxis": {
            "backgroundcolor": "#E5ECF6",
            "gridcolor": "white",
            "gridwidth": 2,
            "linecolor": "white",
            "showbackground": true,
            "ticks": "",
            "zerolinecolor": "white"
           },
           "zaxis": {
            "backgroundcolor": "#E5ECF6",
            "gridcolor": "white",
            "gridwidth": 2,
            "linecolor": "white",
            "showbackground": true,
            "ticks": "",
            "zerolinecolor": "white"
           }
          },
          "shapedefaults": {
           "line": {
            "color": "#2a3f5f"
           }
          },
          "ternary": {
           "aaxis": {
            "gridcolor": "white",
            "linecolor": "white",
            "ticks": ""
           },
           "baxis": {
            "gridcolor": "white",
            "linecolor": "white",
            "ticks": ""
           },
           "bgcolor": "#E5ECF6",
           "caxis": {
            "gridcolor": "white",
            "linecolor": "white",
            "ticks": ""
           }
          },
          "title": {
           "x": 0.05
          },
          "xaxis": {
           "automargin": true,
           "gridcolor": "white",
           "linecolor": "white",
           "ticks": "",
           "title": {
            "standoff": 15
           },
           "zerolinecolor": "white",
           "zerolinewidth": 2
          },
          "yaxis": {
           "automargin": true,
           "gridcolor": "white",
           "linecolor": "white",
           "ticks": "",
           "title": {
            "standoff": 15
           },
           "zerolinecolor": "white",
           "zerolinewidth": 2
          }
         }
        },
        "title": {
         "text": "Optimization History Plot"
        },
        "xaxis": {
         "title": {
          "text": "Trial"
         }
        },
        "yaxis": {
         "title": {
          "text": "Objective Value"
         }
        }
       }
      }
     },
     "metadata": {},
     "output_type": "display_data"
    }
   ],
   "source": [
    "optuna.visualization.plot_optimization_history(study)"
   ]
  },
  {
   "cell_type": "code",
   "execution_count": 160,
   "metadata": {},
   "outputs": [
    {
     "data": {
      "application/vnd.plotly.v1+json": {
       "config": {
        "plotlyServerURL": "https://plot.ly"
       },
       "data": [
        {
         "marker": {
          "color": [
           0,
           1,
           2,
           3,
           4,
           5,
           6,
           7,
           8,
           9,
           10,
           11,
           12,
           13,
           14,
           15,
           16,
           17,
           18,
           19
          ],
          "colorbar": {
           "title": {
            "text": "Trial"
           },
           "x": 1,
           "xpad": 40
          },
          "colorscale": [
           [
            0,
            "rgb(247,251,255)"
           ],
           [
            0.125,
            "rgb(222,235,247)"
           ],
           [
            0.25,
            "rgb(198,219,239)"
           ],
           [
            0.375,
            "rgb(158,202,225)"
           ],
           [
            0.5,
            "rgb(107,174,214)"
           ],
           [
            0.625,
            "rgb(66,146,198)"
           ],
           [
            0.75,
            "rgb(33,113,181)"
           ],
           [
            0.875,
            "rgb(8,81,156)"
           ],
           [
            1,
            "rgb(8,48,107)"
           ]
          ],
          "line": {
           "color": "Grey",
           "width": 0.5
          },
          "showscale": true
         },
         "mode": "markers",
         "name": "Feasible Trial",
         "showlegend": false,
         "type": "scatter",
         "x": [
          47.73652600413515,
          9.427394334734448,
          0.0383426317536864,
          14.031858642058548,
          0.280298460425943,
          0.058472134081569455,
          0.20217646143526474,
          7.409184770592037,
          87.5319131070848,
          0.06849635241957776,
          0.8312892020391298,
          0.8050089821867334,
          1.0863577840263272,
          1.4390486505740927,
          0.01096197194557763,
          1.7048386168843035,
          0.5404555750081944,
          0.43831789532781046,
          2.883086844235514,
          3.1100331077036305
         ],
         "xaxis": "x",
         "y": [
          0.7995924193239761,
          0.7975252896762226,
          0.817290486059953,
          0.769087827856926,
          0.8114645215419936,
          0.78417446788418,
          0.7396874470396845,
          0.7701001911527907,
          0.7988366125469335,
          0.7603421903992024,
          0.7252980026553608,
          0.7264305643452245,
          0.727882589459258,
          0.7364940644148672,
          0.7598328719244904,
          0.731650553390376,
          0.7583793028275012,
          0.7500477577676851,
          0.780674886332698,
          0.7699458687532152
         ],
         "yaxis": "y"
        },
        {
         "marker": {
          "color": [
           0,
           1,
           2,
           3,
           4,
           5,
           6,
           7,
           8,
           9,
           10,
           11,
           12,
           13,
           14,
           15,
           16,
           17,
           18,
           19
          ],
          "colorbar": {
           "title": {
            "text": "Trial"
           },
           "x": 1,
           "xpad": 40
          },
          "colorscale": [
           [
            0,
            "rgb(247,251,255)"
           ],
           [
            0.125,
            "rgb(222,235,247)"
           ],
           [
            0.25,
            "rgb(198,219,239)"
           ],
           [
            0.375,
            "rgb(158,202,225)"
           ],
           [
            0.5,
            "rgb(107,174,214)"
           ],
           [
            0.625,
            "rgb(66,146,198)"
           ],
           [
            0.75,
            "rgb(33,113,181)"
           ],
           [
            0.875,
            "rgb(8,81,156)"
           ],
           [
            1,
            "rgb(8,48,107)"
           ]
          ],
          "line": {
           "color": "Grey",
           "width": 0.5
          },
          "showscale": false
         },
         "mode": "markers",
         "name": "Feasible Trial",
         "showlegend": false,
         "type": "scatter",
         "x": [
          212,
          254,
          173,
          99,
          203,
          92,
          212,
          21,
          242,
          178,
          140,
          135,
          128,
          38,
          141,
          69,
          139,
          110,
          163,
          64
         ],
         "xaxis": "x2",
         "y": [
          0.7995924193239761,
          0.7975252896762226,
          0.817290486059953,
          0.769087827856926,
          0.8114645215419936,
          0.78417446788418,
          0.7396874470396845,
          0.7701001911527907,
          0.7988366125469335,
          0.7603421903992024,
          0.7252980026553608,
          0.7264305643452245,
          0.727882589459258,
          0.7364940644148672,
          0.7598328719244904,
          0.731650553390376,
          0.7583793028275012,
          0.7500477577676851,
          0.780674886332698,
          0.7699458687532152
         ],
         "yaxis": "y2"
        },
        {
         "marker": {
          "color": [
           0,
           1,
           2,
           3,
           4,
           5,
           6,
           7,
           8,
           9,
           10,
           11,
           12,
           13,
           14,
           15,
           16,
           17,
           18,
           19
          ],
          "colorbar": {
           "title": {
            "text": "Trial"
           },
           "x": 1,
           "xpad": 40
          },
          "colorscale": [
           [
            0,
            "rgb(247,251,255)"
           ],
           [
            0.125,
            "rgb(222,235,247)"
           ],
           [
            0.25,
            "rgb(198,219,239)"
           ],
           [
            0.375,
            "rgb(158,202,225)"
           ],
           [
            0.5,
            "rgb(107,174,214)"
           ],
           [
            0.625,
            "rgb(66,146,198)"
           ],
           [
            0.75,
            "rgb(33,113,181)"
           ],
           [
            0.875,
            "rgb(8,81,156)"
           ],
           [
            1,
            "rgb(8,48,107)"
           ]
          ],
          "line": {
           "color": "Grey",
           "width": 0.5
          },
          "showscale": false
         },
         "mode": "markers",
         "name": "Feasible Trial",
         "showlegend": false,
         "type": "scatter",
         "x": [
          7,
          4,
          8,
          3,
          7,
          3,
          8,
          6,
          2,
          6,
          8,
          8,
          8,
          6,
          7,
          5,
          8,
          5,
          7,
          6
         ],
         "xaxis": "x3",
         "y": [
          0.7995924193239761,
          0.7975252896762226,
          0.817290486059953,
          0.769087827856926,
          0.8114645215419936,
          0.78417446788418,
          0.7396874470396845,
          0.7701001911527907,
          0.7988366125469335,
          0.7603421903992024,
          0.7252980026553608,
          0.7264305643452245,
          0.727882589459258,
          0.7364940644148672,
          0.7598328719244904,
          0.731650553390376,
          0.7583793028275012,
          0.7500477577676851,
          0.780674886332698,
          0.7699458687532152
         ],
         "yaxis": "y3"
        },
        {
         "marker": {
          "color": [
           0,
           1,
           2,
           3,
           4,
           5,
           6,
           7,
           8,
           9,
           10,
           11,
           12,
           13,
           14,
           15,
           16,
           17,
           18,
           19
          ],
          "colorbar": {
           "title": {
            "text": "Trial"
           },
           "x": 1,
           "xpad": 40
          },
          "colorscale": [
           [
            0,
            "rgb(247,251,255)"
           ],
           [
            0.125,
            "rgb(222,235,247)"
           ],
           [
            0.25,
            "rgb(198,219,239)"
           ],
           [
            0.375,
            "rgb(158,202,225)"
           ],
           [
            0.5,
            "rgb(107,174,214)"
           ],
           [
            0.625,
            "rgb(66,146,198)"
           ],
           [
            0.75,
            "rgb(33,113,181)"
           ],
           [
            0.875,
            "rgb(8,81,156)"
           ],
           [
            1,
            "rgb(8,48,107)"
           ]
          ],
          "line": {
           "color": "Grey",
           "width": 0.5
          },
          "showscale": false
         },
         "mode": "markers",
         "name": "Feasible Trial",
         "showlegend": false,
         "type": "scatter",
         "x": [
          513,
          315,
          788,
          747,
          643,
          754,
          198,
          235,
          652,
          472,
          51,
          51,
          55,
          54,
          164,
          339,
          123,
          395,
          267,
          114
         ],
         "xaxis": "x4",
         "y": [
          0.7995924193239761,
          0.7975252896762226,
          0.817290486059953,
          0.769087827856926,
          0.8114645215419936,
          0.78417446788418,
          0.7396874470396845,
          0.7701001911527907,
          0.7988366125469335,
          0.7603421903992024,
          0.7252980026553608,
          0.7264305643452245,
          0.727882589459258,
          0.7364940644148672,
          0.7598328719244904,
          0.731650553390376,
          0.7583793028275012,
          0.7500477577676851,
          0.780674886332698,
          0.7699458687532152
         ],
         "yaxis": "y4"
        },
        {
         "marker": {
          "color": [
           0,
           1,
           2,
           3,
           4,
           5,
           6,
           7,
           8,
           9,
           10,
           11,
           12,
           13,
           14,
           15,
           16,
           17,
           18,
           19
          ],
          "colorbar": {
           "title": {
            "text": "Trial"
           },
           "x": 1,
           "xpad": 40
          },
          "colorscale": [
           [
            0,
            "rgb(247,251,255)"
           ],
           [
            0.125,
            "rgb(222,235,247)"
           ],
           [
            0.25,
            "rgb(198,219,239)"
           ],
           [
            0.375,
            "rgb(158,202,225)"
           ],
           [
            0.5,
            "rgb(107,174,214)"
           ],
           [
            0.625,
            "rgb(66,146,198)"
           ],
           [
            0.75,
            "rgb(33,113,181)"
           ],
           [
            0.875,
            "rgb(8,81,156)"
           ],
           [
            1,
            "rgb(8,48,107)"
           ]
          ],
          "line": {
           "color": "Grey",
           "width": 0.5
          },
          "showscale": false
         },
         "mode": "markers",
         "name": "Feasible Trial",
         "showlegend": false,
         "type": "scatter",
         "x": [
          1.8055323452266916e-7,
          2.1077016702184097,
          0.48233348269580184,
          0.000024059441741286668,
          0.0000019633721602843578,
          0.7551789898038063,
          0.38915637475335313,
          0.0000025993356595445673,
          0.008180660957898754,
          0.0001003993853430576,
          0.00653129649248186,
          0.011418290254407572,
          0.004397994165202216,
          0.003331906578138253,
          0.036365722282248464,
          0.0005126418524152187,
          1.0532972038949642e-8,
          0.04687842185953541,
          13.25523146655991,
          0.0003795702397561575
         ],
         "xaxis": "x5",
         "y": [
          0.7995924193239761,
          0.7975252896762226,
          0.817290486059953,
          0.769087827856926,
          0.8114645215419936,
          0.78417446788418,
          0.7396874470396845,
          0.7701001911527907,
          0.7988366125469335,
          0.7603421903992024,
          0.7252980026553608,
          0.7264305643452245,
          0.727882589459258,
          0.7364940644148672,
          0.7598328719244904,
          0.731650553390376,
          0.7583793028275012,
          0.7500477577676851,
          0.780674886332698,
          0.7699458687532152
         ],
         "yaxis": "y5"
        },
        {
         "marker": {
          "color": [
           0,
           1,
           2,
           3,
           4,
           5,
           6,
           7,
           8,
           9,
           10,
           11,
           12,
           13,
           14,
           15,
           16,
           17,
           18,
           19
          ],
          "colorbar": {
           "title": {
            "text": "Trial"
           },
           "x": 1,
           "xpad": 40
          },
          "colorscale": [
           [
            0,
            "rgb(247,251,255)"
           ],
           [
            0.125,
            "rgb(222,235,247)"
           ],
           [
            0.25,
            "rgb(198,219,239)"
           ],
           [
            0.375,
            "rgb(158,202,225)"
           ],
           [
            0.5,
            "rgb(107,174,214)"
           ],
           [
            0.625,
            "rgb(66,146,198)"
           ],
           [
            0.75,
            "rgb(33,113,181)"
           ],
           [
            0.875,
            "rgb(8,81,156)"
           ],
           [
            1,
            "rgb(8,48,107)"
           ]
          ],
          "line": {
           "color": "Grey",
           "width": 0.5
          },
          "showscale": false
         },
         "mode": "markers",
         "name": "Feasible Trial",
         "showlegend": false,
         "type": "scatter",
         "x": [
          0.20091341485145886,
          0.2916132941400787,
          0.2688567902607182,
          0.12831290681995827,
          0.21773194252780115,
          0.1859609679709734,
          0.022147908531351592,
          0.1094684255234175,
          0.2859246519811343,
          0.04195337444567554,
          0.010912012188151382,
          0.01648259692114709,
          0.017129275546733946,
          0.06635655757228336,
          0.06768133954055007,
          0.013230405807779688,
          0.08046119970732205,
          0.04389886562293567,
          0.1011475794382652,
          0.14451018322659795
         ],
         "xaxis": "x6",
         "y": [
          0.7995924193239761,
          0.7975252896762226,
          0.817290486059953,
          0.769087827856926,
          0.8114645215419936,
          0.78417446788418,
          0.7396874470396845,
          0.7701001911527907,
          0.7988366125469335,
          0.7603421903992024,
          0.7252980026553608,
          0.7264305643452245,
          0.727882589459258,
          0.7364940644148672,
          0.7598328719244904,
          0.731650553390376,
          0.7583793028275012,
          0.7500477577676851,
          0.780674886332698,
          0.7699458687532152
         ],
         "yaxis": "y6"
        },
        {
         "marker": {
          "color": [
           0,
           1,
           2,
           3,
           4,
           5,
           6,
           7,
           8,
           9,
           10,
           11,
           12,
           13,
           14,
           15,
           16,
           17,
           18,
           19
          ],
          "colorbar": {
           "title": {
            "text": "Trial"
           },
           "x": 1,
           "xpad": 40
          },
          "colorscale": [
           [
            0,
            "rgb(247,251,255)"
           ],
           [
            0.125,
            "rgb(222,235,247)"
           ],
           [
            0.25,
            "rgb(198,219,239)"
           ],
           [
            0.375,
            "rgb(158,202,225)"
           ],
           [
            0.5,
            "rgb(107,174,214)"
           ],
           [
            0.625,
            "rgb(66,146,198)"
           ],
           [
            0.75,
            "rgb(33,113,181)"
           ],
           [
            0.875,
            "rgb(8,81,156)"
           ],
           [
            1,
            "rgb(8,48,107)"
           ]
          ],
          "line": {
           "color": "Grey",
           "width": 0.5
          },
          "showscale": false
         },
         "mode": "markers",
         "name": "Feasible Trial",
         "showlegend": false,
         "type": "scatter",
         "x": [
          7,
          21,
          63,
          17,
          37,
          53,
          68,
          5,
          4,
          63,
          91,
          97,
          100,
          96,
          83,
          83,
          83,
          92,
          75,
          42
         ],
         "xaxis": "x7",
         "y": [
          0.7995924193239761,
          0.7975252896762226,
          0.817290486059953,
          0.769087827856926,
          0.8114645215419936,
          0.78417446788418,
          0.7396874470396845,
          0.7701001911527907,
          0.7988366125469335,
          0.7603421903992024,
          0.7252980026553608,
          0.7264305643452245,
          0.727882589459258,
          0.7364940644148672,
          0.7598328719244904,
          0.731650553390376,
          0.7583793028275012,
          0.7500477577676851,
          0.780674886332698,
          0.7699458687532152
         ],
         "yaxis": "y7"
        },
        {
         "marker": {
          "color": [
           0,
           1,
           2,
           3,
           4,
           5,
           6,
           7,
           8,
           9,
           10,
           11,
           12,
           13,
           14,
           15,
           16,
           17,
           18,
           19
          ],
          "colorbar": {
           "title": {
            "text": "Trial"
           },
           "x": 1,
           "xpad": 40
          },
          "colorscale": [
           [
            0,
            "rgb(247,251,255)"
           ],
           [
            0.125,
            "rgb(222,235,247)"
           ],
           [
            0.25,
            "rgb(198,219,239)"
           ],
           [
            0.375,
            "rgb(158,202,225)"
           ],
           [
            0.5,
            "rgb(107,174,214)"
           ],
           [
            0.625,
            "rgb(66,146,198)"
           ],
           [
            0.75,
            "rgb(33,113,181)"
           ],
           [
            0.875,
            "rgb(8,81,156)"
           ],
           [
            1,
            "rgb(8,48,107)"
           ]
          ],
          "line": {
           "color": "Grey",
           "width": 0.5
          },
          "showscale": false
         },
         "mode": "markers",
         "name": "Feasible Trial",
         "showlegend": false,
         "type": "scatter",
         "x": [
          12,
          30,
          26,
          55,
          11,
          48,
          64,
          49,
          10,
          11,
          69,
          70,
          68,
          61,
          70,
          57,
          41,
          51,
          62,
          33
         ],
         "xaxis": "x8",
         "y": [
          0.7995924193239761,
          0.7975252896762226,
          0.817290486059953,
          0.769087827856926,
          0.8114645215419936,
          0.78417446788418,
          0.7396874470396845,
          0.7701001911527907,
          0.7988366125469335,
          0.7603421903992024,
          0.7252980026553608,
          0.7264305643452245,
          0.727882589459258,
          0.7364940644148672,
          0.7598328719244904,
          0.731650553390376,
          0.7583793028275012,
          0.7500477577676851,
          0.780674886332698,
          0.7699458687532152
         ],
         "yaxis": "y8"
        },
        {
         "marker": {
          "color": [
           0,
           1,
           2,
           3,
           4,
           5,
           6,
           7,
           8,
           9,
           10,
           11,
           12,
           13,
           14,
           15,
           16,
           17,
           18,
           19
          ],
          "colorbar": {
           "title": {
            "text": "Trial"
           },
           "x": 1,
           "xpad": 40
          },
          "colorscale": [
           [
            0,
            "rgb(247,251,255)"
           ],
           [
            0.125,
            "rgb(222,235,247)"
           ],
           [
            0.25,
            "rgb(198,219,239)"
           ],
           [
            0.375,
            "rgb(158,202,225)"
           ],
           [
            0.5,
            "rgb(107,174,214)"
           ],
           [
            0.625,
            "rgb(66,146,198)"
           ],
           [
            0.75,
            "rgb(33,113,181)"
           ],
           [
            0.875,
            "rgb(8,81,156)"
           ],
           [
            1,
            "rgb(8,48,107)"
           ]
          ],
          "line": {
           "color": "Grey",
           "width": 0.5
          },
          "showscale": false
         },
         "mode": "markers",
         "name": "Feasible Trial",
         "showlegend": false,
         "type": "scatter",
         "x": [
          0.012271518478218193,
          0.0004325900846761854,
          8.599810547343667e-7,
          8.45898372740792,
          0.00184269571821091,
          0.000031118717778641024,
          1.3827059922813528e-8,
          0.00007425727820602769,
          0.1212369940853339,
          1.9088098314861695e-7,
          2.6047568615486956e-9,
          2.0742619095367336e-9,
          2.0327277354842346e-9,
          1.2440603081819268e-9,
          3.947049381601304e-8,
          0.0000013447224204408491,
          1.1880657718749692e-9,
          6.714229058939604e-8,
          0.0000062177152644998884,
          1.601129110811435e-8
         ],
         "xaxis": "x9",
         "y": [
          0.7995924193239761,
          0.7975252896762226,
          0.817290486059953,
          0.769087827856926,
          0.8114645215419936,
          0.78417446788418,
          0.7396874470396845,
          0.7701001911527907,
          0.7988366125469335,
          0.7603421903992024,
          0.7252980026553608,
          0.7264305643452245,
          0.727882589459258,
          0.7364940644148672,
          0.7598328719244904,
          0.731650553390376,
          0.7583793028275012,
          0.7500477577676851,
          0.780674886332698,
          0.7699458687532152
         ],
         "yaxis": "y9"
        }
       ],
       "layout": {
        "template": {
         "data": {
          "bar": [
           {
            "error_x": {
             "color": "#2a3f5f"
            },
            "error_y": {
             "color": "#2a3f5f"
            },
            "marker": {
             "line": {
              "color": "#E5ECF6",
              "width": 0.5
             },
             "pattern": {
              "fillmode": "overlay",
              "size": 10,
              "solidity": 0.2
             }
            },
            "type": "bar"
           }
          ],
          "barpolar": [
           {
            "marker": {
             "line": {
              "color": "#E5ECF6",
              "width": 0.5
             },
             "pattern": {
              "fillmode": "overlay",
              "size": 10,
              "solidity": 0.2
             }
            },
            "type": "barpolar"
           }
          ],
          "carpet": [
           {
            "aaxis": {
             "endlinecolor": "#2a3f5f",
             "gridcolor": "white",
             "linecolor": "white",
             "minorgridcolor": "white",
             "startlinecolor": "#2a3f5f"
            },
            "baxis": {
             "endlinecolor": "#2a3f5f",
             "gridcolor": "white",
             "linecolor": "white",
             "minorgridcolor": "white",
             "startlinecolor": "#2a3f5f"
            },
            "type": "carpet"
           }
          ],
          "choropleth": [
           {
            "colorbar": {
             "outlinewidth": 0,
             "ticks": ""
            },
            "type": "choropleth"
           }
          ],
          "contour": [
           {
            "colorbar": {
             "outlinewidth": 0,
             "ticks": ""
            },
            "colorscale": [
             [
              0,
              "#0d0887"
             ],
             [
              0.1111111111111111,
              "#46039f"
             ],
             [
              0.2222222222222222,
              "#7201a8"
             ],
             [
              0.3333333333333333,
              "#9c179e"
             ],
             [
              0.4444444444444444,
              "#bd3786"
             ],
             [
              0.5555555555555556,
              "#d8576b"
             ],
             [
              0.6666666666666666,
              "#ed7953"
             ],
             [
              0.7777777777777778,
              "#fb9f3a"
             ],
             [
              0.8888888888888888,
              "#fdca26"
             ],
             [
              1,
              "#f0f921"
             ]
            ],
            "type": "contour"
           }
          ],
          "contourcarpet": [
           {
            "colorbar": {
             "outlinewidth": 0,
             "ticks": ""
            },
            "type": "contourcarpet"
           }
          ],
          "heatmap": [
           {
            "colorbar": {
             "outlinewidth": 0,
             "ticks": ""
            },
            "colorscale": [
             [
              0,
              "#0d0887"
             ],
             [
              0.1111111111111111,
              "#46039f"
             ],
             [
              0.2222222222222222,
              "#7201a8"
             ],
             [
              0.3333333333333333,
              "#9c179e"
             ],
             [
              0.4444444444444444,
              "#bd3786"
             ],
             [
              0.5555555555555556,
              "#d8576b"
             ],
             [
              0.6666666666666666,
              "#ed7953"
             ],
             [
              0.7777777777777778,
              "#fb9f3a"
             ],
             [
              0.8888888888888888,
              "#fdca26"
             ],
             [
              1,
              "#f0f921"
             ]
            ],
            "type": "heatmap"
           }
          ],
          "heatmapgl": [
           {
            "colorbar": {
             "outlinewidth": 0,
             "ticks": ""
            },
            "colorscale": [
             [
              0,
              "#0d0887"
             ],
             [
              0.1111111111111111,
              "#46039f"
             ],
             [
              0.2222222222222222,
              "#7201a8"
             ],
             [
              0.3333333333333333,
              "#9c179e"
             ],
             [
              0.4444444444444444,
              "#bd3786"
             ],
             [
              0.5555555555555556,
              "#d8576b"
             ],
             [
              0.6666666666666666,
              "#ed7953"
             ],
             [
              0.7777777777777778,
              "#fb9f3a"
             ],
             [
              0.8888888888888888,
              "#fdca26"
             ],
             [
              1,
              "#f0f921"
             ]
            ],
            "type": "heatmapgl"
           }
          ],
          "histogram": [
           {
            "marker": {
             "pattern": {
              "fillmode": "overlay",
              "size": 10,
              "solidity": 0.2
             }
            },
            "type": "histogram"
           }
          ],
          "histogram2d": [
           {
            "colorbar": {
             "outlinewidth": 0,
             "ticks": ""
            },
            "colorscale": [
             [
              0,
              "#0d0887"
             ],
             [
              0.1111111111111111,
              "#46039f"
             ],
             [
              0.2222222222222222,
              "#7201a8"
             ],
             [
              0.3333333333333333,
              "#9c179e"
             ],
             [
              0.4444444444444444,
              "#bd3786"
             ],
             [
              0.5555555555555556,
              "#d8576b"
             ],
             [
              0.6666666666666666,
              "#ed7953"
             ],
             [
              0.7777777777777778,
              "#fb9f3a"
             ],
             [
              0.8888888888888888,
              "#fdca26"
             ],
             [
              1,
              "#f0f921"
             ]
            ],
            "type": "histogram2d"
           }
          ],
          "histogram2dcontour": [
           {
            "colorbar": {
             "outlinewidth": 0,
             "ticks": ""
            },
            "colorscale": [
             [
              0,
              "#0d0887"
             ],
             [
              0.1111111111111111,
              "#46039f"
             ],
             [
              0.2222222222222222,
              "#7201a8"
             ],
             [
              0.3333333333333333,
              "#9c179e"
             ],
             [
              0.4444444444444444,
              "#bd3786"
             ],
             [
              0.5555555555555556,
              "#d8576b"
             ],
             [
              0.6666666666666666,
              "#ed7953"
             ],
             [
              0.7777777777777778,
              "#fb9f3a"
             ],
             [
              0.8888888888888888,
              "#fdca26"
             ],
             [
              1,
              "#f0f921"
             ]
            ],
            "type": "histogram2dcontour"
           }
          ],
          "mesh3d": [
           {
            "colorbar": {
             "outlinewidth": 0,
             "ticks": ""
            },
            "type": "mesh3d"
           }
          ],
          "parcoords": [
           {
            "line": {
             "colorbar": {
              "outlinewidth": 0,
              "ticks": ""
             }
            },
            "type": "parcoords"
           }
          ],
          "pie": [
           {
            "automargin": true,
            "type": "pie"
           }
          ],
          "scatter": [
           {
            "fillpattern": {
             "fillmode": "overlay",
             "size": 10,
             "solidity": 0.2
            },
            "type": "scatter"
           }
          ],
          "scatter3d": [
           {
            "line": {
             "colorbar": {
              "outlinewidth": 0,
              "ticks": ""
             }
            },
            "marker": {
             "colorbar": {
              "outlinewidth": 0,
              "ticks": ""
             }
            },
            "type": "scatter3d"
           }
          ],
          "scattercarpet": [
           {
            "marker": {
             "colorbar": {
              "outlinewidth": 0,
              "ticks": ""
             }
            },
            "type": "scattercarpet"
           }
          ],
          "scattergeo": [
           {
            "marker": {
             "colorbar": {
              "outlinewidth": 0,
              "ticks": ""
             }
            },
            "type": "scattergeo"
           }
          ],
          "scattergl": [
           {
            "marker": {
             "colorbar": {
              "outlinewidth": 0,
              "ticks": ""
             }
            },
            "type": "scattergl"
           }
          ],
          "scattermapbox": [
           {
            "marker": {
             "colorbar": {
              "outlinewidth": 0,
              "ticks": ""
             }
            },
            "type": "scattermapbox"
           }
          ],
          "scatterpolar": [
           {
            "marker": {
             "colorbar": {
              "outlinewidth": 0,
              "ticks": ""
             }
            },
            "type": "scatterpolar"
           }
          ],
          "scatterpolargl": [
           {
            "marker": {
             "colorbar": {
              "outlinewidth": 0,
              "ticks": ""
             }
            },
            "type": "scatterpolargl"
           }
          ],
          "scatterternary": [
           {
            "marker": {
             "colorbar": {
              "outlinewidth": 0,
              "ticks": ""
             }
            },
            "type": "scatterternary"
           }
          ],
          "surface": [
           {
            "colorbar": {
             "outlinewidth": 0,
             "ticks": ""
            },
            "colorscale": [
             [
              0,
              "#0d0887"
             ],
             [
              0.1111111111111111,
              "#46039f"
             ],
             [
              0.2222222222222222,
              "#7201a8"
             ],
             [
              0.3333333333333333,
              "#9c179e"
             ],
             [
              0.4444444444444444,
              "#bd3786"
             ],
             [
              0.5555555555555556,
              "#d8576b"
             ],
             [
              0.6666666666666666,
              "#ed7953"
             ],
             [
              0.7777777777777778,
              "#fb9f3a"
             ],
             [
              0.8888888888888888,
              "#fdca26"
             ],
             [
              1,
              "#f0f921"
             ]
            ],
            "type": "surface"
           }
          ],
          "table": [
           {
            "cells": {
             "fill": {
              "color": "#EBF0F8"
             },
             "line": {
              "color": "white"
             }
            },
            "header": {
             "fill": {
              "color": "#C8D4E3"
             },
             "line": {
              "color": "white"
             }
            },
            "type": "table"
           }
          ]
         },
         "layout": {
          "annotationdefaults": {
           "arrowcolor": "#2a3f5f",
           "arrowhead": 0,
           "arrowwidth": 1
          },
          "autotypenumbers": "strict",
          "coloraxis": {
           "colorbar": {
            "outlinewidth": 0,
            "ticks": ""
           }
          },
          "colorscale": {
           "diverging": [
            [
             0,
             "#8e0152"
            ],
            [
             0.1,
             "#c51b7d"
            ],
            [
             0.2,
             "#de77ae"
            ],
            [
             0.3,
             "#f1b6da"
            ],
            [
             0.4,
             "#fde0ef"
            ],
            [
             0.5,
             "#f7f7f7"
            ],
            [
             0.6,
             "#e6f5d0"
            ],
            [
             0.7,
             "#b8e186"
            ],
            [
             0.8,
             "#7fbc41"
            ],
            [
             0.9,
             "#4d9221"
            ],
            [
             1,
             "#276419"
            ]
           ],
           "sequential": [
            [
             0,
             "#0d0887"
            ],
            [
             0.1111111111111111,
             "#46039f"
            ],
            [
             0.2222222222222222,
             "#7201a8"
            ],
            [
             0.3333333333333333,
             "#9c179e"
            ],
            [
             0.4444444444444444,
             "#bd3786"
            ],
            [
             0.5555555555555556,
             "#d8576b"
            ],
            [
             0.6666666666666666,
             "#ed7953"
            ],
            [
             0.7777777777777778,
             "#fb9f3a"
            ],
            [
             0.8888888888888888,
             "#fdca26"
            ],
            [
             1,
             "#f0f921"
            ]
           ],
           "sequentialminus": [
            [
             0,
             "#0d0887"
            ],
            [
             0.1111111111111111,
             "#46039f"
            ],
            [
             0.2222222222222222,
             "#7201a8"
            ],
            [
             0.3333333333333333,
             "#9c179e"
            ],
            [
             0.4444444444444444,
             "#bd3786"
            ],
            [
             0.5555555555555556,
             "#d8576b"
            ],
            [
             0.6666666666666666,
             "#ed7953"
            ],
            [
             0.7777777777777778,
             "#fb9f3a"
            ],
            [
             0.8888888888888888,
             "#fdca26"
            ],
            [
             1,
             "#f0f921"
            ]
           ]
          },
          "colorway": [
           "#636efa",
           "#EF553B",
           "#00cc96",
           "#ab63fa",
           "#FFA15A",
           "#19d3f3",
           "#FF6692",
           "#B6E880",
           "#FF97FF",
           "#FECB52"
          ],
          "font": {
           "color": "#2a3f5f"
          },
          "geo": {
           "bgcolor": "white",
           "lakecolor": "white",
           "landcolor": "#E5ECF6",
           "showlakes": true,
           "showland": true,
           "subunitcolor": "white"
          },
          "hoverlabel": {
           "align": "left"
          },
          "hovermode": "closest",
          "mapbox": {
           "style": "light"
          },
          "paper_bgcolor": "white",
          "plot_bgcolor": "#E5ECF6",
          "polar": {
           "angularaxis": {
            "gridcolor": "white",
            "linecolor": "white",
            "ticks": ""
           },
           "bgcolor": "#E5ECF6",
           "radialaxis": {
            "gridcolor": "white",
            "linecolor": "white",
            "ticks": ""
           }
          },
          "scene": {
           "xaxis": {
            "backgroundcolor": "#E5ECF6",
            "gridcolor": "white",
            "gridwidth": 2,
            "linecolor": "white",
            "showbackground": true,
            "ticks": "",
            "zerolinecolor": "white"
           },
           "yaxis": {
            "backgroundcolor": "#E5ECF6",
            "gridcolor": "white",
            "gridwidth": 2,
            "linecolor": "white",
            "showbackground": true,
            "ticks": "",
            "zerolinecolor": "white"
           },
           "zaxis": {
            "backgroundcolor": "#E5ECF6",
            "gridcolor": "white",
            "gridwidth": 2,
            "linecolor": "white",
            "showbackground": true,
            "ticks": "",
            "zerolinecolor": "white"
           }
          },
          "shapedefaults": {
           "line": {
            "color": "#2a3f5f"
           }
          },
          "ternary": {
           "aaxis": {
            "gridcolor": "white",
            "linecolor": "white",
            "ticks": ""
           },
           "baxis": {
            "gridcolor": "white",
            "linecolor": "white",
            "ticks": ""
           },
           "bgcolor": "#E5ECF6",
           "caxis": {
            "gridcolor": "white",
            "linecolor": "white",
            "ticks": ""
           }
          },
          "title": {
           "x": 0.05
          },
          "xaxis": {
           "automargin": true,
           "gridcolor": "white",
           "linecolor": "white",
           "ticks": "",
           "title": {
            "standoff": 15
           },
           "zerolinecolor": "white",
           "zerolinewidth": 2
          },
          "yaxis": {
           "automargin": true,
           "gridcolor": "white",
           "linecolor": "white",
           "ticks": "",
           "title": {
            "standoff": 15
           },
           "zerolinecolor": "white",
           "zerolinewidth": 2
          }
         }
        },
        "title": {
         "text": "Slice Plot"
        },
        "width": 2700,
        "xaxis": {
         "anchor": "y",
         "domain": [
          0,
          0.09135802469135802
         ],
         "title": {
          "text": "bagging_temperature"
         },
         "type": "log"
        },
        "xaxis2": {
         "anchor": "y2",
         "domain": [
          0.11358024691358025,
          0.20493827160493827
         ],
         "title": {
          "text": "border_count"
         }
        },
        "xaxis3": {
         "anchor": "y3",
         "domain": [
          0.2271604938271605,
          0.31851851851851853
         ],
         "title": {
          "text": "depth"
         }
        },
        "xaxis4": {
         "anchor": "y4",
         "domain": [
          0.34074074074074073,
          0.43209876543209874
         ],
         "title": {
          "text": "iterations"
         }
        },
        "xaxis5": {
         "anchor": "y5",
         "domain": [
          0.454320987654321,
          0.5456790123456791
         ],
         "title": {
          "text": "l2_leaf_reg"
         },
         "type": "log"
        },
        "xaxis6": {
         "anchor": "y6",
         "domain": [
          0.5679012345679012,
          0.6592592592592592
         ],
         "title": {
          "text": "learning_rate"
         }
        },
        "xaxis7": {
         "anchor": "y7",
         "domain": [
          0.6814814814814815,
          0.7728395061728395
         ],
         "title": {
          "text": "min_child_samples"
         }
        },
        "xaxis8": {
         "anchor": "y8",
         "domain": [
          0.7950617283950617,
          0.8864197530864197
         ],
         "title": {
          "text": "od_wait"
         }
        },
        "xaxis9": {
         "anchor": "y9",
         "domain": [
          0.908641975308642,
          1
         ],
         "title": {
          "text": "random_strength"
         },
         "type": "log"
        },
        "yaxis": {
         "anchor": "x",
         "domain": [
          0,
          1
         ],
         "title": {
          "text": "Objective Value"
         }
        },
        "yaxis2": {
         "anchor": "x2",
         "domain": [
          0,
          1
         ],
         "matches": "y",
         "showticklabels": false
        },
        "yaxis3": {
         "anchor": "x3",
         "domain": [
          0,
          1
         ],
         "matches": "y",
         "showticklabels": false
        },
        "yaxis4": {
         "anchor": "x4",
         "domain": [
          0,
          1
         ],
         "matches": "y",
         "showticklabels": false
        },
        "yaxis5": {
         "anchor": "x5",
         "domain": [
          0,
          1
         ],
         "matches": "y",
         "showticklabels": false
        },
        "yaxis6": {
         "anchor": "x6",
         "domain": [
          0,
          1
         ],
         "matches": "y",
         "showticklabels": false
        },
        "yaxis7": {
         "anchor": "x7",
         "domain": [
          0,
          1
         ],
         "matches": "y",
         "showticklabels": false
        },
        "yaxis8": {
         "anchor": "x8",
         "domain": [
          0,
          1
         ],
         "matches": "y",
         "showticklabels": false
        },
        "yaxis9": {
         "anchor": "x9",
         "domain": [
          0,
          1
         ],
         "matches": "y",
         "showticklabels": false
        }
       }
      }
     },
     "metadata": {},
     "output_type": "display_data"
    }
   ],
   "source": [
    "optuna.visualization.plot_slice(study)"
   ]
  },
  {
   "cell_type": "code",
   "execution_count": 161,
   "metadata": {},
   "outputs": [
    {
     "data": {
      "application/vnd.plotly.v1+json": {
       "config": {
        "plotlyServerURL": "https://plot.ly"
       },
       "data": [
        {
         "cliponaxis": false,
         "hovertemplate": [
          "random_strength (FloatDistribution): 7.6182627311367365e-06<extra></extra>",
          "l2_leaf_reg (FloatDistribution): 0.001139032773808588<extra></extra>",
          "depth (IntDistribution): 0.005680130059410604<extra></extra>",
          "bagging_temperature (FloatDistribution): 0.006127110881046758<extra></extra>",
          "iterations (IntDistribution): 0.019551724849348428<extra></extra>",
          "min_child_samples (IntDistribution): 0.05920632205801587<extra></extra>",
          "border_count (IntDistribution): 0.10066113090903463<extra></extra>",
          "od_wait (IntDistribution): 0.12393331522839206<extra></extra>",
          "learning_rate (FloatDistribution): 0.6836936149782119<extra></extra>"
         ],
         "name": "Objective Value",
         "orientation": "h",
         "text": [
          "<0.01",
          "<0.01",
          "<0.01",
          "<0.01",
          "0.02",
          "0.06",
          "0.10",
          "0.12",
          "0.68"
         ],
         "textposition": "outside",
         "type": "bar",
         "x": [
          0.0000076182627311367365,
          0.001139032773808588,
          0.005680130059410604,
          0.006127110881046758,
          0.019551724849348428,
          0.05920632205801587,
          0.10066113090903463,
          0.12393331522839206,
          0.6836936149782119
         ],
         "y": [
          "random_strength",
          "l2_leaf_reg",
          "depth",
          "bagging_temperature",
          "iterations",
          "min_child_samples",
          "border_count",
          "od_wait",
          "learning_rate"
         ]
        }
       ],
       "layout": {
        "template": {
         "data": {
          "bar": [
           {
            "error_x": {
             "color": "#2a3f5f"
            },
            "error_y": {
             "color": "#2a3f5f"
            },
            "marker": {
             "line": {
              "color": "#E5ECF6",
              "width": 0.5
             },
             "pattern": {
              "fillmode": "overlay",
              "size": 10,
              "solidity": 0.2
             }
            },
            "type": "bar"
           }
          ],
          "barpolar": [
           {
            "marker": {
             "line": {
              "color": "#E5ECF6",
              "width": 0.5
             },
             "pattern": {
              "fillmode": "overlay",
              "size": 10,
              "solidity": 0.2
             }
            },
            "type": "barpolar"
           }
          ],
          "carpet": [
           {
            "aaxis": {
             "endlinecolor": "#2a3f5f",
             "gridcolor": "white",
             "linecolor": "white",
             "minorgridcolor": "white",
             "startlinecolor": "#2a3f5f"
            },
            "baxis": {
             "endlinecolor": "#2a3f5f",
             "gridcolor": "white",
             "linecolor": "white",
             "minorgridcolor": "white",
             "startlinecolor": "#2a3f5f"
            },
            "type": "carpet"
           }
          ],
          "choropleth": [
           {
            "colorbar": {
             "outlinewidth": 0,
             "ticks": ""
            },
            "type": "choropleth"
           }
          ],
          "contour": [
           {
            "colorbar": {
             "outlinewidth": 0,
             "ticks": ""
            },
            "colorscale": [
             [
              0,
              "#0d0887"
             ],
             [
              0.1111111111111111,
              "#46039f"
             ],
             [
              0.2222222222222222,
              "#7201a8"
             ],
             [
              0.3333333333333333,
              "#9c179e"
             ],
             [
              0.4444444444444444,
              "#bd3786"
             ],
             [
              0.5555555555555556,
              "#d8576b"
             ],
             [
              0.6666666666666666,
              "#ed7953"
             ],
             [
              0.7777777777777778,
              "#fb9f3a"
             ],
             [
              0.8888888888888888,
              "#fdca26"
             ],
             [
              1,
              "#f0f921"
             ]
            ],
            "type": "contour"
           }
          ],
          "contourcarpet": [
           {
            "colorbar": {
             "outlinewidth": 0,
             "ticks": ""
            },
            "type": "contourcarpet"
           }
          ],
          "heatmap": [
           {
            "colorbar": {
             "outlinewidth": 0,
             "ticks": ""
            },
            "colorscale": [
             [
              0,
              "#0d0887"
             ],
             [
              0.1111111111111111,
              "#46039f"
             ],
             [
              0.2222222222222222,
              "#7201a8"
             ],
             [
              0.3333333333333333,
              "#9c179e"
             ],
             [
              0.4444444444444444,
              "#bd3786"
             ],
             [
              0.5555555555555556,
              "#d8576b"
             ],
             [
              0.6666666666666666,
              "#ed7953"
             ],
             [
              0.7777777777777778,
              "#fb9f3a"
             ],
             [
              0.8888888888888888,
              "#fdca26"
             ],
             [
              1,
              "#f0f921"
             ]
            ],
            "type": "heatmap"
           }
          ],
          "heatmapgl": [
           {
            "colorbar": {
             "outlinewidth": 0,
             "ticks": ""
            },
            "colorscale": [
             [
              0,
              "#0d0887"
             ],
             [
              0.1111111111111111,
              "#46039f"
             ],
             [
              0.2222222222222222,
              "#7201a8"
             ],
             [
              0.3333333333333333,
              "#9c179e"
             ],
             [
              0.4444444444444444,
              "#bd3786"
             ],
             [
              0.5555555555555556,
              "#d8576b"
             ],
             [
              0.6666666666666666,
              "#ed7953"
             ],
             [
              0.7777777777777778,
              "#fb9f3a"
             ],
             [
              0.8888888888888888,
              "#fdca26"
             ],
             [
              1,
              "#f0f921"
             ]
            ],
            "type": "heatmapgl"
           }
          ],
          "histogram": [
           {
            "marker": {
             "pattern": {
              "fillmode": "overlay",
              "size": 10,
              "solidity": 0.2
             }
            },
            "type": "histogram"
           }
          ],
          "histogram2d": [
           {
            "colorbar": {
             "outlinewidth": 0,
             "ticks": ""
            },
            "colorscale": [
             [
              0,
              "#0d0887"
             ],
             [
              0.1111111111111111,
              "#46039f"
             ],
             [
              0.2222222222222222,
              "#7201a8"
             ],
             [
              0.3333333333333333,
              "#9c179e"
             ],
             [
              0.4444444444444444,
              "#bd3786"
             ],
             [
              0.5555555555555556,
              "#d8576b"
             ],
             [
              0.6666666666666666,
              "#ed7953"
             ],
             [
              0.7777777777777778,
              "#fb9f3a"
             ],
             [
              0.8888888888888888,
              "#fdca26"
             ],
             [
              1,
              "#f0f921"
             ]
            ],
            "type": "histogram2d"
           }
          ],
          "histogram2dcontour": [
           {
            "colorbar": {
             "outlinewidth": 0,
             "ticks": ""
            },
            "colorscale": [
             [
              0,
              "#0d0887"
             ],
             [
              0.1111111111111111,
              "#46039f"
             ],
             [
              0.2222222222222222,
              "#7201a8"
             ],
             [
              0.3333333333333333,
              "#9c179e"
             ],
             [
              0.4444444444444444,
              "#bd3786"
             ],
             [
              0.5555555555555556,
              "#d8576b"
             ],
             [
              0.6666666666666666,
              "#ed7953"
             ],
             [
              0.7777777777777778,
              "#fb9f3a"
             ],
             [
              0.8888888888888888,
              "#fdca26"
             ],
             [
              1,
              "#f0f921"
             ]
            ],
            "type": "histogram2dcontour"
           }
          ],
          "mesh3d": [
           {
            "colorbar": {
             "outlinewidth": 0,
             "ticks": ""
            },
            "type": "mesh3d"
           }
          ],
          "parcoords": [
           {
            "line": {
             "colorbar": {
              "outlinewidth": 0,
              "ticks": ""
             }
            },
            "type": "parcoords"
           }
          ],
          "pie": [
           {
            "automargin": true,
            "type": "pie"
           }
          ],
          "scatter": [
           {
            "fillpattern": {
             "fillmode": "overlay",
             "size": 10,
             "solidity": 0.2
            },
            "type": "scatter"
           }
          ],
          "scatter3d": [
           {
            "line": {
             "colorbar": {
              "outlinewidth": 0,
              "ticks": ""
             }
            },
            "marker": {
             "colorbar": {
              "outlinewidth": 0,
              "ticks": ""
             }
            },
            "type": "scatter3d"
           }
          ],
          "scattercarpet": [
           {
            "marker": {
             "colorbar": {
              "outlinewidth": 0,
              "ticks": ""
             }
            },
            "type": "scattercarpet"
           }
          ],
          "scattergeo": [
           {
            "marker": {
             "colorbar": {
              "outlinewidth": 0,
              "ticks": ""
             }
            },
            "type": "scattergeo"
           }
          ],
          "scattergl": [
           {
            "marker": {
             "colorbar": {
              "outlinewidth": 0,
              "ticks": ""
             }
            },
            "type": "scattergl"
           }
          ],
          "scattermapbox": [
           {
            "marker": {
             "colorbar": {
              "outlinewidth": 0,
              "ticks": ""
             }
            },
            "type": "scattermapbox"
           }
          ],
          "scatterpolar": [
           {
            "marker": {
             "colorbar": {
              "outlinewidth": 0,
              "ticks": ""
             }
            },
            "type": "scatterpolar"
           }
          ],
          "scatterpolargl": [
           {
            "marker": {
             "colorbar": {
              "outlinewidth": 0,
              "ticks": ""
             }
            },
            "type": "scatterpolargl"
           }
          ],
          "scatterternary": [
           {
            "marker": {
             "colorbar": {
              "outlinewidth": 0,
              "ticks": ""
             }
            },
            "type": "scatterternary"
           }
          ],
          "surface": [
           {
            "colorbar": {
             "outlinewidth": 0,
             "ticks": ""
            },
            "colorscale": [
             [
              0,
              "#0d0887"
             ],
             [
              0.1111111111111111,
              "#46039f"
             ],
             [
              0.2222222222222222,
              "#7201a8"
             ],
             [
              0.3333333333333333,
              "#9c179e"
             ],
             [
              0.4444444444444444,
              "#bd3786"
             ],
             [
              0.5555555555555556,
              "#d8576b"
             ],
             [
              0.6666666666666666,
              "#ed7953"
             ],
             [
              0.7777777777777778,
              "#fb9f3a"
             ],
             [
              0.8888888888888888,
              "#fdca26"
             ],
             [
              1,
              "#f0f921"
             ]
            ],
            "type": "surface"
           }
          ],
          "table": [
           {
            "cells": {
             "fill": {
              "color": "#EBF0F8"
             },
             "line": {
              "color": "white"
             }
            },
            "header": {
             "fill": {
              "color": "#C8D4E3"
             },
             "line": {
              "color": "white"
             }
            },
            "type": "table"
           }
          ]
         },
         "layout": {
          "annotationdefaults": {
           "arrowcolor": "#2a3f5f",
           "arrowhead": 0,
           "arrowwidth": 1
          },
          "autotypenumbers": "strict",
          "coloraxis": {
           "colorbar": {
            "outlinewidth": 0,
            "ticks": ""
           }
          },
          "colorscale": {
           "diverging": [
            [
             0,
             "#8e0152"
            ],
            [
             0.1,
             "#c51b7d"
            ],
            [
             0.2,
             "#de77ae"
            ],
            [
             0.3,
             "#f1b6da"
            ],
            [
             0.4,
             "#fde0ef"
            ],
            [
             0.5,
             "#f7f7f7"
            ],
            [
             0.6,
             "#e6f5d0"
            ],
            [
             0.7,
             "#b8e186"
            ],
            [
             0.8,
             "#7fbc41"
            ],
            [
             0.9,
             "#4d9221"
            ],
            [
             1,
             "#276419"
            ]
           ],
           "sequential": [
            [
             0,
             "#0d0887"
            ],
            [
             0.1111111111111111,
             "#46039f"
            ],
            [
             0.2222222222222222,
             "#7201a8"
            ],
            [
             0.3333333333333333,
             "#9c179e"
            ],
            [
             0.4444444444444444,
             "#bd3786"
            ],
            [
             0.5555555555555556,
             "#d8576b"
            ],
            [
             0.6666666666666666,
             "#ed7953"
            ],
            [
             0.7777777777777778,
             "#fb9f3a"
            ],
            [
             0.8888888888888888,
             "#fdca26"
            ],
            [
             1,
             "#f0f921"
            ]
           ],
           "sequentialminus": [
            [
             0,
             "#0d0887"
            ],
            [
             0.1111111111111111,
             "#46039f"
            ],
            [
             0.2222222222222222,
             "#7201a8"
            ],
            [
             0.3333333333333333,
             "#9c179e"
            ],
            [
             0.4444444444444444,
             "#bd3786"
            ],
            [
             0.5555555555555556,
             "#d8576b"
            ],
            [
             0.6666666666666666,
             "#ed7953"
            ],
            [
             0.7777777777777778,
             "#fb9f3a"
            ],
            [
             0.8888888888888888,
             "#fdca26"
            ],
            [
             1,
             "#f0f921"
            ]
           ]
          },
          "colorway": [
           "#636efa",
           "#EF553B",
           "#00cc96",
           "#ab63fa",
           "#FFA15A",
           "#19d3f3",
           "#FF6692",
           "#B6E880",
           "#FF97FF",
           "#FECB52"
          ],
          "font": {
           "color": "#2a3f5f"
          },
          "geo": {
           "bgcolor": "white",
           "lakecolor": "white",
           "landcolor": "#E5ECF6",
           "showlakes": true,
           "showland": true,
           "subunitcolor": "white"
          },
          "hoverlabel": {
           "align": "left"
          },
          "hovermode": "closest",
          "mapbox": {
           "style": "light"
          },
          "paper_bgcolor": "white",
          "plot_bgcolor": "#E5ECF6",
          "polar": {
           "angularaxis": {
            "gridcolor": "white",
            "linecolor": "white",
            "ticks": ""
           },
           "bgcolor": "#E5ECF6",
           "radialaxis": {
            "gridcolor": "white",
            "linecolor": "white",
            "ticks": ""
           }
          },
          "scene": {
           "xaxis": {
            "backgroundcolor": "#E5ECF6",
            "gridcolor": "white",
            "gridwidth": 2,
            "linecolor": "white",
            "showbackground": true,
            "ticks": "",
            "zerolinecolor": "white"
           },
           "yaxis": {
            "backgroundcolor": "#E5ECF6",
            "gridcolor": "white",
            "gridwidth": 2,
            "linecolor": "white",
            "showbackground": true,
            "ticks": "",
            "zerolinecolor": "white"
           },
           "zaxis": {
            "backgroundcolor": "#E5ECF6",
            "gridcolor": "white",
            "gridwidth": 2,
            "linecolor": "white",
            "showbackground": true,
            "ticks": "",
            "zerolinecolor": "white"
           }
          },
          "shapedefaults": {
           "line": {
            "color": "#2a3f5f"
           }
          },
          "ternary": {
           "aaxis": {
            "gridcolor": "white",
            "linecolor": "white",
            "ticks": ""
           },
           "baxis": {
            "gridcolor": "white",
            "linecolor": "white",
            "ticks": ""
           },
           "bgcolor": "#E5ECF6",
           "caxis": {
            "gridcolor": "white",
            "linecolor": "white",
            "ticks": ""
           }
          },
          "title": {
           "x": 0.05
          },
          "xaxis": {
           "automargin": true,
           "gridcolor": "white",
           "linecolor": "white",
           "ticks": "",
           "title": {
            "standoff": 15
           },
           "zerolinecolor": "white",
           "zerolinewidth": 2
          },
          "yaxis": {
           "automargin": true,
           "gridcolor": "white",
           "linecolor": "white",
           "ticks": "",
           "title": {
            "standoff": 15
           },
           "zerolinecolor": "white",
           "zerolinewidth": 2
          }
         }
        },
        "title": {
         "text": "Hyperparameter Importances"
        },
        "xaxis": {
         "title": {
          "text": "Hyperparameter Importance"
         }
        },
        "yaxis": {
         "title": {
          "text": "Hyperparameter"
         }
        }
       }
      }
     },
     "metadata": {},
     "output_type": "display_data"
    }
   ],
   "source": [
    "optuna.visualization.plot_param_importances(study)"
   ]
  },
  {
   "cell_type": "code",
   "execution_count": 162,
   "metadata": {},
   "outputs": [
    {
     "name": "stderr",
     "output_type": "stream",
     "text": [
      "100%|██████████| 10/10 [00:05<00:00,  1.87it/s]\n"
     ]
    }
   ],
   "source": [
    "regressor = CatBoostRegressor(**study.best_params)\n",
    "\n",
    "for X_train, y_train, X_test, y_test in tqdm(ts.folds):\n",
    "\n",
    "    regressor.fit(X_train, y_train, verbose=0)\n",
    "\n",
    "    y_pred = pd.Series(\n",
    "        regressor.predict(X_test),\n",
    "        index=X_test.index\n",
    "    )\n",
    "\n",
    "    y_pred_list.append(y_pred) "
   ]
  },
  {
   "cell_type": "code",
   "execution_count": 163,
   "metadata": {},
   "outputs": [
    {
     "name": "stdout",
     "output_type": "stream",
     "text": [
      "MASE: 0.72 (во сколько раз абсолютная ошибка прогноза меньше абсолютной ошибки наивного прогноза)\n",
      "SMAPE: 168.73% (на сколько % в среднем модель ошибается)\n"
     ]
    }
   ],
   "source": [
    "ts.get_model_result(y_pred_list) "
   ]
  },
  {
   "cell_type": "code",
   "execution_count": 164,
   "metadata": {},
   "outputs": [
    {
     "data": {
      "image/png": "[encoded data removed]",
      "text/plain": [
       "<Figure size 1000x600 with 1 Axes>"
      ]
     },
     "metadata": {},
     "output_type": "display_data"
    }
   ],
   "source": [
    "ts.get_visualisation(start_date='2023-09-01')"
   ]
  }
 ],
 "metadata": {
  "kernelspec": {
   "display_name": "Python 3",
   "language": "python",
   "name": "python3"
  },
  "language_info": {
   "codemirror_mode": {
    "name": "ipython",
    "version": 3
   },
   "file_extension": ".py",
   "mimetype": "text/x-python",
   "name": "python",
   "nbconvert_exporter": "python",
   "pygments_lexer": "ipython3",
   "version": "3.10.9"
  }
 },
 "nbformat": 4,
 "nbformat_minor": 2
}
