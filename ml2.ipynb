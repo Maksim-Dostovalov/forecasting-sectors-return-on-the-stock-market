{
 "cells": [
  {
   "cell_type": "code",
   "execution_count": 436,
   "metadata": {},
   "outputs": [],
   "source": [
    "import numpy as np\n",
    "import pandas as pd\n",
    "import matplotlib.pyplot as plt\n",
    "from scipy import stats\n",
    "import seaborn as sns\n",
    "from tqdm import tqdm\n",
    "\n",
    "import warnings\n",
    "warnings.filterwarnings('ignore')"
   ]
  },
  {
   "cell_type": "code",
   "execution_count": 437,
   "metadata": {},
   "outputs": [],
   "source": [
    "data = pd.read_csv('./data/data_indexes_moex_log_returns.csv', index_col=0)"
   ]
  },
  {
   "cell_type": "code",
   "execution_count": 438,
   "metadata": {},
   "outputs": [],
   "source": [
    "from typing import List, Union\n",
    "\n",
    "\n",
    "def MASE(y_true: pd.Series, y_pred: pd.Series) -> float:\n",
    "    '''\n",
    "    Вычисляет Mean Absolute Scaled Error (MASE) между фактическими и прогнозируемыми значениями.\n",
    "\n",
    "    Параметры:\n",
    "            y_true (pd.Series): Серия с фактическими значениями.\n",
    "            y_pred (pd.Series): Серия с прогнозируемыми значениями.\n",
    "\n",
    "    Возвращаемое значение:\n",
    "            float: Значение MASE.\n",
    "    '''\n",
    "    # Создание наивного прогноза с использованием сдвига временного ряда\n",
    "    naive_forecast = y_true.shift(1)\n",
    "    naive_forecast.iloc[0] = y_true.iloc[0]\n",
    "\n",
    "    # Вычисление средней абсолютной ошибки для модели и наивного прогноза\n",
    "    average_errors = (y_true - y_pred).abs()\n",
    "    naive_average_errors = (y_true - naive_forecast).abs()\n",
    "\n",
    "    result = average_errors.mean() / naive_average_errors.mean()\n",
    "    return result\n",
    "\n",
    "\n",
    "def SMAPE(y_true: pd.Series, y_pred: pd.Series) -> float:\n",
    "    '''\n",
    "    Вычисляет Symmetric Mean Absolute Percentage Error (SMAPE) между фактическими и прогнозируемыми значениями.\n",
    "\n",
    "    Параметры:\n",
    "            y_true (pd.Series): Серия с фактическими значениями.\n",
    "            y_pred (pd.Series): Серия с прогнозируемыми значениями.\n",
    "\n",
    "    Возвращаемое значение:\n",
    "            float: Значение SMAPE.\n",
    "    '''\n",
    "    # Избегание деления на ноль добавлением небольшого числа в знаменатель\n",
    "    denominator = np.abs(y_true) + np.abs(y_pred) + np.finfo(float).eps\n",
    "    result = (200 / len(y_true)) * np.sum(np.abs(y_pred - y_true) / denominator)\n",
    "    return result\n",
    "\n",
    "\n",
    "class TimeSeriesProcessor:\n",
    "    '''\n",
    "    Класс для работы с временными рядами, включая добавление лагов, интеграцию внешних переменных,\n",
    "    создание разбиений для валидации, вычисление метрик и визуализацию результатов.\n",
    "\n",
    "    Методы:\n",
    "        add_lags(self, lags: List[int], drop_na: bool = True):\n",
    "            Добавление лагов к переменным временного ряда.\n",
    "        add_other_variables(self, other_variables: pd.DataFrame):\n",
    "            Добавление дополнительных переменных к данным.\n",
    "        get_folds(self, horizon: int = 25):\n",
    "            Создание разбиений данных для тестирования.\n",
    "        get_model_result(self, y_pred_list: List[pd.Series]):\n",
    "            Вычисление и вывод метрик для модели.\n",
    "        get_visualisation(self):\n",
    "            Визуализация фактических и прогнозируемых значений.\n",
    "    '''\n",
    "    def __init__(\n",
    "            self, \n",
    "            data: Union[pd.Series, pd.DataFrame], \n",
    "            target_name: str = None,\n",
    "            interpolate: bool = True,\n",
    "            dropna: bool = True\n",
    "            ) -> None:\n",
    "        '''\n",
    "        Инициализирует объект класса с данными временного ряда.\n",
    "\n",
    "        Параметры:\n",
    "            data (Union[pd.Series, pd.DataFrame]): Временной ряд в формате pd.Series или pd.DataFrame.\n",
    "            target_name (str, опционально): Имя целевой переменной в случае pd.DataFrame.\n",
    "            interpolate (bool): Необходимо ли интерполировать данные.\n",
    "            dropna (bool): Необходимо ли удалить пропущенные значения.\n",
    "        '''\n",
    "        if not isinstance(data.index, pd.DatetimeIndex):\n",
    "            print('Новый тип индексов: pd.DatetimeIndex')\n",
    "            data.index = pd.to_datetime(data.index)\n",
    "        \n",
    "        if interpolate:\n",
    "            data = data.interpolate(method='time')\n",
    "        \n",
    "        if dropna:\n",
    "            data = data.dropna()\n",
    "\n",
    "        if isinstance(data, pd.Series):\n",
    "            if target_name is not None:\n",
    "                print(\"Предупреждение: target_name не нужно указывать для data: pd.Series\")\n",
    "            self.y = data\n",
    "            self.X = pd.DataFrame(index=self.y.index)\n",
    "        else:\n",
    "            if target_name is None:\n",
    "                raise ValueError(\"target_name обязательный параметр для data: pd.DataFrame\")\n",
    "            self.y = data[target_name]\n",
    "            self.X = data.drop([target_name], axis=1)\n",
    "\n",
    "        self.get_folds_was_called = False\n",
    "        self.y_pred = None\n",
    "\n",
    "    def add_lags(self, lags: List[int], drop_na: bool = True) -> None:\n",
    "        '''\n",
    "        Добавляет лаги (отставания) к временному ряду как новые признаки.\n",
    "\n",
    "        Параметры:\n",
    "            lags (List[int]): Список целых чисел, каждое из которых указывает на количество шагов отставания.\n",
    "            drop_na (bool): Если True, то строки с пропущенными значениями после добавления лагов будут удалены.\n",
    "        '''\n",
    "        for lag in lags:\n",
    "            self.X[f'lag_{lag}'] = self.y.shift(lag)\n",
    "\n",
    "        if drop_na:\n",
    "            self.X.dropna(inplace=True)\n",
    "            self.y = self.y.loc[self.X.index]\n",
    "\n",
    "        if self.get_folds_was_called:\n",
    "            self.get_folds(horizon=self.horizon)\n",
    "\n",
    "    def add_other_variables(self, other_variables: pd.DataFrame) -> None:\n",
    "        '''\n",
    "        Добавляет дополнительные внешние переменные к данным временного ряда.\n",
    "\n",
    "        Параметры:\n",
    "            other_variables (pd.DataFrame): DataFrame, содержащий внешние переменные для добавления.\n",
    "        '''\n",
    "        if other_variables.isna().any().any():\n",
    "            print('Предупреждение: в other_variables есть пропуски. Алгоритм не предусматривает их наличие')\n",
    "\n",
    "        self.X = pd.concat([self.X, other_variables], axis=1, join='inner')\n",
    "\n",
    "        if self.get_folds_was_called:\n",
    "            self.get_folds(horizon=self.horizon)\n",
    "\n",
    "    def get_folds(self, horizon: int = 25, num_recent_folds: int = None) -> None:\n",
    "        '''\n",
    "        Создает разбиения данных для кросс-валидации на основе указанного горизонта прогнозирования.\n",
    "\n",
    "        Параметры:\n",
    "            horizon (int): Горизонт прогнозирования, используемый для создания тестовых разбиений.\n",
    "            num_recent_folds (int, optional): Количество последних разбиений для включения в результат.\n",
    "                Если не указано, используются все разбиения.\n",
    "        '''\n",
    "        self.horizon = horizon\n",
    "        self.folds = []\n",
    "        for i in range(0, len(self.X) - horizon, horizon):\n",
    "            X_test = self.X.iloc[i:i + horizon]\n",
    "            y_test = self.y.iloc[i:i + horizon]\n",
    "\n",
    "            X_train = self.X.drop(X_test.index)\n",
    "            y_train = self.y.drop(y_test.index)\n",
    "            \n",
    "            self.folds.append((X_train, y_train, X_test, y_test))\n",
    "        \n",
    "        if num_recent_folds is not None:\n",
    "            self.folds = self.folds[-num_recent_folds:]\n",
    "        \n",
    "        self.get_folds_was_called = True\n",
    "\n",
    "    def get_model_result(self, y_pred_list: List[pd.Series]) -> None:\n",
    "        '''\n",
    "        Вычисляет и выводит метрики качества модели на основе совокупности предсказаний.\n",
    "\n",
    "        Параметры:\n",
    "            y_pred_list (List[pd.Series]): Список pd.Series с прогнозами модели для каждого разбиения.\n",
    "        '''\n",
    "        self.y_pred = pd.concat(y_pred_list)\n",
    "        self.y_true = self.y.loc[self.y_pred.index]\n",
    "\n",
    "        self.mase = MASE(self.y_true, self.y_pred)\n",
    "        self.smape = SMAPE(self.y_true, self.y_pred)\n",
    "\n",
    "        print(f'MASE: {self.mase:.2f} (во сколько раз абсолютная ошибка прогноза меньше абсолютной ошибки наивного прогноза)')\n",
    "        print(f'SMAPE: {self.smape:.2f}% (на сколько % в среднем модель ошибается)')\n",
    "\n",
    "    def get_visualisation(self, start_date=None, end_date=None) -> None:\n",
    "        '''\n",
    "        Отображает визуализацию сравнения фактических значений временного ряда с прогнозными.\n",
    "        \n",
    "        Параметры:\n",
    "            start_date (str, optional): Начальная дата среза для визуализации в формате 'YYYY-MM-DD'.\n",
    "                                        Если None, визуализация начинается с первой доступной даты.\n",
    "            end_date (str, optional): Конечная дата среза для визуализации в формате 'YYYY-MM-DD'.\n",
    "                                      Если None, визуализация идет до последней доступной даты.\n",
    "        '''\n",
    "        if self.y_pred is None:\n",
    "            raise ValueError('Метод get_visualisation должен вызываться после вызова метода get_model_result')\n",
    "        \n",
    "        # Создание копий серий для обеспечения возможности среза\n",
    "        y_true_sliced = self.y_true.copy()\n",
    "        y_pred_sliced = self.y_pred.copy()\n",
    "        \n",
    "        # Применение среза, если указаны даты\n",
    "        if start_date:\n",
    "            y_true_sliced = y_true_sliced[start_date:]\n",
    "            y_pred_sliced = y_pred_sliced[start_date:]\n",
    "        if end_date:\n",
    "            y_true_sliced = y_true_sliced[:end_date]\n",
    "            y_pred_sliced = y_pred_sliced[:end_date]\n",
    "        \n",
    "        plt.figure(figsize=(10, 6))\n",
    "        sns.lineplot(data=y_true_sliced, label=\"Actual\")\n",
    "        sns.lineplot(data=y_pred_sliced, label=\"Predicted\")\n",
    "        plt.title(\"Actual vs Predicted\")\n",
    "        plt.legend()\n",
    "        plt.show()"
   ]
  },
  {
   "cell_type": "markdown",
   "metadata": {},
   "source": [
    "# Пример использования"
   ]
  },
  {
   "cell_type": "markdown",
   "metadata": {},
   "source": [
    "Запихиваем ряд с доходностями в экземпляр класса"
   ]
  },
  {
   "cell_type": "code",
   "execution_count": 439,
   "metadata": {},
   "outputs": [
    {
     "name": "stdout",
     "output_type": "stream",
     "text": [
      "Новый тип индексов: pd.DatetimeIndex\n"
     ]
    }
   ],
   "source": [
    "ts = TimeSeriesProcessor(data=data.MOEXMM)\n"
   ]
  },
  {
   "cell_type": "markdown",
   "metadata": {},
   "source": [
    "Добавляем лаговые переменные (какие хотим). Они автоматически появятся в ts.X"
   ]
  },
  {
   "cell_type": "code",
   "execution_count": 440,
   "metadata": {},
   "outputs": [],
   "source": [
    "ts.add_lags(lags=[1, 2, 3, 4, 5, 10, 30])"
   ]
  },
  {
   "cell_type": "markdown",
   "metadata": {},
   "source": [
    "Дробим на фолды (как говорил Александр Владимирович). num_recent_folds нужен для ускорения работы. Если алгоритм будет работать очень долго, можно будет просто взять только несколько последних фолдов и получить среднее предсказание по ним"
   ]
  },
  {
   "cell_type": "code",
   "execution_count": 441,
   "metadata": {},
   "outputs": [],
   "source": [
    "ts.get_folds(horizon=30, num_recent_folds=None) "
   ]
  },
  {
   "cell_type": "markdown",
   "metadata": {},
   "source": [
    "так мы можем добавть любые переменные в модель в виде pd.Dataframe. Они автоматически появятся в ts.X"
   ]
  },
  {
   "cell_type": "code",
   "execution_count": 442,
   "metadata": {},
   "outputs": [],
   "source": [
    "# ts.add_other_variables(other_variables=any_data)"
   ]
  },
  {
   "cell_type": "markdown",
   "metadata": {},
   "source": [
    "Обучаем модель на каждом трейне и предсказываем тест на каждом фолде. Для этого циклом проходимся по ts.folds. Он является списком кортежей, уже включающих в себя X_train, y_train, X_test, y_test. Каждый элемент списка - фолд"
   ]
  },
  {
   "cell_type": "code",
   "execution_count": 443,
   "metadata": {},
   "outputs": [
    {
     "name": "stderr",
     "output_type": "stream",
     "text": [
      "100%|██████████| 158/158 [00:01<00:00, 116.45it/s]\n"
     ]
    }
   ],
   "source": [
    "from sklearn.linear_model import LinearRegression\n",
    "\n",
    "model = LinearRegression()\n",
    "\n",
    "y_pred_list = []\n",
    "\n",
    "for X_train, y_train, X_test, y_test in tqdm(ts.folds):  # tqdm чтобы визуализировать загрузку\n",
    "\n",
    "    model.fit(X_train, y_train)\n",
    "\n",
    "    y_pred = pd.Series(\n",
    "        model.predict(X_test),\n",
    "        index=X_test.index\n",
    "    ) # Класс принимает только pandas форматы, а model.predict возвращает np.array. Поэтому преобразую в pd.Series\n",
    "\n",
    "    y_pred_list.append(y_pred) "
   ]
  },
  {
   "cell_type": "markdown",
   "metadata": {},
   "source": [
    "Выводим совокупный результат на всех тестах всех фолдов"
   ]
  },
  {
   "cell_type": "code",
   "execution_count": 444,
   "metadata": {},
   "outputs": [
    {
     "name": "stdout",
     "output_type": "stream",
     "text": [
      "MASE: 0.72 (во сколько раз абсолютная ошибка прогноза меньше абсолютной ошибки наивного прогноза)\n",
      "SMAPE: 173.01% (на сколько % в среднем модель ошибается)\n"
     ]
    }
   ],
   "source": [
    "ts.get_model_result(y_pred_list) "
   ]
  },
  {
   "cell_type": "markdown",
   "metadata": {},
   "source": [
    "Можем визуализировать работу модели"
   ]
  },
  {
   "cell_type": "code",
   "execution_count": 445,
   "metadata": {},
   "outputs": [
    {
     "data": {
      "image/png": "[encoded data removed]",
      "text/plain": [
       "<Figure size 1000x600 with 1 Axes>"
      ]
     },
     "metadata": {},
     "output_type": "display_data"
    }
   ],
   "source": [
    "ts.get_visualisation(start_date='2022-07-01', end_date='2023-01-01')"
   ]
  },
  {
   "cell_type": "markdown",
   "metadata": {},
   "source": [
    "Также в ходе работы можно посмотреть на состояние предикторов в любой момент времени"
   ]
  },
  {
   "cell_type": "code",
   "execution_count": 446,
   "metadata": {},
   "outputs": [
    {
     "data": {
      "text/html": [
       "<div>\n",
       "<style scoped>\n",
       "    .dataframe tbody tr th:only-of-type {\n",
       "        vertical-align: middle;\n",
       "    }\n",
       "\n",
       "    .dataframe tbody tr th {\n",
       "        vertical-align: top;\n",
       "    }\n",
       "\n",
       "    .dataframe thead th {\n",
       "        text-align: right;\n",
       "    }\n",
       "</style>\n",
       "<table border=\"1\" class=\"dataframe\">\n",
       "  <thead>\n",
       "    <tr style=\"text-align: right;\">\n",
       "      <th></th>\n",
       "      <th>lag_1</th>\n",
       "      <th>lag_2</th>\n",
       "      <th>lag_3</th>\n",
       "      <th>lag_4</th>\n",
       "      <th>lag_5</th>\n",
       "      <th>lag_10</th>\n",
       "      <th>lag_30</th>\n",
       "    </tr>\n",
       "    <tr>\n",
       "      <th>TRADEDATE</th>\n",
       "      <th></th>\n",
       "      <th></th>\n",
       "      <th></th>\n",
       "      <th></th>\n",
       "      <th></th>\n",
       "      <th></th>\n",
       "      <th></th>\n",
       "    </tr>\n",
       "  </thead>\n",
       "  <tbody>\n",
       "    <tr>\n",
       "      <th>2005-02-24</th>\n",
       "      <td>0.005027</td>\n",
       "      <td>0.011620</td>\n",
       "      <td>-0.001743</td>\n",
       "      <td>0.007954</td>\n",
       "      <td>0.005600</td>\n",
       "      <td>-0.011543</td>\n",
       "      <td>-0.013441</td>\n",
       "    </tr>\n",
       "    <tr>\n",
       "      <th>2005-02-25</th>\n",
       "      <td>0.039721</td>\n",
       "      <td>0.005027</td>\n",
       "      <td>0.011620</td>\n",
       "      <td>-0.001743</td>\n",
       "      <td>0.007954</td>\n",
       "      <td>0.005217</td>\n",
       "      <td>-0.005678</td>\n",
       "    </tr>\n",
       "    <tr>\n",
       "      <th>2005-02-28</th>\n",
       "      <td>0.004220</td>\n",
       "      <td>0.039721</td>\n",
       "      <td>0.005027</td>\n",
       "      <td>0.011620</td>\n",
       "      <td>-0.001743</td>\n",
       "      <td>-0.001106</td>\n",
       "      <td>0.027919</td>\n",
       "    </tr>\n",
       "    <tr>\n",
       "      <th>2005-03-01</th>\n",
       "      <td>0.044779</td>\n",
       "      <td>0.004220</td>\n",
       "      <td>0.039721</td>\n",
       "      <td>0.005027</td>\n",
       "      <td>0.011620</td>\n",
       "      <td>-0.009049</td>\n",
       "      <td>-0.000594</td>\n",
       "    </tr>\n",
       "    <tr>\n",
       "      <th>2005-03-02</th>\n",
       "      <td>-0.027531</td>\n",
       "      <td>0.044779</td>\n",
       "      <td>0.004220</td>\n",
       "      <td>0.039721</td>\n",
       "      <td>0.005027</td>\n",
       "      <td>0.017094</td>\n",
       "      <td>-0.017105</td>\n",
       "    </tr>\n",
       "  </tbody>\n",
       "</table>\n",
       "</div>"
      ],
      "text/plain": [
       "               lag_1     lag_2     lag_3     lag_4     lag_5    lag_10  \\\n",
       "TRADEDATE                                                                \n",
       "2005-02-24  0.005027  0.011620 -0.001743  0.007954  0.005600 -0.011543   \n",
       "2005-02-25  0.039721  0.005027  0.011620 -0.001743  0.007954  0.005217   \n",
       "2005-02-28  0.004220  0.039721  0.005027  0.011620 -0.001743 -0.001106   \n",
       "2005-03-01  0.044779  0.004220  0.039721  0.005027  0.011620 -0.009049   \n",
       "2005-03-02 -0.027531  0.044779  0.004220  0.039721  0.005027  0.017094   \n",
       "\n",
       "              lag_30  \n",
       "TRADEDATE             \n",
       "2005-02-24 -0.013441  \n",
       "2005-02-25 -0.005678  \n",
       "2005-02-28  0.027919  \n",
       "2005-03-01 -0.000594  \n",
       "2005-03-02 -0.017105  "
      ]
     },
     "execution_count": 446,
     "metadata": {},
     "output_type": "execute_result"
    }
   ],
   "source": [
    "ts.X.head()"
   ]
  },
  {
   "cell_type": "markdown",
   "metadata": {},
   "source": [
    "Те лаги и признаки, которые мы добавляем, автоматически попадают в ts.X"
   ]
  },
  {
   "cell_type": "markdown",
   "metadata": {},
   "source": [
    "На таргет тоже могу посмотреть"
   ]
  },
  {
   "cell_type": "code",
   "execution_count": 447,
   "metadata": {},
   "outputs": [
    {
     "data": {
      "text/plain": [
       "TRADEDATE\n",
       "2005-02-24    0.039721\n",
       "2005-02-25    0.004220\n",
       "2005-02-28    0.044779\n",
       "2005-03-01   -0.027531\n",
       "2005-03-02   -0.014182\n",
       "Name: MOEXMM, dtype: float64"
      ]
     },
     "execution_count": 447,
     "metadata": {},
     "output_type": "execute_result"
    }
   ],
   "source": [
    "ts.y.head() # На таргет тоже могу посмотреть"
   ]
  }
 ],
 "metadata": {
  "kernelspec": {
   "display_name": "Python 3",
   "language": "python",
   "name": "python3"
  },
  "language_info": {
   "codemirror_mode": {
    "name": "ipython",
    "version": 3
   },
   "file_extension": ".py",
   "mimetype": "text/x-python",
   "name": "python",
   "nbconvert_exporter": "python",
   "pygments_lexer": "ipython3",
   "version": "3.10.9"
  }
 },
 "nbformat": 4,
 "nbformat_minor": 2
}
