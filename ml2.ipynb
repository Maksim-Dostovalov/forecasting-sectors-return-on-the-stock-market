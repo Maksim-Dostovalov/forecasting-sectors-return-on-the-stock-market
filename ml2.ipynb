{
 "cells": [
  {
   "cell_type": "code",
   "execution_count": 16,
   "metadata": {},
   "outputs": [],
   "source": [
    "import numpy as np\n",
    "import pandas as pd\n",
    "import matplotlib.pyplot as plt\n",
    "from scipy import stats\n",
    "import seaborn as sns\n",
    "from tqdm import tqdm\n",
    "\n",
    "import warnings\n",
    "warnings.filterwarnings('ignore')"
   ]
  },
  {
   "cell_type": "code",
   "execution_count": 17,
   "metadata": {},
   "outputs": [],
   "source": [
    "data = pd.read_csv('./data/data_indexes_moex_log_returns.csv', index_col=0)"
   ]
  },
  {
   "cell_type": "code",
   "execution_count": 18,
   "metadata": {},
   "outputs": [],
   "source": [
    "from typing import List, Union\n",
    "\n",
    "\n",
    "def MASE(y_true: pd.Series, y_pred: pd.Series) -> float:\n",
    "    '''\n",
    "    Вычисляет Mean Absolute Scaled Error (MASE) между фактическими и прогнозируемыми значениями.\n",
    "\n",
    "    Параметры:\n",
    "            y_true (pd.Series): Серия с фактическими значениями.\n",
    "            y_pred (pd.Series): Серия с прогнозируемыми значениями.\n",
    "\n",
    "    Возвращаемое значение:\n",
    "            float: Значение MASE.\n",
    "    '''\n",
    "    # Создание наивного прогноза с использованием сдвига временного ряда\n",
    "    naive_forecast = y_true.shift(1)\n",
    "    naive_forecast.iloc[0] = y_true.iloc[0]\n",
    "\n",
    "    # Вычисление средней абсолютной ошибки для модели и наивного прогноза\n",
    "    average_errors = (y_true - y_pred).abs()\n",
    "    naive_average_errors = (y_true - naive_forecast).abs()\n",
    "\n",
    "    result = average_errors.mean() / naive_average_errors.mean()\n",
    "    return result\n",
    "\n",
    "\n",
    "def SMAPE(y_true: pd.Series, y_pred: pd.Series) -> float:\n",
    "    '''\n",
    "    Вычисляет Symmetric Mean Absolute Percentage Error (SMAPE) между фактическими и прогнозируемыми значениями.\n",
    "\n",
    "    Параметры:\n",
    "            y_true (pd.Series): Серия с фактическими значениями.\n",
    "            y_pred (pd.Series): Серия с прогнозируемыми значениями.\n",
    "\n",
    "    Возвращаемое значение:\n",
    "            float: Значение SMAPE.\n",
    "    '''\n",
    "    # Избегание деления на ноль добавлением небольшого числа в знаменатель\n",
    "    denominator = np.abs(y_true) + np.abs(y_pred) + np.finfo(float).eps\n",
    "    result = (200 / len(y_true)) * np.sum(np.abs(y_pred - y_true) / denominator)\n",
    "    return result\n",
    "\n",
    "\n",
    "class TimeSeriesProcessor:\n",
    "    '''\n",
    "    Класс для работы с временными рядами, включая добавление лагов, интеграцию внешних переменных,\n",
    "    создание разбиений для валидации, вычисление метрик и визуализацию результатов.\n",
    "\n",
    "    Методы:\n",
    "        add_lags(self, lags: List[int], drop_na: bool = True):\n",
    "            Добавление лагов к переменным временного ряда.\n",
    "        add_other_variables(self, other_variables: pd.DataFrame):\n",
    "            Добавление дополнительных переменных к данным.\n",
    "        get_folds(self, horizon: int = 25):\n",
    "            Создание разбиений данных для тестирования.\n",
    "        get_model_result(self, y_pred_list: List[pd.Series]):\n",
    "            Вычисление и вывод метрик для модели.\n",
    "        get_visualisation(self):\n",
    "            Визуализация фактических и прогнозируемых значений.\n",
    "    '''\n",
    "    def __init__(\n",
    "            self, \n",
    "            data: Union[pd.Series, pd.DataFrame], \n",
    "            target_name: str = None,\n",
    "            interpolate: bool = True,\n",
    "            dropna: bool = True\n",
    "            ) -> None:\n",
    "        '''\n",
    "        Инициализирует объект класса с данными временного ряда.\n",
    "\n",
    "        Параметры:\n",
    "            data (Union[pd.Series, pd.DataFrame]): Временной ряд в формате pd.Series или pd.DataFrame.\n",
    "            target_name (str, опционально): Имя целевой переменной в случае pd.DataFrame.\n",
    "            interpolate (bool): Необходимо ли интерполировать данные.\n",
    "            dropna (bool): Необходимо ли удалить пропущенные значения.\n",
    "        '''\n",
    "        if not isinstance(data.index, pd.DatetimeIndex):\n",
    "            print('Новый тип индексов: pd.DatetimeIndex')\n",
    "            data.index = pd.to_datetime(data.index)\n",
    "        \n",
    "        if interpolate:\n",
    "            data = data.interpolate(method='time')\n",
    "        \n",
    "        if dropna:\n",
    "            data = data.dropna()\n",
    "\n",
    "        if isinstance(data, pd.Series):\n",
    "            if target_name is not None:\n",
    "                print(\"Предупреждение: target_name не нужно указывать для data: pd.Series\")\n",
    "            self.y = data\n",
    "            self.X = pd.DataFrame(index=self.y.index)\n",
    "        else:\n",
    "            if target_name is None:\n",
    "                raise ValueError(\"target_name обязательный параметр для data: pd.DataFrame\")\n",
    "            self.y = data[target_name]\n",
    "            self.X = data.drop([target_name], axis=1)\n",
    "\n",
    "        self.get_folds_was_called = False\n",
    "        self.y_pred = None\n",
    "\n",
    "        self.y_val = None\n",
    "        self.X_val = None\n",
    "\n",
    "    def add_lags(self, lags: List[int], drop_na: bool = True) -> None:\n",
    "        '''\n",
    "        Добавляет лаги (отставания) к временному ряду как новые признаки.\n",
    "\n",
    "        Параметры:\n",
    "            lags (List[int]): Список целых чисел, каждое из которых указывает на количество шагов отставания.\n",
    "            drop_na (bool): Если True, то строки с пропущенными значениями после добавления лагов будут удалены.\n",
    "        '''\n",
    "        for lag in lags:\n",
    "            self.X[f'lag_{lag}'] = self.y.shift(lag)\n",
    "\n",
    "        if drop_na:\n",
    "            self.X.dropna(inplace=True)\n",
    "            self.y = self.y.loc[self.X.index]\n",
    "\n",
    "        if self.get_folds_was_called:\n",
    "            self.get_folds(horizon=self.horizon)\n",
    "\n",
    "    def add_other_variables(self, other_variables: pd.DataFrame) -> None:\n",
    "        '''\n",
    "        Добавляет дополнительные внешние переменные к данным временного ряда.\n",
    "\n",
    "        Параметры:\n",
    "            other_variables (pd.DataFrame): DataFrame, содержащий внешние переменные для добавления.\n",
    "        '''\n",
    "        if other_variables.isna().any().any():\n",
    "            print('Предупреждение: в other_variables есть пропуски. Алгоритм не предусматривает их наличие')\n",
    "\n",
    "        self.X = pd.concat([self.X, other_variables], axis=1, join='inner')\n",
    "\n",
    "        if self.get_folds_was_called:\n",
    "            self.get_folds(horizon=self.horizon)\n",
    "\n",
    "    def get_folds(\n",
    "            self, \n",
    "            horizon: int = 25, \n",
    "            num_recent_folds: int = None, \n",
    "            validation_part: float = None\n",
    "            ) -> None:\n",
    "        '''\n",
    "        Создает разбиения данных для кросс-валидации на основе указанного горизонта прогнозирования.\n",
    "\n",
    "        Параметры:\n",
    "            horizon (int): Горизонт прогнозирования, используемый для создания тестовых разбиений.\n",
    "            num_recent_folds (int, optional): Количество последних разбиений для включения в результат.\n",
    "                Если не указано, используются все разбиения.\n",
    "            validation_part (float): Процентное отношение объема исходных данных, отводимое для валидационного набора. Этот параметр особенно полезен в случаях, когда оптимизация гиперпараметров модели требует значительного времени. Рекомендуется однократно настроить гиперпараметры на валидационном наборе и применять их для последующих разбиений (фолдов), избегая повторного обучения на каждом фолде.\n",
    "                В случае отсутствия значения параметра, валидационная часть данных не формируется.\n",
    "        '''\n",
    "\n",
    "        if validation_part is not None:\n",
    "            if not 0 <= validation_part <= 1:\n",
    "                raise ValueError(\"validation_part может быть только числом в отрезке от 0 до 1 включительно\")\n",
    "            \n",
    "            last_val_obs = int(self.y.shape[0] * validation_part)\n",
    "\n",
    "            self.y_val, self.y = self.y.iloc[:last_val_obs], self.y.iloc[last_val_obs:]\n",
    "            self.X_val, self.X = self.X.iloc[:last_val_obs, :], self.X.iloc[last_val_obs:, :]\n",
    "\n",
    "        self.horizon = horizon\n",
    "        self.folds = []\n",
    "        for i in range(0, len(self.X) - horizon, horizon):\n",
    "            X_test = self.X.iloc[i:i + horizon]\n",
    "            y_test = self.y.iloc[i:i + horizon]\n",
    "\n",
    "            X_train = self.X.drop(X_test.index)\n",
    "            y_train = self.y.drop(y_test.index)\n",
    "            \n",
    "            self.folds.append((X_train, y_train, X_test, y_test))\n",
    "        \n",
    "        if num_recent_folds is not None:\n",
    "            self.folds = self.folds[-num_recent_folds:]\n",
    "        \n",
    "        self.get_folds_was_called = True\n",
    "\n",
    "    def get_model_result(self, y_pred_list: List[pd.Series]) -> None:\n",
    "        '''\n",
    "        Вычисляет и выводит метрики качества модели на основе совокупности предсказаний.\n",
    "\n",
    "        Параметры:\n",
    "            y_pred_list (List[pd.Series]): Список pd.Series с прогнозами модели для каждого разбиения.\n",
    "        '''\n",
    "        self.y_pred = pd.concat(y_pred_list)\n",
    "        self.y_true = self.y.loc[self.y_pred.index]\n",
    "\n",
    "        self.mase = MASE(self.y_true, self.y_pred)\n",
    "        self.smape = SMAPE(self.y_true, self.y_pred)\n",
    "\n",
    "        print(f'MASE: {self.mase:.2f} (во сколько раз абсолютная ошибка прогноза меньше абсолютной ошибки наивного прогноза)')\n",
    "        print(f'SMAPE: {self.smape:.2f}% (на сколько % в среднем модель ошибается)')\n",
    "\n",
    "    def get_visualisation(self, start_date=None, end_date=None) -> None:\n",
    "        '''\n",
    "        Отображает визуализацию сравнения фактических значений временного ряда с прогнозными.\n",
    "        \n",
    "        Параметры:\n",
    "            start_date (str, optional): Начальная дата среза для визуализации в формате 'YYYY-MM-DD'.\n",
    "                                        Если None, визуализация начинается с первой доступной даты.\n",
    "            end_date (str, optional): Конечная дата среза для визуализации в формате 'YYYY-MM-DD'.\n",
    "                                      Если None, визуализация идет до последней доступной даты.\n",
    "        '''\n",
    "        if self.y_pred is None:\n",
    "            raise ValueError('Метод get_visualisation должен вызываться после вызова метода get_model_result')\n",
    "        \n",
    "        y_true_sliced = self.y_true.copy()\n",
    "        y_pred_sliced = self.y_pred.copy()\n",
    "        \n",
    "        if start_date:\n",
    "            y_true_sliced = y_true_sliced[start_date:]\n",
    "            y_pred_sliced = y_pred_sliced[start_date:]\n",
    "        if end_date:\n",
    "            y_true_sliced = y_true_sliced[:end_date]\n",
    "            y_pred_sliced = y_pred_sliced[:end_date]\n",
    "        \n",
    "        plt.figure(figsize=(10, 6))\n",
    "        sns.lineplot(data=y_true_sliced, label=\"Actual\")\n",
    "        sns.lineplot(data=y_pred_sliced, label=\"Predicted\")\n",
    "        plt.title(\"Actual vs Predicted\")\n",
    "        plt.legend()\n",
    "        plt.show()"
   ]
  },
  {
   "cell_type": "markdown",
   "metadata": {},
   "source": [
    "# Пример использования"
   ]
  },
  {
   "cell_type": "markdown",
   "metadata": {},
   "source": [
    "Запихиваем ряд с доходностями в экземпляр класса"
   ]
  },
  {
   "cell_type": "code",
   "execution_count": 19,
   "metadata": {},
   "outputs": [
    {
     "name": "stdout",
     "output_type": "stream",
     "text": [
      "Новый тип индексов: pd.DatetimeIndex\n"
     ]
    }
   ],
   "source": [
    "ts = TimeSeriesProcessor(data=data.MOEXMM)"
   ]
  },
  {
   "cell_type": "markdown",
   "metadata": {},
   "source": [
    "Добавляем лаговые переменные (какие хотим). Они автоматически появятся в ts.X"
   ]
  },
  {
   "cell_type": "code",
   "execution_count": 20,
   "metadata": {},
   "outputs": [],
   "source": [
    "ts.add_lags(lags=[1, 2, 3, 4, 5, 10, 30])"
   ]
  },
  {
   "cell_type": "markdown",
   "metadata": {},
   "source": [
    "Дробим на фолды (как говорил Александр Владимирович). num_recent_folds нужен для ускорения работы. Если алгоритм будет работать очень долго, можно будет просто взять только несколько последних фолдов и получить среднее предсказание по ним"
   ]
  },
  {
   "cell_type": "code",
   "execution_count": 21,
   "metadata": {},
   "outputs": [],
   "source": [
    "ts.get_folds(horizon=20, num_recent_folds=10, validation_part=0.2) "
   ]
  },
  {
   "cell_type": "markdown",
   "metadata": {},
   "source": [
    "так мы можем добавть любые переменные в модель в виде pd.Dataframe. Они автоматически появятся в ts.X"
   ]
  },
  {
   "cell_type": "code",
   "execution_count": 22,
   "metadata": {},
   "outputs": [],
   "source": [
    "# ts.add_other_variables(other_variables=any_data)"
   ]
  },
  {
   "cell_type": "markdown",
   "metadata": {},
   "source": [
    "Обучаем модель на каждом трейне и предсказываем тест на каждом фолде. Для этого циклом проходимся по ts.folds. Он является списком кортежей, уже включающих в себя X_train, y_train, X_test, y_test. Каждый элемент списка - фолд"
   ]
  },
  {
   "cell_type": "code",
   "execution_count": 23,
   "metadata": {},
   "outputs": [
    {
     "name": "stderr",
     "output_type": "stream",
     "text": [
      "100%|██████████| 10/10 [00:00<00:00, 25.97it/s]\n"
     ]
    }
   ],
   "source": [
    "from sklearn.linear_model import LinearRegression\n",
    "\n",
    "model = LinearRegression()\n",
    "\n",
    "y_pred_list = []\n",
    "\n",
    "for X_train, y_train, X_test, y_test in tqdm(ts.folds):  # tqdm чтобы визуализировать загрузку\n",
    "\n",
    "    model.fit(X_train, y_train)\n",
    "\n",
    "    y_pred = pd.Series(\n",
    "        model.predict(X_test),\n",
    "        index=X_test.index\n",
    "    ) # Класс принимает только pandas форматы, а model.predict возвращает np.array. Поэтому преобразую в pd.Series\n",
    "\n",
    "    y_pred_list.append(y_pred) "
   ]
  },
  {
   "cell_type": "markdown",
   "metadata": {},
   "source": [
    "Выводим совокупный результат на всех тестах всех фолдов"
   ]
  },
  {
   "cell_type": "code",
   "execution_count": 24,
   "metadata": {},
   "outputs": [
    {
     "name": "stdout",
     "output_type": "stream",
     "text": [
      "MASE: 0.73 (во сколько раз абсолютная ошибка прогноза меньше абсолютной ошибки наивного прогноза)\n",
      "SMAPE: 164.82% (на сколько % в среднем модель ошибается)\n"
     ]
    }
   ],
   "source": [
    "ts.get_model_result(y_pred_list) "
   ]
  },
  {
   "cell_type": "markdown",
   "metadata": {},
   "source": [
    "Можем визуализировать работу модели"
   ]
  },
  {
   "cell_type": "code",
   "execution_count": null,
   "metadata": {},
   "outputs": [],
   "source": [
    "# ts.get_visualisation(start_date='2022-07-01', end_date='2023-01-01')"
   ]
  },
  {
   "cell_type": "markdown",
   "metadata": {},
   "source": [
    "Также в ходе работы можно посмотреть на состояние предикторов в любой момент времени"
   ]
  },
  {
   "cell_type": "code",
   "execution_count": 26,
   "metadata": {},
   "outputs": [
    {
     "data": {
      "text/html": [
       "<div>\n",
       "<style scoped>\n",
       "    .dataframe tbody tr th:only-of-type {\n",
       "        vertical-align: middle;\n",
       "    }\n",
       "\n",
       "    .dataframe tbody tr th {\n",
       "        vertical-align: top;\n",
       "    }\n",
       "\n",
       "    .dataframe thead th {\n",
       "        text-align: right;\n",
       "    }\n",
       "</style>\n",
       "<table border=\"1\" class=\"dataframe\">\n",
       "  <thead>\n",
       "    <tr style=\"text-align: right;\">\n",
       "      <th></th>\n",
       "      <th>lag_1</th>\n",
       "      <th>lag_2</th>\n",
       "      <th>lag_3</th>\n",
       "      <th>lag_4</th>\n",
       "      <th>lag_5</th>\n",
       "      <th>lag_10</th>\n",
       "      <th>lag_30</th>\n",
       "    </tr>\n",
       "    <tr>\n",
       "      <th>TRADEDATE</th>\n",
       "      <th></th>\n",
       "      <th></th>\n",
       "      <th></th>\n",
       "      <th></th>\n",
       "      <th></th>\n",
       "      <th></th>\n",
       "      <th></th>\n",
       "    </tr>\n",
       "  </thead>\n",
       "  <tbody>\n",
       "    <tr>\n",
       "      <th>2008-12-15</th>\n",
       "      <td>-0.069613</td>\n",
       "      <td>0.007149</td>\n",
       "      <td>0.010883</td>\n",
       "      <td>0.045259</td>\n",
       "      <td>0.105143</td>\n",
       "      <td>-0.088874</td>\n",
       "      <td>0.028665</td>\n",
       "    </tr>\n",
       "    <tr>\n",
       "      <th>2008-12-16</th>\n",
       "      <td>0.014331</td>\n",
       "      <td>-0.069613</td>\n",
       "      <td>0.007149</td>\n",
       "      <td>0.010883</td>\n",
       "      <td>0.045259</td>\n",
       "      <td>0.032821</td>\n",
       "      <td>0.102760</td>\n",
       "    </tr>\n",
       "    <tr>\n",
       "      <th>2008-12-17</th>\n",
       "      <td>0.027901</td>\n",
       "      <td>0.014331</td>\n",
       "      <td>-0.069613</td>\n",
       "      <td>0.007149</td>\n",
       "      <td>0.010883</td>\n",
       "      <td>0.032111</td>\n",
       "      <td>-0.004149</td>\n",
       "    </tr>\n",
       "    <tr>\n",
       "      <th>2008-12-18</th>\n",
       "      <td>0.036397</td>\n",
       "      <td>0.027901</td>\n",
       "      <td>0.014331</td>\n",
       "      <td>-0.069613</td>\n",
       "      <td>0.007149</td>\n",
       "      <td>0.031171</td>\n",
       "      <td>-0.111401</td>\n",
       "    </tr>\n",
       "    <tr>\n",
       "      <th>2008-12-19</th>\n",
       "      <td>-0.068178</td>\n",
       "      <td>0.036397</td>\n",
       "      <td>0.027901</td>\n",
       "      <td>0.014331</td>\n",
       "      <td>-0.069613</td>\n",
       "      <td>0.013328</td>\n",
       "      <td>0.019795</td>\n",
       "    </tr>\n",
       "  </tbody>\n",
       "</table>\n",
       "</div>"
      ],
      "text/plain": [
       "               lag_1     lag_2     lag_3     lag_4     lag_5    lag_10  \\\n",
       "TRADEDATE                                                                \n",
       "2008-12-15 -0.069613  0.007149  0.010883  0.045259  0.105143 -0.088874   \n",
       "2008-12-16  0.014331 -0.069613  0.007149  0.010883  0.045259  0.032821   \n",
       "2008-12-17  0.027901  0.014331 -0.069613  0.007149  0.010883  0.032111   \n",
       "2008-12-18  0.036397  0.027901  0.014331 -0.069613  0.007149  0.031171   \n",
       "2008-12-19 -0.068178  0.036397  0.027901  0.014331 -0.069613  0.013328   \n",
       "\n",
       "              lag_30  \n",
       "TRADEDATE             \n",
       "2008-12-15  0.028665  \n",
       "2008-12-16  0.102760  \n",
       "2008-12-17 -0.004149  \n",
       "2008-12-18 -0.111401  \n",
       "2008-12-19  0.019795  "
      ]
     },
     "execution_count": 26,
     "metadata": {},
     "output_type": "execute_result"
    }
   ],
   "source": [
    "ts.X.head()"
   ]
  },
  {
   "cell_type": "markdown",
   "metadata": {},
   "source": [
    "Те лаги и признаки, которые мы добавляем, автоматически попадают в ts.X"
   ]
  },
  {
   "cell_type": "markdown",
   "metadata": {},
   "source": [
    "На таргет тоже могу посмотреть"
   ]
  },
  {
   "cell_type": "code",
   "execution_count": 27,
   "metadata": {},
   "outputs": [
    {
     "data": {
      "text/plain": [
       "TRADEDATE\n",
       "2008-12-15    0.014331\n",
       "2008-12-16    0.027901\n",
       "2008-12-17    0.036397\n",
       "2008-12-18   -0.068178\n",
       "2008-12-19    0.024247\n",
       "Name: MOEXMM, dtype: float64"
      ]
     },
     "execution_count": 27,
     "metadata": {},
     "output_type": "execute_result"
    }
   ],
   "source": [
    "ts.y.head() # На таргет тоже могу посмотреть"
   ]
  },
  {
   "cell_type": "code",
   "execution_count": 28,
   "metadata": {},
   "outputs": [
    {
     "data": {
      "text/html": [
       "<div>\n",
       "<style scoped>\n",
       "    .dataframe tbody tr th:only-of-type {\n",
       "        vertical-align: middle;\n",
       "    }\n",
       "\n",
       "    .dataframe tbody tr th {\n",
       "        vertical-align: top;\n",
       "    }\n",
       "\n",
       "    .dataframe thead th {\n",
       "        text-align: right;\n",
       "    }\n",
       "</style>\n",
       "<table border=\"1\" class=\"dataframe\">\n",
       "  <thead>\n",
       "    <tr style=\"text-align: right;\">\n",
       "      <th></th>\n",
       "      <th>lag_1</th>\n",
       "      <th>lag_2</th>\n",
       "      <th>lag_3</th>\n",
       "      <th>lag_4</th>\n",
       "      <th>lag_5</th>\n",
       "      <th>lag_10</th>\n",
       "      <th>lag_30</th>\n",
       "    </tr>\n",
       "    <tr>\n",
       "      <th>TRADEDATE</th>\n",
       "      <th></th>\n",
       "      <th></th>\n",
       "      <th></th>\n",
       "      <th></th>\n",
       "      <th></th>\n",
       "      <th></th>\n",
       "      <th></th>\n",
       "    </tr>\n",
       "  </thead>\n",
       "  <tbody>\n",
       "    <tr>\n",
       "      <th>2005-02-24</th>\n",
       "      <td>0.005027</td>\n",
       "      <td>0.011620</td>\n",
       "      <td>-0.001743</td>\n",
       "      <td>0.007954</td>\n",
       "      <td>0.005600</td>\n",
       "      <td>-0.011543</td>\n",
       "      <td>-0.013441</td>\n",
       "    </tr>\n",
       "    <tr>\n",
       "      <th>2005-02-25</th>\n",
       "      <td>0.039721</td>\n",
       "      <td>0.005027</td>\n",
       "      <td>0.011620</td>\n",
       "      <td>-0.001743</td>\n",
       "      <td>0.007954</td>\n",
       "      <td>0.005217</td>\n",
       "      <td>-0.005678</td>\n",
       "    </tr>\n",
       "    <tr>\n",
       "      <th>2005-02-28</th>\n",
       "      <td>0.004220</td>\n",
       "      <td>0.039721</td>\n",
       "      <td>0.005027</td>\n",
       "      <td>0.011620</td>\n",
       "      <td>-0.001743</td>\n",
       "      <td>-0.001106</td>\n",
       "      <td>0.027919</td>\n",
       "    </tr>\n",
       "    <tr>\n",
       "      <th>2005-03-01</th>\n",
       "      <td>0.044779</td>\n",
       "      <td>0.004220</td>\n",
       "      <td>0.039721</td>\n",
       "      <td>0.005027</td>\n",
       "      <td>0.011620</td>\n",
       "      <td>-0.009049</td>\n",
       "      <td>-0.000594</td>\n",
       "    </tr>\n",
       "    <tr>\n",
       "      <th>2005-03-02</th>\n",
       "      <td>-0.027531</td>\n",
       "      <td>0.044779</td>\n",
       "      <td>0.004220</td>\n",
       "      <td>0.039721</td>\n",
       "      <td>0.005027</td>\n",
       "      <td>0.017094</td>\n",
       "      <td>-0.017105</td>\n",
       "    </tr>\n",
       "  </tbody>\n",
       "</table>\n",
       "</div>"
      ],
      "text/plain": [
       "               lag_1     lag_2     lag_3     lag_4     lag_5    lag_10  \\\n",
       "TRADEDATE                                                                \n",
       "2005-02-24  0.005027  0.011620 -0.001743  0.007954  0.005600 -0.011543   \n",
       "2005-02-25  0.039721  0.005027  0.011620 -0.001743  0.007954  0.005217   \n",
       "2005-02-28  0.004220  0.039721  0.005027  0.011620 -0.001743 -0.001106   \n",
       "2005-03-01  0.044779  0.004220  0.039721  0.005027  0.011620 -0.009049   \n",
       "2005-03-02 -0.027531  0.044779  0.004220  0.039721  0.005027  0.017094   \n",
       "\n",
       "              lag_30  \n",
       "TRADEDATE             \n",
       "2005-02-24 -0.013441  \n",
       "2005-02-25 -0.005678  \n",
       "2005-02-28  0.027919  \n",
       "2005-03-01 -0.000594  \n",
       "2005-03-02 -0.017105  "
      ]
     },
     "execution_count": 28,
     "metadata": {},
     "output_type": "execute_result"
    }
   ],
   "source": [
    "ts.X_val.head()"
   ]
  },
  {
   "cell_type": "code",
   "execution_count": 29,
   "metadata": {},
   "outputs": [
    {
     "data": {
      "text/plain": [
       "TRADEDATE\n",
       "2005-02-24    0.039721\n",
       "2005-02-25    0.004220\n",
       "2005-02-28    0.044779\n",
       "2005-03-01   -0.027531\n",
       "2005-03-02   -0.014182\n",
       "Name: MOEXMM, dtype: float64"
      ]
     },
     "execution_count": 29,
     "metadata": {},
     "output_type": "execute_result"
    }
   ],
   "source": [
    "ts.y_val.head()"
   ]
  },
  {
   "cell_type": "markdown",
   "metadata": {},
   "source": [
    "# Catboost алгоритм"
   ]
  },
  {
   "cell_type": "code",
   "execution_count": 30,
   "metadata": {},
   "outputs": [
    {
     "name": "stderr",
     "output_type": "stream",
     "text": [
      "[I 2024-03-15 17:17:04,302] A new study created in memory with name: no-name-ddf98eed-fde1-46d0-8217-187d8be29fab\n",
      "[I 2024-03-15 17:17:19,582] Trial 0 finished with value: 0.7872855017090234 and parameters: {'learning_rate': 0.05086909653969905, 'depth': 6, 'l2_leaf_reg': 5.918694433904463e-07, 'iterations': 450, 'min_child_samples': 13, 'border_count': 65, 'random_strength': 0.5955032815196242, 'bagging_temperature': 78.34599519372257, 'od_wait': 25}. Best is trial 0 with value: 0.7872855017090234.\n",
      "[I 2024-03-15 17:17:24,955] Trial 1 finished with value: 0.7657755569612728 and parameters: {'learning_rate': 0.06833105291221198, 'depth': 9, 'l2_leaf_reg': 2.415362363762566, 'iterations': 233, 'min_child_samples': 37, 'border_count': 41, 'random_strength': 6.843205777214472e-07, 'bagging_temperature': 0.07772113987751482, 'od_wait': 22}. Best is trial 1 with value: 0.7657755569612728.\n",
      "[I 2024-03-15 17:17:38,181] Trial 2 finished with value: 0.8076557847552603 and parameters: {'learning_rate': 0.18417412328423216, 'depth': 10, 'l2_leaf_reg': 7.107758487691288e-07, 'iterations': 265, 'min_child_samples': 3, 'border_count': 129, 'random_strength': 1.3401436884832162e-06, 'bagging_temperature': 1.611116885334385, 'od_wait': 11}. Best is trial 1 with value: 0.7657755569612728.\n",
      "[I 2024-03-15 17:17:39,681] Trial 3 finished with value: 0.7831992653518274 and parameters: {'learning_rate': 0.1298850047506491, 'depth': 7, 'l2_leaf_reg': 4.739745729777652e-06, 'iterations': 123, 'min_child_samples': 22, 'border_count': 184, 'random_strength': 2.4155570115174865e-05, 'bagging_temperature': 1.365764837294641, 'od_wait': 27}. Best is trial 1 with value: 0.7657755569612728.\n",
      "[I 2024-03-15 17:17:51,077] Trial 4 finished with value: 0.8129657497234751 and parameters: {'learning_rate': 0.27078491091812396, 'depth': 10, 'l2_leaf_reg': 0.00017665653544349184, 'iterations': 807, 'min_child_samples': 87, 'border_count': 45, 'random_strength': 5.7672364087605164e-05, 'bagging_temperature': 10.073977631947383, 'od_wait': 25}. Best is trial 1 with value: 0.7657755569612728.\n",
      "[I 2024-03-15 17:17:53,051] Trial 5 finished with value: 0.8757198273664898 and parameters: {'learning_rate': 0.06631544642698484, 'depth': 5, 'l2_leaf_reg': 2.5191274701928254e-05, 'iterations': 980, 'min_child_samples': 81, 'border_count': 6, 'random_strength': 1.7416008734683074e-08, 'bagging_temperature': 0.6908757607151134, 'od_wait': 43}. Best is trial 1 with value: 0.7657755569612728.\n",
      "[I 2024-03-15 17:17:57,422] Trial 6 finished with value: 0.8160010627913137 and parameters: {'learning_rate': 0.05991574211962419, 'depth': 6, 'l2_leaf_reg': 0.04631953741141396, 'iterations': 805, 'min_child_samples': 39, 'border_count': 129, 'random_strength': 1.6721522993119482e-06, 'bagging_temperature': 0.05012831374612053, 'od_wait': 20}. Best is trial 1 with value: 0.7657755569612728.\n",
      "[I 2024-03-15 17:17:59,451] Trial 7 finished with value: 0.741786556269289 and parameters: {'learning_rate': 0.012830459239982881, 'depth': 7, 'l2_leaf_reg': 0.22165733263359158, 'iterations': 361, 'min_child_samples': 86, 'border_count': 79, 'random_strength': 0.006478457139540682, 'bagging_temperature': 43.38600865908867, 'od_wait': 24}. Best is trial 7 with value: 0.741786556269289.\n",
      "[I 2024-03-15 17:18:03,896] Trial 8 finished with value: 0.8361778500600549 and parameters: {'learning_rate': 0.2827772233153475, 'depth': 7, 'l2_leaf_reg': 0.0004392815474173829, 'iterations': 318, 'min_child_samples': 100, 'border_count': 244, 'random_strength': 0.15028552314444263, 'bagging_temperature': 0.49276435092174536, 'od_wait': 36}. Best is trial 7 with value: 0.741786556269289.\n",
      "[I 2024-03-15 17:18:05,400] Trial 9 finished with value: 0.7867430731708673 and parameters: {'learning_rate': 0.0954484097755341, 'depth': 4, 'l2_leaf_reg': 0.32665590662782373, 'iterations': 340, 'min_child_samples': 78, 'border_count': 195, 'random_strength': 0.00026186796163940005, 'bagging_temperature': 0.4638067323938052, 'od_wait': 26}. Best is trial 7 with value: 0.741786556269289.\n",
      "[I 2024-03-15 17:18:11,867] Trial 10 finished with value: 0.7530306235039571 and parameters: {'learning_rate': 0.011961788652284531, 'depth': 8, 'l2_leaf_reg': 0.006703362816564779, 'iterations': 588, 'min_child_samples': 62, 'border_count': 98, 'random_strength': 0.006487893869864314, 'bagging_temperature': 82.68134872661183, 'od_wait': 50}. Best is trial 7 with value: 0.741786556269289.\n",
      "[I 2024-03-15 17:18:19,183] Trial 11 finished with value: 0.7562721125225442 and parameters: {'learning_rate': 0.01047289518240421, 'depth': 8, 'l2_leaf_reg': 0.010334286274872236, 'iterations': 633, 'min_child_samples': 63, 'border_count': 88, 'random_strength': 0.008161321202939909, 'bagging_temperature': 83.38397618104398, 'od_wait': 48}. Best is trial 7 with value: 0.741786556269289.\n",
      "[I 2024-03-15 17:18:25,837] Trial 12 finished with value: 0.7312114597003045 and parameters: {'learning_rate': 0.010825876582539256, 'depth': 8, 'l2_leaf_reg': 5.882152217459632, 'iterations': 514, 'min_child_samples': 58, 'border_count': 97, 'random_strength': 5.818610036669351, 'bagging_temperature': 22.82470441456797, 'od_wait': 35}. Best is trial 12 with value: 0.7312114597003045.\n",
      "[I 2024-03-15 17:18:33,362] Trial 13 finished with value: 0.7347106366022926 and parameters: {'learning_rate': 0.021761232874924978, 'depth': 8, 'l2_leaf_reg': 6.782448911844683, 'iterations': 473, 'min_child_samples': 58, 'border_count': 161, 'random_strength': 3.069791782766125, 'bagging_temperature': 11.818327364891859, 'od_wait': 34}. Best is trial 12 with value: 0.7312114597003045.\n",
      "[I 2024-03-15 17:18:50,728] Trial 14 finished with value: 0.7940746100465681 and parameters: {'learning_rate': 0.12407885056230059, 'depth': 9, 'l2_leaf_reg': 7.671181396725423, 'iterations': 549, 'min_child_samples': 53, 'border_count': 164, 'random_strength': 9.484025485686578, 'bagging_temperature': 12.873289244071485, 'od_wait': 35}. Best is trial 12 with value: 0.7312114597003045.\n",
      "[I 2024-03-15 17:18:58,036] Trial 15 finished with value: 0.7960489548302045 and parameters: {'learning_rate': 0.16633207367750616, 'depth': 8, 'l2_leaf_reg': 8.240941824016353, 'iterations': 471, 'min_child_samples': 42, 'border_count': 158, 'random_strength': 7.1040461625539475, 'bagging_temperature': 8.12217855022583, 'od_wait': 36}. Best is trial 12 with value: 0.7312114597003045.\n",
      "[I 2024-03-15 17:19:29,185] Trial 16 finished with value: 0.7753569297034322 and parameters: {'learning_rate': 0.039131538863962013, 'depth': 9, 'l2_leaf_reg': 1.270312934040011e-08, 'iterations': 711, 'min_child_samples': 67, 'border_count': 235, 'random_strength': 0.31201156801703755, 'bagging_temperature': 18.94440731848262, 'od_wait': 41}. Best is trial 12 with value: 0.7312114597003045.\n",
      "[I 2024-03-15 17:19:34,870] Trial 17 finished with value: 0.792879072025942 and parameters: {'learning_rate': 0.09497599730747285, 'depth': 8, 'l2_leaf_reg': 0.8563886319461764, 'iterations': 441, 'min_child_samples': 49, 'border_count': 114, 'random_strength': 5.703184438573047, 'bagging_temperature': 4.353065211859564, 'od_wait': 31}. Best is trial 12 with value: 0.7312114597003045.\n",
      "[I 2024-03-15 17:19:38,239] Trial 18 finished with value: 0.777560049620543 and parameters: {'learning_rate': 0.03628167087157662, 'depth': 6, 'l2_leaf_reg': 0.7716100946265075, 'iterations': 530, 'min_child_samples': 22, 'border_count': 154, 'random_strength': 0.07894503611732111, 'bagging_temperature': 26.556789091436034, 'od_wait': 41}. Best is trial 12 with value: 0.7312114597003045.\n",
      "[I 2024-03-15 17:20:06,512] Trial 19 finished with value: 0.7833107993820336 and parameters: {'learning_rate': 0.08730724335720186, 'depth': 9, 'l2_leaf_reg': 8.695414632270253, 'iterations': 700, 'min_child_samples': 72, 'border_count': 210, 'random_strength': 1.2840760534956914, 'bagging_temperature': 5.364673706938745, 'od_wait': 31}. Best is trial 12 with value: 0.7312114597003045.\n",
      "[I 2024-03-15 17:20:07,087] Trial 20 finished with value: 0.7357488482709533 and parameters: {'learning_rate': 0.03374553651236079, 'depth': 5, 'l2_leaf_reg': 0.0791978205181561, 'iterations': 100, 'min_child_samples': 53, 'border_count': 145, 'random_strength': 0.05874935618716727, 'bagging_temperature': 28.57128407790633, 'od_wait': 17}. Best is trial 12 with value: 0.7312114597003045.\n",
      "[I 2024-03-15 17:20:07,765] Trial 21 finished with value: 0.7289298413990903 and parameters: {'learning_rate': 0.03233637719710338, 'depth': 4, 'l2_leaf_reg': 0.2569540761887591, 'iterations': 107, 'min_child_samples': 55, 'border_count': 141, 'random_strength': 1.198360895008742, 'bagging_temperature': 27.54227313227139, 'od_wait': 16}. Best is trial 21 with value: 0.7289298413990903.\n",
      "[I 2024-03-15 17:20:08,475] Trial 22 finished with value: 0.73122577436263 and parameters: {'learning_rate': 0.03473974864528785, 'depth': 4, 'l2_leaf_reg': 1.1687912693561786, 'iterations': 179, 'min_child_samples': 57, 'border_count': 110, 'random_strength': 2.2560298019790435, 'bagging_temperature': 34.64811820112458, 'od_wait': 10}. Best is trial 21 with value: 0.7289298413990903.\n",
      "[I 2024-03-15 17:20:09,158] Trial 23 finished with value: 0.7320297637945572 and parameters: {'learning_rate': 0.04422742463715348, 'depth': 4, 'l2_leaf_reg': 1.1842385402689586, 'iterations': 195, 'min_child_samples': 45, 'border_count': 109, 'random_strength': 1.262764289575674, 'bagging_temperature': 41.558925150269474, 'od_wait': 14}. Best is trial 21 with value: 0.7289298413990903.\n",
      "[I 2024-03-15 17:20:09,773] Trial 24 finished with value: 0.7599143422185384 and parameters: {'learning_rate': 0.07453218504063805, 'depth': 5, 'l2_leaf_reg': 0.1514899096248189, 'iterations': 180, 'min_child_samples': 32, 'border_count': 64, 'random_strength': 0.6407582644998641, 'bagging_temperature': 24.41164499888618, 'od_wait': 12}. Best is trial 21 with value: 0.7289298413990903.\n",
      "[I 2024-03-15 17:20:10,294] Trial 25 finished with value: 0.7361132870941457 and parameters: {'learning_rate': 0.03408527678081499, 'depth': 4, 'l2_leaf_reg': 0.02527697654174755, 'iterations': 154, 'min_child_samples': 68, 'border_count': 125, 'random_strength': 0.0408816921669341, 'bagging_temperature': 3.8574344630708204, 'od_wait': 16}. Best is trial 21 with value: 0.7289298413990903.\n",
      "[I 2024-03-15 17:20:11,506] Trial 26 finished with value: 0.7443282068967743 and parameters: {'learning_rate': 0.047588853795659504, 'depth': 5, 'l2_leaf_reg': 1.3491629464928856, 'iterations': 272, 'min_child_samples': 57, 'border_count': 98, 'random_strength': 1.9519387138269124, 'bagging_temperature': 46.89822941037693, 'od_wait': 10}. Best is trial 21 with value: 0.7289298413990903.\n",
      "[I 2024-03-15 17:20:12,281] Trial 27 finished with value: 0.7300226013983394 and parameters: {'learning_rate': 0.013581448853811995, 'depth': 4, 'l2_leaf_reg': 0.2575790845196534, 'iterations': 366, 'min_child_samples': 32, 'border_count': 40, 'random_strength': 8.65747482405266, 'bagging_temperature': 22.795972615038796, 'od_wait': 19}. Best is trial 21 with value: 0.7289298413990903.\n",
      "[I 2024-03-15 17:20:13,020] Trial 28 finished with value: 0.7585074860007361 and parameters: {'learning_rate': 0.011168040350718072, 'depth': 6, 'l2_leaf_reg': 0.0039128851087556205, 'iterations': 395, 'min_child_samples': 30, 'border_count': 4, 'random_strength': 0.24966599955292842, 'bagging_temperature': 18.065272962773857, 'od_wait': 20}. Best is trial 21 with value: 0.7289298413990903.\n",
      "[I 2024-03-15 17:20:14,034] Trial 29 finished with value: 0.7967106709599914 and parameters: {'learning_rate': 0.05722907194932944, 'depth': 5, 'l2_leaf_reg': 0.19547897397040864, 'iterations': 401, 'min_child_samples': 23, 'border_count': 33, 'random_strength': 0.5716036352954386, 'bagging_temperature': 83.5656962611594, 'od_wait': 18}. Best is trial 21 with value: 0.7289298413990903.\n",
      "[I 2024-03-15 17:20:15,171] Trial 30 finished with value: 0.7698899058311091 and parameters: {'learning_rate': 0.05031797676887913, 'depth': 4, 'l2_leaf_reg': 0.03988821372908449, 'iterations': 509, 'min_child_samples': 13, 'border_count': 65, 'random_strength': 9.343390111977685, 'bagging_temperature': 2.9081384088284103, 'od_wait': 29}. Best is trial 21 with value: 0.7289298413990903.\n",
      "[I 2024-03-15 17:20:15,714] Trial 31 finished with value: 0.7304476639441008 and parameters: {'learning_rate': 0.025261275734070908, 'depth': 4, 'l2_leaf_reg': 0.3645833941729819, 'iterations': 220, 'min_child_samples': 47, 'border_count': 69, 'random_strength': 1.6021758428331367, 'bagging_temperature': 55.43817596709292, 'od_wait': 15}. Best is trial 21 with value: 0.7289298413990903.\n",
      "[I 2024-03-15 17:20:16,195] Trial 32 finished with value: 0.7409218721402002 and parameters: {'learning_rate': 0.029048825610737086, 'depth': 4, 'l2_leaf_reg': 0.3852796879262419, 'iterations': 239, 'min_child_samples': 47, 'border_count': 30, 'random_strength': 0.672975597846136, 'bagging_temperature': 53.091557720843745, 'od_wait': 15}. Best is trial 21 with value: 0.7289298413990903.\n",
      "[I 2024-03-15 17:20:17,001] Trial 33 finished with value: 0.7347039379544619 and parameters: {'learning_rate': 0.02516014892555697, 'depth': 5, 'l2_leaf_reg': 2.5524286732428028, 'iterations': 292, 'min_child_samples': 34, 'border_count': 61, 'random_strength': 9.609825387204427, 'bagging_temperature': 16.022999794148376, 'od_wait': 21}. Best is trial 21 with value: 0.7289298413990903.\n",
      "[I 2024-03-15 17:20:17,562] Trial 34 finished with value: 0.7523130519370159 and parameters: {'learning_rate': 0.05717342106691793, 'depth': 4, 'l2_leaf_reg': 0.10187492463081324, 'iterations': 235, 'min_child_samples': 41, 'border_count': 49, 'random_strength': 1.8792457315774391, 'bagging_temperature': 98.91905353542992, 'od_wait': 14}. Best is trial 21 with value: 0.7289298413990903.\n",
      "[I 2024-03-15 17:20:18,114] Trial 35 finished with value: 0.7516147264327951 and parameters: {'learning_rate': 0.07805607444596155, 'depth': 6, 'l2_leaf_reg': 2.6267299255451446, 'iterations': 144, 'min_child_samples': 28, 'border_count': 21, 'random_strength': 0.03037962091584874, 'bagging_temperature': 7.770898365893209, 'od_wait': 23}. Best is trial 21 with value: 0.7289298413990903.\n",
      "[I 2024-03-15 17:20:19,320] Trial 36 finished with value: 0.7869659355867453 and parameters: {'learning_rate': 0.0686524041015166, 'depth': 5, 'l2_leaf_reg': 0.42947241152447896, 'iterations': 400, 'min_child_samples': 13, 'border_count': 71, 'random_strength': 0.33876417919630086, 'bagging_temperature': 54.8005498946585, 'od_wait': 19}. Best is trial 21 with value: 0.7289298413990903.\n",
      "[I 2024-03-15 17:20:19,817] Trial 37 finished with value: 0.7428710062414607 and parameters: {'learning_rate': 0.025217230423104253, 'depth': 4, 'l2_leaf_reg': 0.017739302028600374, 'iterations': 218, 'min_child_samples': 38, 'border_count': 49, 'random_strength': 0.17841157433569574, 'bagging_temperature': 21.777396314171128, 'od_wait': 13}. Best is trial 21 with value: 0.7289298413990903.\n",
      "[I 2024-03-15 17:20:22,027] Trial 38 finished with value: 0.7708038146488476 and parameters: {'learning_rate': 0.05021742421728864, 'depth': 7, 'l2_leaf_reg': 0.0031077497533670492, 'iterations': 301, 'min_child_samples': 3, 'border_count': 89, 'random_strength': 2.3001479334731747, 'bagging_temperature': 11.047148678764385, 'od_wait': 28}. Best is trial 21 with value: 0.7289298413990903.\n",
      "[I 2024-03-15 17:20:44,499] Trial 39 finished with value: 0.7749327574217519 and parameters: {'learning_rate': 0.10872022588060899, 'depth': 10, 'l2_leaf_reg': 0.13209626387537524, 'iterations': 361, 'min_child_samples': 50, 'border_count': 140, 'random_strength': 0.7681223555956576, 'bagging_temperature': 34.84172939660227, 'od_wait': 22}. Best is trial 21 with value: 0.7289298413990903.\n",
      "[I 2024-03-15 17:20:47,543] Trial 40 finished with value: 0.8109911694614791 and parameters: {'learning_rate': 0.06746486184925699, 'depth': 7, 'l2_leaf_reg': 0.0531331605204651, 'iterations': 957, 'min_child_samples': 75, 'border_count': 17, 'random_strength': 0.018316717001054722, 'bagging_temperature': 60.10160808521896, 'od_wait': 39}. Best is trial 21 with value: 0.7289298413990903.\n",
      "[I 2024-03-15 17:20:47,946] Trial 41 finished with value: 0.7273653768687225 and parameters: {'learning_rate': 0.030119738192626297, 'depth': 4, 'l2_leaf_reg': 2.5775522298398186, 'iterations': 106, 'min_child_samples': 58, 'border_count': 116, 'random_strength': 2.186545874395853, 'bagging_temperature': 42.556997306625746, 'od_wait': 10}. Best is trial 41 with value: 0.7273653768687225.\n",
      "[I 2024-03-15 17:20:48,495] Trial 42 finished with value: 0.7279402845833715 and parameters: {'learning_rate': 0.022719115760882997, 'depth': 4, 'l2_leaf_reg': 3.127472609477307, 'iterations': 137, 'min_child_samples': 62, 'border_count': 179, 'random_strength': 0.18606875529525455, 'bagging_temperature': 26.92040262061826, 'od_wait': 12}. Best is trial 41 with value: 0.7273653768687225.\n",
      "[I 2024-03-15 17:20:48,959] Trial 43 finished with value: 0.7293872222568517 and parameters: {'learning_rate': 0.049414083259521124, 'depth': 4, 'l2_leaf_reg': 2.5461275891377073, 'iterations': 105, 'min_child_samples': 65, 'border_count': 173, 'random_strength': 0.10887403595404026, 'bagging_temperature': 61.96774977220021, 'od_wait': 12}. Best is trial 41 with value: 0.7273653768687225.\n",
      "[I 2024-03-15 17:20:49,554] Trial 44 finished with value: 0.7291806913892321 and parameters: {'learning_rate': 0.05034900984974147, 'depth': 5, 'l2_leaf_reg': 2.570818833916859, 'iterations': 105, 'min_child_samples': 82, 'border_count': 176, 'random_strength': 0.12170867236492165, 'bagging_temperature': 30.431164293212223, 'od_wait': 12}. Best is trial 41 with value: 0.7273653768687225.\n",
      "[I 2024-03-15 17:20:50,158] Trial 45 finished with value: 0.7321151963521026 and parameters: {'learning_rate': 0.05995623125471014, 'depth': 5, 'l2_leaf_reg': 3.0599681820508344, 'iterations': 107, 'min_child_samples': 92, 'border_count': 180, 'random_strength': 0.11379539005066762, 'bagging_temperature': 95.89238132660547, 'od_wait': 12}. Best is trial 41 with value: 0.7273653768687225.\n",
      "[I 2024-03-15 17:20:50,691] Trial 46 finished with value: 0.7446206969258201 and parameters: {'learning_rate': 0.0798439780154172, 'depth': 4, 'l2_leaf_reg': 2.8549992871402514, 'iterations': 147, 'min_child_samples': 84, 'border_count': 178, 'random_strength': 0.0018635895816612924, 'bagging_temperature': 38.55027283363599, 'od_wait': 11}. Best is trial 41 with value: 0.7273653768687225.\n",
      "[I 2024-03-15 17:20:51,352] Trial 47 finished with value: 0.7301090141347861 and parameters: {'learning_rate': 0.04717728227700571, 'depth': 5, 'l2_leaf_reg': 2.4338707049251704, 'iterations': 104, 'min_child_samples': 64, 'border_count': 209, 'random_strength': 0.14041566383400692, 'bagging_temperature': 13.59847600185179, 'od_wait': 10}. Best is trial 41 with value: 0.7273653768687225.\n",
      "[I 2024-03-15 17:20:52,134] Trial 48 finished with value: 0.7514937294665023 and parameters: {'learning_rate': 0.07181926743945002, 'depth': 4, 'l2_leaf_reg': 0.5326825800653513, 'iterations': 169, 'min_child_samples': 71, 'border_count': 194, 'random_strength': 0.014555580155995597, 'bagging_temperature': 66.75811964883219, 'od_wait': 13}. Best is trial 41 with value: 0.7273653768687225.\n",
      "[I 2024-03-15 17:20:52,988] Trial 49 finished with value: 0.7454882766168689 and parameters: {'learning_rate': 0.06140730043030172, 'depth': 5, 'l2_leaf_reg': 1.2294957441486494, 'iterations': 133, 'min_child_samples': 98, 'border_count': 173, 'random_strength': 0.002659880692512376, 'bagging_temperature': 8.219787338833143, 'od_wait': 17}. Best is trial 41 with value: 0.7273653768687225.\n",
      "[I 2024-03-15 17:20:53,857] Trial 50 finished with value: 0.7318127203658279 and parameters: {'learning_rate': 0.04384522656494176, 'depth': 4, 'l2_leaf_reg': 9.7894694295454, 'iterations': 249, 'min_child_samples': 61, 'border_count': 141, 'random_strength': 0.051103053428191256, 'bagging_temperature': 30.173051144909092, 'od_wait': 16}. Best is trial 41 with value: 0.7273653768687225.\n",
      "[I 2024-03-15 17:20:54,584] Trial 51 finished with value: 0.7299877901702332 and parameters: {'learning_rate': 0.017777515514202865, 'depth': 4, 'l2_leaf_reg': 0.22643256477592244, 'iterations': 189, 'min_child_samples': 79, 'border_count': 193, 'random_strength': 0.34126161236709107, 'bagging_temperature': 19.786448690758043, 'od_wait': 12}. Best is trial 41 with value: 0.7273653768687225.\n",
      "[I 2024-03-15 17:20:55,311] Trial 52 finished with value: 0.7266098272978005 and parameters: {'learning_rate': 0.01877598616665028, 'depth': 4, 'l2_leaf_reg': 3.2547025128891343, 'iterations': 198, 'min_child_samples': 78, 'border_count': 191, 'random_strength': 0.3367833555547153, 'bagging_temperature': 16.550074113387623, 'od_wait': 12}. Best is trial 52 with value: 0.7266098272978005.\n",
      "[I 2024-03-15 17:20:55,883] Trial 53 finished with value: 0.7282515685637588 and parameters: {'learning_rate': 0.02600660053441132, 'depth': 4, 'l2_leaf_reg': 3.7101648964236866, 'iterations': 127, 'min_child_samples': 75, 'border_count': 208, 'random_strength': 0.06182087869271571, 'bagging_temperature': 42.41543520182008, 'od_wait': 14}. Best is trial 52 with value: 0.7266098272978005.\n",
      "[I 2024-03-15 17:20:56,772] Trial 54 finished with value: 0.7259766439345376 and parameters: {'learning_rate': 0.0238352944325248, 'depth': 5, 'l2_leaf_reg': 4.541872263103225, 'iterations': 140, 'min_child_samples': 76, 'border_count': 216, 'random_strength': 0.39268238570736946, 'bagging_temperature': 37.469125091337744, 'od_wait': 14}. Best is trial 54 with value: 0.7259766439345376.\n",
      "[I 2024-03-15 17:20:57,391] Trial 55 finished with value: 0.7316330414790178 and parameters: {'learning_rate': 0.02825769686264678, 'depth': 4, 'l2_leaf_reg': 0.8543337177278806, 'iterations': 146, 'min_child_samples': 90, 'border_count': 225, 'random_strength': 0.4216806514304196, 'bagging_temperature': 43.84389952341172, 'od_wait': 14}. Best is trial 54 with value: 0.7259766439345376.\n",
      "[I 2024-03-15 17:20:59,646] Trial 56 finished with value: 0.7303181461981616 and parameters: {'learning_rate': 0.02017529799482562, 'depth': 6, 'l2_leaf_reg': 5.957858861215944, 'iterations': 206, 'min_child_samples': 73, 'border_count': 253, 'random_strength': 3.3604357158477476, 'bagging_temperature': 16.065585034675017, 'od_wait': 17}. Best is trial 54 with value: 0.7259766439345376.\n",
      "[I 2024-03-15 17:21:00,690] Trial 57 finished with value: 0.7305436494916491 and parameters: {'learning_rate': 0.039406280770195964, 'depth': 4, 'l2_leaf_reg': 4.60318925014521, 'iterations': 279, 'min_child_samples': 77, 'border_count': 212, 'random_strength': 0.6925898902058428, 'bagging_temperature': 10.811230633914638, 'od_wait': 10}. Best is trial 54 with value: 0.7259766439345376.\n",
      "[I 2024-03-15 17:21:01,680] Trial 58 finished with value: 0.7349020591641253 and parameters: {'learning_rate': 0.020679261417827645, 'depth': 5, 'l2_leaf_reg': 1.2241379679407283, 'iterations': 162, 'min_child_samples': 69, 'border_count': 221, 'random_strength': 0.03428707189055807, 'bagging_temperature': 35.85545655040968, 'od_wait': 15}. Best is trial 54 with value: 0.7259766439345376.\n",
      "[I 2024-03-15 17:21:02,368] Trial 59 finished with value: 0.7293387357221548 and parameters: {'learning_rate': 0.036202011576701186, 'depth': 4, 'l2_leaf_reg': 9.236597923405222, 'iterations': 132, 'min_child_samples': 87, 'border_count': 204, 'random_strength': 3.190316430306217, 'bagging_temperature': 15.485059693768235, 'od_wait': 14}. Best is trial 54 with value: 0.7259766439345376.\n",
      "[I 2024-03-15 17:21:03,730] Trial 60 finished with value: 0.7296886442741931 and parameters: {'learning_rate': 0.011275961162331632, 'depth': 5, 'l2_leaf_reg': 0.7144047863134031, 'iterations': 188, 'min_child_samples': 53, 'border_count': 231, 'random_strength': 0.23134996038692676, 'bagging_temperature': 66.23133530192659, 'od_wait': 24}. Best is trial 54 with value: 0.7259766439345376.\n",
      "[I 2024-03-15 17:21:04,430] Trial 61 finished with value: 0.7296686308526946 and parameters: {'learning_rate': 0.03579609913912461, 'depth': 5, 'l2_leaf_reg': 4.317789873445925, 'iterations': 114, 'min_child_samples': 81, 'border_count': 189, 'random_strength': 0.09059944823525343, 'bagging_temperature': 28.49055966297449, 'od_wait': 11}. Best is trial 54 with value: 0.7259766439345376.\n",
      "[I 2024-03-15 17:21:05,134] Trial 62 finished with value: 0.7268355054608551 and parameters: {'learning_rate': 0.020367431857484197, 'depth': 4, 'l2_leaf_reg': 4.815974584979557, 'iterations': 166, 'min_child_samples': 60, 'border_count': 166, 'random_strength': 1.2371256399302506, 'bagging_temperature': 31.287458166175863, 'od_wait': 13}. Best is trial 54 with value: 0.7259766439345376.\n",
      "[I 2024-03-15 17:21:06,252] Trial 63 finished with value: 0.7321736979773978 and parameters: {'learning_rate': 0.021779775443694777, 'depth': 4, 'l2_leaf_reg': 1.5470240505757176, 'iterations': 327, 'min_child_samples': 61, 'border_count': 163, 'random_strength': 1.0169409529546551, 'bagging_temperature': 46.48496859232566, 'od_wait': 16}. Best is trial 54 with value: 0.7259766439345376.\n",
      "[I 2024-03-15 17:21:06,876] Trial 64 finished with value: 0.7274055208769448 and parameters: {'learning_rate': 0.03399795952068969, 'depth': 4, 'l2_leaf_reg': 5.242583666932115, 'iterations': 167, 'min_child_samples': 55, 'border_count': 148, 'random_strength': 1.0193229921486646, 'bagging_temperature': 25.507058490911994, 'od_wait': 13}. Best is trial 54 with value: 0.7259766439345376.\n",
      "[I 2024-03-15 17:21:07,766] Trial 65 finished with value: 0.7260842063495642 and parameters: {'learning_rate': 0.011258864388952195, 'depth': 4, 'l2_leaf_reg': 5.242520640548102, 'iterations': 262, 'min_child_samples': 67, 'border_count': 151, 'random_strength': 4.4999876162345185, 'bagging_temperature': 74.97851428305702, 'od_wait': 13}. Best is trial 54 with value: 0.7259766439345376.\n",
      "[I 2024-03-15 17:21:08,646] Trial 66 finished with value: 0.7266526790175335 and parameters: {'learning_rate': 0.01166686803080457, 'depth': 4, 'l2_leaf_reg': 9.77548432360559, 'iterations': 266, 'min_child_samples': 60, 'border_count': 118, 'random_strength': 3.376339084797481, 'bagging_temperature': 22.82726350880255, 'od_wait': 13}. Best is trial 54 with value: 0.7259766439345376.\n",
      "[I 2024-03-15 17:21:09,490] Trial 67 finished with value: 0.7263013044377675 and parameters: {'learning_rate': 0.01151311868727736, 'depth': 4, 'l2_leaf_reg': 9.958987671458216, 'iterations': 255, 'min_child_samples': 66, 'border_count': 156, 'random_strength': 3.8579441462173802, 'bagging_temperature': 20.795092362414948, 'od_wait': 46}. Best is trial 54 with value: 0.7259766439345376.\n",
      "[I 2024-03-15 17:21:10,925] Trial 68 finished with value: 0.7272935765930042 and parameters: {'learning_rate': 0.010557005276749637, 'depth': 4, 'l2_leaf_reg': 9.746130842581286, 'iterations': 263, 'min_child_samples': 66, 'border_count': 129, 'random_strength': 4.227947417298297, 'bagging_temperature': 73.23378725204375, 'od_wait': 43}. Best is trial 54 with value: 0.7259766439345376.\n",
      "[I 2024-03-15 17:21:12,119] Trial 69 finished with value: 0.7262343190711817 and parameters: {'learning_rate': 0.010462100403584475, 'depth': 5, 'l2_leaf_reg': 8.187719678775649, 'iterations': 267, 'min_child_samples': 68, 'border_count': 129, 'random_strength': 3.9505079171161377, 'bagging_temperature': 78.08032067833506, 'od_wait': 48}. Best is trial 54 with value: 0.7259766439345376.\n",
      "[I 2024-03-15 17:21:13,930] Trial 70 finished with value: 0.729404165490785 and parameters: {'learning_rate': 0.010089742261739223, 'depth': 6, 'l2_leaf_reg': 5.357100802779858, 'iterations': 296, 'min_child_samples': 70, 'border_count': 130, 'random_strength': 5.225060115523783, 'bagging_temperature': 95.6344603078926, 'od_wait': 50}. Best is trial 54 with value: 0.7259766439345376.\n",
      "[I 2024-03-15 17:21:14,976] Trial 71 finished with value: 0.7269408613266439 and parameters: {'learning_rate': 0.017985772588459684, 'depth': 5, 'l2_leaf_reg': 7.313351257369494, 'iterations': 256, 'min_child_samples': 67, 'border_count': 132, 'random_strength': 4.176513934051113, 'bagging_temperature': 71.67646734029452, 'od_wait': 47}. Best is trial 54 with value: 0.7259766439345376.\n",
      "[I 2024-03-15 17:21:16,552] Trial 72 finished with value: 0.7300962799779146 and parameters: {'learning_rate': 0.019536022860272662, 'depth': 5, 'l2_leaf_reg': 9.453051245174917, 'iterations': 342, 'min_child_samples': 68, 'border_count': 152, 'random_strength': 4.784110970755691, 'bagging_temperature': 67.67293816021497, 'od_wait': 47}. Best is trial 54 with value: 0.7259766439345376.\n",
      "[I 2024-03-15 17:21:18,996] Trial 73 finished with value: 0.7414945907591288 and parameters: {'learning_rate': 0.04081975334248864, 'depth': 6, 'l2_leaf_reg': 1.5265380271183948, 'iterations': 252, 'min_child_samples': 73, 'border_count': 121, 'random_strength': 3.913062591221026, 'bagging_temperature': 80.84458710358876, 'od_wait': 46}. Best is trial 54 with value: 0.7259766439345376.\n",
      "[I 2024-03-15 17:21:20,146] Trial 74 finished with value: 0.7284724211628401 and parameters: {'learning_rate': 0.01710328906816371, 'depth': 5, 'l2_leaf_reg': 0.5440800484226201, 'iterations': 221, 'min_child_samples': 60, 'border_count': 135, 'random_strength': 9.417949854645412, 'bagging_temperature': 19.237912112915005, 'od_wait': 45}. Best is trial 54 with value: 0.7259766439345376.\n",
      "[I 2024-03-15 17:21:21,542] Trial 75 finished with value: 0.7268124824842439 and parameters: {'learning_rate': 0.016507317701225058, 'depth': 5, 'l2_leaf_reg': 5.522820010366376, 'iterations': 269, 'min_child_samples': 77, 'border_count': 168, 'random_strength': 1.52851217986514, 'bagging_temperature': 75.69573893688099, 'od_wait': 49}. Best is trial 54 with value: 0.7259766439345376.\n",
      "[I 2024-03-15 17:21:24,313] Trial 76 finished with value: 0.7637168487716763 and parameters: {'learning_rate': 0.029962385077772435, 'depth': 5, 'l2_leaf_reg': 1.4959813504783397, 'iterations': 612, 'min_child_samples': 77, 'border_count': 165, 'random_strength': 1.312038684925791, 'bagging_temperature': 51.70709524238833, 'od_wait': 49}. Best is trial 54 with value: 0.7259766439345376.\n",
      "[I 2024-03-15 17:21:25,338] Trial 77 finished with value: 0.7465723523611736 and parameters: {'learning_rate': 0.03973224720998203, 'depth': 4, 'l2_leaf_reg': 0.7172344456093646, 'iterations': 316, 'min_child_samples': 80, 'border_count': 155, 'random_strength': 0.5473956836355355, 'bagging_temperature': 33.36861593708113, 'od_wait': 43}. Best is trial 54 with value: 0.7259766439345376.\n",
      "[I 2024-03-15 17:21:26,545] Trial 78 finished with value: 0.723950822404744 and parameters: {'learning_rate': 0.011096689439082591, 'depth': 6, 'l2_leaf_reg': 4.297057461887079, 'iterations': 214, 'min_child_samples': 75, 'border_count': 102, 'random_strength': 2.405959516207459, 'bagging_temperature': 21.44285258319934, 'od_wait': 45}. Best is trial 78 with value: 0.723950822404744.\n",
      "[I 2024-03-15 17:21:28,787] Trial 79 finished with value: 0.7272372880740509 and parameters: {'learning_rate': 0.01050076517287143, 'depth': 6, 'l2_leaf_reg': 1.803160398541605, 'iterations': 426, 'min_child_samples': 75, 'border_count': 104, 'random_strength': 2.311297515023593, 'bagging_temperature': 21.461970005359582, 'od_wait': 45}. Best is trial 78 with value: 0.723950822404744.\n",
      "[I 2024-03-15 17:21:30,733] Trial 80 finished with value: 0.7286638370044206 and parameters: {'learning_rate': 0.02823829737387709, 'depth': 7, 'l2_leaf_reg': 4.447881673115506, 'iterations': 204, 'min_child_samples': 85, 'border_count': 119, 'random_strength': 0.317070199875133, 'bagging_temperature': 12.869679903511896, 'od_wait': 48}. Best is trial 78 with value: 0.723950822404744.\n",
      "[I 2024-03-15 17:21:32,007] Trial 81 finished with value: 0.7271479752422211 and parameters: {'learning_rate': 0.021483675775762993, 'depth': 5, 'l2_leaf_reg': 6.6510591843559785, 'iterations': 277, 'min_child_samples': 64, 'border_count': 169, 'random_strength': 1.593487243081538, 'bagging_temperature': 50.1998161005929, 'od_wait': 49}. Best is trial 78 with value: 0.723950822404744.\n",
      "[I 2024-03-15 17:21:33,839] Trial 82 finished with value: 0.7259957149545724 and parameters: {'learning_rate': 0.019030557477727937, 'depth': 6, 'l2_leaf_reg': 4.618192784586775, 'iterations': 230, 'min_child_samples': 72, 'border_count': 185, 'random_strength': 1.010795223718429, 'bagging_temperature': 33.66049879635404, 'od_wait': 39}. Best is trial 78 with value: 0.723950822404744.\n",
      "[I 2024-03-15 17:21:35,659] Trial 83 finished with value: 0.7289917393689398 and parameters: {'learning_rate': 0.015744275895723102, 'depth': 6, 'l2_leaf_reg': 1.8741879607752951, 'iterations': 224, 'min_child_samples': 71, 'border_count': 187, 'random_strength': 5.942117804435726, 'bagging_temperature': 99.76539824243608, 'od_wait': 38}. Best is trial 78 with value: 0.723950822404744.\n",
      "[I 2024-03-15 17:21:37,517] Trial 84 finished with value: 0.7542327920502607 and parameters: {'learning_rate': 0.03256309778823097, 'depth': 6, 'l2_leaf_reg': 0.9663986502555448, 'iterations': 358, 'min_child_samples': 83, 'border_count': 92, 'random_strength': 0.6432659395747848, 'bagging_temperature': 17.009302486140136, 'od_wait': 41}. Best is trial 78 with value: 0.723950822404744.\n",
      "[I 2024-03-15 17:21:39,231] Trial 85 finished with value: 0.7465014048795238 and parameters: {'learning_rate': 0.04474082198963588, 'depth': 6, 'l2_leaf_reg': 3.9570654416791466, 'iterations': 305, 'min_child_samples': 77, 'border_count': 79, 'random_strength': 1.7776552728256565, 'bagging_temperature': 23.306088932083785, 'od_wait': 44}. Best is trial 78 with value: 0.723950822404744.\n",
      "[I 2024-03-15 17:21:42,756] Trial 86 finished with value: 0.7266073543807026 and parameters: {'learning_rate': 0.027705712137959235, 'depth': 7, 'l2_leaf_reg': 9.920740194270017, 'iterations': 234, 'min_child_samples': 89, 'border_count': 203, 'random_strength': 2.558594930637988, 'bagging_temperature': 39.45967464014098, 'od_wait': 32}. Best is trial 78 with value: 0.723950822404744.\n",
      "[I 2024-03-15 17:21:46,567] Trial 87 finished with value: 0.7343531534420464 and parameters: {'learning_rate': 0.02803248250126562, 'depth': 7, 'l2_leaf_reg': 9.830916062004068, 'iterations': 242, 'min_child_samples': 94, 'border_count': 198, 'random_strength': 9.5891546033872, 'bagging_temperature': 39.34894264051417, 'od_wait': 40}. Best is trial 78 with value: 0.723950822404744.\n",
      "[I 2024-03-15 17:21:49,750] Trial 88 finished with value: 0.7354456061879185 and parameters: {'learning_rate': 0.04036750557975656, 'depth': 7, 'l2_leaf_reg': 2.037010663516108, 'iterations': 193, 'min_child_samples': 88, 'border_count': 201, 'random_strength': 3.0041429221709746, 'bagging_temperature': 55.11712457378022, 'od_wait': 33}. Best is trial 78 with value: 0.723950822404744.\n",
      "[I 2024-03-15 17:21:53,534] Trial 89 finished with value: 0.771759840521087 and parameters: {'learning_rate': 0.0560517771482369, 'depth': 8, 'l2_leaf_reg': 0.43653280493400615, 'iterations': 236, 'min_child_samples': 73, 'border_count': 105, 'random_strength': 0.49463291404275955, 'bagging_temperature': 25.327946479710203, 'od_wait': 37}. Best is trial 78 with value: 0.723950822404744.\n",
      "[I 2024-03-15 17:21:58,439] Trial 90 finished with value: 0.7385701863898311 and parameters: {'learning_rate': 0.024749547277739245, 'depth': 7, 'l2_leaf_reg': 3.5825420789668, 'iterations': 335, 'min_child_samples': 66, 'border_count': 218, 'random_strength': 5.521098692489768, 'bagging_temperature': 9.259226378969874, 'od_wait': 31}. Best is trial 78 with value: 0.723950822404744.\n",
      "[I 2024-03-15 17:21:59,983] Trial 91 finished with value: 0.7257106689053346 and parameters: {'learning_rate': 0.01650441919527896, 'depth': 5, 'l2_leaf_reg': 5.998161055065795, 'iterations': 263, 'min_child_samples': 69, 'border_count': 186, 'random_strength': 1.0345246528884662, 'bagging_temperature': 36.654164652790826, 'od_wait': 48}. Best is trial 78 with value: 0.723950822404744.\n",
      "[I 2024-03-15 17:22:01,747] Trial 92 finished with value: 0.7257517565125196 and parameters: {'learning_rate': 0.010677722733462224, 'depth': 6, 'l2_leaf_reg': 3.283628889629405, 'iterations': 208, 'min_child_samples': 69, 'border_count': 185, 'random_strength': 2.690696496454648, 'bagging_temperature': 37.67907719449486, 'od_wait': 42}. Best is trial 78 with value: 0.723950822404744.\n",
      "[I 2024-03-15 17:22:03,819] Trial 93 finished with value: 0.7333649524749397 and parameters: {'learning_rate': 0.030823963979074588, 'depth': 6, 'l2_leaf_reg': 0.9496975341091075, 'iterations': 214, 'min_child_samples': 69, 'border_count': 188, 'random_strength': 0.900892445733281, 'bagging_temperature': 38.81517049776393, 'od_wait': 42}. Best is trial 78 with value: 0.723950822404744.\n",
      "[I 2024-03-15 17:22:05,844] Trial 94 finished with value: 0.7280695807284766 and parameters: {'learning_rate': 0.016352535702251914, 'depth': 6, 'l2_leaf_reg': 3.199459012043614, 'iterations': 199, 'min_child_samples': 74, 'border_count': 217, 'random_strength': 0.22534428608951773, 'bagging_temperature': 55.99530747777504, 'od_wait': 45}. Best is trial 78 with value: 0.723950822404744.\n",
      "[I 2024-03-15 17:22:12,934] Trial 95 finished with value: 0.7649486368561794 and parameters: {'learning_rate': 0.024742716050968408, 'depth': 6, 'l2_leaf_reg': 2.1860664565763313, 'iterations': 857, 'min_child_samples': 71, 'border_count': 183, 'random_strength': 2.0832526203134836, 'bagging_temperature': 32.8410028553309, 'od_wait': 47}. Best is trial 78 with value: 0.723950822404744.\n",
      "[I 2024-03-15 17:22:17,808] Trial 96 finished with value: 0.7401023365552051 and parameters: {'learning_rate': 0.04450965075188397, 'depth': 7, 'l2_leaf_reg': 5.9093277949432785, 'iterations': 290, 'min_child_samples': 79, 'border_count': 233, 'random_strength': 0.3824492031132406, 'bagging_temperature': 46.60116575749636, 'od_wait': 40}. Best is trial 78 with value: 0.723950822404744.\n",
      "[I 2024-03-15 17:22:23,586] Trial 97 finished with value: 0.783714936803089 and parameters: {'learning_rate': 0.03734843878424948, 'depth': 6, 'l2_leaf_reg': 0.3414014661128728, 'iterations': 708, 'min_child_samples': 64, 'border_count': 203, 'random_strength': 0.8699114141757373, 'bagging_temperature': 12.94267441995321, 'od_wait': 27}. Best is trial 78 with value: 0.723950822404744.\n",
      "[I 2024-03-15 17:22:24,505] Trial 98 finished with value: 0.7269607656062405 and parameters: {'learning_rate': 0.014467691780709273, 'depth': 5, 'l2_leaf_reg': 1.69955064040618, 'iterations': 179, 'min_child_samples': 94, 'border_count': 160, 'random_strength': 2.5559334460801115, 'bagging_temperature': 18.04946252247974, 'od_wait': 33}. Best is trial 78 with value: 0.723950822404744.\n",
      "[I 2024-03-15 17:22:27,118] Trial 99 finished with value: 0.7398258494231303 and parameters: {'learning_rate': 0.032687580154313084, 'depth': 6, 'l2_leaf_reg': 3.5008243526059784, 'iterations': 314, 'min_child_samples': 82, 'border_count': 195, 'random_strength': 6.305535433486392, 'bagging_temperature': 33.99730116850432, 'od_wait': 44}. Best is trial 78 with value: 0.723950822404744.\n"
     ]
    }
   ],
   "source": [
    "from catboost import CatBoostRegressor\n",
    "from sklearn.metrics import make_scorer\n",
    "from sklearn.model_selection import cross_val_score\n",
    "import optuna\n",
    "\n",
    "\n",
    "X_val, y_val = ts.X_val, ts.y_val\n",
    "\n",
    "# Создаем скорер для использования в cross_val_score\n",
    "mase_scorer = make_scorer(MASE, greater_is_better=False)\n",
    "\n",
    "def objective(trial):\n",
    "    param = {\n",
    "        'learning_rate': trial.suggest_float('learning_rate', 0.01, 0.3),\n",
    "        'depth': trial.suggest_int('depth', 4, 10),\n",
    "        'l2_leaf_reg': trial.suggest_loguniform('l2_leaf_reg', 1e-8, 10.0),\n",
    "        'iterations': trial.suggest_int('iterations', 100, 1000),\n",
    "        'min_child_samples': trial.suggest_int('min_child_samples', 1, 100),\n",
    "        'border_count': trial.suggest_int('border_count', 1, 255),\n",
    "        'loss_function': 'RMSE',  # Или другую функцию потерь, если нужно\n",
    "        'random_strength': trial.suggest_loguniform('random_strength', 1e-9, 10),\n",
    "        'bagging_temperature': trial.suggest_loguniform('bagging_temperature', 0.01, 100.00),\n",
    "        'od_type': 'Iter',  # Определение типа overfitting detector\n",
    "        'od_wait': trial.suggest_int('od_wait', 10, 50)\n",
    "    }\n",
    "    \n",
    "    regressor = CatBoostRegressor(**param)\n",
    "    return np.mean(\n",
    "        cross_val_score(\n",
    "            regressor, X_val, y_val, \n",
    "            n_jobs=-1, scoring=make_scorer(MASE), \n",
    "            cv=5))\n",
    "\n",
    "study = optuna.create_study(direction='minimize')\n",
    "study.optimize(objective, n_trials=100)"
   ]
  },
  {
   "cell_type": "code",
   "execution_count": 31,
   "metadata": {},
   "outputs": [
    {
     "data": {
      "text/plain": [
       "{'learning_rate': 0.011096689439082591,\n",
       " 'depth': 6,\n",
       " 'l2_leaf_reg': 4.297057461887079,\n",
       " 'iterations': 214,\n",
       " 'min_child_samples': 75,\n",
       " 'border_count': 102,\n",
       " 'random_strength': 2.405959516207459,\n",
       " 'bagging_temperature': 21.44285258319934,\n",
       " 'od_wait': 45}"
      ]
     },
     "execution_count": 31,
     "metadata": {},
     "output_type": "execute_result"
    }
   ],
   "source": [
    "study.best_params"
   ]
  },
  {
   "cell_type": "code",
   "execution_count": 32,
   "metadata": {},
   "outputs": [
    {
     "data": {
      "application/vnd.plotly.v1+json": {
       "config": {
        "plotlyServerURL": "https://plot.ly"
       },
       "data": [
        {
         "mode": "markers",
         "name": "Objective Value",
         "type": "scatter",
         "x": [
          0,
          1,
          2,
          3,
          4,
          5,
          6,
          7,
          8,
          9,
          10,
          11,
          12,
          13,
          14,
          15,
          16,
          17,
          18,
          19,
          20,
          21,
          22,
          23,
          24,
          25,
          26,
          27,
          28,
          29,
          30,
          31,
          32,
          33,
          34,
          35,
          36,
          37,
          38,
          39,
          40,
          41,
          42,
          43,
          44,
          45,
          46,
          47,
          48,
          49,
          50,
          51,
          52,
          53,
          54,
          55,
          56,
          57,
          58,
          59,
          60,
          61,
          62,
          63,
          64,
          65,
          66,
          67,
          68,
          69,
          70,
          71,
          72,
          73,
          74,
          75,
          76,
          77,
          78,
          79,
          80,
          81,
          82,
          83,
          84,
          85,
          86,
          87,
          88,
          89,
          90,
          91,
          92,
          93,
          94,
          95,
          96,
          97,
          98,
          99
         ],
         "y": [
          0.7872855017090234,
          0.7657755569612728,
          0.8076557847552603,
          0.7831992653518274,
          0.8129657497234751,
          0.8757198273664898,
          0.8160010627913137,
          0.741786556269289,
          0.8361778500600549,
          0.7867430731708673,
          0.7530306235039571,
          0.7562721125225442,
          0.7312114597003045,
          0.7347106366022926,
          0.7940746100465681,
          0.7960489548302045,
          0.7753569297034322,
          0.792879072025942,
          0.777560049620543,
          0.7833107993820336,
          0.7357488482709533,
          0.7289298413990903,
          0.73122577436263,
          0.7320297637945572,
          0.7599143422185384,
          0.7361132870941457,
          0.7443282068967743,
          0.7300226013983394,
          0.7585074860007361,
          0.7967106709599914,
          0.7698899058311091,
          0.7304476639441008,
          0.7409218721402002,
          0.7347039379544619,
          0.7523130519370159,
          0.7516147264327951,
          0.7869659355867453,
          0.7428710062414607,
          0.7708038146488476,
          0.7749327574217519,
          0.8109911694614791,
          0.7273653768687225,
          0.7279402845833715,
          0.7293872222568517,
          0.7291806913892321,
          0.7321151963521026,
          0.7446206969258201,
          0.7301090141347861,
          0.7514937294665023,
          0.7454882766168689,
          0.7318127203658279,
          0.7299877901702332,
          0.7266098272978005,
          0.7282515685637588,
          0.7259766439345376,
          0.7316330414790178,
          0.7303181461981616,
          0.7305436494916491,
          0.7349020591641253,
          0.7293387357221548,
          0.7296886442741931,
          0.7296686308526946,
          0.7268355054608551,
          0.7321736979773978,
          0.7274055208769448,
          0.7260842063495642,
          0.7266526790175335,
          0.7263013044377675,
          0.7272935765930042,
          0.7262343190711817,
          0.729404165490785,
          0.7269408613266439,
          0.7300962799779146,
          0.7414945907591288,
          0.7284724211628401,
          0.7268124824842439,
          0.7637168487716763,
          0.7465723523611736,
          0.723950822404744,
          0.7272372880740509,
          0.7286638370044206,
          0.7271479752422211,
          0.7259957149545724,
          0.7289917393689398,
          0.7542327920502607,
          0.7465014048795238,
          0.7266073543807026,
          0.7343531534420464,
          0.7354456061879185,
          0.771759840521087,
          0.7385701863898311,
          0.7257106689053346,
          0.7257517565125196,
          0.7333649524749397,
          0.7280695807284766,
          0.7649486368561794,
          0.7401023365552051,
          0.783714936803089,
          0.7269607656062405,
          0.7398258494231303
         ]
        },
        {
         "mode": "lines",
         "name": "Best Value",
         "type": "scatter",
         "x": [
          0,
          1,
          2,
          3,
          4,
          5,
          6,
          7,
          8,
          9,
          10,
          11,
          12,
          13,
          14,
          15,
          16,
          17,
          18,
          19,
          20,
          21,
          22,
          23,
          24,
          25,
          26,
          27,
          28,
          29,
          30,
          31,
          32,
          33,
          34,
          35,
          36,
          37,
          38,
          39,
          40,
          41,
          42,
          43,
          44,
          45,
          46,
          47,
          48,
          49,
          50,
          51,
          52,
          53,
          54,
          55,
          56,
          57,
          58,
          59,
          60,
          61,
          62,
          63,
          64,
          65,
          66,
          67,
          68,
          69,
          70,
          71,
          72,
          73,
          74,
          75,
          76,
          77,
          78,
          79,
          80,
          81,
          82,
          83,
          84,
          85,
          86,
          87,
          88,
          89,
          90,
          91,
          92,
          93,
          94,
          95,
          96,
          97,
          98,
          99
         ],
         "y": [
          0.7872855017090234,
          0.7657755569612728,
          0.7657755569612728,
          0.7657755569612728,
          0.7657755569612728,
          0.7657755569612728,
          0.7657755569612728,
          0.741786556269289,
          0.741786556269289,
          0.741786556269289,
          0.741786556269289,
          0.741786556269289,
          0.7312114597003045,
          0.7312114597003045,
          0.7312114597003045,
          0.7312114597003045,
          0.7312114597003045,
          0.7312114597003045,
          0.7312114597003045,
          0.7312114597003045,
          0.7312114597003045,
          0.7289298413990903,
          0.7289298413990903,
          0.7289298413990903,
          0.7289298413990903,
          0.7289298413990903,
          0.7289298413990903,
          0.7289298413990903,
          0.7289298413990903,
          0.7289298413990903,
          0.7289298413990903,
          0.7289298413990903,
          0.7289298413990903,
          0.7289298413990903,
          0.7289298413990903,
          0.7289298413990903,
          0.7289298413990903,
          0.7289298413990903,
          0.7289298413990903,
          0.7289298413990903,
          0.7289298413990903,
          0.7273653768687225,
          0.7273653768687225,
          0.7273653768687225,
          0.7273653768687225,
          0.7273653768687225,
          0.7273653768687225,
          0.7273653768687225,
          0.7273653768687225,
          0.7273653768687225,
          0.7273653768687225,
          0.7273653768687225,
          0.7266098272978005,
          0.7266098272978005,
          0.7259766439345376,
          0.7259766439345376,
          0.7259766439345376,
          0.7259766439345376,
          0.7259766439345376,
          0.7259766439345376,
          0.7259766439345376,
          0.7259766439345376,
          0.7259766439345376,
          0.7259766439345376,
          0.7259766439345376,
          0.7259766439345376,
          0.7259766439345376,
          0.7259766439345376,
          0.7259766439345376,
          0.7259766439345376,
          0.7259766439345376,
          0.7259766439345376,
          0.7259766439345376,
          0.7259766439345376,
          0.7259766439345376,
          0.7259766439345376,
          0.7259766439345376,
          0.7259766439345376,
          0.723950822404744,
          0.723950822404744,
          0.723950822404744,
          0.723950822404744,
          0.723950822404744,
          0.723950822404744,
          0.723950822404744,
          0.723950822404744,
          0.723950822404744,
          0.723950822404744,
          0.723950822404744,
          0.723950822404744,
          0.723950822404744,
          0.723950822404744,
          0.723950822404744,
          0.723950822404744,
          0.723950822404744,
          0.723950822404744,
          0.723950822404744,
          0.723950822404744,
          0.723950822404744,
          0.723950822404744
         ]
        },
        {
         "marker": {
          "color": "#cccccc"
         },
         "mode": "markers",
         "name": "Infeasible Trial",
         "showlegend": false,
         "type": "scatter",
         "x": [],
         "y": []
        }
       ],
       "layout": {
        "template": {
         "data": {
          "bar": [
           {
            "error_x": {
             "color": "#2a3f5f"
            },
            "error_y": {
             "color": "#2a3f5f"
            },
            "marker": {
             "line": {
              "color": "#E5ECF6",
              "width": 0.5
             },
             "pattern": {
              "fillmode": "overlay",
              "size": 10,
              "solidity": 0.2
             }
            },
            "type": "bar"
           }
          ],
          "barpolar": [
           {
            "marker": {
             "line": {
              "color": "#E5ECF6",
              "width": 0.5
             },
             "pattern": {
              "fillmode": "overlay",
              "size": 10,
              "solidity": 0.2
             }
            },
            "type": "barpolar"
           }
          ],
          "carpet": [
           {
            "aaxis": {
             "endlinecolor": "#2a3f5f",
             "gridcolor": "white",
             "linecolor": "white",
             "minorgridcolor": "white",
             "startlinecolor": "#2a3f5f"
            },
            "baxis": {
             "endlinecolor": "#2a3f5f",
             "gridcolor": "white",
             "linecolor": "white",
             "minorgridcolor": "white",
             "startlinecolor": "#2a3f5f"
            },
            "type": "carpet"
           }
          ],
          "choropleth": [
           {
            "colorbar": {
             "outlinewidth": 0,
             "ticks": ""
            },
            "type": "choropleth"
           }
          ],
          "contour": [
           {
            "colorbar": {
             "outlinewidth": 0,
             "ticks": ""
            },
            "colorscale": [
             [
              0,
              "#0d0887"
             ],
             [
              0.1111111111111111,
              "#46039f"
             ],
             [
              0.2222222222222222,
              "#7201a8"
             ],
             [
              0.3333333333333333,
              "#9c179e"
             ],
             [
              0.4444444444444444,
              "#bd3786"
             ],
             [
              0.5555555555555556,
              "#d8576b"
             ],
             [
              0.6666666666666666,
              "#ed7953"
             ],
             [
              0.7777777777777778,
              "#fb9f3a"
             ],
             [
              0.8888888888888888,
              "#fdca26"
             ],
             [
              1,
              "#f0f921"
             ]
            ],
            "type": "contour"
           }
          ],
          "contourcarpet": [
           {
            "colorbar": {
             "outlinewidth": 0,
             "ticks": ""
            },
            "type": "contourcarpet"
           }
          ],
          "heatmap": [
           {
            "colorbar": {
             "outlinewidth": 0,
             "ticks": ""
            },
            "colorscale": [
             [
              0,
              "#0d0887"
             ],
             [
              0.1111111111111111,
              "#46039f"
             ],
             [
              0.2222222222222222,
              "#7201a8"
             ],
             [
              0.3333333333333333,
              "#9c179e"
             ],
             [
              0.4444444444444444,
              "#bd3786"
             ],
             [
              0.5555555555555556,
              "#d8576b"
             ],
             [
              0.6666666666666666,
              "#ed7953"
             ],
             [
              0.7777777777777778,
              "#fb9f3a"
             ],
             [
              0.8888888888888888,
              "#fdca26"
             ],
             [
              1,
              "#f0f921"
             ]
            ],
            "type": "heatmap"
           }
          ],
          "heatmapgl": [
           {
            "colorbar": {
             "outlinewidth": 0,
             "ticks": ""
            },
            "colorscale": [
             [
              0,
              "#0d0887"
             ],
             [
              0.1111111111111111,
              "#46039f"
             ],
             [
              0.2222222222222222,
              "#7201a8"
             ],
             [
              0.3333333333333333,
              "#9c179e"
             ],
             [
              0.4444444444444444,
              "#bd3786"
             ],
             [
              0.5555555555555556,
              "#d8576b"
             ],
             [
              0.6666666666666666,
              "#ed7953"
             ],
             [
              0.7777777777777778,
              "#fb9f3a"
             ],
             [
              0.8888888888888888,
              "#fdca26"
             ],
             [
              1,
              "#f0f921"
             ]
            ],
            "type": "heatmapgl"
           }
          ],
          "histogram": [
           {
            "marker": {
             "pattern": {
              "fillmode": "overlay",
              "size": 10,
              "solidity": 0.2
             }
            },
            "type": "histogram"
           }
          ],
          "histogram2d": [
           {
            "colorbar": {
             "outlinewidth": 0,
             "ticks": ""
            },
            "colorscale": [
             [
              0,
              "#0d0887"
             ],
             [
              0.1111111111111111,
              "#46039f"
             ],
             [
              0.2222222222222222,
              "#7201a8"
             ],
             [
              0.3333333333333333,
              "#9c179e"
             ],
             [
              0.4444444444444444,
              "#bd3786"
             ],
             [
              0.5555555555555556,
              "#d8576b"
             ],
             [
              0.6666666666666666,
              "#ed7953"
             ],
             [
              0.7777777777777778,
              "#fb9f3a"
             ],
             [
              0.8888888888888888,
              "#fdca26"
             ],
             [
              1,
              "#f0f921"
             ]
            ],
            "type": "histogram2d"
           }
          ],
          "histogram2dcontour": [
           {
            "colorbar": {
             "outlinewidth": 0,
             "ticks": ""
            },
            "colorscale": [
             [
              0,
              "#0d0887"
             ],
             [
              0.1111111111111111,
              "#46039f"
             ],
             [
              0.2222222222222222,
              "#7201a8"
             ],
             [
              0.3333333333333333,
              "#9c179e"
             ],
             [
              0.4444444444444444,
              "#bd3786"
             ],
             [
              0.5555555555555556,
              "#d8576b"
             ],
             [
              0.6666666666666666,
              "#ed7953"
             ],
             [
              0.7777777777777778,
              "#fb9f3a"
             ],
             [
              0.8888888888888888,
              "#fdca26"
             ],
             [
              1,
              "#f0f921"
             ]
            ],
            "type": "histogram2dcontour"
           }
          ],
          "mesh3d": [
           {
            "colorbar": {
             "outlinewidth": 0,
             "ticks": ""
            },
            "type": "mesh3d"
           }
          ],
          "parcoords": [
           {
            "line": {
             "colorbar": {
              "outlinewidth": 0,
              "ticks": ""
             }
            },
            "type": "parcoords"
           }
          ],
          "pie": [
           {
            "automargin": true,
            "type": "pie"
           }
          ],
          "scatter": [
           {
            "fillpattern": {
             "fillmode": "overlay",
             "size": 10,
             "solidity": 0.2
            },
            "type": "scatter"
           }
          ],
          "scatter3d": [
           {
            "line": {
             "colorbar": {
              "outlinewidth": 0,
              "ticks": ""
             }
            },
            "marker": {
             "colorbar": {
              "outlinewidth": 0,
              "ticks": ""
             }
            },
            "type": "scatter3d"
           }
          ],
          "scattercarpet": [
           {
            "marker": {
             "colorbar": {
              "outlinewidth": 0,
              "ticks": ""
             }
            },
            "type": "scattercarpet"
           }
          ],
          "scattergeo": [
           {
            "marker": {
             "colorbar": {
              "outlinewidth": 0,
              "ticks": ""
             }
            },
            "type": "scattergeo"
           }
          ],
          "scattergl": [
           {
            "marker": {
             "colorbar": {
              "outlinewidth": 0,
              "ticks": ""
             }
            },
            "type": "scattergl"
           }
          ],
          "scattermapbox": [
           {
            "marker": {
             "colorbar": {
              "outlinewidth": 0,
              "ticks": ""
             }
            },
            "type": "scattermapbox"
           }
          ],
          "scatterpolar": [
           {
            "marker": {
             "colorbar": {
              "outlinewidth": 0,
              "ticks": ""
             }
            },
            "type": "scatterpolar"
           }
          ],
          "scatterpolargl": [
           {
            "marker": {
             "colorbar": {
              "outlinewidth": 0,
              "ticks": ""
             }
            },
            "type": "scatterpolargl"
           }
          ],
          "scatterternary": [
           {
            "marker": {
             "colorbar": {
              "outlinewidth": 0,
              "ticks": ""
             }
            },
            "type": "scatterternary"
           }
          ],
          "surface": [
           {
            "colorbar": {
             "outlinewidth": 0,
             "ticks": ""
            },
            "colorscale": [
             [
              0,
              "#0d0887"
             ],
             [
              0.1111111111111111,
              "#46039f"
             ],
             [
              0.2222222222222222,
              "#7201a8"
             ],
             [
              0.3333333333333333,
              "#9c179e"
             ],
             [
              0.4444444444444444,
              "#bd3786"
             ],
             [
              0.5555555555555556,
              "#d8576b"
             ],
             [
              0.6666666666666666,
              "#ed7953"
             ],
             [
              0.7777777777777778,
              "#fb9f3a"
             ],
             [
              0.8888888888888888,
              "#fdca26"
             ],
             [
              1,
              "#f0f921"
             ]
            ],
            "type": "surface"
           }
          ],
          "table": [
           {
            "cells": {
             "fill": {
              "color": "#EBF0F8"
             },
             "line": {
              "color": "white"
             }
            },
            "header": {
             "fill": {
              "color": "#C8D4E3"
             },
             "line": {
              "color": "white"
             }
            },
            "type": "table"
           }
          ]
         },
         "layout": {
          "annotationdefaults": {
           "arrowcolor": "#2a3f5f",
           "arrowhead": 0,
           "arrowwidth": 1
          },
          "autotypenumbers": "strict",
          "coloraxis": {
           "colorbar": {
            "outlinewidth": 0,
            "ticks": ""
           }
          },
          "colorscale": {
           "diverging": [
            [
             0,
             "#8e0152"
            ],
            [
             0.1,
             "#c51b7d"
            ],
            [
             0.2,
             "#de77ae"
            ],
            [
             0.3,
             "#f1b6da"
            ],
            [
             0.4,
             "#fde0ef"
            ],
            [
             0.5,
             "#f7f7f7"
            ],
            [
             0.6,
             "#e6f5d0"
            ],
            [
             0.7,
             "#b8e186"
            ],
            [
             0.8,
             "#7fbc41"
            ],
            [
             0.9,
             "#4d9221"
            ],
            [
             1,
             "#276419"
            ]
           ],
           "sequential": [
            [
             0,
             "#0d0887"
            ],
            [
             0.1111111111111111,
             "#46039f"
            ],
            [
             0.2222222222222222,
             "#7201a8"
            ],
            [
             0.3333333333333333,
             "#9c179e"
            ],
            [
             0.4444444444444444,
             "#bd3786"
            ],
            [
             0.5555555555555556,
             "#d8576b"
            ],
            [
             0.6666666666666666,
             "#ed7953"
            ],
            [
             0.7777777777777778,
             "#fb9f3a"
            ],
            [
             0.8888888888888888,
             "#fdca26"
            ],
            [
             1,
             "#f0f921"
            ]
           ],
           "sequentialminus": [
            [
             0,
             "#0d0887"
            ],
            [
             0.1111111111111111,
             "#46039f"
            ],
            [
             0.2222222222222222,
             "#7201a8"
            ],
            [
             0.3333333333333333,
             "#9c179e"
            ],
            [
             0.4444444444444444,
             "#bd3786"
            ],
            [
             0.5555555555555556,
             "#d8576b"
            ],
            [
             0.6666666666666666,
             "#ed7953"
            ],
            [
             0.7777777777777778,
             "#fb9f3a"
            ],
            [
             0.8888888888888888,
             "#fdca26"
            ],
            [
             1,
             "#f0f921"
            ]
           ]
          },
          "colorway": [
           "#636efa",
           "#EF553B",
           "#00cc96",
           "#ab63fa",
           "#FFA15A",
           "#19d3f3",
           "#FF6692",
           "#B6E880",
           "#FF97FF",
           "#FECB52"
          ],
          "font": {
           "color": "#2a3f5f"
          },
          "geo": {
           "bgcolor": "white",
           "lakecolor": "white",
           "landcolor": "#E5ECF6",
           "showlakes": true,
           "showland": true,
           "subunitcolor": "white"
          },
          "hoverlabel": {
           "align": "left"
          },
          "hovermode": "closest",
          "mapbox": {
           "style": "light"
          },
          "paper_bgcolor": "white",
          "plot_bgcolor": "#E5ECF6",
          "polar": {
           "angularaxis": {
            "gridcolor": "white",
            "linecolor": "white",
            "ticks": ""
           },
           "bgcolor": "#E5ECF6",
           "radialaxis": {
            "gridcolor": "white",
            "linecolor": "white",
            "ticks": ""
           }
          },
          "scene": {
           "xaxis": {
            "backgroundcolor": "#E5ECF6",
            "gridcolor": "white",
            "gridwidth": 2,
            "linecolor": "white",
            "showbackground": true,
            "ticks": "",
            "zerolinecolor": "white"
           },
           "yaxis": {
            "backgroundcolor": "#E5ECF6",
            "gridcolor": "white",
            "gridwidth": 2,
            "linecolor": "white",
            "showbackground": true,
            "ticks": "",
            "zerolinecolor": "white"
           },
           "zaxis": {
            "backgroundcolor": "#E5ECF6",
            "gridcolor": "white",
            "gridwidth": 2,
            "linecolor": "white",
            "showbackground": true,
            "ticks": "",
            "zerolinecolor": "white"
           }
          },
          "shapedefaults": {
           "line": {
            "color": "#2a3f5f"
           }
          },
          "ternary": {
           "aaxis": {
            "gridcolor": "white",
            "linecolor": "white",
            "ticks": ""
           },
           "baxis": {
            "gridcolor": "white",
            "linecolor": "white",
            "ticks": ""
           },
           "bgcolor": "#E5ECF6",
           "caxis": {
            "gridcolor": "white",
            "linecolor": "white",
            "ticks": ""
           }
          },
          "title": {
           "x": 0.05
          },
          "xaxis": {
           "automargin": true,
           "gridcolor": "white",
           "linecolor": "white",
           "ticks": "",
           "title": {
            "standoff": 15
           },
           "zerolinecolor": "white",
           "zerolinewidth": 2
          },
          "yaxis": {
           "automargin": true,
           "gridcolor": "white",
           "linecolor": "white",
           "ticks": "",
           "title": {
            "standoff": 15
           },
           "zerolinecolor": "white",
           "zerolinewidth": 2
          }
         }
        },
        "title": {
         "text": "Optimization History Plot"
        },
        "xaxis": {
         "title": {
          "text": "Trial"
         }
        },
        "yaxis": {
         "title": {
          "text": "Objective Value"
         }
        }
       }
      }
     },
     "metadata": {},
     "output_type": "display_data"
    }
   ],
   "source": [
    "optuna.visualization.plot_optimization_history(study)"
   ]
  },
  {
   "cell_type": "code",
   "execution_count": 33,
   "metadata": {},
   "outputs": [
    {
     "data": {
      "application/vnd.plotly.v1+json": {
       "config": {
        "plotlyServerURL": "https://plot.ly"
       },
       "data": [
        {
         "marker": {
          "color": [
           0,
           1,
           2,
           3,
           4,
           5,
           6,
           7,
           8,
           9,
           10,
           11,
           12,
           13,
           14,
           15,
           16,
           17,
           18,
           19,
           20,
           21,
           22,
           23,
           24,
           25,
           26,
           27,
           28,
           29,
           30,
           31,
           32,
           33,
           34,
           35,
           36,
           37,
           38,
           39,
           40,
           41,
           42,
           43,
           44,
           45,
           46,
           47,
           48,
           49,
           50,
           51,
           52,
           53,
           54,
           55,
           56,
           57,
           58,
           59,
           60,
           61,
           62,
           63,
           64,
           65,
           66,
           67,
           68,
           69,
           70,
           71,
           72,
           73,
           74,
           75,
           76,
           77,
           78,
           79,
           80,
           81,
           82,
           83,
           84,
           85,
           86,
           87,
           88,
           89,
           90,
           91,
           92,
           93,
           94,
           95,
           96,
           97,
           98,
           99
          ],
          "colorbar": {
           "title": {
            "text": "Trial"
           },
           "x": 1,
           "xpad": 40
          },
          "colorscale": [
           [
            0,
            "rgb(247,251,255)"
           ],
           [
            0.125,
            "rgb(222,235,247)"
           ],
           [
            0.25,
            "rgb(198,219,239)"
           ],
           [
            0.375,
            "rgb(158,202,225)"
           ],
           [
            0.5,
            "rgb(107,174,214)"
           ],
           [
            0.625,
            "rgb(66,146,198)"
           ],
           [
            0.75,
            "rgb(33,113,181)"
           ],
           [
            0.875,
            "rgb(8,81,156)"
           ],
           [
            1,
            "rgb(8,48,107)"
           ]
          ],
          "line": {
           "color": "Grey",
           "width": 0.5
          },
          "showscale": true
         },
         "mode": "markers",
         "name": "Feasible Trial",
         "showlegend": false,
         "type": "scatter",
         "x": [
          78.34599519372257,
          0.07772113987751482,
          1.611116885334385,
          1.365764837294641,
          10.073977631947383,
          0.6908757607151134,
          0.05012831374612053,
          43.38600865908867,
          0.49276435092174536,
          0.4638067323938052,
          82.68134872661183,
          83.38397618104398,
          22.82470441456797,
          11.818327364891859,
          12.873289244071485,
          8.12217855022583,
          18.94440731848262,
          4.353065211859564,
          26.556789091436034,
          5.364673706938745,
          28.57128407790633,
          27.54227313227139,
          34.64811820112458,
          41.558925150269474,
          24.41164499888618,
          3.8574344630708204,
          46.89822941037693,
          22.795972615038796,
          18.065272962773857,
          83.5656962611594,
          2.9081384088284103,
          55.43817596709292,
          53.091557720843745,
          16.022999794148376,
          98.91905353542992,
          7.770898365893209,
          54.8005498946585,
          21.777396314171128,
          11.047148678764385,
          34.84172939660227,
          60.10160808521896,
          42.556997306625746,
          26.92040262061826,
          61.96774977220021,
          30.431164293212223,
          95.89238132660547,
          38.55027283363599,
          13.59847600185179,
          66.75811964883219,
          8.219787338833143,
          30.173051144909092,
          19.786448690758043,
          16.550074113387623,
          42.41543520182008,
          37.469125091337744,
          43.84389952341172,
          16.065585034675017,
          10.811230633914638,
          35.85545655040968,
          15.485059693768235,
          66.23133530192659,
          28.49055966297449,
          31.287458166175863,
          46.48496859232566,
          25.507058490911994,
          74.97851428305702,
          22.82726350880255,
          20.795092362414948,
          73.23378725204375,
          78.08032067833506,
          95.6344603078926,
          71.67646734029452,
          67.67293816021497,
          80.84458710358876,
          19.237912112915005,
          75.69573893688099,
          51.70709524238833,
          33.36861593708113,
          21.44285258319934,
          21.461970005359582,
          12.869679903511896,
          50.1998161005929,
          33.66049879635404,
          99.76539824243608,
          17.009302486140136,
          23.306088932083785,
          39.45967464014098,
          39.34894264051417,
          55.11712457378022,
          25.327946479710203,
          9.259226378969874,
          36.654164652790826,
          37.67907719449486,
          38.81517049776393,
          55.99530747777504,
          32.8410028553309,
          46.60116575749636,
          12.94267441995321,
          18.04946252247974,
          33.99730116850432
         ],
         "xaxis": "x",
         "y": [
          0.7872855017090234,
          0.7657755569612728,
          0.8076557847552603,
          0.7831992653518274,
          0.8129657497234751,
          0.8757198273664898,
          0.8160010627913137,
          0.741786556269289,
          0.8361778500600549,
          0.7867430731708673,
          0.7530306235039571,
          0.7562721125225442,
          0.7312114597003045,
          0.7347106366022926,
          0.7940746100465681,
          0.7960489548302045,
          0.7753569297034322,
          0.792879072025942,
          0.777560049620543,
          0.7833107993820336,
          0.7357488482709533,
          0.7289298413990903,
          0.73122577436263,
          0.7320297637945572,
          0.7599143422185384,
          0.7361132870941457,
          0.7443282068967743,
          0.7300226013983394,
          0.7585074860007361,
          0.7967106709599914,
          0.7698899058311091,
          0.7304476639441008,
          0.7409218721402002,
          0.7347039379544619,
          0.7523130519370159,
          0.7516147264327951,
          0.7869659355867453,
          0.7428710062414607,
          0.7708038146488476,
          0.7749327574217519,
          0.8109911694614791,
          0.7273653768687225,
          0.7279402845833715,
          0.7293872222568517,
          0.7291806913892321,
          0.7321151963521026,
          0.7446206969258201,
          0.7301090141347861,
          0.7514937294665023,
          0.7454882766168689,
          0.7318127203658279,
          0.7299877901702332,
          0.7266098272978005,
          0.7282515685637588,
          0.7259766439345376,
          0.7316330414790178,
          0.7303181461981616,
          0.7305436494916491,
          0.7349020591641253,
          0.7293387357221548,
          0.7296886442741931,
          0.7296686308526946,
          0.7268355054608551,
          0.7321736979773978,
          0.7274055208769448,
          0.7260842063495642,
          0.7266526790175335,
          0.7263013044377675,
          0.7272935765930042,
          0.7262343190711817,
          0.729404165490785,
          0.7269408613266439,
          0.7300962799779146,
          0.7414945907591288,
          0.7284724211628401,
          0.7268124824842439,
          0.7637168487716763,
          0.7465723523611736,
          0.723950822404744,
          0.7272372880740509,
          0.7286638370044206,
          0.7271479752422211,
          0.7259957149545724,
          0.7289917393689398,
          0.7542327920502607,
          0.7465014048795238,
          0.7266073543807026,
          0.7343531534420464,
          0.7354456061879185,
          0.771759840521087,
          0.7385701863898311,
          0.7257106689053346,
          0.7257517565125196,
          0.7333649524749397,
          0.7280695807284766,
          0.7649486368561794,
          0.7401023365552051,
          0.783714936803089,
          0.7269607656062405,
          0.7398258494231303
         ],
         "yaxis": "y"
        },
        {
         "marker": {
          "color": [
           0,
           1,
           2,
           3,
           4,
           5,
           6,
           7,
           8,
           9,
           10,
           11,
           12,
           13,
           14,
           15,
           16,
           17,
           18,
           19,
           20,
           21,
           22,
           23,
           24,
           25,
           26,
           27,
           28,
           29,
           30,
           31,
           32,
           33,
           34,
           35,
           36,
           37,
           38,
           39,
           40,
           41,
           42,
           43,
           44,
           45,
           46,
           47,
           48,
           49,
           50,
           51,
           52,
           53,
           54,
           55,
           56,
           57,
           58,
           59,
           60,
           61,
           62,
           63,
           64,
           65,
           66,
           67,
           68,
           69,
           70,
           71,
           72,
           73,
           74,
           75,
           76,
           77,
           78,
           79,
           80,
           81,
           82,
           83,
           84,
           85,
           86,
           87,
           88,
           89,
           90,
           91,
           92,
           93,
           94,
           95,
           96,
           97,
           98,
           99
          ],
          "colorbar": {
           "title": {
            "text": "Trial"
           },
           "x": 1,
           "xpad": 40
          },
          "colorscale": [
           [
            0,
            "rgb(247,251,255)"
           ],
           [
            0.125,
            "rgb(222,235,247)"
           ],
           [
            0.25,
            "rgb(198,219,239)"
           ],
           [
            0.375,
            "rgb(158,202,225)"
           ],
           [
            0.5,
            "rgb(107,174,214)"
           ],
           [
            0.625,
            "rgb(66,146,198)"
           ],
           [
            0.75,
            "rgb(33,113,181)"
           ],
           [
            0.875,
            "rgb(8,81,156)"
           ],
           [
            1,
            "rgb(8,48,107)"
           ]
          ],
          "line": {
           "color": "Grey",
           "width": 0.5
          },
          "showscale": false
         },
         "mode": "markers",
         "name": "Feasible Trial",
         "showlegend": false,
         "type": "scatter",
         "x": [
          65,
          41,
          129,
          184,
          45,
          6,
          129,
          79,
          244,
          195,
          98,
          88,
          97,
          161,
          164,
          158,
          235,
          114,
          154,
          210,
          145,
          141,
          110,
          109,
          64,
          125,
          98,
          40,
          4,
          33,
          65,
          69,
          30,
          61,
          49,
          21,
          71,
          49,
          89,
          140,
          17,
          116,
          179,
          173,
          176,
          180,
          178,
          209,
          194,
          173,
          141,
          193,
          191,
          208,
          216,
          225,
          253,
          212,
          221,
          204,
          231,
          189,
          166,
          163,
          148,
          151,
          118,
          156,
          129,
          129,
          130,
          132,
          152,
          121,
          135,
          168,
          165,
          155,
          102,
          104,
          119,
          169,
          185,
          187,
          92,
          79,
          203,
          198,
          201,
          105,
          218,
          186,
          185,
          188,
          217,
          183,
          233,
          203,
          160,
          195
         ],
         "xaxis": "x2",
         "y": [
          0.7872855017090234,
          0.7657755569612728,
          0.8076557847552603,
          0.7831992653518274,
          0.8129657497234751,
          0.8757198273664898,
          0.8160010627913137,
          0.741786556269289,
          0.8361778500600549,
          0.7867430731708673,
          0.7530306235039571,
          0.7562721125225442,
          0.7312114597003045,
          0.7347106366022926,
          0.7940746100465681,
          0.7960489548302045,
          0.7753569297034322,
          0.792879072025942,
          0.777560049620543,
          0.7833107993820336,
          0.7357488482709533,
          0.7289298413990903,
          0.73122577436263,
          0.7320297637945572,
          0.7599143422185384,
          0.7361132870941457,
          0.7443282068967743,
          0.7300226013983394,
          0.7585074860007361,
          0.7967106709599914,
          0.7698899058311091,
          0.7304476639441008,
          0.7409218721402002,
          0.7347039379544619,
          0.7523130519370159,
          0.7516147264327951,
          0.7869659355867453,
          0.7428710062414607,
          0.7708038146488476,
          0.7749327574217519,
          0.8109911694614791,
          0.7273653768687225,
          0.7279402845833715,
          0.7293872222568517,
          0.7291806913892321,
          0.7321151963521026,
          0.7446206969258201,
          0.7301090141347861,
          0.7514937294665023,
          0.7454882766168689,
          0.7318127203658279,
          0.7299877901702332,
          0.7266098272978005,
          0.7282515685637588,
          0.7259766439345376,
          0.7316330414790178,
          0.7303181461981616,
          0.7305436494916491,
          0.7349020591641253,
          0.7293387357221548,
          0.7296886442741931,
          0.7296686308526946,
          0.7268355054608551,
          0.7321736979773978,
          0.7274055208769448,
          0.7260842063495642,
          0.7266526790175335,
          0.7263013044377675,
          0.7272935765930042,
          0.7262343190711817,
          0.729404165490785,
          0.7269408613266439,
          0.7300962799779146,
          0.7414945907591288,
          0.7284724211628401,
          0.7268124824842439,
          0.7637168487716763,
          0.7465723523611736,
          0.723950822404744,
          0.7272372880740509,
          0.7286638370044206,
          0.7271479752422211,
          0.7259957149545724,
          0.7289917393689398,
          0.7542327920502607,
          0.7465014048795238,
          0.7266073543807026,
          0.7343531534420464,
          0.7354456061879185,
          0.771759840521087,
          0.7385701863898311,
          0.7257106689053346,
          0.7257517565125196,
          0.7333649524749397,
          0.7280695807284766,
          0.7649486368561794,
          0.7401023365552051,
          0.783714936803089,
          0.7269607656062405,
          0.7398258494231303
         ],
         "yaxis": "y2"
        },
        {
         "marker": {
          "color": [
           0,
           1,
           2,
           3,
           4,
           5,
           6,
           7,
           8,
           9,
           10,
           11,
           12,
           13,
           14,
           15,
           16,
           17,
           18,
           19,
           20,
           21,
           22,
           23,
           24,
           25,
           26,
           27,
           28,
           29,
           30,
           31,
           32,
           33,
           34,
           35,
           36,
           37,
           38,
           39,
           40,
           41,
           42,
           43,
           44,
           45,
           46,
           47,
           48,
           49,
           50,
           51,
           52,
           53,
           54,
           55,
           56,
           57,
           58,
           59,
           60,
           61,
           62,
           63,
           64,
           65,
           66,
           67,
           68,
           69,
           70,
           71,
           72,
           73,
           74,
           75,
           76,
           77,
           78,
           79,
           80,
           81,
           82,
           83,
           84,
           85,
           86,
           87,
           88,
           89,
           90,
           91,
           92,
           93,
           94,
           95,
           96,
           97,
           98,
           99
          ],
          "colorbar": {
           "title": {
            "text": "Trial"
           },
           "x": 1,
           "xpad": 40
          },
          "colorscale": [
           [
            0,
            "rgb(247,251,255)"
           ],
           [
            0.125,
            "rgb(222,235,247)"
           ],
           [
            0.25,
            "rgb(198,219,239)"
           ],
           [
            0.375,
            "rgb(158,202,225)"
           ],
           [
            0.5,
            "rgb(107,174,214)"
           ],
           [
            0.625,
            "rgb(66,146,198)"
           ],
           [
            0.75,
            "rgb(33,113,181)"
           ],
           [
            0.875,
            "rgb(8,81,156)"
           ],
           [
            1,
            "rgb(8,48,107)"
           ]
          ],
          "line": {
           "color": "Grey",
           "width": 0.5
          },
          "showscale": false
         },
         "mode": "markers",
         "name": "Feasible Trial",
         "showlegend": false,
         "type": "scatter",
         "x": [
          6,
          9,
          10,
          7,
          10,
          5,
          6,
          7,
          7,
          4,
          8,
          8,
          8,
          8,
          9,
          8,
          9,
          8,
          6,
          9,
          5,
          4,
          4,
          4,
          5,
          4,
          5,
          4,
          6,
          5,
          4,
          4,
          4,
          5,
          4,
          6,
          5,
          4,
          7,
          10,
          7,
          4,
          4,
          4,
          5,
          5,
          4,
          5,
          4,
          5,
          4,
          4,
          4,
          4,
          5,
          4,
          6,
          4,
          5,
          4,
          5,
          5,
          4,
          4,
          4,
          4,
          4,
          4,
          4,
          5,
          6,
          5,
          5,
          6,
          5,
          5,
          5,
          4,
          6,
          6,
          7,
          5,
          6,
          6,
          6,
          6,
          7,
          7,
          7,
          8,
          7,
          5,
          6,
          6,
          6,
          6,
          7,
          6,
          5,
          6
         ],
         "xaxis": "x3",
         "y": [
          0.7872855017090234,
          0.7657755569612728,
          0.8076557847552603,
          0.7831992653518274,
          0.8129657497234751,
          0.8757198273664898,
          0.8160010627913137,
          0.741786556269289,
          0.8361778500600549,
          0.7867430731708673,
          0.7530306235039571,
          0.7562721125225442,
          0.7312114597003045,
          0.7347106366022926,
          0.7940746100465681,
          0.7960489548302045,
          0.7753569297034322,
          0.792879072025942,
          0.777560049620543,
          0.7833107993820336,
          0.7357488482709533,
          0.7289298413990903,
          0.73122577436263,
          0.7320297637945572,
          0.7599143422185384,
          0.7361132870941457,
          0.7443282068967743,
          0.7300226013983394,
          0.7585074860007361,
          0.7967106709599914,
          0.7698899058311091,
          0.7304476639441008,
          0.7409218721402002,
          0.7347039379544619,
          0.7523130519370159,
          0.7516147264327951,
          0.7869659355867453,
          0.7428710062414607,
          0.7708038146488476,
          0.7749327574217519,
          0.8109911694614791,
          0.7273653768687225,
          0.7279402845833715,
          0.7293872222568517,
          0.7291806913892321,
          0.7321151963521026,
          0.7446206969258201,
          0.7301090141347861,
          0.7514937294665023,
          0.7454882766168689,
          0.7318127203658279,
          0.7299877901702332,
          0.7266098272978005,
          0.7282515685637588,
          0.7259766439345376,
          0.7316330414790178,
          0.7303181461981616,
          0.7305436494916491,
          0.7349020591641253,
          0.7293387357221548,
          0.7296886442741931,
          0.7296686308526946,
          0.7268355054608551,
          0.7321736979773978,
          0.7274055208769448,
          0.7260842063495642,
          0.7266526790175335,
          0.7263013044377675,
          0.7272935765930042,
          0.7262343190711817,
          0.729404165490785,
          0.7269408613266439,
          0.7300962799779146,
          0.7414945907591288,
          0.7284724211628401,
          0.7268124824842439,
          0.7637168487716763,
          0.7465723523611736,
          0.723950822404744,
          0.7272372880740509,
          0.7286638370044206,
          0.7271479752422211,
          0.7259957149545724,
          0.7289917393689398,
          0.7542327920502607,
          0.7465014048795238,
          0.7266073543807026,
          0.7343531534420464,
          0.7354456061879185,
          0.771759840521087,
          0.7385701863898311,
          0.7257106689053346,
          0.7257517565125196,
          0.7333649524749397,
          0.7280695807284766,
          0.7649486368561794,
          0.7401023365552051,
          0.783714936803089,
          0.7269607656062405,
          0.7398258494231303
         ],
         "yaxis": "y3"
        },
        {
         "marker": {
          "color": [
           0,
           1,
           2,
           3,
           4,
           5,
           6,
           7,
           8,
           9,
           10,
           11,
           12,
           13,
           14,
           15,
           16,
           17,
           18,
           19,
           20,
           21,
           22,
           23,
           24,
           25,
           26,
           27,
           28,
           29,
           30,
           31,
           32,
           33,
           34,
           35,
           36,
           37,
           38,
           39,
           40,
           41,
           42,
           43,
           44,
           45,
           46,
           47,
           48,
           49,
           50,
           51,
           52,
           53,
           54,
           55,
           56,
           57,
           58,
           59,
           60,
           61,
           62,
           63,
           64,
           65,
           66,
           67,
           68,
           69,
           70,
           71,
           72,
           73,
           74,
           75,
           76,
           77,
           78,
           79,
           80,
           81,
           82,
           83,
           84,
           85,
           86,
           87,
           88,
           89,
           90,
           91,
           92,
           93,
           94,
           95,
           96,
           97,
           98,
           99
          ],
          "colorbar": {
           "title": {
            "text": "Trial"
           },
           "x": 1,
           "xpad": 40
          },
          "colorscale": [
           [
            0,
            "rgb(247,251,255)"
           ],
           [
            0.125,
            "rgb(222,235,247)"
           ],
           [
            0.25,
            "rgb(198,219,239)"
           ],
           [
            0.375,
            "rgb(158,202,225)"
           ],
           [
            0.5,
            "rgb(107,174,214)"
           ],
           [
            0.625,
            "rgb(66,146,198)"
           ],
           [
            0.75,
            "rgb(33,113,181)"
           ],
           [
            0.875,
            "rgb(8,81,156)"
           ],
           [
            1,
            "rgb(8,48,107)"
           ]
          ],
          "line": {
           "color": "Grey",
           "width": 0.5
          },
          "showscale": false
         },
         "mode": "markers",
         "name": "Feasible Trial",
         "showlegend": false,
         "type": "scatter",
         "x": [
          450,
          233,
          265,
          123,
          807,
          980,
          805,
          361,
          318,
          340,
          588,
          633,
          514,
          473,
          549,
          471,
          711,
          441,
          530,
          700,
          100,
          107,
          179,
          195,
          180,
          154,
          272,
          366,
          395,
          401,
          509,
          220,
          239,
          292,
          235,
          144,
          400,
          218,
          301,
          361,
          957,
          106,
          137,
          105,
          105,
          107,
          147,
          104,
          169,
          133,
          249,
          189,
          198,
          127,
          140,
          146,
          206,
          279,
          162,
          132,
          188,
          114,
          166,
          327,
          167,
          262,
          266,
          255,
          263,
          267,
          296,
          256,
          342,
          252,
          221,
          269,
          612,
          316,
          214,
          426,
          204,
          277,
          230,
          224,
          358,
          305,
          234,
          242,
          193,
          236,
          335,
          263,
          208,
          214,
          199,
          857,
          290,
          708,
          179,
          314
         ],
         "xaxis": "x4",
         "y": [
          0.7872855017090234,
          0.7657755569612728,
          0.8076557847552603,
          0.7831992653518274,
          0.8129657497234751,
          0.8757198273664898,
          0.8160010627913137,
          0.741786556269289,
          0.8361778500600549,
          0.7867430731708673,
          0.7530306235039571,
          0.7562721125225442,
          0.7312114597003045,
          0.7347106366022926,
          0.7940746100465681,
          0.7960489548302045,
          0.7753569297034322,
          0.792879072025942,
          0.777560049620543,
          0.7833107993820336,
          0.7357488482709533,
          0.7289298413990903,
          0.73122577436263,
          0.7320297637945572,
          0.7599143422185384,
          0.7361132870941457,
          0.7443282068967743,
          0.7300226013983394,
          0.7585074860007361,
          0.7967106709599914,
          0.7698899058311091,
          0.7304476639441008,
          0.7409218721402002,
          0.7347039379544619,
          0.7523130519370159,
          0.7516147264327951,
          0.7869659355867453,
          0.7428710062414607,
          0.7708038146488476,
          0.7749327574217519,
          0.8109911694614791,
          0.7273653768687225,
          0.7279402845833715,
          0.7293872222568517,
          0.7291806913892321,
          0.7321151963521026,
          0.7446206969258201,
          0.7301090141347861,
          0.7514937294665023,
          0.7454882766168689,
          0.7318127203658279,
          0.7299877901702332,
          0.7266098272978005,
          0.7282515685637588,
          0.7259766439345376,
          0.7316330414790178,
          0.7303181461981616,
          0.7305436494916491,
          0.7349020591641253,
          0.7293387357221548,
          0.7296886442741931,
          0.7296686308526946,
          0.7268355054608551,
          0.7321736979773978,
          0.7274055208769448,
          0.7260842063495642,
          0.7266526790175335,
          0.7263013044377675,
          0.7272935765930042,
          0.7262343190711817,
          0.729404165490785,
          0.7269408613266439,
          0.7300962799779146,
          0.7414945907591288,
          0.7284724211628401,
          0.7268124824842439,
          0.7637168487716763,
          0.7465723523611736,
          0.723950822404744,
          0.7272372880740509,
          0.7286638370044206,
          0.7271479752422211,
          0.7259957149545724,
          0.7289917393689398,
          0.7542327920502607,
          0.7465014048795238,
          0.7266073543807026,
          0.7343531534420464,
          0.7354456061879185,
          0.771759840521087,
          0.7385701863898311,
          0.7257106689053346,
          0.7257517565125196,
          0.7333649524749397,
          0.7280695807284766,
          0.7649486368561794,
          0.7401023365552051,
          0.783714936803089,
          0.7269607656062405,
          0.7398258494231303
         ],
         "yaxis": "y4"
        },
        {
         "marker": {
          "color": [
           0,
           1,
           2,
           3,
           4,
           5,
           6,
           7,
           8,
           9,
           10,
           11,
           12,
           13,
           14,
           15,
           16,
           17,
           18,
           19,
           20,
           21,
           22,
           23,
           24,
           25,
           26,
           27,
           28,
           29,
           30,
           31,
           32,
           33,
           34,
           35,
           36,
           37,
           38,
           39,
           40,
           41,
           42,
           43,
           44,
           45,
           46,
           47,
           48,
           49,
           50,
           51,
           52,
           53,
           54,
           55,
           56,
           57,
           58,
           59,
           60,
           61,
           62,
           63,
           64,
           65,
           66,
           67,
           68,
           69,
           70,
           71,
           72,
           73,
           74,
           75,
           76,
           77,
           78,
           79,
           80,
           81,
           82,
           83,
           84,
           85,
           86,
           87,
           88,
           89,
           90,
           91,
           92,
           93,
           94,
           95,
           96,
           97,
           98,
           99
          ],
          "colorbar": {
           "title": {
            "text": "Trial"
           },
           "x": 1,
           "xpad": 40
          },
          "colorscale": [
           [
            0,
            "rgb(247,251,255)"
           ],
           [
            0.125,
            "rgb(222,235,247)"
           ],
           [
            0.25,
            "rgb(198,219,239)"
           ],
           [
            0.375,
            "rgb(158,202,225)"
           ],
           [
            0.5,
            "rgb(107,174,214)"
           ],
           [
            0.625,
            "rgb(66,146,198)"
           ],
           [
            0.75,
            "rgb(33,113,181)"
           ],
           [
            0.875,
            "rgb(8,81,156)"
           ],
           [
            1,
            "rgb(8,48,107)"
           ]
          ],
          "line": {
           "color": "Grey",
           "width": 0.5
          },
          "showscale": false
         },
         "mode": "markers",
         "name": "Feasible Trial",
         "showlegend": false,
         "type": "scatter",
         "x": [
          5.918694433904463e-7,
          2.415362363762566,
          7.107758487691288e-7,
          0.000004739745729777652,
          0.00017665653544349184,
          0.000025191274701928254,
          0.04631953741141396,
          0.22165733263359158,
          0.0004392815474173829,
          0.32665590662782373,
          0.006703362816564779,
          0.010334286274872236,
          5.882152217459632,
          6.782448911844683,
          7.671181396725423,
          8.240941824016353,
          1.270312934040011e-8,
          0.8563886319461764,
          0.7716100946265075,
          8.695414632270253,
          0.0791978205181561,
          0.2569540761887591,
          1.1687912693561786,
          1.1842385402689586,
          0.1514899096248189,
          0.02527697654174755,
          1.3491629464928856,
          0.2575790845196534,
          0.0039128851087556205,
          0.19547897397040864,
          0.03988821372908449,
          0.3645833941729819,
          0.3852796879262419,
          2.5524286732428028,
          0.10187492463081324,
          2.6267299255451446,
          0.42947241152447896,
          0.017739302028600374,
          0.0031077497533670492,
          0.13209626387537524,
          0.0531331605204651,
          2.5775522298398186,
          3.127472609477307,
          2.5461275891377073,
          2.570818833916859,
          3.0599681820508344,
          2.8549992871402514,
          2.4338707049251704,
          0.5326825800653513,
          1.2294957441486494,
          9.7894694295454,
          0.22643256477592244,
          3.2547025128891343,
          3.7101648964236866,
          4.541872263103225,
          0.8543337177278806,
          5.957858861215944,
          4.60318925014521,
          1.2241379679407283,
          9.236597923405222,
          0.7144047863134031,
          4.317789873445925,
          4.815974584979557,
          1.5470240505757176,
          5.242583666932115,
          5.242520640548102,
          9.77548432360559,
          9.958987671458216,
          9.746130842581286,
          8.187719678775649,
          5.357100802779858,
          7.313351257369494,
          9.453051245174917,
          1.5265380271183948,
          0.5440800484226201,
          5.522820010366376,
          1.4959813504783397,
          0.7172344456093646,
          4.297057461887079,
          1.803160398541605,
          4.447881673115506,
          6.6510591843559785,
          4.618192784586775,
          1.8741879607752951,
          0.9663986502555448,
          3.9570654416791466,
          9.920740194270017,
          9.830916062004068,
          2.037010663516108,
          0.43653280493400615,
          3.5825420789668,
          5.998161055065795,
          3.283628889629405,
          0.9496975341091075,
          3.199459012043614,
          2.1860664565763313,
          5.9093277949432785,
          0.3414014661128728,
          1.69955064040618,
          3.5008243526059784
         ],
         "xaxis": "x5",
         "y": [
          0.7872855017090234,
          0.7657755569612728,
          0.8076557847552603,
          0.7831992653518274,
          0.8129657497234751,
          0.8757198273664898,
          0.8160010627913137,
          0.741786556269289,
          0.8361778500600549,
          0.7867430731708673,
          0.7530306235039571,
          0.7562721125225442,
          0.7312114597003045,
          0.7347106366022926,
          0.7940746100465681,
          0.7960489548302045,
          0.7753569297034322,
          0.792879072025942,
          0.777560049620543,
          0.7833107993820336,
          0.7357488482709533,
          0.7289298413990903,
          0.73122577436263,
          0.7320297637945572,
          0.7599143422185384,
          0.7361132870941457,
          0.7443282068967743,
          0.7300226013983394,
          0.7585074860007361,
          0.7967106709599914,
          0.7698899058311091,
          0.7304476639441008,
          0.7409218721402002,
          0.7347039379544619,
          0.7523130519370159,
          0.7516147264327951,
          0.7869659355867453,
          0.7428710062414607,
          0.7708038146488476,
          0.7749327574217519,
          0.8109911694614791,
          0.7273653768687225,
          0.7279402845833715,
          0.7293872222568517,
          0.7291806913892321,
          0.7321151963521026,
          0.7446206969258201,
          0.7301090141347861,
          0.7514937294665023,
          0.7454882766168689,
          0.7318127203658279,
          0.7299877901702332,
          0.7266098272978005,
          0.7282515685637588,
          0.7259766439345376,
          0.7316330414790178,
          0.7303181461981616,
          0.7305436494916491,
          0.7349020591641253,
          0.7293387357221548,
          0.7296886442741931,
          0.7296686308526946,
          0.7268355054608551,
          0.7321736979773978,
          0.7274055208769448,
          0.7260842063495642,
          0.7266526790175335,
          0.7263013044377675,
          0.7272935765930042,
          0.7262343190711817,
          0.729404165490785,
          0.7269408613266439,
          0.7300962799779146,
          0.7414945907591288,
          0.7284724211628401,
          0.7268124824842439,
          0.7637168487716763,
          0.7465723523611736,
          0.723950822404744,
          0.7272372880740509,
          0.7286638370044206,
          0.7271479752422211,
          0.7259957149545724,
          0.7289917393689398,
          0.7542327920502607,
          0.7465014048795238,
          0.7266073543807026,
          0.7343531534420464,
          0.7354456061879185,
          0.771759840521087,
          0.7385701863898311,
          0.7257106689053346,
          0.7257517565125196,
          0.7333649524749397,
          0.7280695807284766,
          0.7649486368561794,
          0.7401023365552051,
          0.783714936803089,
          0.7269607656062405,
          0.7398258494231303
         ],
         "yaxis": "y5"
        },
        {
         "marker": {
          "color": [
           0,
           1,
           2,
           3,
           4,
           5,
           6,
           7,
           8,
           9,
           10,
           11,
           12,
           13,
           14,
           15,
           16,
           17,
           18,
           19,
           20,
           21,
           22,
           23,
           24,
           25,
           26,
           27,
           28,
           29,
           30,
           31,
           32,
           33,
           34,
           35,
           36,
           37,
           38,
           39,
           40,
           41,
           42,
           43,
           44,
           45,
           46,
           47,
           48,
           49,
           50,
           51,
           52,
           53,
           54,
           55,
           56,
           57,
           58,
           59,
           60,
           61,
           62,
           63,
           64,
           65,
           66,
           67,
           68,
           69,
           70,
           71,
           72,
           73,
           74,
           75,
           76,
           77,
           78,
           79,
           80,
           81,
           82,
           83,
           84,
           85,
           86,
           87,
           88,
           89,
           90,
           91,
           92,
           93,
           94,
           95,
           96,
           97,
           98,
           99
          ],
          "colorbar": {
           "title": {
            "text": "Trial"
           },
           "x": 1,
           "xpad": 40
          },
          "colorscale": [
           [
            0,
            "rgb(247,251,255)"
           ],
           [
            0.125,
            "rgb(222,235,247)"
           ],
           [
            0.25,
            "rgb(198,219,239)"
           ],
           [
            0.375,
            "rgb(158,202,225)"
           ],
           [
            0.5,
            "rgb(107,174,214)"
           ],
           [
            0.625,
            "rgb(66,146,198)"
           ],
           [
            0.75,
            "rgb(33,113,181)"
           ],
           [
            0.875,
            "rgb(8,81,156)"
           ],
           [
            1,
            "rgb(8,48,107)"
           ]
          ],
          "line": {
           "color": "Grey",
           "width": 0.5
          },
          "showscale": false
         },
         "mode": "markers",
         "name": "Feasible Trial",
         "showlegend": false,
         "type": "scatter",
         "x": [
          0.05086909653969905,
          0.06833105291221198,
          0.18417412328423216,
          0.1298850047506491,
          0.27078491091812396,
          0.06631544642698484,
          0.05991574211962419,
          0.012830459239982881,
          0.2827772233153475,
          0.0954484097755341,
          0.011961788652284531,
          0.01047289518240421,
          0.010825876582539256,
          0.021761232874924978,
          0.12407885056230059,
          0.16633207367750616,
          0.039131538863962013,
          0.09497599730747285,
          0.03628167087157662,
          0.08730724335720186,
          0.03374553651236079,
          0.03233637719710338,
          0.03473974864528785,
          0.04422742463715348,
          0.07453218504063805,
          0.03408527678081499,
          0.047588853795659504,
          0.013581448853811995,
          0.011168040350718072,
          0.05722907194932944,
          0.05031797676887913,
          0.025261275734070908,
          0.029048825610737086,
          0.02516014892555697,
          0.05717342106691793,
          0.07805607444596155,
          0.0686524041015166,
          0.025217230423104253,
          0.05021742421728864,
          0.10872022588060899,
          0.06746486184925699,
          0.030119738192626297,
          0.022719115760882997,
          0.049414083259521124,
          0.05034900984974147,
          0.05995623125471014,
          0.0798439780154172,
          0.04717728227700571,
          0.07181926743945002,
          0.06140730043030172,
          0.04384522656494176,
          0.017777515514202865,
          0.01877598616665028,
          0.02600660053441132,
          0.0238352944325248,
          0.02825769686264678,
          0.02017529799482562,
          0.039406280770195964,
          0.020679261417827645,
          0.036202011576701186,
          0.011275961162331632,
          0.03579609913912461,
          0.020367431857484197,
          0.021779775443694777,
          0.03399795952068969,
          0.011258864388952195,
          0.01166686803080457,
          0.01151311868727736,
          0.010557005276749637,
          0.010462100403584475,
          0.010089742261739223,
          0.017985772588459684,
          0.019536022860272662,
          0.04081975334248864,
          0.01710328906816371,
          0.016507317701225058,
          0.029962385077772435,
          0.03973224720998203,
          0.011096689439082591,
          0.01050076517287143,
          0.02823829737387709,
          0.021483675775762993,
          0.019030557477727937,
          0.015744275895723102,
          0.03256309778823097,
          0.04474082198963588,
          0.027705712137959235,
          0.02803248250126562,
          0.04036750557975656,
          0.0560517771482369,
          0.024749547277739245,
          0.01650441919527896,
          0.010677722733462224,
          0.030823963979074588,
          0.016352535702251914,
          0.024742716050968408,
          0.04450965075188397,
          0.03734843878424948,
          0.014467691780709273,
          0.032687580154313084
         ],
         "xaxis": "x6",
         "y": [
          0.7872855017090234,
          0.7657755569612728,
          0.8076557847552603,
          0.7831992653518274,
          0.8129657497234751,
          0.8757198273664898,
          0.8160010627913137,
          0.741786556269289,
          0.8361778500600549,
          0.7867430731708673,
          0.7530306235039571,
          0.7562721125225442,
          0.7312114597003045,
          0.7347106366022926,
          0.7940746100465681,
          0.7960489548302045,
          0.7753569297034322,
          0.792879072025942,
          0.777560049620543,
          0.7833107993820336,
          0.7357488482709533,
          0.7289298413990903,
          0.73122577436263,
          0.7320297637945572,
          0.7599143422185384,
          0.7361132870941457,
          0.7443282068967743,
          0.7300226013983394,
          0.7585074860007361,
          0.7967106709599914,
          0.7698899058311091,
          0.7304476639441008,
          0.7409218721402002,
          0.7347039379544619,
          0.7523130519370159,
          0.7516147264327951,
          0.7869659355867453,
          0.7428710062414607,
          0.7708038146488476,
          0.7749327574217519,
          0.8109911694614791,
          0.7273653768687225,
          0.7279402845833715,
          0.7293872222568517,
          0.7291806913892321,
          0.7321151963521026,
          0.7446206969258201,
          0.7301090141347861,
          0.7514937294665023,
          0.7454882766168689,
          0.7318127203658279,
          0.7299877901702332,
          0.7266098272978005,
          0.7282515685637588,
          0.7259766439345376,
          0.7316330414790178,
          0.7303181461981616,
          0.7305436494916491,
          0.7349020591641253,
          0.7293387357221548,
          0.7296886442741931,
          0.7296686308526946,
          0.7268355054608551,
          0.7321736979773978,
          0.7274055208769448,
          0.7260842063495642,
          0.7266526790175335,
          0.7263013044377675,
          0.7272935765930042,
          0.7262343190711817,
          0.729404165490785,
          0.7269408613266439,
          0.7300962799779146,
          0.7414945907591288,
          0.7284724211628401,
          0.7268124824842439,
          0.7637168487716763,
          0.7465723523611736,
          0.723950822404744,
          0.7272372880740509,
          0.7286638370044206,
          0.7271479752422211,
          0.7259957149545724,
          0.7289917393689398,
          0.7542327920502607,
          0.7465014048795238,
          0.7266073543807026,
          0.7343531534420464,
          0.7354456061879185,
          0.771759840521087,
          0.7385701863898311,
          0.7257106689053346,
          0.7257517565125196,
          0.7333649524749397,
          0.7280695807284766,
          0.7649486368561794,
          0.7401023365552051,
          0.783714936803089,
          0.7269607656062405,
          0.7398258494231303
         ],
         "yaxis": "y6"
        },
        {
         "marker": {
          "color": [
           0,
           1,
           2,
           3,
           4,
           5,
           6,
           7,
           8,
           9,
           10,
           11,
           12,
           13,
           14,
           15,
           16,
           17,
           18,
           19,
           20,
           21,
           22,
           23,
           24,
           25,
           26,
           27,
           28,
           29,
           30,
           31,
           32,
           33,
           34,
           35,
           36,
           37,
           38,
           39,
           40,
           41,
           42,
           43,
           44,
           45,
           46,
           47,
           48,
           49,
           50,
           51,
           52,
           53,
           54,
           55,
           56,
           57,
           58,
           59,
           60,
           61,
           62,
           63,
           64,
           65,
           66,
           67,
           68,
           69,
           70,
           71,
           72,
           73,
           74,
           75,
           76,
           77,
           78,
           79,
           80,
           81,
           82,
           83,
           84,
           85,
           86,
           87,
           88,
           89,
           90,
           91,
           92,
           93,
           94,
           95,
           96,
           97,
           98,
           99
          ],
          "colorbar": {
           "title": {
            "text": "Trial"
           },
           "x": 1,
           "xpad": 40
          },
          "colorscale": [
           [
            0,
            "rgb(247,251,255)"
           ],
           [
            0.125,
            "rgb(222,235,247)"
           ],
           [
            0.25,
            "rgb(198,219,239)"
           ],
           [
            0.375,
            "rgb(158,202,225)"
           ],
           [
            0.5,
            "rgb(107,174,214)"
           ],
           [
            0.625,
            "rgb(66,146,198)"
           ],
           [
            0.75,
            "rgb(33,113,181)"
           ],
           [
            0.875,
            "rgb(8,81,156)"
           ],
           [
            1,
            "rgb(8,48,107)"
           ]
          ],
          "line": {
           "color": "Grey",
           "width": 0.5
          },
          "showscale": false
         },
         "mode": "markers",
         "name": "Feasible Trial",
         "showlegend": false,
         "type": "scatter",
         "x": [
          13,
          37,
          3,
          22,
          87,
          81,
          39,
          86,
          100,
          78,
          62,
          63,
          58,
          58,
          53,
          42,
          67,
          49,
          22,
          72,
          53,
          55,
          57,
          45,
          32,
          68,
          57,
          32,
          30,
          23,
          13,
          47,
          47,
          34,
          41,
          28,
          13,
          38,
          3,
          50,
          75,
          58,
          62,
          65,
          82,
          92,
          84,
          64,
          71,
          98,
          61,
          79,
          78,
          75,
          76,
          90,
          73,
          77,
          69,
          87,
          53,
          81,
          60,
          61,
          55,
          67,
          60,
          66,
          66,
          68,
          70,
          67,
          68,
          73,
          60,
          77,
          77,
          80,
          75,
          75,
          85,
          64,
          72,
          71,
          83,
          77,
          89,
          94,
          88,
          73,
          66,
          69,
          69,
          69,
          74,
          71,
          79,
          64,
          94,
          82
         ],
         "xaxis": "x7",
         "y": [
          0.7872855017090234,
          0.7657755569612728,
          0.8076557847552603,
          0.7831992653518274,
          0.8129657497234751,
          0.8757198273664898,
          0.8160010627913137,
          0.741786556269289,
          0.8361778500600549,
          0.7867430731708673,
          0.7530306235039571,
          0.7562721125225442,
          0.7312114597003045,
          0.7347106366022926,
          0.7940746100465681,
          0.7960489548302045,
          0.7753569297034322,
          0.792879072025942,
          0.777560049620543,
          0.7833107993820336,
          0.7357488482709533,
          0.7289298413990903,
          0.73122577436263,
          0.7320297637945572,
          0.7599143422185384,
          0.7361132870941457,
          0.7443282068967743,
          0.7300226013983394,
          0.7585074860007361,
          0.7967106709599914,
          0.7698899058311091,
          0.7304476639441008,
          0.7409218721402002,
          0.7347039379544619,
          0.7523130519370159,
          0.7516147264327951,
          0.7869659355867453,
          0.7428710062414607,
          0.7708038146488476,
          0.7749327574217519,
          0.8109911694614791,
          0.7273653768687225,
          0.7279402845833715,
          0.7293872222568517,
          0.7291806913892321,
          0.7321151963521026,
          0.7446206969258201,
          0.7301090141347861,
          0.7514937294665023,
          0.7454882766168689,
          0.7318127203658279,
          0.7299877901702332,
          0.7266098272978005,
          0.7282515685637588,
          0.7259766439345376,
          0.7316330414790178,
          0.7303181461981616,
          0.7305436494916491,
          0.7349020591641253,
          0.7293387357221548,
          0.7296886442741931,
          0.7296686308526946,
          0.7268355054608551,
          0.7321736979773978,
          0.7274055208769448,
          0.7260842063495642,
          0.7266526790175335,
          0.7263013044377675,
          0.7272935765930042,
          0.7262343190711817,
          0.729404165490785,
          0.7269408613266439,
          0.7300962799779146,
          0.7414945907591288,
          0.7284724211628401,
          0.7268124824842439,
          0.7637168487716763,
          0.7465723523611736,
          0.723950822404744,
          0.7272372880740509,
          0.7286638370044206,
          0.7271479752422211,
          0.7259957149545724,
          0.7289917393689398,
          0.7542327920502607,
          0.7465014048795238,
          0.7266073543807026,
          0.7343531534420464,
          0.7354456061879185,
          0.771759840521087,
          0.7385701863898311,
          0.7257106689053346,
          0.7257517565125196,
          0.7333649524749397,
          0.7280695807284766,
          0.7649486368561794,
          0.7401023365552051,
          0.783714936803089,
          0.7269607656062405,
          0.7398258494231303
         ],
         "yaxis": "y7"
        },
        {
         "marker": {
          "color": [
           0,
           1,
           2,
           3,
           4,
           5,
           6,
           7,
           8,
           9,
           10,
           11,
           12,
           13,
           14,
           15,
           16,
           17,
           18,
           19,
           20,
           21,
           22,
           23,
           24,
           25,
           26,
           27,
           28,
           29,
           30,
           31,
           32,
           33,
           34,
           35,
           36,
           37,
           38,
           39,
           40,
           41,
           42,
           43,
           44,
           45,
           46,
           47,
           48,
           49,
           50,
           51,
           52,
           53,
           54,
           55,
           56,
           57,
           58,
           59,
           60,
           61,
           62,
           63,
           64,
           65,
           66,
           67,
           68,
           69,
           70,
           71,
           72,
           73,
           74,
           75,
           76,
           77,
           78,
           79,
           80,
           81,
           82,
           83,
           84,
           85,
           86,
           87,
           88,
           89,
           90,
           91,
           92,
           93,
           94,
           95,
           96,
           97,
           98,
           99
          ],
          "colorbar": {
           "title": {
            "text": "Trial"
           },
           "x": 1,
           "xpad": 40
          },
          "colorscale": [
           [
            0,
            "rgb(247,251,255)"
           ],
           [
            0.125,
            "rgb(222,235,247)"
           ],
           [
            0.25,
            "rgb(198,219,239)"
           ],
           [
            0.375,
            "rgb(158,202,225)"
           ],
           [
            0.5,
            "rgb(107,174,214)"
           ],
           [
            0.625,
            "rgb(66,146,198)"
           ],
           [
            0.75,
            "rgb(33,113,181)"
           ],
           [
            0.875,
            "rgb(8,81,156)"
           ],
           [
            1,
            "rgb(8,48,107)"
           ]
          ],
          "line": {
           "color": "Grey",
           "width": 0.5
          },
          "showscale": false
         },
         "mode": "markers",
         "name": "Feasible Trial",
         "showlegend": false,
         "type": "scatter",
         "x": [
          25,
          22,
          11,
          27,
          25,
          43,
          20,
          24,
          36,
          26,
          50,
          48,
          35,
          34,
          35,
          36,
          41,
          31,
          41,
          31,
          17,
          16,
          10,
          14,
          12,
          16,
          10,
          19,
          20,
          18,
          29,
          15,
          15,
          21,
          14,
          23,
          19,
          13,
          28,
          22,
          39,
          10,
          12,
          12,
          12,
          12,
          11,
          10,
          13,
          17,
          16,
          12,
          12,
          14,
          14,
          14,
          17,
          10,
          15,
          14,
          24,
          11,
          13,
          16,
          13,
          13,
          13,
          46,
          43,
          48,
          50,
          47,
          47,
          46,
          45,
          49,
          49,
          43,
          45,
          45,
          48,
          49,
          39,
          38,
          41,
          44,
          32,
          40,
          33,
          37,
          31,
          48,
          42,
          42,
          45,
          47,
          40,
          27,
          33,
          44
         ],
         "xaxis": "x8",
         "y": [
          0.7872855017090234,
          0.7657755569612728,
          0.8076557847552603,
          0.7831992653518274,
          0.8129657497234751,
          0.8757198273664898,
          0.8160010627913137,
          0.741786556269289,
          0.8361778500600549,
          0.7867430731708673,
          0.7530306235039571,
          0.7562721125225442,
          0.7312114597003045,
          0.7347106366022926,
          0.7940746100465681,
          0.7960489548302045,
          0.7753569297034322,
          0.792879072025942,
          0.777560049620543,
          0.7833107993820336,
          0.7357488482709533,
          0.7289298413990903,
          0.73122577436263,
          0.7320297637945572,
          0.7599143422185384,
          0.7361132870941457,
          0.7443282068967743,
          0.7300226013983394,
          0.7585074860007361,
          0.7967106709599914,
          0.7698899058311091,
          0.7304476639441008,
          0.7409218721402002,
          0.7347039379544619,
          0.7523130519370159,
          0.7516147264327951,
          0.7869659355867453,
          0.7428710062414607,
          0.7708038146488476,
          0.7749327574217519,
          0.8109911694614791,
          0.7273653768687225,
          0.7279402845833715,
          0.7293872222568517,
          0.7291806913892321,
          0.7321151963521026,
          0.7446206969258201,
          0.7301090141347861,
          0.7514937294665023,
          0.7454882766168689,
          0.7318127203658279,
          0.7299877901702332,
          0.7266098272978005,
          0.7282515685637588,
          0.7259766439345376,
          0.7316330414790178,
          0.7303181461981616,
          0.7305436494916491,
          0.7349020591641253,
          0.7293387357221548,
          0.7296886442741931,
          0.7296686308526946,
          0.7268355054608551,
          0.7321736979773978,
          0.7274055208769448,
          0.7260842063495642,
          0.7266526790175335,
          0.7263013044377675,
          0.7272935765930042,
          0.7262343190711817,
          0.729404165490785,
          0.7269408613266439,
          0.7300962799779146,
          0.7414945907591288,
          0.7284724211628401,
          0.7268124824842439,
          0.7637168487716763,
          0.7465723523611736,
          0.723950822404744,
          0.7272372880740509,
          0.7286638370044206,
          0.7271479752422211,
          0.7259957149545724,
          0.7289917393689398,
          0.7542327920502607,
          0.7465014048795238,
          0.7266073543807026,
          0.7343531534420464,
          0.7354456061879185,
          0.771759840521087,
          0.7385701863898311,
          0.7257106689053346,
          0.7257517565125196,
          0.7333649524749397,
          0.7280695807284766,
          0.7649486368561794,
          0.7401023365552051,
          0.783714936803089,
          0.7269607656062405,
          0.7398258494231303
         ],
         "yaxis": "y8"
        },
        {
         "marker": {
          "color": [
           0,
           1,
           2,
           3,
           4,
           5,
           6,
           7,
           8,
           9,
           10,
           11,
           12,
           13,
           14,
           15,
           16,
           17,
           18,
           19,
           20,
           21,
           22,
           23,
           24,
           25,
           26,
           27,
           28,
           29,
           30,
           31,
           32,
           33,
           34,
           35,
           36,
           37,
           38,
           39,
           40,
           41,
           42,
           43,
           44,
           45,
           46,
           47,
           48,
           49,
           50,
           51,
           52,
           53,
           54,
           55,
           56,
           57,
           58,
           59,
           60,
           61,
           62,
           63,
           64,
           65,
           66,
           67,
           68,
           69,
           70,
           71,
           72,
           73,
           74,
           75,
           76,
           77,
           78,
           79,
           80,
           81,
           82,
           83,
           84,
           85,
           86,
           87,
           88,
           89,
           90,
           91,
           92,
           93,
           94,
           95,
           96,
           97,
           98,
           99
          ],
          "colorbar": {
           "title": {
            "text": "Trial"
           },
           "x": 1,
           "xpad": 40
          },
          "colorscale": [
           [
            0,
            "rgb(247,251,255)"
           ],
           [
            0.125,
            "rgb(222,235,247)"
           ],
           [
            0.25,
            "rgb(198,219,239)"
           ],
           [
            0.375,
            "rgb(158,202,225)"
           ],
           [
            0.5,
            "rgb(107,174,214)"
           ],
           [
            0.625,
            "rgb(66,146,198)"
           ],
           [
            0.75,
            "rgb(33,113,181)"
           ],
           [
            0.875,
            "rgb(8,81,156)"
           ],
           [
            1,
            "rgb(8,48,107)"
           ]
          ],
          "line": {
           "color": "Grey",
           "width": 0.5
          },
          "showscale": false
         },
         "mode": "markers",
         "name": "Feasible Trial",
         "showlegend": false,
         "type": "scatter",
         "x": [
          0.5955032815196242,
          6.843205777214472e-7,
          0.0000013401436884832162,
          0.000024155570115174865,
          0.000057672364087605164,
          1.7416008734683074e-8,
          0.0000016721522993119482,
          0.006478457139540682,
          0.15028552314444263,
          0.00026186796163940005,
          0.006487893869864314,
          0.008161321202939909,
          5.818610036669351,
          3.069791782766125,
          9.484025485686578,
          7.1040461625539475,
          0.31201156801703755,
          5.703184438573047,
          0.07894503611732111,
          1.2840760534956914,
          0.05874935618716727,
          1.198360895008742,
          2.2560298019790435,
          1.262764289575674,
          0.6407582644998641,
          0.0408816921669341,
          1.9519387138269124,
          8.65747482405266,
          0.24966599955292842,
          0.5716036352954386,
          9.343390111977685,
          1.6021758428331367,
          0.672975597846136,
          9.609825387204427,
          1.8792457315774391,
          0.03037962091584874,
          0.33876417919630086,
          0.17841157433569574,
          2.3001479334731747,
          0.7681223555956576,
          0.018316717001054722,
          2.186545874395853,
          0.18606875529525455,
          0.10887403595404026,
          0.12170867236492165,
          0.11379539005066762,
          0.0018635895816612924,
          0.14041566383400692,
          0.014555580155995597,
          0.002659880692512376,
          0.051103053428191256,
          0.34126161236709107,
          0.3367833555547153,
          0.06182087869271571,
          0.39268238570736946,
          0.4216806514304196,
          3.3604357158477476,
          0.6925898902058428,
          0.03428707189055807,
          3.190316430306217,
          0.23134996038692676,
          0.09059944823525343,
          1.2371256399302506,
          1.0169409529546551,
          1.0193229921486646,
          4.4999876162345185,
          3.376339084797481,
          3.8579441462173802,
          4.227947417298297,
          3.9505079171161377,
          5.225060115523783,
          4.176513934051113,
          4.784110970755691,
          3.913062591221026,
          9.417949854645412,
          1.52851217986514,
          1.312038684925791,
          0.5473956836355355,
          2.405959516207459,
          2.311297515023593,
          0.317070199875133,
          1.593487243081538,
          1.010795223718429,
          5.942117804435726,
          0.6432659395747848,
          1.7776552728256565,
          2.558594930637988,
          9.5891546033872,
          3.0041429221709746,
          0.49463291404275955,
          5.521098692489768,
          1.0345246528884662,
          2.690696496454648,
          0.900892445733281,
          0.22534428608951773,
          2.0832526203134836,
          0.3824492031132406,
          0.8699114141757373,
          2.5559334460801115,
          6.305535433486392
         ],
         "xaxis": "x9",
         "y": [
          0.7872855017090234,
          0.7657755569612728,
          0.8076557847552603,
          0.7831992653518274,
          0.8129657497234751,
          0.8757198273664898,
          0.8160010627913137,
          0.741786556269289,
          0.8361778500600549,
          0.7867430731708673,
          0.7530306235039571,
          0.7562721125225442,
          0.7312114597003045,
          0.7347106366022926,
          0.7940746100465681,
          0.7960489548302045,
          0.7753569297034322,
          0.792879072025942,
          0.777560049620543,
          0.7833107993820336,
          0.7357488482709533,
          0.7289298413990903,
          0.73122577436263,
          0.7320297637945572,
          0.7599143422185384,
          0.7361132870941457,
          0.7443282068967743,
          0.7300226013983394,
          0.7585074860007361,
          0.7967106709599914,
          0.7698899058311091,
          0.7304476639441008,
          0.7409218721402002,
          0.7347039379544619,
          0.7523130519370159,
          0.7516147264327951,
          0.7869659355867453,
          0.7428710062414607,
          0.7708038146488476,
          0.7749327574217519,
          0.8109911694614791,
          0.7273653768687225,
          0.7279402845833715,
          0.7293872222568517,
          0.7291806913892321,
          0.7321151963521026,
          0.7446206969258201,
          0.7301090141347861,
          0.7514937294665023,
          0.7454882766168689,
          0.7318127203658279,
          0.7299877901702332,
          0.7266098272978005,
          0.7282515685637588,
          0.7259766439345376,
          0.7316330414790178,
          0.7303181461981616,
          0.7305436494916491,
          0.7349020591641253,
          0.7293387357221548,
          0.7296886442741931,
          0.7296686308526946,
          0.7268355054608551,
          0.7321736979773978,
          0.7274055208769448,
          0.7260842063495642,
          0.7266526790175335,
          0.7263013044377675,
          0.7272935765930042,
          0.7262343190711817,
          0.729404165490785,
          0.7269408613266439,
          0.7300962799779146,
          0.7414945907591288,
          0.7284724211628401,
          0.7268124824842439,
          0.7637168487716763,
          0.7465723523611736,
          0.723950822404744,
          0.7272372880740509,
          0.7286638370044206,
          0.7271479752422211,
          0.7259957149545724,
          0.7289917393689398,
          0.7542327920502607,
          0.7465014048795238,
          0.7266073543807026,
          0.7343531534420464,
          0.7354456061879185,
          0.771759840521087,
          0.7385701863898311,
          0.7257106689053346,
          0.7257517565125196,
          0.7333649524749397,
          0.7280695807284766,
          0.7649486368561794,
          0.7401023365552051,
          0.783714936803089,
          0.7269607656062405,
          0.7398258494231303
         ],
         "yaxis": "y9"
        }
       ],
       "layout": {
        "template": {
         "data": {
          "bar": [
           {
            "error_x": {
             "color": "#2a3f5f"
            },
            "error_y": {
             "color": "#2a3f5f"
            },
            "marker": {
             "line": {
              "color": "#E5ECF6",
              "width": 0.5
             },
             "pattern": {
              "fillmode": "overlay",
              "size": 10,
              "solidity": 0.2
             }
            },
            "type": "bar"
           }
          ],
          "barpolar": [
           {
            "marker": {
             "line": {
              "color": "#E5ECF6",
              "width": 0.5
             },
             "pattern": {
              "fillmode": "overlay",
              "size": 10,
              "solidity": 0.2
             }
            },
            "type": "barpolar"
           }
          ],
          "carpet": [
           {
            "aaxis": {
             "endlinecolor": "#2a3f5f",
             "gridcolor": "white",
             "linecolor": "white",
             "minorgridcolor": "white",
             "startlinecolor": "#2a3f5f"
            },
            "baxis": {
             "endlinecolor": "#2a3f5f",
             "gridcolor": "white",
             "linecolor": "white",
             "minorgridcolor": "white",
             "startlinecolor": "#2a3f5f"
            },
            "type": "carpet"
           }
          ],
          "choropleth": [
           {
            "colorbar": {
             "outlinewidth": 0,
             "ticks": ""
            },
            "type": "choropleth"
           }
          ],
          "contour": [
           {
            "colorbar": {
             "outlinewidth": 0,
             "ticks": ""
            },
            "colorscale": [
             [
              0,
              "#0d0887"
             ],
             [
              0.1111111111111111,
              "#46039f"
             ],
             [
              0.2222222222222222,
              "#7201a8"
             ],
             [
              0.3333333333333333,
              "#9c179e"
             ],
             [
              0.4444444444444444,
              "#bd3786"
             ],
             [
              0.5555555555555556,
              "#d8576b"
             ],
             [
              0.6666666666666666,
              "#ed7953"
             ],
             [
              0.7777777777777778,
              "#fb9f3a"
             ],
             [
              0.8888888888888888,
              "#fdca26"
             ],
             [
              1,
              "#f0f921"
             ]
            ],
            "type": "contour"
           }
          ],
          "contourcarpet": [
           {
            "colorbar": {
             "outlinewidth": 0,
             "ticks": ""
            },
            "type": "contourcarpet"
           }
          ],
          "heatmap": [
           {
            "colorbar": {
             "outlinewidth": 0,
             "ticks": ""
            },
            "colorscale": [
             [
              0,
              "#0d0887"
             ],
             [
              0.1111111111111111,
              "#46039f"
             ],
             [
              0.2222222222222222,
              "#7201a8"
             ],
             [
              0.3333333333333333,
              "#9c179e"
             ],
             [
              0.4444444444444444,
              "#bd3786"
             ],
             [
              0.5555555555555556,
              "#d8576b"
             ],
             [
              0.6666666666666666,
              "#ed7953"
             ],
             [
              0.7777777777777778,
              "#fb9f3a"
             ],
             [
              0.8888888888888888,
              "#fdca26"
             ],
             [
              1,
              "#f0f921"
             ]
            ],
            "type": "heatmap"
           }
          ],
          "heatmapgl": [
           {
            "colorbar": {
             "outlinewidth": 0,
             "ticks": ""
            },
            "colorscale": [
             [
              0,
              "#0d0887"
             ],
             [
              0.1111111111111111,
              "#46039f"
             ],
             [
              0.2222222222222222,
              "#7201a8"
             ],
             [
              0.3333333333333333,
              "#9c179e"
             ],
             [
              0.4444444444444444,
              "#bd3786"
             ],
             [
              0.5555555555555556,
              "#d8576b"
             ],
             [
              0.6666666666666666,
              "#ed7953"
             ],
             [
              0.7777777777777778,
              "#fb9f3a"
             ],
             [
              0.8888888888888888,
              "#fdca26"
             ],
             [
              1,
              "#f0f921"
             ]
            ],
            "type": "heatmapgl"
           }
          ],
          "histogram": [
           {
            "marker": {
             "pattern": {
              "fillmode": "overlay",
              "size": 10,
              "solidity": 0.2
             }
            },
            "type": "histogram"
           }
          ],
          "histogram2d": [
           {
            "colorbar": {
             "outlinewidth": 0,
             "ticks": ""
            },
            "colorscale": [
             [
              0,
              "#0d0887"
             ],
             [
              0.1111111111111111,
              "#46039f"
             ],
             [
              0.2222222222222222,
              "#7201a8"
             ],
             [
              0.3333333333333333,
              "#9c179e"
             ],
             [
              0.4444444444444444,
              "#bd3786"
             ],
             [
              0.5555555555555556,
              "#d8576b"
             ],
             [
              0.6666666666666666,
              "#ed7953"
             ],
             [
              0.7777777777777778,
              "#fb9f3a"
             ],
             [
              0.8888888888888888,
              "#fdca26"
             ],
             [
              1,
              "#f0f921"
             ]
            ],
            "type": "histogram2d"
           }
          ],
          "histogram2dcontour": [
           {
            "colorbar": {
             "outlinewidth": 0,
             "ticks": ""
            },
            "colorscale": [
             [
              0,
              "#0d0887"
             ],
             [
              0.1111111111111111,
              "#46039f"
             ],
             [
              0.2222222222222222,
              "#7201a8"
             ],
             [
              0.3333333333333333,
              "#9c179e"
             ],
             [
              0.4444444444444444,
              "#bd3786"
             ],
             [
              0.5555555555555556,
              "#d8576b"
             ],
             [
              0.6666666666666666,
              "#ed7953"
             ],
             [
              0.7777777777777778,
              "#fb9f3a"
             ],
             [
              0.8888888888888888,
              "#fdca26"
             ],
             [
              1,
              "#f0f921"
             ]
            ],
            "type": "histogram2dcontour"
           }
          ],
          "mesh3d": [
           {
            "colorbar": {
             "outlinewidth": 0,
             "ticks": ""
            },
            "type": "mesh3d"
           }
          ],
          "parcoords": [
           {
            "line": {
             "colorbar": {
              "outlinewidth": 0,
              "ticks": ""
             }
            },
            "type": "parcoords"
           }
          ],
          "pie": [
           {
            "automargin": true,
            "type": "pie"
           }
          ],
          "scatter": [
           {
            "fillpattern": {
             "fillmode": "overlay",
             "size": 10,
             "solidity": 0.2
            },
            "type": "scatter"
           }
          ],
          "scatter3d": [
           {
            "line": {
             "colorbar": {
              "outlinewidth": 0,
              "ticks": ""
             }
            },
            "marker": {
             "colorbar": {
              "outlinewidth": 0,
              "ticks": ""
             }
            },
            "type": "scatter3d"
           }
          ],
          "scattercarpet": [
           {
            "marker": {
             "colorbar": {
              "outlinewidth": 0,
              "ticks": ""
             }
            },
            "type": "scattercarpet"
           }
          ],
          "scattergeo": [
           {
            "marker": {
             "colorbar": {
              "outlinewidth": 0,
              "ticks": ""
             }
            },
            "type": "scattergeo"
           }
          ],
          "scattergl": [
           {
            "marker": {
             "colorbar": {
              "outlinewidth": 0,
              "ticks": ""
             }
            },
            "type": "scattergl"
           }
          ],
          "scattermapbox": [
           {
            "marker": {
             "colorbar": {
              "outlinewidth": 0,
              "ticks": ""
             }
            },
            "type": "scattermapbox"
           }
          ],
          "scatterpolar": [
           {
            "marker": {
             "colorbar": {
              "outlinewidth": 0,
              "ticks": ""
             }
            },
            "type": "scatterpolar"
           }
          ],
          "scatterpolargl": [
           {
            "marker": {
             "colorbar": {
              "outlinewidth": 0,
              "ticks": ""
             }
            },
            "type": "scatterpolargl"
           }
          ],
          "scatterternary": [
           {
            "marker": {
             "colorbar": {
              "outlinewidth": 0,
              "ticks": ""
             }
            },
            "type": "scatterternary"
           }
          ],
          "surface": [
           {
            "colorbar": {
             "outlinewidth": 0,
             "ticks": ""
            },
            "colorscale": [
             [
              0,
              "#0d0887"
             ],
             [
              0.1111111111111111,
              "#46039f"
             ],
             [
              0.2222222222222222,
              "#7201a8"
             ],
             [
              0.3333333333333333,
              "#9c179e"
             ],
             [
              0.4444444444444444,
              "#bd3786"
             ],
             [
              0.5555555555555556,
              "#d8576b"
             ],
             [
              0.6666666666666666,
              "#ed7953"
             ],
             [
              0.7777777777777778,
              "#fb9f3a"
             ],
             [
              0.8888888888888888,
              "#fdca26"
             ],
             [
              1,
              "#f0f921"
             ]
            ],
            "type": "surface"
           }
          ],
          "table": [
           {
            "cells": {
             "fill": {
              "color": "#EBF0F8"
             },
             "line": {
              "color": "white"
             }
            },
            "header": {
             "fill": {
              "color": "#C8D4E3"
             },
             "line": {
              "color": "white"
             }
            },
            "type": "table"
           }
          ]
         },
         "layout": {
          "annotationdefaults": {
           "arrowcolor": "#2a3f5f",
           "arrowhead": 0,
           "arrowwidth": 1
          },
          "autotypenumbers": "strict",
          "coloraxis": {
           "colorbar": {
            "outlinewidth": 0,
            "ticks": ""
           }
          },
          "colorscale": {
           "diverging": [
            [
             0,
             "#8e0152"
            ],
            [
             0.1,
             "#c51b7d"
            ],
            [
             0.2,
             "#de77ae"
            ],
            [
             0.3,
             "#f1b6da"
            ],
            [
             0.4,
             "#fde0ef"
            ],
            [
             0.5,
             "#f7f7f7"
            ],
            [
             0.6,
             "#e6f5d0"
            ],
            [
             0.7,
             "#b8e186"
            ],
            [
             0.8,
             "#7fbc41"
            ],
            [
             0.9,
             "#4d9221"
            ],
            [
             1,
             "#276419"
            ]
           ],
           "sequential": [
            [
             0,
             "#0d0887"
            ],
            [
             0.1111111111111111,
             "#46039f"
            ],
            [
             0.2222222222222222,
             "#7201a8"
            ],
            [
             0.3333333333333333,
             "#9c179e"
            ],
            [
             0.4444444444444444,
             "#bd3786"
            ],
            [
             0.5555555555555556,
             "#d8576b"
            ],
            [
             0.6666666666666666,
             "#ed7953"
            ],
            [
             0.7777777777777778,
             "#fb9f3a"
            ],
            [
             0.8888888888888888,
             "#fdca26"
            ],
            [
             1,
             "#f0f921"
            ]
           ],
           "sequentialminus": [
            [
             0,
             "#0d0887"
            ],
            [
             0.1111111111111111,
             "#46039f"
            ],
            [
             0.2222222222222222,
             "#7201a8"
            ],
            [
             0.3333333333333333,
             "#9c179e"
            ],
            [
             0.4444444444444444,
             "#bd3786"
            ],
            [
             0.5555555555555556,
             "#d8576b"
            ],
            [
             0.6666666666666666,
             "#ed7953"
            ],
            [
             0.7777777777777778,
             "#fb9f3a"
            ],
            [
             0.8888888888888888,
             "#fdca26"
            ],
            [
             1,
             "#f0f921"
            ]
           ]
          },
          "colorway": [
           "#636efa",
           "#EF553B",
           "#00cc96",
           "#ab63fa",
           "#FFA15A",
           "#19d3f3",
           "#FF6692",
           "#B6E880",
           "#FF97FF",
           "#FECB52"
          ],
          "font": {
           "color": "#2a3f5f"
          },
          "geo": {
           "bgcolor": "white",
           "lakecolor": "white",
           "landcolor": "#E5ECF6",
           "showlakes": true,
           "showland": true,
           "subunitcolor": "white"
          },
          "hoverlabel": {
           "align": "left"
          },
          "hovermode": "closest",
          "mapbox": {
           "style": "light"
          },
          "paper_bgcolor": "white",
          "plot_bgcolor": "#E5ECF6",
          "polar": {
           "angularaxis": {
            "gridcolor": "white",
            "linecolor": "white",
            "ticks": ""
           },
           "bgcolor": "#E5ECF6",
           "radialaxis": {
            "gridcolor": "white",
            "linecolor": "white",
            "ticks": ""
           }
          },
          "scene": {
           "xaxis": {
            "backgroundcolor": "#E5ECF6",
            "gridcolor": "white",
            "gridwidth": 2,
            "linecolor": "white",
            "showbackground": true,
            "ticks": "",
            "zerolinecolor": "white"
           },
           "yaxis": {
            "backgroundcolor": "#E5ECF6",
            "gridcolor": "white",
            "gridwidth": 2,
            "linecolor": "white",
            "showbackground": true,
            "ticks": "",
            "zerolinecolor": "white"
           },
           "zaxis": {
            "backgroundcolor": "#E5ECF6",
            "gridcolor": "white",
            "gridwidth": 2,
            "linecolor": "white",
            "showbackground": true,
            "ticks": "",
            "zerolinecolor": "white"
           }
          },
          "shapedefaults": {
           "line": {
            "color": "#2a3f5f"
           }
          },
          "ternary": {
           "aaxis": {
            "gridcolor": "white",
            "linecolor": "white",
            "ticks": ""
           },
           "baxis": {
            "gridcolor": "white",
            "linecolor": "white",
            "ticks": ""
           },
           "bgcolor": "#E5ECF6",
           "caxis": {
            "gridcolor": "white",
            "linecolor": "white",
            "ticks": ""
           }
          },
          "title": {
           "x": 0.05
          },
          "xaxis": {
           "automargin": true,
           "gridcolor": "white",
           "linecolor": "white",
           "ticks": "",
           "title": {
            "standoff": 15
           },
           "zerolinecolor": "white",
           "zerolinewidth": 2
          },
          "yaxis": {
           "automargin": true,
           "gridcolor": "white",
           "linecolor": "white",
           "ticks": "",
           "title": {
            "standoff": 15
           },
           "zerolinecolor": "white",
           "zerolinewidth": 2
          }
         }
        },
        "title": {
         "text": "Slice Plot"
        },
        "width": 2700,
        "xaxis": {
         "anchor": "y",
         "domain": [
          0,
          0.09135802469135802
         ],
         "title": {
          "text": "bagging_temperature"
         },
         "type": "log"
        },
        "xaxis2": {
         "anchor": "y2",
         "domain": [
          0.11358024691358025,
          0.20493827160493827
         ],
         "title": {
          "text": "border_count"
         }
        },
        "xaxis3": {
         "anchor": "y3",
         "domain": [
          0.2271604938271605,
          0.31851851851851853
         ],
         "title": {
          "text": "depth"
         }
        },
        "xaxis4": {
         "anchor": "y4",
         "domain": [
          0.34074074074074073,
          0.43209876543209874
         ],
         "title": {
          "text": "iterations"
         }
        },
        "xaxis5": {
         "anchor": "y5",
         "domain": [
          0.454320987654321,
          0.5456790123456791
         ],
         "title": {
          "text": "l2_leaf_reg"
         },
         "type": "log"
        },
        "xaxis6": {
         "anchor": "y6",
         "domain": [
          0.5679012345679012,
          0.6592592592592592
         ],
         "title": {
          "text": "learning_rate"
         }
        },
        "xaxis7": {
         "anchor": "y7",
         "domain": [
          0.6814814814814815,
          0.7728395061728395
         ],
         "title": {
          "text": "min_child_samples"
         }
        },
        "xaxis8": {
         "anchor": "y8",
         "domain": [
          0.7950617283950617,
          0.8864197530864197
         ],
         "title": {
          "text": "od_wait"
         }
        },
        "xaxis9": {
         "anchor": "y9",
         "domain": [
          0.908641975308642,
          1
         ],
         "title": {
          "text": "random_strength"
         },
         "type": "log"
        },
        "yaxis": {
         "anchor": "x",
         "domain": [
          0,
          1
         ],
         "title": {
          "text": "Objective Value"
         }
        },
        "yaxis2": {
         "anchor": "x2",
         "domain": [
          0,
          1
         ],
         "matches": "y",
         "showticklabels": false
        },
        "yaxis3": {
         "anchor": "x3",
         "domain": [
          0,
          1
         ],
         "matches": "y",
         "showticklabels": false
        },
        "yaxis4": {
         "anchor": "x4",
         "domain": [
          0,
          1
         ],
         "matches": "y",
         "showticklabels": false
        },
        "yaxis5": {
         "anchor": "x5",
         "domain": [
          0,
          1
         ],
         "matches": "y",
         "showticklabels": false
        },
        "yaxis6": {
         "anchor": "x6",
         "domain": [
          0,
          1
         ],
         "matches": "y",
         "showticklabels": false
        },
        "yaxis7": {
         "anchor": "x7",
         "domain": [
          0,
          1
         ],
         "matches": "y",
         "showticklabels": false
        },
        "yaxis8": {
         "anchor": "x8",
         "domain": [
          0,
          1
         ],
         "matches": "y",
         "showticklabels": false
        },
        "yaxis9": {
         "anchor": "x9",
         "domain": [
          0,
          1
         ],
         "matches": "y",
         "showticklabels": false
        }
       }
      }
     },
     "metadata": {},
     "output_type": "display_data"
    }
   ],
   "source": [
    "optuna.visualization.plot_slice(study)"
   ]
  },
  {
   "cell_type": "code",
   "execution_count": 34,
   "metadata": {},
   "outputs": [
    {
     "name": "stderr",
     "output_type": "stream",
     "text": [
      "100%|██████████| 10/10 [00:07<00:00,  1.41it/s]\n"
     ]
    }
   ],
   "source": [
    "regressor = CatBoostRegressor(**study.best_params)\n",
    "\n",
    "for X_train, y_train, X_test, y_test in tqdm(ts.folds):\n",
    "\n",
    "    regressor.fit(X_train, y_train, verbose=0)\n",
    "\n",
    "    y_pred = pd.Series(\n",
    "        regressor.predict(X_test),\n",
    "        index=X_test.index\n",
    "    )\n",
    "\n",
    "    y_pred_list.append(y_pred) "
   ]
  },
  {
   "cell_type": "code",
   "execution_count": 35,
   "metadata": {},
   "outputs": [
    {
     "name": "stdout",
     "output_type": "stream",
     "text": [
      "MASE: 0.72 (во сколько раз абсолютная ошибка прогноза меньше абсолютной ошибки наивного прогноза)\n",
      "SMAPE: 168.57% (на сколько % в среднем модель ошибается)\n"
     ]
    }
   ],
   "source": [
    "ts.get_model_result(y_pred_list) "
   ]
  },
  {
   "cell_type": "code",
   "execution_count": 36,
   "metadata": {},
   "outputs": [
    {
     "data": {
      "image/png": "[encoded data removed]",
      "text/plain": [
       "<Figure size 1000x600 with 1 Axes>"
      ]
     },
     "metadata": {},
     "output_type": "display_data"
    }
   ],
   "source": [
    "ts.get_visualisation(start_date='2023-09-01')"
   ]
  },
  {
   "cell_type": "code",
   "execution_count": null,
   "metadata": {},
   "outputs": [],
   "source": []
  }
 ],
 "metadata": {
  "kernelspec": {
   "display_name": "Python 3",
   "language": "python",
   "name": "python3"
  },
  "language_info": {
   "codemirror_mode": {
    "name": "ipython",
    "version": 3
   },
   "file_extension": ".py",
   "mimetype": "text/x-python",
   "name": "python",
   "nbconvert_exporter": "python",
   "pygments_lexer": "ipython3",
   "version": "3.10.9"
  }
 },
 "nbformat": 4,
 "nbformat_minor": 2
}
